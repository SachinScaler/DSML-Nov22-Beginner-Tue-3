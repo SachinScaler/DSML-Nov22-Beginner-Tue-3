{
  "nbformat": 4,
  "nbformat_minor": 0,
  "metadata": {
    "colab": {
      "provenance": []
    },
    "kernelspec": {
      "name": "python3",
      "display_name": "Python 3"
    },
    "language_info": {
      "name": "python"
    },
    "gpuClass": "standard"
  },
  "cells": [
    {
      "cell_type": "markdown",
      "source": [
        "- string\n",
        "- Dictionary\n",
        "- Set\n",
        "\n",
        "- Comphrension:\n",
        "  - list\n",
        "  - dict\n",
        "  - set\n",
        "\n",
        "- Searching:\n",
        "  - Linear Searching"
      ],
      "metadata": {
        "id": "GHWkpYIKmq3y"
      }
    },
    {
      "cell_type": "code",
      "source": [
        "tup1 = 1,2,3\n",
        "print(tup1)"
      ],
      "metadata": {
        "colab": {
          "base_uri": "https://localhost:8080/"
        },
        "id": "k6pCGj34lPa9",
        "outputId": "74194b4c-cd96-42a7-fb1a-65b7ae77e619"
      },
      "execution_count": 11,
      "outputs": [
        {
          "output_type": "stream",
          "name": "stdout",
          "text": [
            "(1, 2, 3)\n"
          ]
        }
      ]
    },
    {
      "cell_type": "code",
      "source": [
        "a = 1\n",
        "b = 10\n",
        "c = 10\n",
        "\n",
        "new_tup = a,b,c"
      ],
      "metadata": {
        "id": "2AydQFycleiy"
      },
      "execution_count": null,
      "outputs": []
    },
    {
      "cell_type": "code",
      "source": [
        "l = [4, 6, 7]\n",
        "l += [1, 2, 3]\n",
        "print(l)"
      ],
      "metadata": {
        "colab": {
          "base_uri": "https://localhost:8080/"
        },
        "id": "1pKkLs7KouO0",
        "outputId": "2eb43b57-4209-4827-fb70-6660962e4077"
      },
      "execution_count": 12,
      "outputs": [
        {
          "output_type": "stream",
          "name": "stdout",
          "text": [
            "[4, 6, 7, 1, 2, 3]\n"
          ]
        }
      ]
    },
    {
      "cell_type": "code",
      "source": [
        "l = [4, 6, 7] # [4,6,7,3]\n",
        "l+=[3] # l = l+[3]\n",
        "print(l)"
      ],
      "metadata": {
        "colab": {
          "base_uri": "https://localhost:8080/"
        },
        "id": "pT55MPMFowc2",
        "outputId": "b70b33f4-cbdc-4e9d-b7ab-609f42a4f293"
      },
      "execution_count": 19,
      "outputs": [
        {
          "output_type": "stream",
          "name": "stdout",
          "text": [
            "[4, 6, 7, 3]\n"
          ]
        }
      ]
    },
    {
      "cell_type": "code",
      "source": [
        "a = 4\n",
        "\n",
        "a+=1\n",
        "a = a+1"
      ],
      "metadata": {
        "id": "OrvBsk3so9ru"
      },
      "execution_count": null,
      "outputs": []
    },
    {
      "cell_type": "code",
      "source": [
        "l = l+3 "
      ],
      "metadata": {
        "colab": {
          "base_uri": "https://localhost:8080/",
          "height": 182
        },
        "id": "wJhNmpNApP-O",
        "outputId": "b529a721-255f-49fa-9ecb-dc64fa12cb54"
      },
      "execution_count": 16,
      "outputs": [
        {
          "output_type": "error",
          "ename": "TypeError",
          "evalue": "ignored",
          "traceback": [
            "\u001b[0;31m---------------------------------------------------------------------------\u001b[0m",
            "\u001b[0;31mTypeError\u001b[0m                                 Traceback (most recent call last)",
            "\u001b[0;32m<ipython-input-16-2af4d431c0ae>\u001b[0m in \u001b[0;36m<module>\u001b[0;34m\u001b[0m\n\u001b[0;32m----> 1\u001b[0;31m \u001b[0ml\u001b[0m \u001b[0;34m=\u001b[0m \u001b[0ml\u001b[0m\u001b[0;34m+\u001b[0m\u001b[0;36m3\u001b[0m\u001b[0;34m\u001b[0m\u001b[0;34m\u001b[0m\u001b[0m\n\u001b[0m",
            "\u001b[0;31mTypeError\u001b[0m: can only concatenate list (not \"int\") to list"
          ]
        }
      ]
    },
    {
      "cell_type": "code",
      "source": [
        "l+=3"
      ],
      "metadata": {
        "colab": {
          "base_uri": "https://localhost:8080/",
          "height": 182
        },
        "id": "vmLnIFWrpRXt",
        "outputId": "4738c389-6eb9-44cf-9eb5-af4512b2acc2"
      },
      "execution_count": 17,
      "outputs": [
        {
          "output_type": "error",
          "ename": "TypeError",
          "evalue": "ignored",
          "traceback": [
            "\u001b[0;31m---------------------------------------------------------------------------\u001b[0m",
            "\u001b[0;31mTypeError\u001b[0m                                 Traceback (most recent call last)",
            "\u001b[0;32m<ipython-input-17-d286d3db1c23>\u001b[0m in \u001b[0;36m<module>\u001b[0;34m\u001b[0m\n\u001b[0;32m----> 1\u001b[0;31m \u001b[0ml\u001b[0m\u001b[0;34m+=\u001b[0m\u001b[0;36m3\u001b[0m\u001b[0;34m\u001b[0m\u001b[0;34m\u001b[0m\u001b[0m\n\u001b[0m",
            "\u001b[0;31mTypeError\u001b[0m: 'int' object is not iterable"
          ]
        }
      ]
    },
    {
      "cell_type": "code",
      "source": [
        "l = [4, 6, 7]\n",
        "l[-1]=3\n",
        "print(l)"
      ],
      "metadata": {
        "colab": {
          "base_uri": "https://localhost:8080/"
        },
        "id": "Ul7VYAhGpSql",
        "outputId": "ef11905c-6541-412e-fa81-670fd90f149a"
      },
      "execution_count": 21,
      "outputs": [
        {
          "output_type": "stream",
          "name": "stdout",
          "text": [
            "[4, 6, 3]\n"
          ]
        }
      ]
    },
    {
      "cell_type": "code",
      "source": [
        "max(l)"
      ],
      "metadata": {
        "colab": {
          "base_uri": "https://localhost:8080/"
        },
        "id": "kwQnYdHQqBIQ",
        "outputId": "7a1716e6-a98d-4cce-cc74-2b6bfba120a5"
      },
      "execution_count": 23,
      "outputs": [
        {
          "output_type": "execute_result",
          "data": {
            "text/plain": [
              "7"
            ]
          },
          "metadata": {},
          "execution_count": 23
        }
      ]
    },
    {
      "cell_type": "code",
      "source": [
        "min(l)"
      ],
      "metadata": {
        "colab": {
          "base_uri": "https://localhost:8080/"
        },
        "id": "DqwaTzmFqYAG",
        "outputId": "22a39e9c-91ba-4a73-80ae-38d15296cdf2"
      },
      "execution_count": 24,
      "outputs": [
        {
          "output_type": "execute_result",
          "data": {
            "text/plain": [
              "4"
            ]
          },
          "metadata": {},
          "execution_count": 24
        }
      ]
    },
    {
      "cell_type": "code",
      "source": [
        "sum(l)"
      ],
      "metadata": {
        "colab": {
          "base_uri": "https://localhost:8080/"
        },
        "id": "eIHQ1kogqoah",
        "outputId": "1e2d2185-9481-4d99-8bdc-0f2e0f30c5d5"
      },
      "execution_count": 25,
      "outputs": [
        {
          "output_type": "execute_result",
          "data": {
            "text/plain": [
              "17"
            ]
          },
          "metadata": {},
          "execution_count": 25
        }
      ]
    },
    {
      "cell_type": "code",
      "source": [
        "t = (1,2,3)\n",
        "max(t)"
      ],
      "metadata": {
        "colab": {
          "base_uri": "https://localhost:8080/"
        },
        "id": "JcO0nOUOqp1e",
        "outputId": "ff63438c-f61c-4f9b-958f-b43402936416"
      },
      "execution_count": 26,
      "outputs": [
        {
          "output_type": "execute_result",
          "data": {
            "text/plain": [
              "3"
            ]
          },
          "metadata": {},
          "execution_count": 26
        }
      ]
    },
    {
      "cell_type": "code",
      "source": [
        "l = [1,2,3,'a']\n",
        "print(max(l))"
      ],
      "metadata": {
        "colab": {
          "base_uri": "https://localhost:8080/",
          "height": 199
        },
        "id": "z4RZyfziquz5",
        "outputId": "6ba5a930-c264-4905-bc2c-f665159116d2"
      },
      "execution_count": 27,
      "outputs": [
        {
          "output_type": "error",
          "ename": "TypeError",
          "evalue": "ignored",
          "traceback": [
            "\u001b[0;31m---------------------------------------------------------------------------\u001b[0m",
            "\u001b[0;31mTypeError\u001b[0m                                 Traceback (most recent call last)",
            "\u001b[0;32m<ipython-input-27-320cea3a96e8>\u001b[0m in \u001b[0;36m<module>\u001b[0;34m\u001b[0m\n\u001b[1;32m      1\u001b[0m \u001b[0ml\u001b[0m \u001b[0;34m=\u001b[0m \u001b[0;34m[\u001b[0m\u001b[0;36m1\u001b[0m\u001b[0;34m,\u001b[0m\u001b[0;36m2\u001b[0m\u001b[0;34m,\u001b[0m\u001b[0;36m3\u001b[0m\u001b[0;34m,\u001b[0m\u001b[0;34m'a'\u001b[0m\u001b[0;34m]\u001b[0m\u001b[0;34m\u001b[0m\u001b[0;34m\u001b[0m\u001b[0m\n\u001b[0;32m----> 2\u001b[0;31m \u001b[0mprint\u001b[0m\u001b[0;34m(\u001b[0m\u001b[0mmax\u001b[0m\u001b[0;34m(\u001b[0m\u001b[0ml\u001b[0m\u001b[0;34m)\u001b[0m\u001b[0;34m)\u001b[0m\u001b[0;34m\u001b[0m\u001b[0;34m\u001b[0m\u001b[0m\n\u001b[0m",
            "\u001b[0;31mTypeError\u001b[0m: '>' not supported between instances of 'str' and 'int'"
          ]
        }
      ]
    },
    {
      "cell_type": "code",
      "source": [
        "1>'a'"
      ],
      "metadata": {
        "colab": {
          "base_uri": "https://localhost:8080/",
          "height": 182
        },
        "id": "D4zuR9FDq_qU",
        "outputId": "162d6aeb-bd24-447a-9c47-d3f187aa9ca6"
      },
      "execution_count": 28,
      "outputs": [
        {
          "output_type": "error",
          "ename": "TypeError",
          "evalue": "ignored",
          "traceback": [
            "\u001b[0;31m---------------------------------------------------------------------------\u001b[0m",
            "\u001b[0;31mTypeError\u001b[0m                                 Traceback (most recent call last)",
            "\u001b[0;32m<ipython-input-28-e554405d398c>\u001b[0m in \u001b[0;36m<module>\u001b[0;34m\u001b[0m\n\u001b[0;32m----> 1\u001b[0;31m \u001b[0;36m1\u001b[0m\u001b[0;34m>\u001b[0m\u001b[0;34m'a'\u001b[0m\u001b[0;34m\u001b[0m\u001b[0;34m\u001b[0m\u001b[0m\n\u001b[0m",
            "\u001b[0;31mTypeError\u001b[0m: '>' not supported between instances of 'int' and 'str'"
          ]
        }
      ]
    },
    {
      "cell_type": "code",
      "source": [
        "l = [1,2,3,'a']\n",
        "(sum(l))"
      ],
      "metadata": {
        "colab": {
          "base_uri": "https://localhost:8080/",
          "height": 199
        },
        "id": "7F7BJ71ErIwG",
        "outputId": "33fcaf07-1cba-49b1-f858-f8a55134a6ab"
      },
      "execution_count": 29,
      "outputs": [
        {
          "output_type": "error",
          "ename": "TypeError",
          "evalue": "ignored",
          "traceback": [
            "\u001b[0;31m---------------------------------------------------------------------------\u001b[0m",
            "\u001b[0;31mTypeError\u001b[0m                                 Traceback (most recent call last)",
            "\u001b[0;32m<ipython-input-29-f1c27db662e0>\u001b[0m in \u001b[0;36m<module>\u001b[0;34m\u001b[0m\n\u001b[1;32m      1\u001b[0m \u001b[0ml\u001b[0m \u001b[0;34m=\u001b[0m \u001b[0;34m[\u001b[0m\u001b[0;36m1\u001b[0m\u001b[0;34m,\u001b[0m\u001b[0;36m2\u001b[0m\u001b[0;34m,\u001b[0m\u001b[0;36m3\u001b[0m\u001b[0;34m,\u001b[0m\u001b[0;34m'a'\u001b[0m\u001b[0;34m]\u001b[0m\u001b[0;34m\u001b[0m\u001b[0;34m\u001b[0m\u001b[0m\n\u001b[0;32m----> 2\u001b[0;31m \u001b[0;34m(\u001b[0m\u001b[0msum\u001b[0m\u001b[0;34m(\u001b[0m\u001b[0ml\u001b[0m\u001b[0;34m)\u001b[0m\u001b[0;34m)\u001b[0m\u001b[0;34m\u001b[0m\u001b[0;34m\u001b[0m\u001b[0m\n\u001b[0m",
            "\u001b[0;31mTypeError\u001b[0m: unsupported operand type(s) for +: 'int' and 'str'"
          ]
        }
      ]
    },
    {
      "cell_type": "code",
      "source": [
        "tup = (1,2,3,4,5,6,7) # 2,4,6\n",
        "tup[1::2]\n",
        "\n"
      ],
      "metadata": {
        "colab": {
          "base_uri": "https://localhost:8080/"
        },
        "id": "RseZ8SAQramJ",
        "outputId": "429285c1-f17e-41c0-daae-36c05605bbc6"
      },
      "execution_count": 30,
      "outputs": [
        {
          "output_type": "execute_result",
          "data": {
            "text/plain": [
              "(2, 4, 6)"
            ]
          },
          "metadata": {},
          "execution_count": 30
        }
      ]
    },
    {
      "cell_type": "code",
      "source": [
        "tup = (1,2,3,4,5,6,7) # elements at  even index: 1, 3,5,7\n",
        "tup[::2]"
      ],
      "metadata": {
        "colab": {
          "base_uri": "https://localhost:8080/"
        },
        "id": "sZpAGh_DsHlm",
        "outputId": "927395c8-b948-46e0-d002-ea5f7cadddac"
      },
      "execution_count": 31,
      "outputs": [
        {
          "output_type": "execute_result",
          "data": {
            "text/plain": [
              "(1, 3, 5, 7)"
            ]
          },
          "metadata": {},
          "execution_count": 31
        }
      ]
    },
    {
      "cell_type": "markdown",
      "source": [
        "### Dictionary:\n",
        "- Data Structure which holds key: Value Pairs\n",
        "- New Python Version it's ordered, actually unordered.\n",
        "- mutable\n",
        "- Can you numeric index? NO. you can access using keys\n",
        "- Are dictionaries iterable? Yes. Over keys\n",
        "- What can be a key: Immutables can be key\n",
        "- What can be values? Anything can be a value \n",
        "\n",
        "Homework: Why can't the mutables be keys?"
      ],
      "metadata": {
        "id": "A97_CtsTsuAk"
      }
    },
    {
      "cell_type": "code",
      "source": [
        "dict1 = {\n",
        "    1: \"Gautam\",\n",
        "    2: \"Parveen\",\n",
        "    3: \"Chiranjeev\",\n",
        "}\n",
        "\n",
        "print(dict1)"
      ],
      "metadata": {
        "colab": {
          "base_uri": "https://localhost:8080/"
        },
        "id": "EQLmW2r8snus",
        "outputId": "801afa83-0880-49d1-b05a-c9e5aaeed686"
      },
      "execution_count": 40,
      "outputs": [
        {
          "output_type": "stream",
          "name": "stdout",
          "text": [
            "{1: 'Gautam', 2: 'Parveen', 3: 'Chiranjeev'}\n"
          ]
        }
      ]
    },
    {
      "cell_type": "code",
      "source": [
        "print(dict1)"
      ],
      "metadata": {
        "colab": {
          "base_uri": "https://localhost:8080/"
        },
        "id": "hrv9X85-u6nP",
        "outputId": "674eeb8e-b654-4cc4-a8d4-55363b7e551c"
      },
      "execution_count": 41,
      "outputs": [
        {
          "output_type": "stream",
          "name": "stdout",
          "text": [
            "{1: 'Gautam', 2: 'Parveen', 3: 'Chiranjeev'}\n"
          ]
        }
      ]
    },
    {
      "cell_type": "code",
      "source": [
        "dict1[4] = \"keshav\"\n",
        "print(dict1)"
      ],
      "metadata": {
        "colab": {
          "base_uri": "https://localhost:8080/"
        },
        "id": "sBP-6ARNu-Xj",
        "outputId": "8c2ed963-0aee-41d3-b3ad-6a5acfce4b5f"
      },
      "execution_count": 42,
      "outputs": [
        {
          "output_type": "stream",
          "name": "stdout",
          "text": [
            "{1: 'Gautam', 2: 'Parveen', 3: 'Chiranjeev', 4: 'keshav'}\n"
          ]
        }
      ]
    },
    {
      "cell_type": "code",
      "source": [
        "dict1[4] = \"Keshav\"\n",
        "print(dict1)"
      ],
      "metadata": {
        "colab": {
          "base_uri": "https://localhost:8080/"
        },
        "id": "o9O9kD4pvbcv",
        "outputId": "58ea07dd-3db2-4da6-98ff-af8ff3f287c3"
      },
      "execution_count": 43,
      "outputs": [
        {
          "output_type": "stream",
          "name": "stdout",
          "text": [
            "{1: 'Gautam', 2: 'Parveen', 3: 'Chiranjeev', 4: 'Keshav'}\n"
          ]
        }
      ]
    },
    {
      "cell_type": "markdown",
      "source": [
        "Why? Keys can't be duplicate"
      ],
      "metadata": {
        "id": "g9ktRM_HvrWh"
      }
    },
    {
      "cell_type": "code",
      "source": [
        "dict1[5] = \"Lokesh\"\n",
        "print(dict1)"
      ],
      "metadata": {
        "colab": {
          "base_uri": "https://localhost:8080/"
        },
        "id": "Acox56QavpwK",
        "outputId": "093ead7a-138c-4f92-eef6-f0c16964ba66"
      },
      "execution_count": 44,
      "outputs": [
        {
          "output_type": "stream",
          "name": "stdout",
          "text": [
            "{1: 'Gautam', 2: 'Parveen', 3: 'Chiranjeev', 4: 'Keshav', 5: 'Lokesh'}\n"
          ]
        }
      ]
    },
    {
      "cell_type": "code",
      "source": [
        "dict1[5] = \"Ramesh\"\n",
        "print(dict1)"
      ],
      "metadata": {
        "colab": {
          "base_uri": "https://localhost:8080/"
        },
        "id": "raebifBxv8Sw",
        "outputId": "4f879688-51eb-40a8-aff1-fee5b3362913"
      },
      "execution_count": 45,
      "outputs": [
        {
          "output_type": "stream",
          "name": "stdout",
          "text": [
            "{1: 'Gautam', 2: 'Parveen', 3: 'Chiranjeev', 4: 'Keshav', 5: 'Ramesh'}\n"
          ]
        }
      ]
    },
    {
      "cell_type": "code",
      "source": [
        "# {1: 'Gautam', 4: 'Keshav', 5: 'Ramesh', 2: 'Parveen', 3: 'Chiranjeev'}\n",
        "# { 4: 'Keshav', 5: 'Ramesh', 2: 'Parveen', 3: 'Chiranjeev', 1: 'Gautam'}"
      ],
      "metadata": {
        "id": "kOSqXab2wSYc"
      },
      "execution_count": 46,
      "outputs": []
    },
    {
      "cell_type": "code",
      "source": [
        "# dict1 = {3:\"Lokesh\",\n",
        "#          1:\"Gautam\"}\n",
        "# print(dict1)"
      ],
      "metadata": {
        "id": "FQ5naEtxwiqE"
      },
      "execution_count": 47,
      "outputs": []
    },
    {
      "cell_type": "code",
      "source": [
        "print(dict1)"
      ],
      "metadata": {
        "colab": {
          "base_uri": "https://localhost:8080/"
        },
        "id": "XcFg7a93wolY",
        "outputId": "060e0095-e201-474c-9624-1d691cd11b41"
      },
      "execution_count": 48,
      "outputs": [
        {
          "output_type": "stream",
          "name": "stdout",
          "text": [
            "{1: 'Gautam', 2: 'Parveen', 3: 'Chiranjeev', 4: 'Keshav', 5: 'Ramesh'}\n"
          ]
        }
      ]
    },
    {
      "cell_type": "code",
      "source": [
        "dict1[5]"
      ],
      "metadata": {
        "colab": {
          "base_uri": "https://localhost:8080/",
          "height": 58
        },
        "id": "n3pWKl_Cw7oE",
        "outputId": "e74b2a65-1b9c-4647-8fe8-794224228355"
      },
      "execution_count": 51,
      "outputs": [
        {
          "output_type": "execute_result",
          "data": {
            "text/plain": [
              "'Ramesh'"
            ],
            "application/vnd.google.colaboratory.intrinsic+json": {
              "type": "string"
            }
          },
          "metadata": {},
          "execution_count": 51
        }
      ]
    },
    {
      "cell_type": "code",
      "source": [
        "dict1 = {'a': 'Gautam', 'b': 'Parveen', 'c': 'Chiranjeev', 'd': 'Keshav', 'e': 'Ramesh'}\n",
        "print(dict1)"
      ],
      "metadata": {
        "colab": {
          "base_uri": "https://localhost:8080/"
        },
        "id": "6XELBcanxJBq",
        "outputId": "7be152f9-a54b-4b71-f812-909062583225"
      },
      "execution_count": 54,
      "outputs": [
        {
          "output_type": "stream",
          "name": "stdout",
          "text": [
            "{'a': 'Gautam', 'b': 'Parveen', 'c': 'Chiranjeev', 'd': 'Keshav', 'e': 'Ramesh'}\n"
          ]
        }
      ]
    },
    {
      "cell_type": "code",
      "source": [
        "print(dict1['a'])"
      ],
      "metadata": {
        "colab": {
          "base_uri": "https://localhost:8080/"
        },
        "id": "RrSQt3W-xhXr",
        "outputId": "a12053b6-04cf-4b08-9315-4096b8a89202"
      },
      "execution_count": 56,
      "outputs": [
        {
          "output_type": "stream",
          "name": "stdout",
          "text": [
            "Gautam\n"
          ]
        }
      ]
    },
    {
      "cell_type": "code",
      "source": [
        "dict1 = {'a': 'Gautam', 'b': 'Parveen', 'c': 'Chiranjeev', 'd': 'Keshav', 'e': 'Ramesh', (1,2): 'Priyansh'}\n",
        "print(dict1)"
      ],
      "metadata": {
        "colab": {
          "base_uri": "https://localhost:8080/"
        },
        "id": "74A0ZgDPxsnK",
        "outputId": "99932f9e-a2a9-4ff4-850a-adef984a0892"
      },
      "execution_count": 57,
      "outputs": [
        {
          "output_type": "stream",
          "name": "stdout",
          "text": [
            "{'a': 'Gautam', 'b': 'Parveen', 'c': 'Chiranjeev', 'd': 'Keshav', 'e': 'Ramesh', (1, 2): 'Priyansh'}\n"
          ]
        }
      ]
    },
    {
      "cell_type": "code",
      "source": [
        "print(dict1[(1,2)])"
      ],
      "metadata": {
        "colab": {
          "base_uri": "https://localhost:8080/"
        },
        "id": "7EpZib-tySBG",
        "outputId": "29e64262-2769-40d9-ceaf-fecd4a30a71c"
      },
      "execution_count": 60,
      "outputs": [
        {
          "output_type": "stream",
          "name": "stdout",
          "text": [
            "Priyansh\n"
          ]
        }
      ]
    },
    {
      "cell_type": "code",
      "source": [
        "dict1 = {'a': 'Gautam', 'b': 'Parveen', 'c': 'Chiranjeev', 'd': 'Keshav', 'e': 'Ramesh', (1,2): 'Priyansh', [3,3,3]:\"Vishnu\" }"
      ],
      "metadata": {
        "colab": {
          "base_uri": "https://localhost:8080/",
          "height": 182
        },
        "id": "p44F_hXCyIcS",
        "outputId": "3b8fd85c-1637-4be0-d6ec-df47615860d9"
      },
      "execution_count": 61,
      "outputs": [
        {
          "output_type": "error",
          "ename": "TypeError",
          "evalue": "ignored",
          "traceback": [
            "\u001b[0;31m---------------------------------------------------------------------------\u001b[0m",
            "\u001b[0;31mTypeError\u001b[0m                                 Traceback (most recent call last)",
            "\u001b[0;32m<ipython-input-61-9e1603a87fe0>\u001b[0m in \u001b[0;36m<module>\u001b[0;34m\u001b[0m\n\u001b[0;32m----> 1\u001b[0;31m \u001b[0mdict1\u001b[0m \u001b[0;34m=\u001b[0m \u001b[0;34m{\u001b[0m\u001b[0;34m'a'\u001b[0m\u001b[0;34m:\u001b[0m \u001b[0;34m'Gautam'\u001b[0m\u001b[0;34m,\u001b[0m \u001b[0;34m'b'\u001b[0m\u001b[0;34m:\u001b[0m \u001b[0;34m'Parveen'\u001b[0m\u001b[0;34m,\u001b[0m \u001b[0;34m'c'\u001b[0m\u001b[0;34m:\u001b[0m \u001b[0;34m'Chiranjeev'\u001b[0m\u001b[0;34m,\u001b[0m \u001b[0;34m'd'\u001b[0m\u001b[0;34m:\u001b[0m \u001b[0;34m'Keshav'\u001b[0m\u001b[0;34m,\u001b[0m \u001b[0;34m'e'\u001b[0m\u001b[0;34m:\u001b[0m \u001b[0;34m'Ramesh'\u001b[0m\u001b[0;34m,\u001b[0m \u001b[0;34m(\u001b[0m\u001b[0;36m1\u001b[0m\u001b[0;34m,\u001b[0m\u001b[0;36m2\u001b[0m\u001b[0;34m)\u001b[0m\u001b[0;34m:\u001b[0m \u001b[0;34m'Priyansh'\u001b[0m\u001b[0;34m,\u001b[0m \u001b[0;34m[\u001b[0m\u001b[0;36m3\u001b[0m\u001b[0;34m,\u001b[0m\u001b[0;36m3\u001b[0m\u001b[0;34m,\u001b[0m\u001b[0;36m3\u001b[0m\u001b[0;34m]\u001b[0m\u001b[0;34m:\u001b[0m\u001b[0;34m\"Vishnu\"\u001b[0m \u001b[0;34m}\u001b[0m\u001b[0;34m\u001b[0m\u001b[0;34m\u001b[0m\u001b[0m\n\u001b[0m",
            "\u001b[0;31mTypeError\u001b[0m: unhashable type: 'list'"
          ]
        }
      ]
    },
    {
      "cell_type": "code",
      "source": [
        "# nested dictionary\n",
        "customer_Info = {101: {\n",
        "       \"Name\": \"Sachin\",\n",
        "        \"Orders\": [{\"OrderID\": 1,\n",
        "                   \"Ordername\": \"tshirt\",\n",
        "                   \"Amount\": 2500},\n",
        "                   {\"OrderID\": 2,\n",
        "                   \"Ordername\": \"Pants\",\n",
        "                   \"Amount\": 3000}\n",
        "                   ],\n",
        "       \"Address\":{\"Pincode\": 5600,\n",
        "                  \"Line1\": \"405, Skr residency\"}\n",
        "},\n",
        "                 \n",
        "                102:{\n",
        "              \"Name\": \"Priyansh\",\n",
        "        \"Orders\": [{\"OrderID\": 1,\n",
        "                   \"Ordername\": \"tshirt\",\n",
        "                   \"Amount\": 2500},\n",
        "                   {\"OrderID\": 2,\n",
        "                   \"Ordername\": \"Pants\",\n",
        "                   \"Amount\": 3000}\n",
        "                   ],\n",
        "       \"Address\":{\"Pincode\": 5600,\n",
        "                  \"Line1\": \"406, Skr residency\"}\n",
        "                }\n",
        "       }\n",
        "\n",
        "  \n",
        "print(customer_Info)"
      ],
      "metadata": {
        "colab": {
          "base_uri": "https://localhost:8080/"
        },
        "id": "tIbVv8Avyx3I",
        "outputId": "28bb450a-1536-4636-ea00-68bf57e896da"
      },
      "execution_count": 68,
      "outputs": [
        {
          "output_type": "stream",
          "name": "stdout",
          "text": [
            "{101: {'Name': 'Sachin', 'Orders': [{'OrderID': 1, 'Ordername': 'tshirt', 'Amount': 2500}, {'OrderID': 2, 'Ordername': 'Pants', 'Amount': 3000}], 'Address': {'Pincode': 5600, 'Line1': '405, Skr residency'}}, 102: {'Name': 'Priyansh', 'Orders': [{'OrderID': 1, 'Ordername': 'tshirt', 'Amount': 2500}, {'OrderID': 2, 'Ordername': 'Pants', 'Amount': 3000}], 'Address': {'Pincode': 5600, 'Line1': '406, Skr residency'}}}\n"
          ]
        }
      ]
    },
    {
      "cell_type": "code",
      "source": [
        "print(customer_Info[102]['Name'])"
      ],
      "metadata": {
        "colab": {
          "base_uri": "https://localhost:8080/"
        },
        "id": "VATF-LVgzwEZ",
        "outputId": "03b2b0c4-517b-4b16-c264-7c9ecbb714e4"
      },
      "execution_count": 71,
      "outputs": [
        {
          "output_type": "stream",
          "name": "stdout",
          "text": [
            "Priyansh\n"
          ]
        }
      ]
    },
    {
      "cell_type": "code",
      "source": [
        "print(customer_Info[102]['Orders']) # all orders"
      ],
      "metadata": {
        "colab": {
          "base_uri": "https://localhost:8080/"
        },
        "id": "ZNBR5duw02ti",
        "outputId": "6eb30a72-578a-42db-e10a-e5d3578706aa"
      },
      "execution_count": 72,
      "outputs": [
        {
          "output_type": "stream",
          "name": "stdout",
          "text": [
            "[{'OrderID': 1, 'Ordername': 'tshirt', 'Amount': 2500}, {'OrderID': 2, 'Ordername': 'Pants', 'Amount': 3000}]\n"
          ]
        }
      ]
    },
    {
      "cell_type": "code",
      "source": [
        "print(customer_Info[102]['Orders'][0]) # first order"
      ],
      "metadata": {
        "colab": {
          "base_uri": "https://localhost:8080/"
        },
        "id": "Pme-c5jQ1F_f",
        "outputId": "22acd0ee-ffa7-450d-b065-461465848f94"
      },
      "execution_count": 73,
      "outputs": [
        {
          "output_type": "stream",
          "name": "stdout",
          "text": [
            "{'OrderID': 1, 'Ordername': 'tshirt', 'Amount': 2500}\n"
          ]
        }
      ]
    },
    {
      "cell_type": "markdown",
      "source": [
        "### Homework:\n",
        "- Extract name and second order Amount for customerID 102\n",
        "\n",
        "- Create Dictionary for Adhaar Card System/ Banking "
      ],
      "metadata": {
        "id": "mWfQHVad1QCl"
      }
    },
    {
      "cell_type": "code",
      "source": [
        "dict1 = {'a': 'Gautam', 'b': 'Parveen', 'c': 'Chiranjeev', 'd': 'Keshav', 'e': 'Ramesh', 'f': 'Priyansh', 'g':\"Vishnu\" }\n",
        "print(dict1['h'])"
      ],
      "metadata": {
        "colab": {
          "base_uri": "https://localhost:8080/",
          "height": 199
        },
        "id": "MvZwm1xZ1OI8",
        "outputId": "eeea1391-e4c6-4536-8ff2-b6244ba58e97"
      },
      "execution_count": 75,
      "outputs": [
        {
          "output_type": "error",
          "ename": "KeyError",
          "evalue": "ignored",
          "traceback": [
            "\u001b[0;31m---------------------------------------------------------------------------\u001b[0m",
            "\u001b[0;31mKeyError\u001b[0m                                  Traceback (most recent call last)",
            "\u001b[0;32m<ipython-input-75-a70491fbd4b0>\u001b[0m in \u001b[0;36m<module>\u001b[0;34m\u001b[0m\n\u001b[1;32m      1\u001b[0m \u001b[0mdict1\u001b[0m \u001b[0;34m=\u001b[0m \u001b[0;34m{\u001b[0m\u001b[0;34m'a'\u001b[0m\u001b[0;34m:\u001b[0m \u001b[0;34m'Gautam'\u001b[0m\u001b[0;34m,\u001b[0m \u001b[0;34m'b'\u001b[0m\u001b[0;34m:\u001b[0m \u001b[0;34m'Parveen'\u001b[0m\u001b[0;34m,\u001b[0m \u001b[0;34m'c'\u001b[0m\u001b[0;34m:\u001b[0m \u001b[0;34m'Chiranjeev'\u001b[0m\u001b[0;34m,\u001b[0m \u001b[0;34m'd'\u001b[0m\u001b[0;34m:\u001b[0m \u001b[0;34m'Keshav'\u001b[0m\u001b[0;34m,\u001b[0m \u001b[0;34m'e'\u001b[0m\u001b[0;34m:\u001b[0m \u001b[0;34m'Ramesh'\u001b[0m\u001b[0;34m,\u001b[0m \u001b[0;34m'f'\u001b[0m\u001b[0;34m:\u001b[0m \u001b[0;34m'Priyansh'\u001b[0m\u001b[0;34m,\u001b[0m \u001b[0;34m'g'\u001b[0m\u001b[0;34m:\u001b[0m\u001b[0;34m\"Vishnu\"\u001b[0m \u001b[0;34m}\u001b[0m\u001b[0;34m\u001b[0m\u001b[0;34m\u001b[0m\u001b[0m\n\u001b[0;32m----> 2\u001b[0;31m \u001b[0mprint\u001b[0m\u001b[0;34m(\u001b[0m\u001b[0mdict1\u001b[0m\u001b[0;34m[\u001b[0m\u001b[0;34m'h'\u001b[0m\u001b[0;34m]\u001b[0m\u001b[0;34m)\u001b[0m\u001b[0;34m\u001b[0m\u001b[0;34m\u001b[0m\u001b[0m\n\u001b[0m",
            "\u001b[0;31mKeyError\u001b[0m: 'h'"
          ]
        }
      ]
    },
    {
      "cell_type": "code",
      "source": [
        "print(dict1.get('h'))"
      ],
      "metadata": {
        "colab": {
          "base_uri": "https://localhost:8080/"
        },
        "id": "wHskpk1D3h1z",
        "outputId": "01961889-f217-4732-e42a-8d058e5765d8"
      },
      "execution_count": 76,
      "outputs": [
        {
          "output_type": "stream",
          "name": "stdout",
          "text": [
            "None\n"
          ]
        }
      ]
    },
    {
      "cell_type": "code",
      "source": [
        "print(dict1.get('f'))"
      ],
      "metadata": {
        "colab": {
          "base_uri": "https://localhost:8080/"
        },
        "id": "aAGhgEil3um7",
        "outputId": "edb06810-fe4b-4399-b185-df44a11ac0b3"
      },
      "execution_count": 77,
      "outputs": [
        {
          "output_type": "stream",
          "name": "stdout",
          "text": [
            "Priyansh\n"
          ]
        }
      ]
    },
    {
      "cell_type": "code",
      "source": [
        "print(dict1.get('h', \"Invalid ID\"))"
      ],
      "metadata": {
        "colab": {
          "base_uri": "https://localhost:8080/"
        },
        "id": "vzdwU5DX3wdn",
        "outputId": "16c7a342-510d-4b8c-db20-213ddbcf5b68"
      },
      "execution_count": 78,
      "outputs": [
        {
          "output_type": "stream",
          "name": "stdout",
          "text": [
            "Invalid ID\n"
          ]
        }
      ]
    },
    {
      "cell_type": "code",
      "source": [
        "print(dict1.get('a', \"Invalid ID\"))"
      ],
      "metadata": {
        "colab": {
          "base_uri": "https://localhost:8080/"
        },
        "id": "LivMf19e34EW",
        "outputId": "6c320ee5-d467-470f-84cd-a3ea430d1763"
      },
      "execution_count": 79,
      "outputs": [
        {
          "output_type": "stream",
          "name": "stdout",
          "text": [
            "Gautam\n"
          ]
        }
      ]
    },
    {
      "cell_type": "markdown",
      "source": [
        "### iterating over dictionary"
      ],
      "metadata": {
        "id": "a6Uve0Fm4C6V"
      }
    },
    {
      "cell_type": "code",
      "source": [
        "dict1 = {'a': 'Gautam', 'b': 'Parveen', 'c': 'Chiranjeev', 'd': 'Keshav', 'e': 'Ramesh', 'f': 'Priyansh', 'g':\"Vishnu\" }\n",
        "# iterate using keys\n",
        "for i in dict1:\n",
        "  print(i, dict1[i])"
      ],
      "metadata": {
        "colab": {
          "base_uri": "https://localhost:8080/"
        },
        "id": "U76Og0424IEx",
        "outputId": "900f70a4-36fe-4245-da70-bddb7cc0db2d"
      },
      "execution_count": 83,
      "outputs": [
        {
          "output_type": "stream",
          "name": "stdout",
          "text": [
            "a Gautam\n",
            "b Parveen\n",
            "c Chiranjeev\n",
            "d Keshav\n",
            "e Ramesh\n",
            "f Priyansh\n",
            "g Vishnu\n"
          ]
        }
      ]
    },
    {
      "cell_type": "markdown",
      "source": [
        "Iterate using items"
      ],
      "metadata": {
        "id": "VSgta6By4C3q"
      }
    },
    {
      "cell_type": "code",
      "source": [
        "dict1 = {'a': 'Gautam', 'b': 'Parveen', 'c': 'Chiranjeev', 'd': 'Keshav', 'e': 'Ramesh', 'f': 'Priyansh', 'g':\"Vishnu\" }\n",
        "\n",
        "dict1.items()"
      ],
      "metadata": {
        "colab": {
          "base_uri": "https://localhost:8080/"
        },
        "id": "oUkWkj0z4kcM",
        "outputId": "f474a705-8cb5-4060-885e-d88e781160be"
      },
      "execution_count": 84,
      "outputs": [
        {
          "output_type": "execute_result",
          "data": {
            "text/plain": [
              "dict_items([('a', 'Gautam'), ('b', 'Parveen'), ('c', 'Chiranjeev'), ('d', 'Keshav'), ('e', 'Ramesh'), ('f', 'Priyansh'), ('g', 'Vishnu')])"
            ]
          },
          "metadata": {},
          "execution_count": 84
        }
      ]
    },
    {
      "cell_type": "code",
      "source": [
        "dict1 = {'a': 'Gautam', 'b': 'Parveen', 'c': 'Chiranjeev', 'd': 'Keshav', 'e': 'Ramesh', 'f': 'Priyansh', 'g':\"Vishnu\" }\n",
        "# iterate using keys\n",
        "for k,v in dict1.items():\n",
        "  print(k,v)"
      ],
      "metadata": {
        "colab": {
          "base_uri": "https://localhost:8080/"
        },
        "id": "Bs3keJGN38tn",
        "outputId": "14bab60c-de31-4f66-90d6-e562500b332f"
      },
      "execution_count": 86,
      "outputs": [
        {
          "output_type": "stream",
          "name": "stdout",
          "text": [
            "a Gautam\n",
            "b Parveen\n",
            "c Chiranjeev\n",
            "d Keshav\n",
            "e Ramesh\n",
            "f Priyansh\n",
            "g Vishnu\n"
          ]
        }
      ]
    },
    {
      "cell_type": "code",
      "source": [
        "dict1 = {'a': 'Gautam', 'b': 'Parveen', 'c': 'Chiranjeev', 'd': 'Keshav', 'e': 'Ramesh', 'f': 'Priyansh', 'g':\"Vishnu\" }\n",
        "dict2 = {'h': \"AB\", \"i\": \"DE\"}\n",
        "dict1.update(dict2)"
      ],
      "metadata": {
        "id": "zODbbg4N4yii"
      },
      "execution_count": 88,
      "outputs": []
    },
    {
      "cell_type": "code",
      "source": [
        "dict1"
      ],
      "metadata": {
        "colab": {
          "base_uri": "https://localhost:8080/"
        },
        "id": "Oc7Ifjjc5emH",
        "outputId": "da44e653-31f5-4c64-b1e4-2d81dba845f5"
      },
      "execution_count": 90,
      "outputs": [
        {
          "output_type": "execute_result",
          "data": {
            "text/plain": [
              "{'a': 'Gautam',\n",
              " 'b': 'Parveen',\n",
              " 'c': 'Chiranjeev',\n",
              " 'd': 'Keshav',\n",
              " 'e': 'Ramesh',\n",
              " 'f': 'Priyansh',\n",
              " 'g': 'Vishnu',\n",
              " 'h': 'AB',\n",
              " 'i': 'DE'}"
            ]
          },
          "metadata": {},
          "execution_count": 90
        }
      ]
    },
    {
      "cell_type": "markdown",
      "source": [
        "- Homework:\n",
        "\n",
        "dict2.update(dict1) ?\n"
      ],
      "metadata": {
        "id": "aSCqX-0B5uUN"
      }
    },
    {
      "cell_type": "markdown",
      "source": [
        "### Set: \n",
        "- Ordered? Orginally undordered, Now ordered\n",
        "- Indexable?: No\n",
        "- Mutable? yes\n",
        "- Unique Values\n",
        "- Iterable? Yes\n",
        "- What can it store: Only Immutable"
      ],
      "metadata": {
        "id": "4K2_y8Ry56EL"
      }
    },
    {
      "cell_type": "code",
      "source": [
        "s1 = {1,2,3}\n",
        "type(s1)"
      ],
      "metadata": {
        "colab": {
          "base_uri": "https://localhost:8080/"
        },
        "id": "3bmdXzJk5j6S",
        "outputId": "5e511880-12c2-4727-c2a0-1d72913ce905"
      },
      "execution_count": 91,
      "outputs": [
        {
          "output_type": "execute_result",
          "data": {
            "text/plain": [
              "set"
            ]
          },
          "metadata": {},
          "execution_count": 91
        }
      ]
    },
    {
      "cell_type": "code",
      "source": [
        "s1 = {}\n",
        "type(s1)\n"
      ],
      "metadata": {
        "colab": {
          "base_uri": "https://localhost:8080/"
        },
        "id": "T6W6CoBV6gZN",
        "outputId": "50719e2a-73d1-4211-d1b5-27d13931cf32"
      },
      "execution_count": 92,
      "outputs": [
        {
          "output_type": "execute_result",
          "data": {
            "text/plain": [
              "dict"
            ]
          },
          "metadata": {},
          "execution_count": 92
        }
      ]
    },
    {
      "cell_type": "code",
      "source": [
        "s1 = set()\n",
        "print(s1)\n",
        "print(type(s1))"
      ],
      "metadata": {
        "colab": {
          "base_uri": "https://localhost:8080/"
        },
        "id": "iinpvmgY6mDn",
        "outputId": "70a2787d-404e-4421-809e-4c5fcef3785f"
      },
      "execution_count": 101,
      "outputs": [
        {
          "output_type": "stream",
          "name": "stdout",
          "text": [
            "set()\n",
            "<class 'set'>\n"
          ]
        }
      ]
    },
    {
      "cell_type": "code",
      "source": [
        "s1 = {1,} # not empty sets\n",
        "print(s1)"
      ],
      "metadata": {
        "colab": {
          "base_uri": "https://localhost:8080/"
        },
        "id": "vu7pWEaq6q9-",
        "outputId": "b4d1746f-4db0-4e24-c369-430bdf0b5e8e"
      },
      "execution_count": 100,
      "outputs": [
        {
          "output_type": "stream",
          "name": "stdout",
          "text": [
            "{1}\n"
          ]
        }
      ]
    },
    {
      "cell_type": "code",
      "source": [
        "s1 = {\"\"} # not empty set\n",
        "print(type(s1))\n",
        "print(s1)"
      ],
      "metadata": {
        "colab": {
          "base_uri": "https://localhost:8080/"
        },
        "id": "kJ0UFsir6szV",
        "outputId": "138c1006-08bb-468f-d97f-10a54ba61b40"
      },
      "execution_count": 99,
      "outputs": [
        {
          "output_type": "stream",
          "name": "stdout",
          "text": [
            "<class 'set'>\n",
            "{''}\n"
          ]
        }
      ]
    },
    {
      "cell_type": "code",
      "source": [
        "s1 = set()\n",
        "s1.add(1)\n",
        "print(s1)"
      ],
      "metadata": {
        "colab": {
          "base_uri": "https://localhost:8080/"
        },
        "id": "luIKsJDV6vS3",
        "outputId": "84e1f372-f432-42c7-87b8-b2b24550f1af"
      },
      "execution_count": 104,
      "outputs": [
        {
          "output_type": "stream",
          "name": "stdout",
          "text": [
            "{1}\n"
          ]
        }
      ]
    },
    {
      "cell_type": "code",
      "source": [
        "# remove elements\n",
        "print(s1.remove(1))\n",
        "print(s1)"
      ],
      "metadata": {
        "colab": {
          "base_uri": "https://localhost:8080/"
        },
        "id": "_wUKmL4K7Hvh",
        "outputId": "8088cf87-df40-486b-f452-1183ed14472d"
      },
      "execution_count": 105,
      "outputs": [
        {
          "output_type": "stream",
          "name": "stdout",
          "text": [
            "None\n",
            "set()\n"
          ]
        }
      ]
    },
    {
      "cell_type": "code",
      "source": [
        "s1 = {1,2,3,4}\n",
        "s2 = {4,5,6}\n",
        "s1.update(s2)\n",
        "print(s1)"
      ],
      "metadata": {
        "colab": {
          "base_uri": "https://localhost:8080/"
        },
        "id": "CiTLKO3O7XpI",
        "outputId": "fe3f0bf7-c045-4383-969a-9a9d6c215e09"
      },
      "execution_count": 107,
      "outputs": [
        {
          "output_type": "stream",
          "name": "stdout",
          "text": [
            "{1, 2, 3, 4, 5, 6}\n"
          ]
        }
      ]
    },
    {
      "cell_type": "code",
      "source": [
        "print(s1)"
      ],
      "metadata": {
        "colab": {
          "base_uri": "https://localhost:8080/"
        },
        "id": "IA0Tb0zU7fy7",
        "outputId": "4bd54484-91f3-4c2c-dca7-95569ee8119e"
      },
      "execution_count": 108,
      "outputs": [
        {
          "output_type": "stream",
          "name": "stdout",
          "text": [
            "{1, 2, 3, 4, 5, 6}\n"
          ]
        }
      ]
    },
    {
      "cell_type": "code",
      "source": [
        "for i in s1:\n",
        "  print(i)"
      ],
      "metadata": {
        "colab": {
          "base_uri": "https://localhost:8080/"
        },
        "id": "CVMDG3jV7s4Q",
        "outputId": "4d9a12f2-dc71-4fcb-eb7e-8a19f0c9caa4"
      },
      "execution_count": 109,
      "outputs": [
        {
          "output_type": "stream",
          "name": "stdout",
          "text": [
            "1\n",
            "2\n",
            "3\n",
            "4\n",
            "5\n",
            "6\n"
          ]
        }
      ]
    },
    {
      "cell_type": "code",
      "source": [
        "list1 = [1,2,3,4]\n",
        "len(set(list1)) == len(list1)"
      ],
      "metadata": {
        "colab": {
          "base_uri": "https://localhost:8080/"
        },
        "id": "3QWxXsTs73WQ",
        "outputId": "32d0af64-62d7-4a8f-bf35-32a0fcccfec6"
      },
      "execution_count": 113,
      "outputs": [
        {
          "output_type": "execute_result",
          "data": {
            "text/plain": [
              "True"
            ]
          },
          "metadata": {},
          "execution_count": 113
        }
      ]
    },
    {
      "cell_type": "markdown",
      "source": [
        "Set opertaions:\n",
        "\n",
        "### Set Operations:\n",
        "```\n",
        "A = {1,2}\n",
        "B = {1,3,4,5}\n",
        "```\n",
        "\n",
        "- ***Intersection***\n",
        "  - <img src=\"https://d2beiqkhq929f0.cloudfront.net/public_assets/assets/000/015/046/original/Screenshot_2022-09-21_at_1.10.06_PM.png?1663746030\">\n",
        "  - Common in both sets\n",
        "  - here `1` is common in both `A` and `B`\n",
        "\n",
        "- ***Union***\n",
        "  - <img src=\"https://d2beiqkhq929f0.cloudfront.net/public_assets/assets/000/015/047/original/Screenshot_2022-09-21_at_1.11.27_PM.png?1663746097\">\n",
        "  - Set of both the elements `A` and `B`\n",
        "  - here it is `{1,2,3,4,5}`\n",
        "\n",
        "- ***Difference***\n",
        "  - <img src=\"https://d2beiqkhq929f0.cloudfront.net/public_assets/assets/000/015/050/original/Screenshot_2022-09-21_at_1.13.50_PM.png?1663746286\">\n",
        "  - `A - B`\n",
        "    - Set of all elements that are in `A` but not in `B`\n",
        "    - that is `{2}` here\n",
        "  - `B - A`\n",
        "    - Set of all elements that are in `B` but not in `A`\n",
        "    - that is `{3,4,5}` here\n",
        "  - `A-B` != `B - A`\n",
        "\n",
        "- ***Symmetric Difference***\n",
        "  - <img src=\"https://d2beiqkhq929f0.cloudfront.net/public_assets/assets/000/015/051/original/Screenshot_2022-09-21_at_1.14.09_PM.png?1663746327\">\n",
        "  - `(A - B) Union (B - A)` or `(A U B) - (A Λ B)`\n",
        "  - that is `{2,3,4,5}` here"
      ],
      "metadata": {
        "id": "X6xh2a438bGv"
      }
    },
    {
      "cell_type": "code",
      "source": [
        "s1 = {1,2,3,4}\n",
        "s2 = {4,5,6}\n",
        "\n",
        "# intersection\n",
        "s1.intersection(s2)\n"
      ],
      "metadata": {
        "colab": {
          "base_uri": "https://localhost:8080/"
        },
        "id": "3xtq2hbI8GpZ",
        "outputId": "e8f74b86-e506-4ebd-f46e-1b808671eb9a"
      },
      "execution_count": 115,
      "outputs": [
        {
          "output_type": "execute_result",
          "data": {
            "text/plain": [
              "{4}"
            ]
          },
          "metadata": {},
          "execution_count": 115
        }
      ]
    },
    {
      "cell_type": "code",
      "source": [
        "print(s1 & s2)\n"
      ],
      "metadata": {
        "colab": {
          "base_uri": "https://localhost:8080/"
        },
        "id": "uMYgqDaU9PZy",
        "outputId": "c4f0ced4-1dd2-447f-ef9c-93a8462caf6b"
      },
      "execution_count": 116,
      "outputs": [
        {
          "output_type": "stream",
          "name": "stdout",
          "text": [
            "{4}\n"
          ]
        }
      ]
    },
    {
      "cell_type": "code",
      "source": [
        "# union\n",
        "print(s1 | s2)"
      ],
      "metadata": {
        "colab": {
          "base_uri": "https://localhost:8080/"
        },
        "id": "NDpGFOw79dW5",
        "outputId": "33b1d588-b72b-484c-b05b-8d3c36edc5d3"
      },
      "execution_count": 117,
      "outputs": [
        {
          "output_type": "stream",
          "name": "stdout",
          "text": [
            "{1, 2, 3, 4, 5, 6}\n"
          ]
        }
      ]
    },
    {
      "cell_type": "code",
      "source": [
        "s1.union(s2)"
      ],
      "metadata": {
        "colab": {
          "base_uri": "https://localhost:8080/"
        },
        "id": "itgVBKk89l-D",
        "outputId": "58e20396-466c-4205-f30b-73bd2a2f81ec"
      },
      "execution_count": 118,
      "outputs": [
        {
          "output_type": "execute_result",
          "data": {
            "text/plain": [
              "{1, 2, 3, 4, 5, 6}"
            ]
          },
          "metadata": {},
          "execution_count": 118
        }
      ]
    },
    {
      "cell_type": "code",
      "source": [
        "# difference\n",
        "s1.difference(s2)"
      ],
      "metadata": {
        "colab": {
          "base_uri": "https://localhost:8080/"
        },
        "id": "cEoYdBR99qmE",
        "outputId": "0f321538-d115-40b8-d401-838fe0adb7f8"
      },
      "execution_count": 119,
      "outputs": [
        {
          "output_type": "execute_result",
          "data": {
            "text/plain": [
              "{1, 2, 3}"
            ]
          },
          "metadata": {},
          "execution_count": 119
        }
      ]
    },
    {
      "cell_type": "code",
      "source": [
        "s1- s2"
      ],
      "metadata": {
        "colab": {
          "base_uri": "https://localhost:8080/"
        },
        "id": "Ds_-Y8nO942H",
        "outputId": "dfbece43-94b5-43ae-df6e-2e6b8db988c0"
      },
      "execution_count": 120,
      "outputs": [
        {
          "output_type": "execute_result",
          "data": {
            "text/plain": [
              "{1, 2, 3}"
            ]
          },
          "metadata": {},
          "execution_count": 120
        }
      ]
    },
    {
      "cell_type": "markdown",
      "source": [
        "Questions: element present only in s2"
      ],
      "metadata": {
        "id": "p7HQFzPW9_I5"
      }
    },
    {
      "cell_type": "code",
      "source": [
        "# Symmetric Difference\n",
        "s1.symmetric_difference(s2)"
      ],
      "metadata": {
        "colab": {
          "base_uri": "https://localhost:8080/"
        },
        "id": "FSPhC1Qe97Y6",
        "outputId": "14f00832-c488-4125-f256-383aefe19a01"
      },
      "execution_count": 121,
      "outputs": [
        {
          "output_type": "execute_result",
          "data": {
            "text/plain": [
              "{1, 2, 3, 5, 6}"
            ]
          },
          "metadata": {},
          "execution_count": 121
        }
      ]
    },
    {
      "cell_type": "code",
      "source": [
        "s1 ^ s2"
      ],
      "metadata": {
        "colab": {
          "base_uri": "https://localhost:8080/"
        },
        "id": "5nrsEjTD-LV7",
        "outputId": "ed327afe-a692-4b2b-b517-5d6ecb669b82"
      },
      "execution_count": 122,
      "outputs": [
        {
          "output_type": "execute_result",
          "data": {
            "text/plain": [
              "{1, 2, 3, 5, 6}"
            ]
          },
          "metadata": {},
          "execution_count": 122
        }
      ]
    },
    {
      "cell_type": "code",
      "source": [
        "s2^s1"
      ],
      "metadata": {
        "colab": {
          "base_uri": "https://localhost:8080/"
        },
        "id": "88TJWxxX-P4r",
        "outputId": "245bb485-d254-42a0-e7bf-de22fca07c4d"
      },
      "execution_count": 123,
      "outputs": [
        {
          "output_type": "execute_result",
          "data": {
            "text/plain": [
              "{1, 2, 3, 5, 6}"
            ]
          },
          "metadata": {},
          "execution_count": 123
        }
      ]
    },
    {
      "cell_type": "code",
      "source": [
        "s1 = {1,4.5, \"A\", (2,3)}\n",
        "print(s1)"
      ],
      "metadata": {
        "colab": {
          "base_uri": "https://localhost:8080/"
        },
        "id": "-GgMrLzm-cOJ",
        "outputId": "1e5f5de2-4c45-4a38-ab03-39d23da40dbd"
      },
      "execution_count": 124,
      "outputs": [
        {
          "output_type": "stream",
          "name": "stdout",
          "text": [
            "{(2, 3), 1, 4.5, 'A'}\n"
          ]
        }
      ]
    },
    {
      "cell_type": "code",
      "source": [
        "s1 = {1,4.5, \"A\", (2,3), [4,5]}\n",
        "print(s1)"
      ],
      "metadata": {
        "colab": {
          "base_uri": "https://localhost:8080/",
          "height": 199
        },
        "id": "Gwv8-bIZ-s-y",
        "outputId": "7b02f5e7-930a-44c2-e76b-bccc8babe038"
      },
      "execution_count": 125,
      "outputs": [
        {
          "output_type": "error",
          "ename": "TypeError",
          "evalue": "ignored",
          "traceback": [
            "\u001b[0;31m---------------------------------------------------------------------------\u001b[0m",
            "\u001b[0;31mTypeError\u001b[0m                                 Traceback (most recent call last)",
            "\u001b[0;32m<ipython-input-125-d76940f2b4f2>\u001b[0m in \u001b[0;36m<module>\u001b[0;34m\u001b[0m\n\u001b[0;32m----> 1\u001b[0;31m \u001b[0ms1\u001b[0m \u001b[0;34m=\u001b[0m \u001b[0;34m{\u001b[0m\u001b[0;36m1\u001b[0m\u001b[0;34m,\u001b[0m\u001b[0;36m4.5\u001b[0m\u001b[0;34m,\u001b[0m \u001b[0;34m\"A\"\u001b[0m\u001b[0;34m,\u001b[0m \u001b[0;34m(\u001b[0m\u001b[0;36m2\u001b[0m\u001b[0;34m,\u001b[0m\u001b[0;36m3\u001b[0m\u001b[0;34m)\u001b[0m\u001b[0;34m,\u001b[0m \u001b[0;34m[\u001b[0m\u001b[0;36m4\u001b[0m\u001b[0;34m,\u001b[0m\u001b[0;36m5\u001b[0m\u001b[0;34m]\u001b[0m\u001b[0;34m}\u001b[0m\u001b[0;34m\u001b[0m\u001b[0;34m\u001b[0m\u001b[0m\n\u001b[0m\u001b[1;32m      2\u001b[0m \u001b[0mprint\u001b[0m\u001b[0;34m(\u001b[0m\u001b[0ms1\u001b[0m\u001b[0;34m)\u001b[0m\u001b[0;34m\u001b[0m\u001b[0;34m\u001b[0m\u001b[0m\n",
            "\u001b[0;31mTypeError\u001b[0m: unhashable type: 'list'"
          ]
        }
      ]
    },
    {
      "cell_type": "code",
      "source": [
        "s1 = {1,1,2,2}\n",
        "print(s1)"
      ],
      "metadata": {
        "colab": {
          "base_uri": "https://localhost:8080/"
        },
        "id": "cV4D8S0Q_HsN",
        "outputId": "66fffcf5-5f6f-4787-b767-072952873cc4"
      },
      "execution_count": 126,
      "outputs": [
        {
          "output_type": "stream",
          "name": "stdout",
          "text": [
            "{1, 2}\n"
          ]
        }
      ]
    },
    {
      "cell_type": "markdown",
      "source": [
        "Try to create dictionary with duplicate key"
      ],
      "metadata": {
        "id": "PN_AjdIS_UYp"
      }
    },
    {
      "cell_type": "markdown",
      "source": [
        "#### Comphrensions:"
      ],
      "metadata": {
        "id": "Jx4kkZ_A--6E"
      }
    },
    {
      "cell_type": "code",
      "source": [
        "input_list = [1,2,3,4] # add 5 at each position: [6,7,8,9 ]\n",
        "new_list = []\n",
        "for i in input_list:\n",
        "  new_list.append(i+5)\n",
        "print(new_list)"
      ],
      "metadata": {
        "colab": {
          "base_uri": "https://localhost:8080/"
        },
        "id": "FDD3SX4w-2Ep",
        "outputId": "8e0bd8a8-65c0-4949-d2d2-6f9dc3bbda71"
      },
      "execution_count": 127,
      "outputs": [
        {
          "output_type": "stream",
          "name": "stdout",
          "text": [
            "[6, 7, 8, 9]\n"
          ]
        }
      ]
    },
    {
      "cell_type": "code",
      "source": [
        "[i+5 for i in input_list] # shorthand notation"
      ],
      "metadata": {
        "colab": {
          "base_uri": "https://localhost:8080/"
        },
        "id": "yknfuBXi_w7t",
        "outputId": "492b8d94-4ecd-488d-af46-a2fcf5c7826c"
      },
      "execution_count": 130,
      "outputs": [
        {
          "output_type": "execute_result",
          "data": {
            "text/plain": [
              "[6, 7, 8, 9]"
            ]
          },
          "metadata": {},
          "execution_count": 130
        }
      ]
    },
    {
      "cell_type": "code",
      "source": [
        "\n",
        "square_list = [i**2 for i in input_list] # [1,4,9,16]\n",
        "print(square_list)"
      ],
      "metadata": {
        "colab": {
          "base_uri": "https://localhost:8080/"
        },
        "id": "y-f413vf_8_J",
        "outputId": "d2249d95-485b-4561-b800-658776ec76fd"
      },
      "execution_count": 132,
      "outputs": [
        {
          "output_type": "stream",
          "name": "stdout",
          "text": [
            "[1, 4, 9, 16]\n"
          ]
        }
      ]
    },
    {
      "cell_type": "markdown",
      "source": [
        "### Given a list, create another list which satisfies following condn:\n",
        "```\n",
        "i**2 if i is odd\n",
        "i if i is even\n",
        "```"
      ],
      "metadata": {
        "id": "dr8Im_CXA4wv"
      }
    },
    {
      "cell_type": "code",
      "source": [
        "input_list = [1,2,3,4] # [1, 2, 9, 4]\n",
        "\n",
        "def custom_logic(i):\n",
        "  if i%2==0:\n",
        "    return i\n",
        "  else:\n",
        "    return i**2\n",
        "custom_logic(2)"
      ],
      "metadata": {
        "colab": {
          "base_uri": "https://localhost:8080/"
        },
        "id": "vHpH_RvWAxcu",
        "outputId": "d8752a63-1539-4666-910a-270696016c83"
      },
      "execution_count": 133,
      "outputs": [
        {
          "output_type": "execute_result",
          "data": {
            "text/plain": [
              "2"
            ]
          },
          "metadata": {},
          "execution_count": 133
        }
      ]
    },
    {
      "cell_type": "code",
      "source": [
        "custom_logic(3)"
      ],
      "metadata": {
        "colab": {
          "base_uri": "https://localhost:8080/"
        },
        "id": "bnHSPdXmBfmf",
        "outputId": "671d2a0d-09db-4402-a4bb-b3e4889ba590"
      },
      "execution_count": 134,
      "outputs": [
        {
          "output_type": "execute_result",
          "data": {
            "text/plain": [
              "9"
            ]
          },
          "metadata": {},
          "execution_count": 134
        }
      ]
    },
    {
      "cell_type": "code",
      "source": [
        "[custom_logic(i) for i in input_list]"
      ],
      "metadata": {
        "colab": {
          "base_uri": "https://localhost:8080/"
        },
        "id": "f2JK8jSoBhJP",
        "outputId": "a46ec541-fffa-493b-a162-15ce29af1da5"
      },
      "execution_count": 135,
      "outputs": [
        {
          "output_type": "execute_result",
          "data": {
            "text/plain": [
              "[1, 2, 9, 4]"
            ]
          },
          "metadata": {},
          "execution_count": 135
        }
      ]
    },
    {
      "cell_type": "code",
      "source": [
        "# another approach: This is complicated\n",
        "[ i **2 if i%2==1  else i for i in input_list]"
      ],
      "metadata": {
        "colab": {
          "base_uri": "https://localhost:8080/"
        },
        "id": "6HJuugfFBqKv",
        "outputId": "0d940cdb-c485-443e-d81b-ccab4b2d48e0"
      },
      "execution_count": 138,
      "outputs": [
        {
          "output_type": "execute_result",
          "data": {
            "text/plain": [
              "[1, 2, 9, 4]"
            ]
          },
          "metadata": {},
          "execution_count": 138
        }
      ]
    },
    {
      "cell_type": "code",
      "source": [
        "# nested_list comprehension\n",
        "\n",
        "[\"Hello\" for i in range(2) for j in range(2)]"
      ],
      "metadata": {
        "colab": {
          "base_uri": "https://localhost:8080/"
        },
        "id": "kiU153SIB-4I",
        "outputId": "70df0a91-5efe-4902-8fac-97ad07b2e068"
      },
      "execution_count": 139,
      "outputs": [
        {
          "output_type": "execute_result",
          "data": {
            "text/plain": [
              "['Hello', 'Hello', 'Hello', 'Hello']"
            ]
          },
          "metadata": {},
          "execution_count": 139
        }
      ]
    },
    {
      "cell_type": "code",
      "source": [
        "new_list = []\n",
        "\n",
        "for i in range(2):\n",
        "  for j in range(2):\n",
        "    new_list.append(\"Hello\")\n",
        "new_list"
      ],
      "metadata": {
        "colab": {
          "base_uri": "https://localhost:8080/"
        },
        "id": "OnmyZUvOCutJ",
        "outputId": "4192f02d-e251-40ed-c1af-b4803d8d6241"
      },
      "execution_count": 140,
      "outputs": [
        {
          "output_type": "execute_result",
          "data": {
            "text/plain": [
              "['Hello', 'Hello', 'Hello', 'Hello']"
            ]
          },
          "metadata": {},
          "execution_count": 140
        }
      ]
    },
    {
      "cell_type": "code",
      "source": [
        "[(i,j) for i in range(2) for j in range(2)]"
      ],
      "metadata": {
        "colab": {
          "base_uri": "https://localhost:8080/"
        },
        "id": "h10u-8cKC5oP",
        "outputId": "7eb069b6-ba46-4a00-d10c-a3e689047305"
      },
      "execution_count": 145,
      "outputs": [
        {
          "output_type": "execute_result",
          "data": {
            "text/plain": [
              "[(0, 0), (0, 1), (1, 0), (1, 1)]"
            ]
          },
          "metadata": {},
          "execution_count": 145
        }
      ]
    },
    {
      "cell_type": "code",
      "source": [
        "new_list = []\n",
        "\n",
        "for i in range(2):\n",
        "  for j in range(2):\n",
        "    new_list.append((i,j))\n",
        "new_list"
      ],
      "metadata": {
        "colab": {
          "base_uri": "https://localhost:8080/"
        },
        "id": "0Cj0elGSDBCx",
        "outputId": "7ba36df8-3370-43f0-edba-7cd09f4545de"
      },
      "execution_count": 146,
      "outputs": [
        {
          "output_type": "execute_result",
          "data": {
            "text/plain": [
              "[(0, 0), (0, 1), (1, 0), (1, 1)]"
            ]
          },
          "metadata": {},
          "execution_count": 146
        }
      ]
    },
    {
      "cell_type": "code",
      "source": [
        "[i+j for i in range(3) for j in range(2)]"
      ],
      "metadata": {
        "colab": {
          "base_uri": "https://localhost:8080/"
        },
        "id": "0qWDkvqgDFJp",
        "outputId": "d2348c0b-240c-4d99-d7c6-af8bb351d21b"
      },
      "execution_count": 147,
      "outputs": [
        {
          "output_type": "execute_result",
          "data": {
            "text/plain": [
              "[0, 1, 1, 2, 2, 3]"
            ]
          },
          "metadata": {},
          "execution_count": 147
        }
      ]
    },
    {
      "cell_type": "code",
      "source": [
        "new_list = []\n",
        "for i in range(3):\n",
        "  for j in range(2):\n",
        "    new_list.append(i+j)\n",
        "\n",
        "print(new_list)"
      ],
      "metadata": {
        "colab": {
          "base_uri": "https://localhost:8080/"
        },
        "id": "g1jv1DMRDiu2",
        "outputId": "7eb1a9fa-96f0-4a06-c372-00f7010da817"
      },
      "execution_count": 149,
      "outputs": [
        {
          "output_type": "stream",
          "name": "stdout",
          "text": [
            "[0, 1, 1, 2, 2, 3]\n"
          ]
        }
      ]
    },
    {
      "cell_type": "markdown",
      "source": [
        "### Your task is to create:\n",
        "```\n",
        "expected Output:\n",
        "['a1', 'a2', 'a3', 'b1', 'b2', 'b3', 'c1', 'c2', 'c3']\n",
        "```\n",
        "```\n",
        " str1 = 'abc'\n",
        " list1 = [1,2,3]\n",
        "```"
      ],
      "metadata": {
        "id": "Vq_mYQkCDwKx"
      }
    },
    {
      "cell_type": "code",
      "source": [
        "dict1 = {\"A\":20, \"B\": 30, \"C\": 40}\n",
        "# task is to add 10 to each value\n",
        "{k:v+10 for k,v in dict1.items()}\n"
      ],
      "metadata": {
        "colab": {
          "base_uri": "https://localhost:8080/"
        },
        "id": "edP7_IrTDnEt",
        "outputId": "9d32488b-9113-4bfd-8500-348ac5328887"
      },
      "execution_count": 150,
      "outputs": [
        {
          "output_type": "execute_result",
          "data": {
            "text/plain": [
              "{'A': 30, 'B': 40, 'C': 50}"
            ]
          },
          "metadata": {},
          "execution_count": 150
        }
      ]
    },
    {
      "cell_type": "code",
      "source": [
        "list1 = [1,2,3]\n",
        "# create a set containing square element\n",
        "{i*i for i in list1} # set comp"
      ],
      "metadata": {
        "colab": {
          "base_uri": "https://localhost:8080/"
        },
        "id": "L7txEcrCEmXE",
        "outputId": "527f5ed1-eea7-4c33-dd2f-987be7b40e68"
      },
      "execution_count": 153,
      "outputs": [
        {
          "output_type": "execute_result",
          "data": {
            "text/plain": [
              "{1, 4, 9}"
            ]
          },
          "metadata": {},
          "execution_count": 153
        }
      ]
    },
    {
      "cell_type": "code",
      "source": [
        "[i*i for i in list1] # list comp"
      ],
      "metadata": {
        "colab": {
          "base_uri": "https://localhost:8080/"
        },
        "id": "B-tXfjQCFBY1",
        "outputId": "9c0a773d-a9b3-4ca4-ebc6-20342dbf5e93"
      },
      "execution_count": 154,
      "outputs": [
        {
          "output_type": "execute_result",
          "data": {
            "text/plain": [
              "[1, 4, 9]"
            ]
          },
          "metadata": {},
          "execution_count": 154
        }
      ]
    },
    {
      "cell_type": "code",
      "source": [
        "{i:i*i for i in list1} # dictionary comphre"
      ],
      "metadata": {
        "colab": {
          "base_uri": "https://localhost:8080/"
        },
        "id": "PbIRFkjMFGHY",
        "outputId": "9bab3dcf-1855-4565-d848-3e1a6336cc5b"
      },
      "execution_count": 155,
      "outputs": [
        {
          "output_type": "execute_result",
          "data": {
            "text/plain": [
              "{1: 1, 2: 4, 3: 9}"
            ]
          },
          "metadata": {},
          "execution_count": 155
        }
      ]
    },
    {
      "cell_type": "markdown",
      "source": [
        "### Homework: Can we do Tuple Comphrension\n",
        "\n",
        " dict1 = {\"A\":20, \"B\": 30, \"C\": 40}\n",
        " \n",
        " write comprehension to swap key and values\n",
        "\n",
        "{20:\"A\", 30:\"B\", 40:\"C\"}"
      ],
      "metadata": {
        "id": "ZhYuGwElE5cd"
      }
    },
    {
      "cell_type": "code",
      "source": [],
      "metadata": {
        "id": "N7oV1-5GE1Fr"
      },
      "execution_count": null,
      "outputs": []
    }
  ]
}