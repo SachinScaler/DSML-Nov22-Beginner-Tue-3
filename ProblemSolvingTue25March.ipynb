{
  "nbformat": 4,
  "nbformat_minor": 0,
  "metadata": {
    "colab": {
      "provenance": [],
      "authorship_tag": "ABX9TyM6PzpXMDo02lZZ8a+8jJCa",
      "include_colab_link": true
    },
    "kernelspec": {
      "name": "python3",
      "display_name": "Python 3"
    },
    "language_info": {
      "name": "python"
    },
    "gpuClass": "standard"
  },
  "cells": [
    {
      "cell_type": "markdown",
      "metadata": {
        "id": "view-in-github",
        "colab_type": "text"
      },
      "source": [
        "<a href=\"https://colab.research.google.com/github/SachinScaler/DSML-Nov22-Beginner-Tue-3/blob/main/ProblemSolvingTue25March.ipynb\" target=\"_parent\"><img src=\"https://colab.research.google.com/assets/colab-badge.svg\" alt=\"Open In Colab\"/></a>"
      ]
    },
    {
      "cell_type": "code",
      "execution_count": 3,
      "metadata": {
        "colab": {
          "base_uri": "https://localhost:8080/"
        },
        "id": "RormVsXgW99C",
        "outputId": "feafa2bc-c0d8-498a-a2a6-c6eb81ccebdb"
      },
      "outputs": [
        {
          "output_type": "stream",
          "name": "stdout",
          "text": [
            "I belong class A\n"
          ]
        }
      ],
      "source": [
        "class A:\n",
        "    def __str__(self):\n",
        "        return \"I belong class A\"\n",
        "\n",
        "a = A()\n",
        "print(a)"
      ]
    },
    {
      "cell_type": "code",
      "source": [
        "class B:\n",
        "    def __str__(self):\n",
        "        return \"I belong class B\"\n",
        "\n",
        "b = B()\n",
        "print(b)"
      ],
      "metadata": {
        "colab": {
          "base_uri": "https://localhost:8080/"
        },
        "id": "V9ZHG7k4aP1g",
        "outputId": "08506a89-179b-4f67-fdce-a6b80a9c48eb"
      },
      "execution_count": 5,
      "outputs": [
        {
          "output_type": "stream",
          "name": "stdout",
          "text": [
            "I belong class A\n"
          ]
        }
      ]
    },
    {
      "cell_type": "code",
      "source": [
        "list1 = [\n",
        "        ['mango', 'banana' , 'guava'],\n",
        "        ['rose', 'sandalwood'],\n",
        "        ['bccc', 'aaa', 'baac', 'c']]\n",
        "\n",
        "        \n",
        "# list1= ['banana', 'guava', 'mango' ]"
      ],
      "metadata": {
        "id": "aRC4iwEnafI9"
      },
      "execution_count": 18,
      "outputs": []
    },
    {
      "cell_type": "code",
      "source": [
        "output = [] # map\n",
        "for row in list1:\n",
        "    output.append(sorted(row, key= lambda x:x.count('a'), reverse = True))\n",
        "\n",
        "print(output)"
      ],
      "metadata": {
        "colab": {
          "base_uri": "https://localhost:8080/"
        },
        "id": "ZuGhzcnQcT1l",
        "outputId": "41ec9a4b-5427-4ab4-9d85-d174ffbfdf0b"
      },
      "execution_count": 19,
      "outputs": [
        {
          "output_type": "stream",
          "name": "stdout",
          "text": [
            "[['banana', 'guava', 'mango'], ['sandalwood', 'rose'], ['aaa', 'baac', 'bccc', 'c']]\n"
          ]
        }
      ]
    },
    {
      "cell_type": "markdown",
      "source": [
        "## replace for loop with Map"
      ],
      "metadata": {
        "id": "KgauQu5xeb1K"
      }
    },
    {
      "cell_type": "code",
      "source": [
        "'banana'.count('a')"
      ],
      "metadata": {
        "colab": {
          "base_uri": "https://localhost:8080/"
        },
        "id": "CTqRPu0scXvB",
        "outputId": "f72504a9-11a3-4760-cd1a-7cf517b811b6"
      },
      "execution_count": 12,
      "outputs": [
        {
          "output_type": "execute_result",
          "data": {
            "text/plain": [
              "3"
            ]
          },
          "metadata": {},
          "execution_count": 12
        }
      ]
    },
    {
      "cell_type": "code",
      "source": [
        "sorted([2,1,3,5], reverse =True)"
      ],
      "metadata": {
        "colab": {
          "base_uri": "https://localhost:8080/"
        },
        "id": "-lm5GJcgdIf3",
        "outputId": "e681bf3a-44e1-463b-ae92-d0c87653423f"
      },
      "execution_count": 14,
      "outputs": [
        {
          "output_type": "execute_result",
          "data": {
            "text/plain": [
              "[5, 3, 2, 1]"
            ]
          },
          "metadata": {},
          "execution_count": 14
        }
      ]
    },
    {
      "cell_type": "code",
      "source": [
        "sorted(['mango', 'banana' , 'guava'], key = lambda x:x.count('a'), reverse = True)"
      ],
      "metadata": {
        "colab": {
          "base_uri": "https://localhost:8080/"
        },
        "id": "pnZ-kNEtd2_r",
        "outputId": "8ef9c238-8233-449c-e321-a7bc444e2a07"
      },
      "execution_count": 16,
      "outputs": [
        {
          "output_type": "execute_result",
          "data": {
            "text/plain": [
              "['banana', 'guava', 'mango']"
            ]
          },
          "metadata": {},
          "execution_count": 16
        }
      ]
    },
    {
      "cell_type": "code",
      "source": [
        "list1 = ['cccc' , 'b', 'dd' , 'aaa']\n",
        "\n",
        "# ['b', 'dd', 'aaa', 'cccc']\n",
        "\n",
        "sorted(list1, key = lambda x:len(x))"
      ],
      "metadata": {
        "colab": {
          "base_uri": "https://localhost:8080/"
        },
        "id": "dY0ZcUpseABW",
        "outputId": "3d007aa3-53e7-4992-fdf9-bc639676eea5"
      },
      "execution_count": 20,
      "outputs": [
        {
          "output_type": "execute_result",
          "data": {
            "text/plain": [
              "['b', 'dd', 'aaa', 'cccc']"
            ]
          },
          "metadata": {},
          "execution_count": 20
        }
      ]
    },
    {
      "cell_type": "code",
      "source": [
        "# list1 = [[1,2],\n",
        "#  [2,0],\n",
        "#  [-1,5]]\n",
        "# sorted(list1, key = lambda x:x[1])\n"
      ],
      "metadata": {
        "id": "747E_Bg9fJrw"
      },
      "execution_count": 27,
      "outputs": []
    },
    {
      "cell_type": "code",
      "source": [
        "list1 = ['cccc' , 'b', 'a', 'dd' , 'aaa']\n",
        "\n",
        "list1 = sorted(list1) # sort on lexicography\n",
        "# ['b', 'dd', 'aaa', 'cccc']\n",
        "# print(list1)\n",
        "sorted(list1, key = lambda x:len(x))"
      ],
      "metadata": {
        "colab": {
          "base_uri": "https://localhost:8080/"
        },
        "id": "cH6rVcDyffOv",
        "outputId": "05a13d27-203b-45f5-f5e6-02a4f06bc930"
      },
      "execution_count": 31,
      "outputs": [
        {
          "output_type": "execute_result",
          "data": {
            "text/plain": [
              "['a', 'b', 'dd', 'aaa', 'cccc']"
            ]
          },
          "metadata": {},
          "execution_count": 31
        }
      ]
    },
    {
      "cell_type": "code",
      "source": [
        "# Note: In case 2 strings have the same length, they are sorted in ascending order of their lexicographic index.\n"
      ],
      "metadata": {
        "id": "H9hgbAUwf-cR"
      },
      "execution_count": null,
      "outputs": []
    },
    {
      "cell_type": "code",
      "source": [
        "list1 = [[1,2],\n",
        " [-1,6],\n",
        " [-1,5]]\n",
        "sorted(list1, key = lambda x:x[1])"
      ],
      "metadata": {
        "colab": {
          "base_uri": "https://localhost:8080/"
        },
        "id": "OzNsoTyVgvei",
        "outputId": "53591b3b-829b-4597-bb12-928970289bcc"
      },
      "execution_count": 32,
      "outputs": [
        {
          "output_type": "execute_result",
          "data": {
            "text/plain": [
              "[[1, 2], [-1, 5], [-1, 6]]"
            ]
          },
          "metadata": {},
          "execution_count": 32
        }
      ]
    },
    {
      "cell_type": "code",
      "source": [
        "list1 = [[-1,5] ,[1,2],[0,2]]\n",
        "list1 = sorted(list1, key = lambda x:x[1])\n",
        "sorted(list1, key = lambda x:x[0])"
      ],
      "metadata": {
        "colab": {
          "base_uri": "https://localhost:8080/"
        },
        "id": "tS8x4vucg18d",
        "outputId": "82e87f87-fe4a-480c-e12e-9a7312583391"
      },
      "execution_count": 38,
      "outputs": [
        {
          "output_type": "execute_result",
          "data": {
            "text/plain": [
              "[[-1, 5], [0, 2], [1, 2]]"
            ]
          },
          "metadata": {},
          "execution_count": 38
        }
      ]
    },
    {
      "cell_type": "code",
      "source": [
        "#if i want to get output like [[-1,5],[2,1],[0,2]]\n",
        "list1 = sorted(list1) # list1.sort( key = lambda x: len(x))\n"
      ],
      "metadata": {
        "id": "mWEFW4uDg_cs"
      },
      "execution_count": null,
      "outputs": []
    },
    {
      "cell_type": "code",
      "source": [
        "students = ['A', \"B\", \"C\",\"D\", \"E\"]\n",
        "scores = [1,2,3,1, 2]\n",
        "\n",
        "# [('A',1), (\"B\",2)...]\n",
        "\n",
        "output = []\n",
        "for i in range(len(students)):\n",
        "    print(i, students[i], scores[i])\n",
        "    output.append((students[i], scores[i]))\n",
        "output"
      ],
      "metadata": {
        "colab": {
          "base_uri": "https://localhost:8080/"
        },
        "id": "b-YQHr18jJfR",
        "outputId": "90d7ca49-067b-443d-971e-74678314c1d7"
      },
      "execution_count": 44,
      "outputs": [
        {
          "output_type": "stream",
          "name": "stdout",
          "text": [
            "0 A 1\n",
            "1 B 2\n",
            "2 C 3\n",
            "3 D 1\n",
            "4 E 2\n"
          ]
        },
        {
          "output_type": "execute_result",
          "data": {
            "text/plain": [
              "[('A', 1), ('B', 2), ('C', 3), ('D', 1), ('E', 2)]"
            ]
          },
          "metadata": {},
          "execution_count": 44
        }
      ]
    },
    {
      "cell_type": "code",
      "source": [
        "list(zip(students, scores))"
      ],
      "metadata": {
        "colab": {
          "base_uri": "https://localhost:8080/"
        },
        "id": "O9PGgyzKjzUY",
        "outputId": "4280f422-d626-4201-f01e-c50e0609f9e1"
      },
      "execution_count": 49,
      "outputs": [
        {
          "output_type": "execute_result",
          "data": {
            "text/plain": [
              "[('A', 1), ('B', 2), ('C', 3), ('D', 1), ('E', 2)]"
            ]
          },
          "metadata": {},
          "execution_count": 49
        }
      ]
    },
    {
      "cell_type": "code",
      "source": [
        "output1 = list(map(list, list(zip(students, scores))))\n",
        "output1"
      ],
      "metadata": {
        "colab": {
          "base_uri": "https://localhost:8080/"
        },
        "id": "Dmct8FKgki6V",
        "outputId": "afb5d290-be52-4b41-f0fd-891b18b90266"
      },
      "execution_count": 54,
      "outputs": [
        {
          "output_type": "execute_result",
          "data": {
            "text/plain": [
              "[['A', 1], ['B', 2], ['C', 3], ['D', 1], ['E', 2]]"
            ]
          },
          "metadata": {},
          "execution_count": 54
        }
      ]
    },
    {
      "cell_type": "code",
      "source": [
        "#list(map(lambda x,y:(x,y),students,scores))"
      ],
      "metadata": {
        "id": "v1FbCsBelGUn"
      },
      "execution_count": 53,
      "outputs": []
    },
    {
      "cell_type": "code",
      "source": [
        "#output1.sort(key = lambda x:x[1])"
      ],
      "metadata": {
        "id": "1KzDLjSKlRvQ"
      },
      "execution_count": 55,
      "outputs": []
    },
    {
      "cell_type": "code",
      "source": [
        "#output1"
      ],
      "metadata": {
        "colab": {
          "base_uri": "https://localhost:8080/"
        },
        "id": "nwU0SG2-lz2l",
        "outputId": "845c4471-8fa0-4ca4-eab3-d75a74bde7e6"
      },
      "execution_count": 56,
      "outputs": [
        {
          "output_type": "execute_result",
          "data": {
            "text/plain": [
              "[['A', 1], ['D', 1], ['B', 2], ['E', 2], ['C', 3]]"
            ]
          },
          "metadata": {},
          "execution_count": 56
        }
      ]
    },
    {
      "cell_type": "code",
      "source": [
        "output1"
      ],
      "metadata": {
        "colab": {
          "base_uri": "https://localhost:8080/"
        },
        "id": "4fSo9Rz0l06F",
        "outputId": "06140bc2-1699-4ccb-ac29-19cc6b142004"
      },
      "execution_count": 57,
      "outputs": [
        {
          "output_type": "execute_result",
          "data": {
            "text/plain": [
              "['E', 2]"
            ]
          },
          "metadata": {},
          "execution_count": 57
        }
      ]
    },
    {
      "cell_type": "code",
      "source": [
        "print({1,3,1,2})"
      ],
      "metadata": {
        "colab": {
          "base_uri": "https://localhost:8080/"
        },
        "id": "4zq6oe2ynkOW",
        "outputId": "937149b6-2a57-4083-e6fd-522e51e5e641"
      },
      "execution_count": 70,
      "outputs": [
        {
          "output_type": "stream",
          "name": "stdout",
          "text": [
            "{1, 2, 3}\n"
          ]
        }
      ]
    },
    {
      "cell_type": "code",
      "source": [
        "set1 = set()\n",
        "for i in output1:\n",
        "    set1.add(i[1])\n",
        "print(set1)"
      ],
      "metadata": {
        "colab": {
          "base_uri": "https://localhost:8080/"
        },
        "id": "ErV8hsA-nxCh",
        "outputId": "27da6c9e-15b7-47cb-91d1-3261b733dcc0"
      },
      "execution_count": 78,
      "outputs": [
        {
          "output_type": "stream",
          "name": "stdout",
          "text": [
            "{1, 2, 3}\n"
          ]
        }
      ]
    },
    {
      "cell_type": "code",
      "source": [
        "set1.add(1)"
      ],
      "metadata": {
        "id": "wbIj2uVYoLU3"
      },
      "execution_count": 75,
      "outputs": []
    },
    {
      "cell_type": "code",
      "source": [
        "set1 = {i[1] for i in output1} # comphrehension: list, tuples, dict and sets\n",
        "set1 "
      ],
      "metadata": {
        "colab": {
          "base_uri": "https://localhost:8080/"
        },
        "id": "bKlZT5qfl-Tn",
        "outputId": "42d88364-cdbe-4660-ae9b-f4c3b8dcfeac"
      },
      "execution_count": 59,
      "outputs": [
        {
          "output_type": "execute_result",
          "data": {
            "text/plain": [
              "{1, 2, 3}"
            ]
          },
          "metadata": {},
          "execution_count": 59
        }
      ]
    },
    {
      "cell_type": "code",
      "source": [
        "sec_high= sorted(list(set1))[-2] # second higest\n",
        "sec_low = sorted(list(set1))[1] # second lowest"
      ],
      "metadata": {
        "id": "IYjUXGICmP3p"
      },
      "execution_count": 80,
      "outputs": []
    },
    {
      "cell_type": "markdown",
      "source": [
        "- # from output list extract all names which have second highest/second lowest marks\n",
        "\n",
        "[['A', 1], ['B', 2], ['C', 3], ['D', 1], ['E', 2], ['F',3]"
      ],
      "metadata": {
        "id": "HgkSDpVCpCvh"
      }
    },
    {
      "cell_type": "code",
      "source": [],
      "metadata": {
        "id": "PT8LHpgRmVE9"
      },
      "execution_count": null,
      "outputs": []
    },
    {
      "cell_type": "code",
      "source": [
        "output = sorted([['A', 1], ['B', 2], ['C', 3], ['D', 1], ['E', 2], ['F',3]], key = lambda x : x[1])\n",
        "output"
      ],
      "metadata": {
        "colab": {
          "base_uri": "https://localhost:8080/"
        },
        "id": "5TeToSPkmzmw",
        "outputId": "9e0d4295-3391-4b02-e866-f8611d346992"
      },
      "execution_count": 68,
      "outputs": [
        {
          "output_type": "execute_result",
          "data": {
            "text/plain": [
              "[['A', 1], ['D', 1], ['B', 2], ['E', 2], ['C', 3], ['F', 3]]"
            ]
          },
          "metadata": {},
          "execution_count": 68
        }
      ]
    },
    {
      "cell_type": "code",
      "source": [
        "# second lower\n",
        "output[1]"
      ],
      "metadata": {
        "colab": {
          "base_uri": "https://localhost:8080/"
        },
        "id": "FZ-6RXrOm5eX",
        "outputId": "a5f09f81-df9e-4258-f71e-08da1a87cfb3"
      },
      "execution_count": 67,
      "outputs": [
        {
          "output_type": "execute_result",
          "data": {
            "text/plain": [
              "['D', 1]"
            ]
          },
          "metadata": {},
          "execution_count": 67
        }
      ]
    },
    {
      "cell_type": "code",
      "source": [],
      "metadata": {
        "id": "ePaFu0M9nEAo"
      },
      "execution_count": null,
      "outputs": []
    },
    {
      "cell_type": "code",
      "source": [
        "names = [\"Adam\",\"Millie\",\"Jacob\",\"Michael\",\"Maxine\"] \n",
        "loc = [(1,2),(5,4),(0,3),(2,3),(0,0)]\n",
        "\n",
        "\n",
        "# start_break : calculate distance between all pairs of friends: Using Manhattan dist\n",
        "# 10:22\n",
        "\n"
      ],
      "metadata": {
        "id": "3O-R0XeQpw20"
      },
      "execution_count": 82,
      "outputs": []
    },
    {
      "cell_type": "code",
      "source": [
        "for i in range(len(names)):\n",
        "    for j in range(i+1, len(names)):\n",
        "        #dist = abs(loc[i])    \n",
        "        # print(loc[i]) # position of i \n",
        "        # print(loc[j]) # position of i \n",
        "\n",
        "        dist = abs(loc[i][0]-loc[j][0]) + abs(loc[i][1]-loc[j][1])\n",
        "        \n",
        "        print(names[i],names[j] , dist)"
      ],
      "metadata": {
        "colab": {
          "base_uri": "https://localhost:8080/"
        },
        "id": "KrUXnNDBsFy-",
        "outputId": "dcec0c21-9896-4df3-b1fc-f0821726570e"
      },
      "execution_count": 87,
      "outputs": [
        {
          "output_type": "stream",
          "name": "stdout",
          "text": [
            "Adam Millie 6\n",
            "Adam Jacob 2\n",
            "Adam Michael 2\n",
            "Adam Maxine 3\n",
            "Millie Jacob 6\n",
            "Millie Michael 4\n",
            "Millie Maxine 9\n",
            "Jacob Michael 2\n",
            "Jacob Maxine 3\n",
            "Michael Maxine 5\n"
          ]
        }
      ]
    },
    {
      "cell_type": "code",
      "source": [
        "# for i in range(len(names)):\n",
        "#     for j in range( len(names)):\n",
        "#         print(names[i],names[j] )"
      ],
      "metadata": {
        "colab": {
          "base_uri": "https://localhost:8080/"
        },
        "id": "APEc6Qhmsanc",
        "outputId": "ff70bdbf-e3a6-436a-8bf2-a4446515faab"
      },
      "execution_count": 84,
      "outputs": [
        {
          "output_type": "stream",
          "name": "stdout",
          "text": [
            "Adam Adam\n",
            "Adam Millie\n",
            "Adam Jacob\n",
            "Adam Michael\n",
            "Adam Maxine\n",
            "Millie Adam\n",
            "Millie Millie\n",
            "Millie Jacob\n",
            "Millie Michael\n",
            "Millie Maxine\n",
            "Jacob Adam\n",
            "Jacob Millie\n",
            "Jacob Jacob\n",
            "Jacob Michael\n",
            "Jacob Maxine\n",
            "Michael Adam\n",
            "Michael Millie\n",
            "Michael Jacob\n",
            "Michael Michael\n",
            "Michael Maxine\n",
            "Maxine Adam\n",
            "Maxine Millie\n",
            "Maxine Jacob\n",
            "Maxine Michael\n",
            "Maxine Maxine\n"
          ]
        }
      ]
    },
    {
      "cell_type": "code",
      "source": [
        "output = []\n",
        "for i in range(len(names)):\n",
        "    for j in range(i+1, len(names)):\n",
        "        #dist = abs(loc[i])    \n",
        "        # print(loc[i]) # position of i \n",
        "        # print(loc[j]) # position of i \n",
        "\n",
        "        dist = abs(loc[i][0]-loc[j][0]) + abs(loc[i][1]-loc[j][1])\n",
        "        \n",
        "        output.append((names[i],names[j] , dist))\n",
        "        "
      ],
      "metadata": {
        "id": "uuv372ytslLZ"
      },
      "execution_count": 88,
      "outputs": []
    },
    {
      "cell_type": "code",
      "source": [
        "output = sorted(output, key = lambda x:x[2])\n",
        "output[0][0], output[0][1]"
      ],
      "metadata": {
        "colab": {
          "base_uri": "https://localhost:8080/"
        },
        "id": "vh08vHRDuVvu",
        "outputId": "ada06cd1-fbc4-423a-9683-257f813a63e5"
      },
      "execution_count": 93,
      "outputs": [
        {
          "output_type": "execute_result",
          "data": {
            "text/plain": [
              "('Adam', 'Jacob')"
            ]
          },
          "metadata": {},
          "execution_count": 93
        }
      ]
    },
    {
      "cell_type": "code",
      "source": [
        "output = sorted(output, key = lambda x:x[2]) #nlogn\n"
      ],
      "metadata": {
        "id": "ScwMlo15uWr4"
      },
      "execution_count": null,
      "outputs": []
    },
    {
      "cell_type": "code",
      "source": [
        "min_dist = float('inf') # 99999999999999999 # float('-inf') if you have to calc max value\n",
        "\n",
        "# calcutate min number from a list of no [ 2,3,4,-1,100]  min_val = -1\n",
        "\n",
        "for i in range(len(names)):\n",
        "    for j in range(i+1, len(names)): \n",
        "        dist = abs(loc[i][0]-loc[j][0]) + abs(loc[i][1]-loc[j][1])\n",
        "        if dist<min_dist:\n",
        "            min_dist = dist\n",
        "        \n",
        "print(min_dist) # O(n)"
      ],
      "metadata": {
        "colab": {
          "base_uri": "https://localhost:8080/"
        },
        "id": "A_5be2qvvCmr",
        "outputId": "673f9182-6d75-42ff-9603-8da18ce34a7a"
      },
      "execution_count": 95,
      "outputs": [
        {
          "output_type": "stream",
          "name": "stdout",
          "text": [
            "2\n"
          ]
        }
      ]
    },
    {
      "cell_type": "code",
      "source": [
        "\n",
        "for i in range(len(names)):\n",
        "    for j in range(i+1, len(names)): \n",
        "        dist = abs(loc[i][0]-loc[j][0]) + abs(loc[i][1]-loc[j][1])\n",
        "        if min_dist==dist: \n",
        "            print(names[i],names[j])"
      ],
      "metadata": {
        "colab": {
          "base_uri": "https://localhost:8080/"
        },
        "id": "Tk1qF7ZIvXQQ",
        "outputId": "1320fdc5-f6b4-402e-c708-f418d6674f06"
      },
      "execution_count": 97,
      "outputs": [
        {
          "output_type": "stream",
          "name": "stdout",
          "text": [
            "Adam Jacob\n",
            "Adam Michael\n",
            "Jacob Michael\n"
          ]
        }
      ]
    },
    {
      "cell_type": "code",
      "source": [
        "O(n^2) + (N^2) = 2*O(N^2)---> O(n^2) -> without sorting,  Space: O(1)"
      ],
      "metadata": {
        "id": "5pVhYWq6v3bV"
      },
      "execution_count": null,
      "outputs": []
    },
    {
      "cell_type": "code",
      "source": [
        "O(n^2*nLog(n)) --> O(n^2) +nlog(N) + O(n^2) - sorting : Space Comlexity 3O(n)"
      ],
      "metadata": {
        "id": "AornsXYAwJGq"
      },
      "execution_count": null,
      "outputs": []
    },
    {
      "cell_type": "code",
      "source": [
        "def display():\n",
        "        print('Hello', end=\" \")\n",
        "\n",
        "print(display())"
      ],
      "metadata": {
        "colab": {
          "base_uri": "https://localhost:8080/"
        },
        "id": "cAMaiB5S0xHc",
        "outputId": "a863f3c2-2e11-4d73-f9d4-cd71a80e2287"
      },
      "execution_count": 98,
      "outputs": [
        {
          "output_type": "stream",
          "name": "stdout",
          "text": [
            "Hello None\n"
          ]
        }
      ]
    },
    {
      "cell_type": "code",
      "source": [
        "a = display()"
      ],
      "metadata": {
        "colab": {
          "base_uri": "https://localhost:8080/"
        },
        "id": "cTSg7ILZ056g",
        "outputId": "3b38fad7-a40c-4e55-b779-013cbc074534"
      },
      "execution_count": 100,
      "outputs": [
        {
          "output_type": "stream",
          "name": "stdout",
          "text": [
            "Hello "
          ]
        }
      ]
    },
    {
      "cell_type": "code",
      "source": [
        "print(a)"
      ],
      "metadata": {
        "colab": {
          "base_uri": "https://localhost:8080/"
        },
        "id": "vheUsOU508jg",
        "outputId": "b710a2a8-1a78-4af8-d3db-983f1f36f0d0"
      },
      "execution_count": 101,
      "outputs": [
        {
          "output_type": "stream",
          "name": "stdout",
          "text": [
            "None\n"
          ]
        }
      ]
    },
    {
      "cell_type": "code",
      "source": [
        "sets = [4,5,6]"
      ],
      "metadata": {
        "id": "_tVSDLUN0-ag"
      },
      "execution_count": 103,
      "outputs": []
    },
    {
      "cell_type": "code",
      "source": [
        "(lambda x: ((x**3)%2==0,x**3))(4)"
      ],
      "metadata": {
        "colab": {
          "base_uri": "https://localhost:8080/"
        },
        "id": "2E2XcFlT13do",
        "outputId": "b0bb88f7-796a-4798-b2c7-bef651610574"
      },
      "execution_count": 104,
      "outputs": [
        {
          "output_type": "execute_result",
          "data": {
            "text/plain": [
              "(True, 64)"
            ]
          },
          "metadata": {},
          "execution_count": 104
        }
      ]
    },
    {
      "cell_type": "code",
      "source": [
        "# self\n",
        "\n",
        "\n",
        "class A:\n",
        "    def method1(self):\n",
        "        print(self.id)\n",
        "\n",
        "a = A()\n",
        "a.id = 10\n",
        "print(a)"
      ],
      "metadata": {
        "colab": {
          "base_uri": "https://localhost:8080/"
        },
        "id": "J_iBQv_y2UDF",
        "outputId": "1badd06f-513c-4aa2-aded-47fc0a6651b3"
      },
      "execution_count": 108,
      "outputs": [
        {
          "output_type": "stream",
          "name": "stdout",
          "text": [
            "<__main__.A object at 0x7f6aaee00a60>\n"
          ]
        }
      ]
    },
    {
      "cell_type": "code",
      "source": [
        "a.method1()"
      ],
      "metadata": {
        "colab": {
          "base_uri": "https://localhost:8080/"
        },
        "id": "uaBIcjKJ2oRt",
        "outputId": "66ba1a99-539b-4fea-9da1-3bcf0d7283d8"
      },
      "execution_count": 109,
      "outputs": [
        {
          "output_type": "stream",
          "name": "stdout",
          "text": [
            "10\n"
          ]
        }
      ]
    },
    {
      "cell_type": "code",
      "source": [
        "b = A()\n",
        "b.id = 20\n",
        "b.method1()"
      ],
      "metadata": {
        "colab": {
          "base_uri": "https://localhost:8080/"
        },
        "id": "wK8xaw762vea",
        "outputId": "a1518913-99bf-44e6-a34c-e794b61ce8de"
      },
      "execution_count": 111,
      "outputs": [
        {
          "output_type": "stream",
          "name": "stdout",
          "text": [
            "20\n"
          ]
        }
      ]
    },
    {
      "cell_type": "code",
      "source": [
        "def factorial(n):\n",
        "    if n==1:\n",
        "        return 1\n",
        "    return n*factorial(n-1)\n",
        "\n",
        "factorial(5)"
      ],
      "metadata": {
        "colab": {
          "base_uri": "https://localhost:8080/"
        },
        "id": "bS7pGrCC23hJ",
        "outputId": "9a3c0eb6-e2b4-4634-e9ee-5a122dfee224"
      },
      "execution_count": 113,
      "outputs": [
        {
          "output_type": "execute_result",
          "data": {
            "text/plain": [
              "120"
            ]
          },
          "metadata": {},
          "execution_count": 113
        }
      ]
    },
    {
      "cell_type": "code",
      "source": [
        "fact_lambda = lambda x: x*fact_lambda(x-1) if x!=1 else 1"
      ],
      "metadata": {
        "id": "09EP7VyW3uej"
      },
      "execution_count": 114,
      "outputs": []
    },
    {
      "cell_type": "code",
      "source": [
        "fact_lambda(5)"
      ],
      "metadata": {
        "colab": {
          "base_uri": "https://localhost:8080/"
        },
        "id": "m4pKYo3q379G",
        "outputId": "b05bf905-3574-406a-cbec-c3735b93a4f9"
      },
      "execution_count": 115,
      "outputs": [
        {
          "output_type": "execute_result",
          "data": {
            "text/plain": [
              "120"
            ]
          },
          "metadata": {},
          "execution_count": 115
        }
      ]
    },
    {
      "cell_type": "code",
      "source": [
        "# public private and protected\n",
        "\n",
        "class A:\n",
        "    __var = 1  # private\n",
        "    var2 = 2 # public\n",
        "    _var3 = 3 # protected\n",
        "\n",
        "print(A.var2)"
      ],
      "metadata": {
        "colab": {
          "base_uri": "https://localhost:8080/"
        },
        "id": "DViwENlc39Ox",
        "outputId": "a09296b4-3b31-429b-bf44-ee87bebef15a"
      },
      "execution_count": 121,
      "outputs": [
        {
          "output_type": "stream",
          "name": "stdout",
          "text": [
            "2\n"
          ]
        }
      ]
    },
    {
      "cell_type": "code",
      "source": [
        "print(A.__var)"
      ],
      "metadata": {
        "colab": {
          "base_uri": "https://localhost:8080/",
          "height": 167
        },
        "id": "UgmVJBRG4jc3",
        "outputId": "c66948ac-1017-4a8c-ff1e-6fd4402d35c2"
      },
      "execution_count": 122,
      "outputs": [
        {
          "output_type": "error",
          "ename": "AttributeError",
          "evalue": "ignored",
          "traceback": [
            "\u001b[0;31m---------------------------------------------------------------------------\u001b[0m",
            "\u001b[0;31mAttributeError\u001b[0m                            Traceback (most recent call last)",
            "\u001b[0;32m<ipython-input-122-c00fa7fc927c>\u001b[0m in \u001b[0;36m<module>\u001b[0;34m\u001b[0m\n\u001b[0;32m----> 1\u001b[0;31m \u001b[0mprint\u001b[0m\u001b[0;34m(\u001b[0m\u001b[0mA\u001b[0m\u001b[0;34m.\u001b[0m\u001b[0m__var\u001b[0m\u001b[0;34m)\u001b[0m\u001b[0;34m\u001b[0m\u001b[0;34m\u001b[0m\u001b[0m\n\u001b[0m",
            "\u001b[0;31mAttributeError\u001b[0m: type object 'A' has no attribute '__var'"
          ]
        }
      ]
    },
    {
      "cell_type": "code",
      "source": [
        "print(A.var)"
      ],
      "metadata": {
        "id": "BvibK5a54nay"
      },
      "execution_count": null,
      "outputs": []
    },
    {
      "cell_type": "code",
      "source": [
        "print(A._var3)"
      ],
      "metadata": {
        "colab": {
          "base_uri": "https://localhost:8080/"
        },
        "id": "_RcKBnIi4p7-",
        "outputId": "bed360fb-daea-435c-af7a-410398632306"
      },
      "execution_count": 123,
      "outputs": [
        {
          "output_type": "stream",
          "name": "stdout",
          "text": [
            "3\n"
          ]
        }
      ]
    },
    {
      "cell_type": "code",
      "source": [
        "class A:\n",
        "    __var = 1  # private\n",
        "    var2 = 2 # public\n",
        "    _var3 = 3 # protected\n",
        "\n",
        "    def print_pvt(self):\n",
        "        print(self.__var)\n",
        "\n",
        "class B(A):\n",
        "    def print_pvt(self):\n",
        "        print(self.__var)\n",
        "    def print_public(self):\n",
        "        print(self.var2)\n",
        "    def print_protecte(self):\n",
        "        print(self._var3)"
      ],
      "metadata": {
        "id": "f8Qj5EVO4xaH"
      },
      "execution_count": 137,
      "outputs": []
    },
    {
      "cell_type": "code",
      "source": [
        "a = A()\n",
        "a.print_pvt()"
      ],
      "metadata": {
        "colab": {
          "base_uri": "https://localhost:8080/"
        },
        "id": "jSyhoNyj57rG",
        "outputId": "f5956527-c2e8-45b1-c47c-57b57085432b"
      },
      "execution_count": 138,
      "outputs": [
        {
          "output_type": "stream",
          "name": "stdout",
          "text": [
            "1\n"
          ]
        }
      ]
    },
    {
      "cell_type": "code",
      "source": [
        "B.var2 # public"
      ],
      "metadata": {
        "colab": {
          "base_uri": "https://localhost:8080/"
        },
        "id": "9rmQ75Do5Amg",
        "outputId": "c6ba7804-9681-47b9-e2ed-3f77f9284b01"
      },
      "execution_count": 131,
      "outputs": [
        {
          "output_type": "execute_result",
          "data": {
            "text/plain": [
              "2"
            ]
          },
          "metadata": {},
          "execution_count": 131
        }
      ]
    },
    {
      "cell_type": "code",
      "source": [
        "b = B()\n",
        "b.print_public()"
      ],
      "metadata": {
        "colab": {
          "base_uri": "https://localhost:8080/"
        },
        "id": "dss2vGir5WSf",
        "outputId": "8e2d8926-3b78-4aba-f915-1c8ee4d3b05b"
      },
      "execution_count": 132,
      "outputs": [
        {
          "output_type": "stream",
          "name": "stdout",
          "text": [
            "2\n"
          ]
        }
      ]
    },
    {
      "cell_type": "code",
      "source": [
        "B.__var # inhertited private"
      ],
      "metadata": {
        "colab": {
          "base_uri": "https://localhost:8080/",
          "height": 167
        },
        "id": "gqZ9jsHw5D6C",
        "outputId": "ab4d73fc-b2c9-4235-bbd9-ce5a29191d2d"
      },
      "execution_count": 134,
      "outputs": [
        {
          "output_type": "error",
          "ename": "AttributeError",
          "evalue": "ignored",
          "traceback": [
            "\u001b[0;31m---------------------------------------------------------------------------\u001b[0m",
            "\u001b[0;31mAttributeError\u001b[0m                            Traceback (most recent call last)",
            "\u001b[0;32m<ipython-input-134-1fc12e0f947a>\u001b[0m in \u001b[0;36m<module>\u001b[0;34m\u001b[0m\n\u001b[0;32m----> 1\u001b[0;31m \u001b[0mB\u001b[0m\u001b[0;34m.\u001b[0m\u001b[0m__var\u001b[0m \u001b[0;31m# inhertited private\u001b[0m\u001b[0;34m\u001b[0m\u001b[0;34m\u001b[0m\u001b[0m\n\u001b[0m",
            "\u001b[0;31mAttributeError\u001b[0m: type object 'B' has no attribute '__var'"
          ]
        }
      ]
    },
    {
      "cell_type": "code",
      "source": [
        "b.print_pvt() # privates vars are not inherited"
      ],
      "metadata": {
        "colab": {
          "base_uri": "https://localhost:8080/",
          "height": 288
        },
        "id": "A0ipfOWG5GMF",
        "outputId": "a9d2bc55-9553-4829-efe6-678761f2c4ba"
      },
      "execution_count": 136,
      "outputs": [
        {
          "output_type": "error",
          "ename": "AttributeError",
          "evalue": "ignored",
          "traceback": [
            "\u001b[0;31m---------------------------------------------------------------------------\u001b[0m",
            "\u001b[0;31mAttributeError\u001b[0m                            Traceback (most recent call last)",
            "\u001b[0;32m<ipython-input-136-49e6ac237ae4>\u001b[0m in \u001b[0;36m<module>\u001b[0;34m\u001b[0m\n\u001b[0;32m----> 1\u001b[0;31m \u001b[0mb\u001b[0m\u001b[0;34m.\u001b[0m\u001b[0mprint_pvt\u001b[0m\u001b[0;34m(\u001b[0m\u001b[0;34m)\u001b[0m\u001b[0;34m\u001b[0m\u001b[0;34m\u001b[0m\u001b[0m\n\u001b[0m",
            "\u001b[0;32m<ipython-input-130-3a8028899740>\u001b[0m in \u001b[0;36mprint_pvt\u001b[0;34m(self)\u001b[0m\n\u001b[1;32m      9\u001b[0m \u001b[0;34m\u001b[0m\u001b[0m\n\u001b[1;32m     10\u001b[0m     \u001b[0;32mdef\u001b[0m \u001b[0mprint_pvt\u001b[0m\u001b[0;34m(\u001b[0m\u001b[0mself\u001b[0m\u001b[0;34m)\u001b[0m\u001b[0;34m:\u001b[0m\u001b[0;34m\u001b[0m\u001b[0;34m\u001b[0m\u001b[0m\n\u001b[0;32m---> 11\u001b[0;31m         \u001b[0mprint\u001b[0m\u001b[0;34m(\u001b[0m\u001b[0mself\u001b[0m\u001b[0;34m.\u001b[0m\u001b[0m__var\u001b[0m\u001b[0;34m)\u001b[0m\u001b[0;34m\u001b[0m\u001b[0;34m\u001b[0m\u001b[0m\n\u001b[0m\u001b[1;32m     12\u001b[0m \u001b[0;34m\u001b[0m\u001b[0m\n\u001b[1;32m     13\u001b[0m     \u001b[0;32mdef\u001b[0m \u001b[0mprint_public\u001b[0m\u001b[0;34m(\u001b[0m\u001b[0mself\u001b[0m\u001b[0;34m)\u001b[0m\u001b[0;34m:\u001b[0m\u001b[0;34m\u001b[0m\u001b[0;34m\u001b[0m\u001b[0m\n",
            "\u001b[0;31mAttributeError\u001b[0m: 'B' object has no attribute '_B__var'"
          ]
        }
      ]
    },
    {
      "cell_type": "code",
      "source": [
        "b._var3 # inherited protected"
      ],
      "metadata": {
        "colab": {
          "base_uri": "https://localhost:8080/"
        },
        "id": "dP3ZkIXL6MlF",
        "outputId": "04e130eb-e5c3-4290-b5a0-858140849bd5"
      },
      "execution_count": 139,
      "outputs": [
        {
          "output_type": "execute_result",
          "data": {
            "text/plain": [
              "3"
            ]
          },
          "metadata": {},
          "execution_count": 139
        }
      ]
    },
    {
      "cell_type": "code",
      "source": [
        "b.print_protecte() # protected vars "
      ],
      "metadata": {
        "colab": {
          "base_uri": "https://localhost:8080/"
        },
        "id": "MQr4-q305som",
        "outputId": "2cca0027-99cf-4a62-976c-1159ff3b398b"
      },
      "execution_count": 140,
      "outputs": [
        {
          "output_type": "stream",
          "name": "stdout",
          "text": [
            "3\n"
          ]
        }
      ]
    },
    {
      "cell_type": "code",
      "source": [],
      "metadata": {
        "id": "dwy2qgMG6Sha"
      },
      "execution_count": null,
      "outputs": []
    },
    {
      "cell_type": "markdown",
      "source": [
        "- Public vars can be accessed anywhere and inherited\n",
        "- private vars can be accessed only inside the class it belongs to and Not inherited"
      ],
      "metadata": {
        "id": "GTqU3_7Z6iQm"
      }
    },
    {
      "cell_type": "code",
      "source": [],
      "metadata": {
        "id": "T9cfgq-f6ryb"
      },
      "execution_count": null,
      "outputs": []
    }
  ]
}