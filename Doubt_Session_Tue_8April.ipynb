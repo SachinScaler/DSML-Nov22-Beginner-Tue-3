{
  "nbformat": 4,
  "nbformat_minor": 0,
  "metadata": {
    "colab": {
      "provenance": [],
      "authorship_tag": "ABX9TyMWaUEWBO8msVgoUMmLT3e6",
      "include_colab_link": true
    },
    "kernelspec": {
      "name": "python3",
      "display_name": "Python 3"
    },
    "language_info": {
      "name": "python"
    }
  },
  "cells": [
    {
      "cell_type": "markdown",
      "metadata": {
        "id": "view-in-github",
        "colab_type": "text"
      },
      "source": [
        "<a href=\"https://colab.research.google.com/github/SachinScaler/DSML-Nov22-Beginner-Tue-3/blob/main/Doubt_Session_Tue_8April.ipynb\" target=\"_parent\"><img src=\"https://colab.research.google.com/assets/colab-badge.svg\" alt=\"Open In Colab\"/></a>"
      ]
    },
    {
      "cell_type": "code",
      "execution_count": 2,
      "metadata": {
        "colab": {
          "base_uri": "https://localhost:8080/"
        },
        "id": "EBT9Hjd0e2Ek",
        "outputId": "8da854a2-6bfc-4c44-b715-86adf7726dd2"
      },
      "outputs": [
        {
          "output_type": "stream",
          "name": "stdout",
          "text": [
            "test of child1 called, test of child2 called, "
          ]
        }
      ],
      "source": [
        "class Parent:\n",
        "    def test(self):\n",
        "        print(\"test of parent called\", end=\", \")\n",
        "class Child1(Parent):\n",
        "    def test(self):\n",
        "        print(\"test of child1 called\", end=\", \")\n",
        "        super().test() \n",
        "        \n",
        "class Child2(Parent):\n",
        "    def test(self):\n",
        "        print(\"test of child2 called\", end=\", \") \n",
        "        \n",
        "class Brother(Child1,Child2):\n",
        "    def test2(self):\n",
        "        print(\"test of Brother called\", end=\", \" ) \n",
        "        \n",
        "obj= Brother()\n",
        "obj.test()"
      ]
    },
    {
      "cell_type": "code",
      "source": [
        "ef min_value(a,b,c,ll,ul):\n",
        "# a,b,c -> Integers. Coefficients of quadratic equation ax^2 + bx + c = 0\n",
        "# ll -> Integer. Lower limit of variable x\n",
        "# ul -> Integer. Upper Limit of variable x\n",
        "# return the Integer value of x for which the quadratic equation attains minimum value ans = None # code starts def f(x): res = a*x**2 + b*x + c return res min_val = 1000000000 for x in range(ll,ul+1): v = f(x) if v < min_val: min_val = v ans = x "
      ],
      "metadata": {
        "colab": {
          "base_uri": "https://localhost:8080/",
          "height": 132
        },
        "id": "RoX-Q7PShG-E",
        "outputId": "64fb59a9-70fa-47ca-bc62-c88358bb03aa"
      },
      "execution_count": 3,
      "outputs": [
        {
          "output_type": "error",
          "ename": "SyntaxError",
          "evalue": "ignored",
          "traceback": [
            "\u001b[0;36m  File \u001b[0;32m\"<ipython-input-3-a45cca9ee80e>\"\u001b[0;36m, line \u001b[0;32m1\u001b[0m\n\u001b[0;31m    ef min_value(a,b,c,ll,ul):\u001b[0m\n\u001b[0m       ^\u001b[0m\n\u001b[0;31mSyntaxError\u001b[0m\u001b[0;31m:\u001b[0m invalid syntax\n"
          ]
        }
      ]
    },
    {
      "cell_type": "code",
      "source": [
        "# Can you explain this assignment ques: \n",
        "\n",
        "array = [ [1, [ [ 2 ] ], [ [ [ 3 ] ] ], [ [ 4 ], 5 ] ]]\n",
        "result = lambda x: sum(map(result, x), [ ] ) if isinstance(x, list) else [x]\n",
        "print(result(array))"
      ],
      "metadata": {
        "id": "c-KEq5QijUqB"
      },
      "execution_count": null,
      "outputs": []
    },
    {
      "cell_type": "code",
      "source": [
        "sum([2])"
      ],
      "metadata": {
        "id": "Soyfh4Y4jaM-"
      },
      "execution_count": null,
      "outputs": []
    },
    {
      "cell_type": "code",
      "source": [
        "def result(list1):\n",
        "    list1 = []\n",
        "    for i in list1:\n",
        "        if isinstance(i, list):\n",
        "            result(list1)\n",
        "        else:\n",
        "            list1.append(i)\n"
      ],
      "metadata": {
        "id": "ubFff0NejuNT"
      },
      "execution_count": null,
      "outputs": []
    },
    {
      "cell_type": "code",
      "source": [
        "# no inbuilt function"
      ],
      "metadata": {
        "id": "SsdWm1RnkEk2"
      },
      "execution_count": null,
      "outputs": []
    },
    {
      "cell_type": "code",
      "source": [
        "def checkprime(x, ):\n",
        "    if x<2:\n",
        "        return True\n",
        "    for i in range(2,x):\n",
        "        if x%i==0:\n",
        "            return False\n",
        "    else:\n",
        "        return True\n",
        "\n",
        "checkprime(0)      "
      ],
      "metadata": {
        "id": "4UiofugGoCGy"
      },
      "execution_count": null,
      "outputs": []
    },
    {
      "cell_type": "code",
      "source": [
        "is_prime = lambda x: x%i  for i in range(2,x) if x"
      ],
      "metadata": {
        "id": "wX7FZVewoNUb"
      },
      "execution_count": null,
      "outputs": []
    },
    {
      "cell_type": "code",
      "source": [
        "lambda x:x*i "
      ],
      "metadata": {
        "id": "zA-8F1ezozQZ"
      },
      "execution_count": null,
      "outputs": []
    },
    {
      "cell_type": "code",
      "source": [
        "def checkprime(x,i=2 ): # TC O(N) and SC = O(N)\n",
        "    if x<2:\n",
        "        return True\n",
        "    if i==x:\n",
        "        return True\n",
        "    if x%i==0:\n",
        "        return False\n",
        "    else:    \n",
        "        return checkprime(x,i+1)\n",
        "\n",
        "checkprime(5)"
      ],
      "metadata": {
        "id": "AzbKJS3To3Oj"
      },
      "execution_count": null,
      "outputs": []
    },
    {
      "cell_type": "code",
      "source": [
        "check_p = lambda x,y=2: True if x <2 else True if y==x else False if x%y==0 else  check_p(x,y+1)"
      ],
      "metadata": {
        "id": "nc0aEYrFpR9g"
      },
      "execution_count": null,
      "outputs": []
    },
    {
      "cell_type": "code",
      "source": [
        "check_p(4,3)"
      ],
      "metadata": {
        "id": "hGQl6zRcp0_3"
      },
      "execution_count": null,
      "outputs": []
    },
    {
      "cell_type": "code",
      "source": [
        "check_p(5)"
      ],
      "metadata": {
        "id": "eXKXfmjLp4HO"
      },
      "execution_count": null,
      "outputs": []
    },
    {
      "cell_type": "code",
      "source": [
        "def sim_finct(x,y =2):\n",
        "    print(x,y)\n",
        "\n",
        "sim_finct(3)"
      ],
      "metadata": {
        "id": "1SgLKR8Tp8sT"
      },
      "execution_count": null,
      "outputs": []
    },
    {
      "cell_type": "code",
      "source": [
        "sim_finct(3, 4)"
      ],
      "metadata": {
        "id": "_NZMgS-tqn2x"
      },
      "execution_count": null,
      "outputs": []
    },
    {
      "cell_type": "code",
      "source": [
        "# subset\n",
        "\n",
        "[1,2,3]\n"
      ],
      "metadata": {
        "id": "xFgbKADGqr43"
      },
      "execution_count": null,
      "outputs": []
    },
    {
      "cell_type": "code",
      "source": [
        "[[], [1], [2], [3], [1,2], [1,3], [2,3], [1,2,3]]"
      ],
      "metadata": {
        "id": "_x4VY2vjrRcn"
      },
      "execution_count": null,
      "outputs": []
    },
    {
      "cell_type": "code",
      "source": [
        "def get_subset(list1, curr_subset=[]):\n",
        "    if len(list1)==0:\n",
        "        print(curr_subset)\n",
        "        return\n",
        "    get_subset(list1[1:],curr_subset+[list1[0]])  # include first element in subset       \n",
        "    get_subset(list1[1:],curr_subset)              # exclude first element from subset\n",
        "\n",
        "list1 = [1,2,3]\n",
        "get_subset(list1)"
      ],
      "metadata": {
        "id": "EznRJMNPrenN"
      },
      "execution_count": null,
      "outputs": []
    },
    {
      "cell_type": "code",
      "source": [
        "def get_subset(list1, curr_subset=[], output= []):\n",
        "    if len(list1)==0:\n",
        "        output.append(curr_subset)\n",
        "        return\n",
        "    get_subset(list1[1:],curr_subset+[list1[0]])  # include first element in subset       \n",
        "    get_subset(list1[1:],curr_subset)             # exclude first element from subset\n",
        "    return output\n",
        "\n",
        "list1 = [1,2,3]\n",
        "get_subset(list1)"
      ],
      "metadata": {
        "colab": {
          "base_uri": "https://localhost:8080/"
        },
        "id": "h6GbjuL4trXB",
        "outputId": "25fdfd12-f26a-47df-99cc-52431ed5228b"
      },
      "execution_count": 4,
      "outputs": [
        {
          "output_type": "execute_result",
          "data": {
            "text/plain": [
              "[[1, 2, 3], [1, 2], [1, 3], [1], [2, 3], [2], [3], []]"
            ]
          },
          "metadata": {},
          "execution_count": 4
        }
      ]
    },
    {
      "cell_type": "code",
      "source": [
        "# 10:18\n",
        "\n",
        "def reverse_num(num, output = \"\"):\n",
        "    num = str(num)\n",
        "    if num==\"\":\n",
        "        return output\n",
        "\n",
        "    return reverse_num(num[1:],num[0]+ output) # num[1:] --> num//10 , num[0] --> % num%10\n",
        "    # you can take last digit and add it in the back\n",
        "\n",
        "reverse_num(123)"
      ],
      "metadata": {
        "colab": {
          "base_uri": "https://localhost:8080/",
          "height": 35
        },
        "id": "xm1tKG4XvdXv",
        "outputId": "d04e8afc-a230-4b0c-be4c-330bf6417eb2"
      },
      "execution_count": 5,
      "outputs": [
        {
          "output_type": "execute_result",
          "data": {
            "text/plain": [
              "'321'"
            ],
            "application/vnd.google.colaboratory.intrinsic+json": {
              "type": "string"
            }
          },
          "metadata": {},
          "execution_count": 5
        }
      ]
    },
    {
      "cell_type": "code",
      "source": [
        "output = \"ABC\""
      ],
      "metadata": {
        "id": "txMHPmcUykRA"
      },
      "execution_count": 6,
      "outputs": []
    },
    {
      "cell_type": "code",
      "source": [
        "\"D\" + output"
      ],
      "metadata": {
        "colab": {
          "base_uri": "https://localhost:8080/",
          "height": 35
        },
        "id": "kN2AyDVyzLcS",
        "outputId": "857463ab-2c02-49eb-b781-3b6b573c70fd"
      },
      "execution_count": 7,
      "outputs": [
        {
          "output_type": "execute_result",
          "data": {
            "text/plain": [
              "'DABC'"
            ],
            "application/vnd.google.colaboratory.intrinsic+json": {
              "type": "string"
            }
          },
          "metadata": {},
          "execution_count": 7
        }
      ]
    },
    {
      "cell_type": "code",
      "source": [
        "class Vehicle:\n",
        "    country = \"India\"\n",
        "    def __init__(self,name, model, rno):\n",
        "        self.name = name \n",
        "        self.model = model\n",
        "        self.__registration = rno\n",
        "\n",
        "    def update_rgo(self,new_r):\n",
        "        self.__registration = new_r\n",
        "\n",
        "\n",
        "v1=Vehicle(\"Honda\",  1995, 1234)"
      ],
      "metadata": {
        "id": "lexIfP3GzNn-"
      },
      "execution_count": 8,
      "outputs": []
    },
    {
      "cell_type": "code",
      "source": [
        "\n",
        "v2=Vehicle(\"Hyundai\",  1995, 12345)"
      ],
      "metadata": {
        "id": "N7vBI0sz0gls"
      },
      "execution_count": 9,
      "outputs": []
    },
    {
      "cell_type": "code",
      "source": [
        "print(v1.country)\n",
        "print(v2.country)"
      ],
      "metadata": {
        "colab": {
          "base_uri": "https://localhost:8080/"
        },
        "id": "jjYcEC0-04u6",
        "outputId": "765488fc-dea4-48c8-ec34-1fa7b81b4dd1"
      },
      "execution_count": 10,
      "outputs": [
        {
          "output_type": "stream",
          "name": "stdout",
          "text": [
            "India\n",
            "India\n"
          ]
        }
      ]
    },
    {
      "cell_type": "code",
      "source": [
        "v1.update_rgo(123791283)"
      ],
      "metadata": {
        "id": "Pffm0JC908cf"
      },
      "execution_count": 11,
      "outputs": []
    },
    {
      "cell_type": "code",
      "source": [],
      "metadata": {
        "id": "ddXF0ItU1K1g"
      },
      "execution_count": 11,
      "outputs": []
    },
    {
      "cell_type": "code",
      "source": [
        "# inheritance\n",
        "\n",
        "class Vehicle:\n",
        "    country = \"India\"\n",
        "    __id = 100\n",
        "    def __init__(self,name, model, rno):\n",
        "        self.name = name \n",
        "        self.model = model\n",
        "        self.__registration = rno\n",
        "\n",
        "    def update_rgo(self,new_r):\n",
        "        self.__registration = new_r\n",
        "\n",
        "    def some_method(self):\n",
        "        return self.model"
      ],
      "metadata": {
        "id": "lDIQaze41SWU"
      },
      "execution_count": 12,
      "outputs": []
    },
    {
      "cell_type": "code",
      "source": [
        "class Car(Vehicle):\n",
        "\n",
        "    def __init__(self, power, name, model, rno ):\n",
        "        self.no_wheels = 4\n",
        "        self.engine_power = power\n",
        "        super().__init__(name, model, rno)\n",
        "\n",
        "    def some_method(self):\n",
        "        print(super().some_method()) # NAMEOFPARENT.METHODINPARENT(self): Vehicle.some_method(self)\n",
        "        return self.engine_power\n",
        "\n",
        "\n",
        "c1 = Car(\"800CC\", \"Nexon\", \"Tata\", 12345)\n"
      ],
      "metadata": {
        "id": "q3eJ9lQg1ywt"
      },
      "execution_count": 13,
      "outputs": []
    },
    {
      "cell_type": "code",
      "source": [],
      "metadata": {
        "id": "KkYg0ATx2pJR"
      },
      "execution_count": 13,
      "outputs": []
    },
    {
      "cell_type": "code",
      "source": [
        "c1.some_method()"
      ],
      "metadata": {
        "colab": {
          "base_uri": "https://localhost:8080/",
          "height": 53
        },
        "id": "_u091mD22snp",
        "outputId": "44eaf57a-8979-4981-9404-84e382f00ee0"
      },
      "execution_count": 14,
      "outputs": [
        {
          "output_type": "stream",
          "name": "stdout",
          "text": [
            "Tata\n"
          ]
        },
        {
          "output_type": "execute_result",
          "data": {
            "text/plain": [
              "'800CC'"
            ],
            "application/vnd.google.colaboratory.intrinsic+json": {
              "type": "string"
            }
          },
          "metadata": {},
          "execution_count": 14
        }
      ]
    },
    {
      "cell_type": "code",
      "source": [
        "class A:\n",
        "    pass\n",
        "class B(A):\n",
        "    pass\n",
        "\n",
        "class C(A):\n",
        "    pass\n",
        "\n",
        "class D(B,C):\n",
        "    pass\n",
        "\n",
        "# some function \n",
        "d = D() # creating an object of Class D\n",
        "#d.some_func() # D  B  C A\n",
        "\n"
      ],
      "metadata": {
        "id": "BYolp5f72ubT"
      },
      "execution_count": 15,
      "outputs": []
    },
    {
      "cell_type": "code",
      "source": [
        "D.__mro__"
      ],
      "metadata": {
        "colab": {
          "base_uri": "https://localhost:8080/"
        },
        "id": "mBY0kO6e6KF3",
        "outputId": "6491ddf8-ce8d-4006-eaac-fee296a60898"
      },
      "execution_count": 16,
      "outputs": [
        {
          "output_type": "execute_result",
          "data": {
            "text/plain": [
              "(__main__.D, __main__.B, __main__.C, __main__.A, object)"
            ]
          },
          "metadata": {},
          "execution_count": 16
        }
      ]
    },
    {
      "cell_type": "code",
      "source": [
        "C.__mro__"
      ],
      "metadata": {
        "colab": {
          "base_uri": "https://localhost:8080/"
        },
        "id": "zXaX3nLl6UPJ",
        "outputId": "993ea94a-7d4c-466f-f784-f07e76a449f2"
      },
      "execution_count": 17,
      "outputs": [
        {
          "output_type": "execute_result",
          "data": {
            "text/plain": [
              "(__main__.C, __main__.A, object)"
            ]
          },
          "metadata": {},
          "execution_count": 17
        }
      ]
    },
    {
      "cell_type": "code",
      "source": [
        "C.mro()"
      ],
      "metadata": {
        "colab": {
          "base_uri": "https://localhost:8080/"
        },
        "id": "RvWGhU5x7OdN",
        "outputId": "e14c24d1-4685-454f-9919-04067f7d1d90"
      },
      "execution_count": 18,
      "outputs": [
        {
          "output_type": "execute_result",
          "data": {
            "text/plain": [
              "[__main__.C, __main__.A, object]"
            ]
          },
          "metadata": {},
          "execution_count": 18
        }
      ]
    },
    {
      "cell_type": "code",
      "source": [
        "class A:\n",
        "    var = 100\n",
        "    __var2 = 1000\n",
        "    def something(self):\n",
        "        print(\"in par\")\n",
        "\n",
        "class B(A):\n",
        "   def child_func(self):\n",
        "       print(B.var)\n",
        "       super().something()\n",
        "b = B()\n",
        "b.child_func()"
      ],
      "metadata": {
        "colab": {
          "base_uri": "https://localhost:8080/"
        },
        "id": "wgJOJt6g3yQY",
        "outputId": "6b57ef2a-2d1f-4093-d43d-035a960479af"
      },
      "execution_count": 19,
      "outputs": [
        {
          "output_type": "stream",
          "name": "stdout",
          "text": [
            "100\n",
            "in par\n"
          ]
        }
      ]
    },
    {
      "cell_type": "code",
      "source": [
        "B.var"
      ],
      "metadata": {
        "colab": {
          "base_uri": "https://localhost:8080/"
        },
        "id": "cSshPrZ246vN",
        "outputId": "cde4897d-e5c5-4857-b210-3d7ec5dfaaf8"
      },
      "execution_count": 20,
      "outputs": [
        {
          "output_type": "execute_result",
          "data": {
            "text/plain": [
              "100"
            ]
          },
          "metadata": {},
          "execution_count": 20
        }
      ]
    },
    {
      "cell_type": "code",
      "source": [
        "B.__var2"
      ],
      "metadata": {
        "colab": {
          "base_uri": "https://localhost:8080/",
          "height": 167
        },
        "id": "qPl0AxFx5GWU",
        "outputId": "be18505c-dd26-4230-9a72-3623599c92c6"
      },
      "execution_count": 21,
      "outputs": [
        {
          "output_type": "error",
          "ename": "AttributeError",
          "evalue": "ignored",
          "traceback": [
            "\u001b[0;31m---------------------------------------------------------------------------\u001b[0m",
            "\u001b[0;31mAttributeError\u001b[0m                            Traceback (most recent call last)",
            "\u001b[0;32m<ipython-input-21-c552e88f92f3>\u001b[0m in \u001b[0;36m<cell line: 1>\u001b[0;34m()\u001b[0m\n\u001b[0;32m----> 1\u001b[0;31m \u001b[0mB\u001b[0m\u001b[0;34m.\u001b[0m\u001b[0m__var2\u001b[0m\u001b[0;34m\u001b[0m\u001b[0;34m\u001b[0m\u001b[0m\n\u001b[0m",
            "\u001b[0;31mAttributeError\u001b[0m: type object 'B' has no attribute '__var2'"
          ]
        }
      ]
    },
    {
      "cell_type": "code",
      "source": [
        "isinstance(b, object)"
      ],
      "metadata": {
        "id": "1fNNqO1Q5OH6"
      },
      "execution_count": null,
      "outputs": []
    },
    {
      "cell_type": "code",
      "source": [
        "isinstance(B, object)"
      ],
      "metadata": {
        "id": "ca5zrzhE682M"
      },
      "execution_count": null,
      "outputs": []
    },
    {
      "cell_type": "code",
      "source": [
        "def selectionSort(lis):\n",
        "    n=len(lis)\n",
        "    #YOUR CODE GOES HERE\n",
        "    for i in range(n-1):\n",
        "        mini=ord(lis[i][0]) # first char of i\n",
        "        idx=i\n",
        "        for j in range(i,n):\n",
        "            if ord(lis[j][0])<mini:\n",
        "                mini=ord(lis[j][0])\n",
        "                idx=j\n",
        "        lis[i],lis[idx]=lis[idx],lis[i]\n",
        "    return lis\n",
        "selectionSort(['aclpha', 'aacpha', 'beta', 'delta'])"
      ],
      "metadata": {
        "id": "8zYyYfE17ETy"
      },
      "execution_count": null,
      "outputs": []
    },
    {
      "cell_type": "code",
      "source": [
        "\"A\" <\"B\""
      ],
      "metadata": {
        "id": "EmGMeYYF7vNU"
      },
      "execution_count": null,
      "outputs": []
    },
    {
      "cell_type": "code",
      "source": [
        "'aclpha'<\"aacpha\""
      ],
      "metadata": {
        "id": "sVwRRRRB8HI2"
      },
      "execution_count": null,
      "outputs": []
    },
    {
      "cell_type": "code",
      "source": [
        "\"a\"<\"A\""
      ],
      "metadata": {
        "id": "C2LqOe2F9Asy"
      },
      "execution_count": null,
      "outputs": []
    },
    {
      "cell_type": "code",
      "source": [
        "ord(\"a\")<ord(\"A\")"
      ],
      "metadata": {
        "id": "fKO9WtqN9Gmh"
      },
      "execution_count": null,
      "outputs": []
    },
    {
      "cell_type": "code",
      "source": [
        "# if the question to perform case insensitive : Perform lowercase/Uppercase on each_element\n",
        "# if the question to perform case sensitive"
      ],
      "metadata": {
        "id": "MHzC0nB-9J90"
      },
      "execution_count": null,
      "outputs": []
    },
    {
      "cell_type": "code",
      "source": [
        "import os\n",
        "\n",
        "# lsit all files in current dir\n",
        "os.listdir()"
      ],
      "metadata": {
        "colab": {
          "base_uri": "https://localhost:8080/"
        },
        "id": "bct7LYqW-QBP",
        "outputId": "b7399c60-45b3-44c3-87a7-66e5386fd9ea"
      },
      "execution_count": 25,
      "outputs": [
        {
          "output_type": "execute_result",
          "data": {
            "text/plain": [
              "['.config', 'mymodule.py', '.ipynb_checkpoints', '__pycache__', 'sample_data']"
            ]
          },
          "metadata": {},
          "execution_count": 25
        }
      ]
    },
    {
      "cell_type": "code",
      "source": [
        "import mymodule"
      ],
      "metadata": {
        "id": "WbGpZPiA-SEr"
      },
      "execution_count": 22,
      "outputs": []
    },
    {
      "cell_type": "code",
      "source": [
        "mymodule.a"
      ],
      "metadata": {
        "colab": {
          "base_uri": "https://localhost:8080/"
        },
        "id": "Jc4cDNR6-YCn",
        "outputId": "317b9129-1e77-444b-8c7e-0b3493f173f8"
      },
      "execution_count": 23,
      "outputs": [
        {
          "output_type": "execute_result",
          "data": {
            "text/plain": [
              "10"
            ]
          },
          "metadata": {},
          "execution_count": 23
        }
      ]
    },
    {
      "cell_type": "code",
      "source": [
        "mymodule.b"
      ],
      "metadata": {
        "colab": {
          "base_uri": "https://localhost:8080/"
        },
        "id": "f6cWgrxd-ixb",
        "outputId": "0bec1c11-7103-48ec-de31-edf52f6725c7"
      },
      "execution_count": 24,
      "outputs": [
        {
          "output_type": "execute_result",
          "data": {
            "text/plain": [
              "100"
            ]
          },
          "metadata": {},
          "execution_count": 24
        }
      ]
    },
    {
      "cell_type": "code",
      "source": [
        "A()"
      ],
      "metadata": {
        "id": "g5q0VHQf-kHR"
      },
      "execution_count": null,
      "outputs": []
    },
    {
      "cell_type": "markdown",
      "source": [
        "A(B,C) # multiple inheritance\n",
        "\n",
        "\n",
        "A\n",
        "B(A)\n",
        "C(B)\n",
        "# multi level inheritance\n"
      ],
      "metadata": {
        "id": "iwZi0olq_Ad9"
      }
    },
    {
      "cell_type": "code",
      "source": [
        "The p-th norm (“p” is an integer and p>=1) of a vector X \n",
        "having n- dimensions is given \n",
        "by Suppose you are given a vector A = (2,3,4,1,5). \n",
        "Find the 2nd Norm of the vector X. \n",
        "please explain thsi"
      ],
      "metadata": {
        "id": "KtN5JVo__rFw"
      },
      "execution_count": null,
      "outputs": []
    },
    {
      "cell_type": "code",
      "source": [
        "(2 + 3 + 1 + 4 + 5)"
      ],
      "metadata": {
        "id": "5S3qG_OFAGbh"
      },
      "execution_count": null,
      "outputs": []
    }
  ]
}