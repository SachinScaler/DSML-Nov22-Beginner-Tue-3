{
  "nbformat": 4,
  "nbformat_minor": 0,
  "metadata": {
    "colab": {
      "provenance": [],
      "authorship_tag": "ABX9TyOciWjZDAkvfY0Ry/7/7sh2",
      "include_colab_link": true
    },
    "kernelspec": {
      "name": "python3",
      "display_name": "Python 3"
    },
    "language_info": {
      "name": "python"
    },
    "gpuClass": "standard"
  },
  "cells": [
    {
      "cell_type": "markdown",
      "metadata": {
        "id": "view-in-github",
        "colab_type": "text"
      },
      "source": [
        "<a href=\"https://colab.research.google.com/github/SachinScaler/DSML-Nov22-Beginner-Tue-3/blob/main/Recursion_2.ipynb\" target=\"_parent\"><img src=\"https://colab.research.google.com/assets/colab-badge.svg\" alt=\"Open In Colab\"/></a>"
      ]
    },
    {
      "cell_type": "code",
      "execution_count": 6,
      "metadata": {
        "colab": {
          "base_uri": "https://localhost:8080/"
        },
        "id": "dkYJXHvptV4k",
        "outputId": "1e3bb942-3803-459d-8449-19a05a571a2f"
      },
      "outputs": [
        {
          "output_type": "execute_result",
          "data": {
            "text/plain": [
              "[[], [6], [5], [5, 6], [4], [4, 6], [4, 5], [4, 5, 6]]"
            ]
          },
          "metadata": {},
          "execution_count": 6
        }
      ],
      "source": [
        "def getSubset(input_list, curr_subset= [], output = []):\n",
        "  if len(input_list)==0:\n",
        "    output.append(curr_subset)\n",
        "  else:\n",
        "    # exclude\n",
        "    getSubset(input_list[1:], curr_subset, output)\n",
        "\n",
        "    # include\n",
        "    # curr_subset.append(input_list[0])\n",
        "    getSubset(input_list[1:], curr_subset+[input_list[0]], output)\n",
        "  return output\n",
        "\n",
        "inp_arr2 = [4,5,6]\n",
        "getSubset(inp_arr2, curr_subset= [], output = [])"
      ]
    },
    {
      "cell_type": "code",
      "source": [
        "def getSubset(input_list, curr_subset= [], output = []):\n",
        "  if len(input_list)==0:\n",
        "    print(curr_subset)\n",
        "  else:\n",
        "    # exclude\n",
        "    getSubset(input_list[1:], curr_subset, output)\n",
        "\n",
        "    # include\n",
        "    # curr_subset.append(input_list[0])\n",
        "    getSubset(input_list[1:], curr_subset+[input_list[0]], output)\n",
        "\n",
        "inp_arr = [4,5,6]\n",
        "getSubset(inp_arr, curr_subset= [], output = [])"
      ],
      "metadata": {
        "colab": {
          "base_uri": "https://localhost:8080/"
        },
        "id": "93I_7jwp6egY",
        "outputId": "76652254-5218-4087-f307-a3303d9e4446"
      },
      "execution_count": 7,
      "outputs": [
        {
          "output_type": "stream",
          "name": "stdout",
          "text": [
            "[]\n",
            "[6]\n",
            "[5]\n",
            "[5, 6]\n",
            "[4]\n",
            "[4, 6]\n",
            "[4, 5]\n",
            "[4, 5, 6]\n"
          ]
        }
      ]
    },
    {
      "cell_type": "code",
      "source": [
        "[1,2]+[3]"
      ],
      "metadata": {
        "colab": {
          "base_uri": "https://localhost:8080/"
        },
        "id": "kpIiF2XT5YR9",
        "outputId": "0d12e206-61c8-4cb6-d5f6-2cc38890dcc4"
      },
      "execution_count": 1,
      "outputs": [
        {
          "output_type": "execute_result",
          "data": {
            "text/plain": [
              "[1, 2, 3]"
            ]
          },
          "metadata": {},
          "execution_count": 1
        }
      ]
    },
    {
      "cell_type": "code",
      "source": [
        "a = [1,2]\n",
        "a.append(3)"
      ],
      "metadata": {
        "id": "AvlWYb3R5dST"
      },
      "execution_count": 5,
      "outputs": []
    },
    {
      "cell_type": "code",
      "source": [
        "def somefunct(a):\n",
        "  print(a)\n",
        "\n",
        "somefunct(10)"
      ],
      "metadata": {
        "colab": {
          "base_uri": "https://localhost:8080/"
        },
        "id": "MKktDlot5ijs",
        "outputId": "79978586-f7ed-4f82-f363-84e651440714"
      },
      "execution_count": 9,
      "outputs": [
        {
          "output_type": "stream",
          "name": "stdout",
          "text": [
            "10\n"
          ]
        }
      ]
    },
    {
      "cell_type": "code",
      "source": [
        "|a = c = 10"
      ],
      "metadata": {
        "id": "VPDOA1HF7KOk"
      },
      "execution_count": null,
      "outputs": []
    },
    {
      "cell_type": "markdown",
      "source": [
        "### Homework:\n",
        "\n",
        "string : \"abcd\"\n",
        "\n",
        "Expected Output:\n"
      ],
      "metadata": {
        "id": "_NgsUsEm7l35"
      }
    },
    {
      "cell_type": "markdown",
      "source": [
        "### Merge two Sorted Arrays:"
      ],
      "metadata": {
        "id": "Q0J8D2CpD0qW"
      }
    },
    {
      "cell_type": "code",
      "source": [
        "def mergeSortedArr(arr1, arr2):\n",
        "  output = []\n",
        "  i,j = 0,0\n",
        "\n",
        "  arr1[i]\n",
        "  arr2[j] \n",
        "  while i<len(arr1) and j<len(arr2):\n",
        "    if arr1[i]<arr2[j]:\n",
        "      output.append(arr1[i])\n",
        "      i+=1\n",
        "    else:\n",
        "      output.append(arr2[j])\n",
        "      j+=1\n",
        "\n",
        "  print(arr1[i:])\n",
        "  print(arr2[j:])\n",
        "\n",
        "  return output+ arr1[i:] + arr2[j:]\n",
        "\n",
        "\n",
        "arr1 = [2,3,5]\n",
        "arr2 =[1,10,11]\n",
        "mergeSortedArr(arr1, arr2)"
      ],
      "metadata": {
        "colab": {
          "base_uri": "https://localhost:8080/"
        },
        "id": "TBlEnFGlDzoo",
        "outputId": "7da8a79c-8759-451e-af2d-973bfd6beb69"
      },
      "execution_count": 18,
      "outputs": [
        {
          "output_type": "stream",
          "name": "stdout",
          "text": [
            "[]\n",
            "[10, 11]\n"
          ]
        },
        {
          "output_type": "execute_result",
          "data": {
            "text/plain": [
              "[1, 2, 3, 5, 10, 11]"
            ]
          },
          "metadata": {},
          "execution_count": 18
        }
      ]
    },
    {
      "cell_type": "code",
      "source": [
        "\n",
        "arr1 = [2,3,5]\n",
        "arr2 =[9,10, 20, 30]\n",
        "mergeSortedArr(arr1, arr2)"
      ],
      "metadata": {
        "colab": {
          "base_uri": "https://localhost:8080/"
        },
        "id": "bJ6e0u8LFh75",
        "outputId": "6e832a45-cc1b-4403-ae6d-aaf54134dbb9"
      },
      "execution_count": 16,
      "outputs": [
        {
          "output_type": "stream",
          "name": "stdout",
          "text": [
            "[]\n",
            "[9, 10, 20, 30]\n"
          ]
        },
        {
          "output_type": "execute_result",
          "data": {
            "text/plain": [
              "[2, 3, 5]"
            ]
          },
          "metadata": {},
          "execution_count": 16
        }
      ]
    },
    {
      "cell_type": "code",
      "source": [
        "def mergeSort(input_arr):\n",
        "  # base condiion\n",
        "  if len(input_arr)<=1:\n",
        "    return input_arr\n",
        "\n",
        "  # break the input down into two parts\n",
        "  n = len(input_arr)\n",
        "  arr1 = input_arr[:n//2]\n",
        "  arr2= input_arr[n//2:]\n",
        "  \n",
        "  arr1= mergeSort(arr1)\n",
        "  arr2= mergeSort(arr2)\n",
        "\n",
        "  # merging two sorted arrays\n",
        "  output = []\n",
        "  i,j = 0,0\n",
        "\n",
        "  arr1[i]\n",
        "  arr2[j] \n",
        "  while i<len(arr1) and j<len(arr2):\n",
        "    if arr1[i]<arr2[j]:\n",
        "      output.append(arr1[i])\n",
        "      i+=1\n",
        "    else:\n",
        "      output.append(arr2[j])\n",
        "      j+=1\n",
        "\n",
        "  return output+ arr1[i:] + arr2[j:]\n",
        "\n",
        "input_l  =  [ 2,3,5,1,45,2,10]\n",
        "mergeSort(input_l)"
      ],
      "metadata": {
        "colab": {
          "base_uri": "https://localhost:8080/"
        },
        "id": "e3AS2LBvGc-4",
        "outputId": "0388391c-dd7e-4568-9812-9b6403a6b251"
      },
      "execution_count": 19,
      "outputs": [
        {
          "output_type": "execute_result",
          "data": {
            "text/plain": [
              "[1, 2, 2, 3, 5, 10, 45]"
            ]
          },
          "metadata": {},
          "execution_count": 19
        }
      ]
    },
    {
      "cell_type": "markdown",
      "source": [
        "TC: nlogn"
      ],
      "metadata": {
        "id": "NlzXnTzbJMN8"
      }
    },
    {
      "cell_type": "code",
      "source": [],
      "metadata": {
        "id": "8DdLDPuEIuVO"
      },
      "execution_count": null,
      "outputs": []
    }
  ]
}