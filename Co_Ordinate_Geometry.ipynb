{
  "nbformat": 4,
  "nbformat_minor": 0,
  "metadata": {
    "colab": {
      "provenance": [],
      "authorship_tag": "ABX9TyMC0deyo1K6N3+lXIMU1Lch",
      "include_colab_link": true
    },
    "kernelspec": {
      "name": "python3",
      "display_name": "Python 3"
    },
    "language_info": {
      "name": "python"
    },
    "gpuClass": "standard"
  },
  "cells": [
    {
      "cell_type": "markdown",
      "metadata": {
        "id": "view-in-github",
        "colab_type": "text"
      },
      "source": [
        "<a href=\"https://colab.research.google.com/github/SachinScaler/DSML-Nov22-Beginner-Tue-3/blob/main/Co_Ordinate_Geometry.ipynb\" target=\"_parent\"><img src=\"https://colab.research.google.com/assets/colab-badge.svg\" alt=\"Open In Colab\"/></a>"
      ]
    },
    {
      "cell_type": "code",
      "execution_count": null,
      "metadata": {
        "colab": {
          "base_uri": "https://localhost:8080/"
        },
        "id": "6UPzN8pay4Qu",
        "outputId": "0ff80b74-bdeb-4c99-cac7-afcd3b4cdfbd"
      },
      "outputs": [
        {
          "output_type": "execute_result",
          "data": {
            "text/plain": [
              "17.08800749063506"
            ]
          },
          "metadata": {},
          "execution_count": 1
        }
      ],
      "source": [
        "def Euclidean_Distance(A,B):\n",
        "  x1,y1 = A\n",
        "  x2,y2 = B\n",
        "\n",
        "  d = ((x2-x1)**2 + (y2-y1)**2)**0.5\n",
        "  return d\n",
        "\n",
        "\n",
        "A = (4,7)\n",
        "B = (10,-9)\n",
        "\n",
        "Euclidean_Distance(A,B)"
      ]
    },
    {
      "cell_type": "markdown",
      "source": [
        "### HW- Implement manhattan Distance"
      ],
      "metadata": {
        "id": "E48ErgaH7EIu"
      }
    },
    {
      "cell_type": "code",
      "source": [
        "import math\n",
        "\n",
        "math.tan(90*(math.pi/180))"
      ],
      "metadata": {
        "colab": {
          "base_uri": "https://localhost:8080/"
        },
        "id": "gRhCNMLa69Ua",
        "outputId": "98130aab-8af5-4670-8f0d-cf68c559738e"
      },
      "execution_count": null,
      "outputs": [
        {
          "output_type": "execute_result",
          "data": {
            "text/plain": [
              "1.633123935319537e+16"
            ]
          },
          "metadata": {},
          "execution_count": 7
        }
      ]
    },
    {
      "cell_type": "code",
      "source": [
        "?math.tan"
      ],
      "metadata": {
        "id": "BMuQmD7DRMKd"
      },
      "execution_count": null,
      "outputs": []
    },
    {
      "cell_type": "code",
      "source": [],
      "metadata": {
        "id": "8PlrbQFmRP4M"
      },
      "execution_count": null,
      "outputs": []
    }
  ]
}