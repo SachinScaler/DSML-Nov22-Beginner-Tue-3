{
  "nbformat": 4,
  "nbformat_minor": 0,
  "metadata": {
    "colab": {
      "provenance": [],
      "include_colab_link": true
    },
    "kernelspec": {
      "name": "python3",
      "display_name": "Python 3"
    },
    "language_info": {
      "name": "python"
    }
  },
  "cells": [
    {
      "cell_type": "markdown",
      "metadata": {
        "id": "view-in-github",
        "colab_type": "text"
      },
      "source": [
        "<a href=\"https://colab.research.google.com/github/SachinScaler/DSML-Nov22-Beginner-Tue-3/blob/main/Co-Ordinate_Geometry_03Mar2023.ipynb\" target=\"_parent\"><img src=\"https://colab.research.google.com/assets/colab-badge.svg\" alt=\"Open In Colab\"/></a>"
      ]
    },
    {
      "cell_type": "markdown",
      "metadata": {
        "id": "pNwH8nRMNgFZ"
      },
      "source": [
        "Lecture Link: https://colab.research.google.com/drive/1mxk7TLhEdluHpwLtBYu8T7yB0L53eBO1?usp=sharing\n",
        "\n",
        "1) Doubts or questions ? Whatsapp Group, support@scaler.com, Teaching Assistant\n",
        "\n",
        "2) My email id ? titas.de_1@scaler.com "
      ]
    },
    {
      "cell_type": "code",
      "source": [
        "import math\n",
        "import numpy as np\n",
        "\n",
        "def getSquaredEuclideanDistance(point1,point2):\n",
        "  # point1 -> (x1,y1)\n",
        "  # point2 -> (x2,y2)\n",
        "  x1, y1 = point1\n",
        "  x2, y2 = point2\n",
        "\n",
        "  dist = (x1-x2)**2 + (y1-y2)**2\n",
        "  return dist\n",
        "\n",
        "def isRectangle(four_points):\n",
        "\n",
        "  # write your code here\n",
        "  point1 = four_points[0]\n",
        "  point2 = four_points[1]\n",
        "  point3 = four_points[2]\n",
        "  point4 = four_points[3]\n",
        "\n",
        "  # computing length of all 4 sides\n",
        "  dist_12 = getSquaredEuclideanDistance(point1,point2)\n",
        "  dist_23 = getSquaredEuclideanDistance(point2,point3)\n",
        "  dist_34 = getSquaredEuclideanDistance(point3,point4)\n",
        "  dist_41 = getSquaredEuclideanDistance(point4,point1)\n",
        "\n",
        "  # computing length of 2 diagonals\n",
        "  dist_13 = getSquaredEuclideanDistance(point1,point3)\n",
        "  dist_24 = getSquaredEuclideanDistance(point2,point4)\n",
        "\n",
        "  # # check if rectangle or not\n",
        "  # if dist_12==dist_34 and dist_23==dist_41 and dist_13==dist_24:\n",
        "  #   return True\n",
        "  # else:\n",
        "  #   return False\n",
        "  \n",
        "  dist_arr_unique = sorted(np.unique([dist_12,dist_23,dist_34,dist_41,dist_13,dist_24]))\n",
        "  #print(dist_arr_unique)\n",
        "  \n",
        "  if dist_arr_unique[0] + dist_arr_unique[1] == dist_arr_unique[2]:\n",
        "    return True\n",
        "  else:\n",
        "    return False\n",
        "\n",
        "points = [(2,3),(2,1),(7,1),(7,3)]\n",
        "#points = [(3,1),(6,3),(5,6),(2,3)]\n",
        "print(isRectangle(points))\n"
      ],
      "metadata": {
        "colab": {
          "base_uri": "https://localhost:8080/"
        },
        "id": "oFNwIn1IPQse",
        "outputId": "b7f2496e-bf9b-4d2f-ac8b-261db5f905a9"
      },
      "execution_count": null,
      "outputs": [
        {
          "output_type": "stream",
          "name": "stdout",
          "text": [
            "[4, 25, 29]\n",
            "True\n"
          ]
        }
      ]
    },
    {
      "cell_type": "code",
      "source": [
        "num = 12345 \n",
        "str1 = str(num)\n",
        "L = len(str1) \n",
        "sum_even = 0\n",
        "prod_odd = 1\n",
        "for i in range(0,L):\n",
        "  if i%2==0: # even index \n",
        "    sum_even = sum_even + int(str1[i])\n",
        "  else: # odd index\n",
        "    prod_odd = prod_odd * int(str1[i])\n",
        "\n",
        "print(sum_even)\n",
        "print(prod_odd)\n"
      ],
      "metadata": {
        "colab": {
          "base_uri": "https://localhost:8080/"
        },
        "id": "9ISJO3gfWBZ2",
        "outputId": "4f711746-2dce-47ec-c408-73330e851daa"
      },
      "execution_count": null,
      "outputs": [
        {
          "output_type": "stream",
          "name": "stdout",
          "text": [
            "9\n",
            "8\n"
          ]
        }
      ]
    },
    {
      "cell_type": "code",
      "source": [
        "num = 12345 \n",
        "str1 = str(num)\n",
        "L = len(str1) \n",
        "sum_even = 0\n",
        "prod_odd = 1\n",
        "for i in range(0,L):\n",
        "  val = int(str1[i])\n",
        "  if val%2==0: # even number\n",
        "    sum_even = sum_even + val\n",
        "  else: # odd number\n",
        "    prod_odd = prod_odd * val\n",
        "\n",
        "print(sum_even)\n",
        "print(prod_odd)"
      ],
      "metadata": {
        "colab": {
          "base_uri": "https://localhost:8080/"
        },
        "id": "XPkMbA18d0P3",
        "outputId": "1e11a3b2-0d11-460f-9035-8a58453a4e3e"
      },
      "execution_count": null,
      "outputs": [
        {
          "output_type": "stream",
          "name": "stdout",
          "text": [
            "6\n",
            "15\n"
          ]
        }
      ]
    },
    {
      "cell_type": "code",
      "source": [
        "from functools import reduce\n",
        "num = 1\n",
        "str1 = str(num)\n",
        "str1 = str1+\"01\"\n",
        "arr1 = [int(c) for c in str1]\n",
        "sum_even = reduce(lambda x,y:x+y,filter(lambda x:x%2==0,arr1))\n",
        "prod_odd = reduce(lambda x,y:x*y,filter(lambda x:x%2==1,arr1))\n",
        "print(sum_even)\n",
        "print(prod_odd)\n"
      ],
      "metadata": {
        "colab": {
          "base_uri": "https://localhost:8080/"
        },
        "id": "LkV7l441etR5",
        "outputId": "2175b0c3-12b8-4d48-a475-c51d8fefd2e3"
      },
      "execution_count": null,
      "outputs": [
        {
          "output_type": "stream",
          "name": "stdout",
          "text": [
            "0\n",
            "1\n"
          ]
        }
      ]
    },
    {
      "cell_type": "code",
      "source": [
        "from functools import reduce\n",
        "num = 24\n",
        "str1 = str(num)\n",
        "even_numbers = list(filter(lambda x:int(x)%2==0,str1))\n",
        "if len(even_numbers)>0:\n",
        "  sum_even = reduce(lambda x,y:int(x)+int(y),even_numbers)\n",
        "else:\n",
        "  sum_even = None\n",
        "\n",
        "odd_numbers = list(filter(lambda x:int(x)%2==1,str1))\n",
        "if len(odd_numbers)>0:\n",
        "  prod_odd = reduce(lambda x,y:int(x)*int(y),odd_numbers )\n",
        "else:\n",
        "  prod_odd = None\n",
        "\n",
        "print(sum_even)\n",
        "print(prod_odd)\n"
      ],
      "metadata": {
        "colab": {
          "base_uri": "https://localhost:8080/"
        },
        "id": "0EUg9QmdgVNB",
        "outputId": "8c0874f7-6139-4e4a-bd33-b5b363822419"
      },
      "execution_count": null,
      "outputs": [
        {
          "output_type": "stream",
          "name": "stdout",
          "text": [
            "6\n",
            "None\n"
          ]
        }
      ]
    }
  ]
}