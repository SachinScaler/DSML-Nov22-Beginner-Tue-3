{
  "nbformat": 4,
  "nbformat_minor": 0,
  "metadata": {
    "colab": {
      "provenance": [],
      "authorship_tag": "ABX9TyMUyzs3ED+9NcvCnfaQDoKH",
      "include_colab_link": true
    },
    "kernelspec": {
      "name": "python3",
      "display_name": "Python 3"
    },
    "language_info": {
      "name": "python"
    }
  },
  "cells": [
    {
      "cell_type": "markdown",
      "metadata": {
        "id": "view-in-github",
        "colab_type": "text"
      },
      "source": [
        "<a href=\"https://colab.research.google.com/github/SachinScaler/DSML-Nov22-Beginner-Tue-3/blob/main/FileHandling_Tue.ipynb\" target=\"_parent\"><img src=\"https://colab.research.google.com/assets/colab-badge.svg\" alt=\"Open In Colab\"/></a>"
      ]
    },
    {
      "cell_type": "markdown",
      "source": [
        "#### File Handling: Storing and Reading files from persistent Storage\n",
        "```\n",
        "    - Open files\n",
        "    - Read-files\n",
        "    - Write-files\n",
        "    - Modes in file handling\n",
        "```"
      ],
      "metadata": {
        "id": "3tD_o2lBF0cN"
      }
    },
    {
      "cell_type": "code",
      "source": [
        "ls # shows all the files in current working directory/folder"
      ],
      "metadata": {
        "colab": {
          "base_uri": "https://localhost:8080/"
        },
        "id": "y8FfJ1VxHpOQ",
        "outputId": "32807533-5ca6-4893-d191-3ea3af27847f"
      },
      "execution_count": null,
      "outputs": [
        {
          "output_type": "stream",
          "name": "stdout",
          "text": [
            "\u001b[0m\u001b[01;34msample_data\u001b[0m/\n"
          ]
        }
      ]
    },
    {
      "cell_type": "code",
      "source": [],
      "metadata": {
        "id": "-L3i0T9IHpLU"
      },
      "execution_count": null,
      "outputs": []
    },
    {
      "cell_type": "code",
      "source": [],
      "metadata": {
        "id": "yr4V1gVbGIoP"
      },
      "execution_count": null,
      "outputs": []
    },
    {
      "cell_type": "code",
      "source": [],
      "metadata": {
        "id": "WfAsLZwHGImI"
      },
      "execution_count": null,
      "outputs": []
    },
    {
      "cell_type": "code",
      "source": [],
      "metadata": {
        "id": "pSbUfm3DGIjq"
      },
      "execution_count": null,
      "outputs": []
    },
    {
      "cell_type": "markdown",
      "source": [
        "\n",
        "**Read Only (‘r’)** : \n",
        "\n",
        "    - Open text file for reading. \n",
        "    - The handle is positioned at the beginning of the file. \n",
        "    - If the file does not exists, raises FileNotFound error.\n",
        "    - This is also the default mode in which file is opened."
      ],
      "metadata": {
        "id": "3JHCpLTaF1Jp"
      }
    },
    {
      "cell_type": "code",
      "execution_count": null,
      "metadata": {
        "id": "t4Jsp2y2Fw5e",
        "colab": {
          "base_uri": "https://localhost:8080/",
          "height": 204
        },
        "outputId": "1d779566-ac14-4964-b69b-d62b0657f3e8"
      },
      "outputs": [
        {
          "output_type": "error",
          "ename": "FileNotFoundError",
          "evalue": "ignored",
          "traceback": [
            "\u001b[0;31m---------------------------------------------------------------------------\u001b[0m",
            "\u001b[0;31mFileNotFoundError\u001b[0m                         Traceback (most recent call last)",
            "\u001b[0;32m<ipython-input-5-cc0fc9c01c9f>\u001b[0m in \u001b[0;36m<cell line: 1>\u001b[0;34m()\u001b[0m\n\u001b[0;32m----> 1\u001b[0;31m \u001b[0mf\u001b[0m \u001b[0;34m=\u001b[0m \u001b[0mopen\u001b[0m\u001b[0;34m(\u001b[0m\u001b[0;34m\"DemoRead1.txt\"\u001b[0m\u001b[0;34m,\u001b[0m \u001b[0;34m'r'\u001b[0m\u001b[0;34m)\u001b[0m\u001b[0;34m\u001b[0m\u001b[0;34m\u001b[0m\u001b[0m\n\u001b[0m",
            "\u001b[0;31mFileNotFoundError\u001b[0m: [Errno 2] No such file or directory: 'DemoRead1.txt'"
          ]
        }
      ],
      "source": [
        "f = open(\"DemoRead1.txt\", 'r')"
      ]
    },
    {
      "cell_type": "code",
      "source": [
        "f = open(\"DemoRead.txt\", 'r')"
      ],
      "metadata": {
        "id": "D_ThIQC4NAzA"
      },
      "execution_count": null,
      "outputs": []
    },
    {
      "cell_type": "markdown",
      "source": [
        "- Read: to get access to all the content inside a file"
      ],
      "metadata": {
        "id": "c2a791ydNnnV"
      }
    },
    {
      "cell_type": "code",
      "source": [
        "f.read()"
      ],
      "metadata": {
        "colab": {
          "base_uri": "https://localhost:8080/",
          "height": 36
        },
        "id": "EMNIy-jxNg0Z",
        "outputId": "5cab9a80-dfc1-4da8-9219-c6f0705f103d"
      },
      "execution_count": null,
      "outputs": [
        {
          "output_type": "execute_result",
          "data": {
            "text/plain": [
              "'Hi How are you'"
            ],
            "application/vnd.google.colaboratory.intrinsic+json": {
              "type": "string"
            }
          },
          "metadata": {},
          "execution_count": 7
        }
      ]
    },
    {
      "cell_type": "code",
      "source": [
        "# default mode is r mode\n",
        "a = open(\"DemoRead.txt\")\n",
        "a.read()"
      ],
      "metadata": {
        "colab": {
          "base_uri": "https://localhost:8080/",
          "height": 36
        },
        "id": "4HAjlne0NsnV",
        "outputId": "b0fdc47e-5096-44af-9733-c9adc59ea450"
      },
      "execution_count": null,
      "outputs": [
        {
          "output_type": "execute_result",
          "data": {
            "text/plain": [
              "'Hi How are you'"
            ],
            "application/vnd.google.colaboratory.intrinsic+json": {
              "type": "string"
            }
          },
          "metadata": {},
          "execution_count": 8
        }
      ]
    },
    {
      "cell_type": "code",
      "source": [
        "a.read()"
      ],
      "metadata": {
        "colab": {
          "base_uri": "https://localhost:8080/",
          "height": 36
        },
        "id": "4LphzKRiN62U",
        "outputId": "5a5f8c12-c4db-4066-8188-80cb27aee5a7"
      },
      "execution_count": null,
      "outputs": [
        {
          "output_type": "execute_result",
          "data": {
            "text/plain": [
              "''"
            ],
            "application/vnd.google.colaboratory.intrinsic+json": {
              "type": "string"
            }
          },
          "metadata": {},
          "execution_count": 9
        }
      ]
    },
    {
      "cell_type": "code",
      "source": [
        "# read only few bytes\n",
        "a = open(\"DemoRead.txt\", 'r')\n",
        "a.read(2)"
      ],
      "metadata": {
        "colab": {
          "base_uri": "https://localhost:8080/",
          "height": 36
        },
        "id": "SKgUbjZhOSMv",
        "outputId": "520c60ea-a5d1-4f42-ff0f-3e743b2f2018"
      },
      "execution_count": null,
      "outputs": [
        {
          "output_type": "execute_result",
          "data": {
            "text/plain": [
              "'Hi'"
            ],
            "application/vnd.google.colaboratory.intrinsic+json": {
              "type": "string"
            }
          },
          "metadata": {},
          "execution_count": 10
        }
      ]
    },
    {
      "cell_type": "code",
      "source": [
        "a.read(5)"
      ],
      "metadata": {
        "colab": {
          "base_uri": "https://localhost:8080/",
          "height": 36
        },
        "id": "ruVV8aAQPDuv",
        "outputId": "b7d6b794-252e-434a-fc22-b41cb7c40173"
      },
      "execution_count": null,
      "outputs": [
        {
          "output_type": "execute_result",
          "data": {
            "text/plain": [
              "' How '"
            ],
            "application/vnd.google.colaboratory.intrinsic+json": {
              "type": "string"
            }
          },
          "metadata": {},
          "execution_count": 11
        }
      ]
    },
    {
      "cell_type": "code",
      "source": [
        "a.read()"
      ],
      "metadata": {
        "colab": {
          "base_uri": "https://localhost:8080/",
          "height": 36
        },
        "id": "gxkDrMqQPLok",
        "outputId": "d5af89a0-d209-4f0c-ddde-53e94f28e907"
      },
      "execution_count": null,
      "outputs": [
        {
          "output_type": "execute_result",
          "data": {
            "text/plain": [
              "'are you'"
            ],
            "application/vnd.google.colaboratory.intrinsic+json": {
              "type": "string"
            }
          },
          "metadata": {},
          "execution_count": 12
        }
      ]
    },
    {
      "cell_type": "markdown",
      "source": [
        "Reset our cursor using SEEK"
      ],
      "metadata": {
        "id": "sDM6ONp8PaAB"
      }
    },
    {
      "cell_type": "code",
      "source": [
        "a.seek(0)"
      ],
      "metadata": {
        "colab": {
          "base_uri": "https://localhost:8080/"
        },
        "id": "0utUQnbWPSNF",
        "outputId": "5545efa9-b0a0-429a-dae6-c50c527f574e"
      },
      "execution_count": null,
      "outputs": [
        {
          "output_type": "execute_result",
          "data": {
            "text/plain": [
              "0"
            ]
          },
          "metadata": {},
          "execution_count": 13
        }
      ]
    },
    {
      "cell_type": "code",
      "source": [
        "a.read(2)"
      ],
      "metadata": {
        "colab": {
          "base_uri": "https://localhost:8080/",
          "height": 36
        },
        "id": "cf_V7QljPnND",
        "outputId": "6fbfdde1-7369-4f14-9476-81ddfa22451f"
      },
      "execution_count": null,
      "outputs": [
        {
          "output_type": "execute_result",
          "data": {
            "text/plain": [
              "'Hi'"
            ],
            "application/vnd.google.colaboratory.intrinsic+json": {
              "type": "string"
            }
          },
          "metadata": {},
          "execution_count": 14
        }
      ]
    },
    {
      "cell_type": "code",
      "source": [
        "a.seek(5)"
      ],
      "metadata": {
        "colab": {
          "base_uri": "https://localhost:8080/"
        },
        "id": "erVhcxYePrxk",
        "outputId": "1f5ff4e6-b309-43fa-fb4b-51955b19d703"
      },
      "execution_count": null,
      "outputs": [
        {
          "output_type": "execute_result",
          "data": {
            "text/plain": [
              "5"
            ]
          },
          "metadata": {},
          "execution_count": 15
        }
      ]
    },
    {
      "cell_type": "code",
      "source": [
        "a.read(2)"
      ],
      "metadata": {
        "colab": {
          "base_uri": "https://localhost:8080/",
          "height": 36
        },
        "id": "fPS9YCmUPufy",
        "outputId": "7c91a273-0cb8-4695-d12c-e4bc2ad1b9cd"
      },
      "execution_count": null,
      "outputs": [
        {
          "output_type": "execute_result",
          "data": {
            "text/plain": [
              "'w '"
            ],
            "application/vnd.google.colaboratory.intrinsic+json": {
              "type": "string"
            }
          },
          "metadata": {},
          "execution_count": 16
        }
      ]
    },
    {
      "cell_type": "code",
      "source": [
        "a.read(1000)"
      ],
      "metadata": {
        "colab": {
          "base_uri": "https://localhost:8080/",
          "height": 36
        },
        "id": "9VE2IlxdP0Cy",
        "outputId": "3fe7a9ae-4304-41b3-bac7-2db9a65297a8"
      },
      "execution_count": null,
      "outputs": [
        {
          "output_type": "execute_result",
          "data": {
            "text/plain": [
              "'are you'"
            ],
            "application/vnd.google.colaboratory.intrinsic+json": {
              "type": "string"
            }
          },
          "metadata": {},
          "execution_count": 18
        }
      ]
    },
    {
      "cell_type": "code",
      "source": [
        "start = 5\n",
        "end = 9\n",
        "a = open(\"DemoRead.txt\", 'r')\n",
        "a.seek(start)\n",
        "a.read(end-start)"
      ],
      "metadata": {
        "colab": {
          "base_uri": "https://localhost:8080/",
          "height": 36
        },
        "id": "maiBSj3OP3H9",
        "outputId": "5f96db55-3cdb-42c0-e66b-cb1f6f74aa54"
      },
      "execution_count": null,
      "outputs": [
        {
          "output_type": "execute_result",
          "data": {
            "text/plain": [
              "'w ar'"
            ],
            "application/vnd.google.colaboratory.intrinsic+json": {
              "type": "string"
            }
          },
          "metadata": {},
          "execution_count": 22
        }
      ]
    },
    {
      "cell_type": "code",
      "source": [
        "out = a.read(5)\n",
        "out"
      ],
      "metadata": {
        "colab": {
          "base_uri": "https://localhost:8080/",
          "height": 36
        },
        "id": "EMRGAX4dQVTC",
        "outputId": "34d95bf8-bfeb-4844-d229-081b7516c5d1"
      },
      "execution_count": null,
      "outputs": [
        {
          "output_type": "execute_result",
          "data": {
            "text/plain": [
              "'e you'"
            ],
            "application/vnd.google.colaboratory.intrinsic+json": {
              "type": "string"
            }
          },
          "metadata": {},
          "execution_count": 23
        }
      ]
    },
    {
      "cell_type": "code",
      "source": [
        "out[::-1]"
      ],
      "metadata": {
        "colab": {
          "base_uri": "https://localhost:8080/",
          "height": 36
        },
        "id": "9wNAON6YQqqf",
        "outputId": "14ca92e0-2370-4265-c0e5-6b6ebb12953a"
      },
      "execution_count": null,
      "outputs": [
        {
          "output_type": "execute_result",
          "data": {
            "text/plain": [
              "'uoy e'"
            ],
            "application/vnd.google.colaboratory.intrinsic+json": {
              "type": "string"
            }
          },
          "metadata": {},
          "execution_count": 24
        }
      ]
    },
    {
      "cell_type": "code",
      "source": [
        "a.read(5)[::-1]\n"
      ],
      "metadata": {
        "colab": {
          "base_uri": "https://localhost:8080/",
          "height": 36
        },
        "id": "JlUhwVOYQvJi",
        "outputId": "f39c50f7-ba12-43a8-cd96-d939a9e1ab77"
      },
      "execution_count": null,
      "outputs": [
        {
          "output_type": "execute_result",
          "data": {
            "text/plain": [
              "''"
            ],
            "application/vnd.google.colaboratory.intrinsic+json": {
              "type": "string"
            }
          },
          "metadata": {},
          "execution_count": 25
        }
      ]
    },
    {
      "cell_type": "code",
      "source": [
        "# get current working directory\n",
        "import os\n",
        "\n",
        "os.getcwd()"
      ],
      "metadata": {
        "colab": {
          "base_uri": "https://localhost:8080/",
          "height": 36
        },
        "id": "GI2dIXSsQy8c",
        "outputId": "d4e16179-2544-44d2-9f85-7ac559246d35"
      },
      "execution_count": null,
      "outputs": [
        {
          "output_type": "execute_result",
          "data": {
            "text/plain": [
              "'/content'"
            ],
            "application/vnd.google.colaboratory.intrinsic+json": {
              "type": "string"
            }
          },
          "metadata": {},
          "execution_count": 26
        }
      ]
    },
    {
      "cell_type": "code",
      "source": [
        "# all files present in current working directory\n",
        "import os\n",
        "\n",
        "os.listdir()"
      ],
      "metadata": {
        "colab": {
          "base_uri": "https://localhost:8080/"
        },
        "id": "cqaM539iRNv4",
        "outputId": "1b151488-d23c-4dba-9cf3-a5d56aad28b8"
      },
      "execution_count": null,
      "outputs": [
        {
          "output_type": "execute_result",
          "data": {
            "text/plain": [
              "['.config', '.ipynb_checkpoints', 'DemoRead.txt', 'sample_data']"
            ]
          },
          "metadata": {},
          "execution_count": 27
        }
      ]
    },
    {
      "cell_type": "code",
      "source": [
        "# can i access files in a different directory? Yes\n",
        "a = open(\"/content/demofolder/file.txt\", 'r')\n",
        "a.read()"
      ],
      "metadata": {
        "colab": {
          "base_uri": "https://localhost:8080/",
          "height": 36
        },
        "id": "RQmlqArVRXQJ",
        "outputId": "d5e45b5a-0a10-4cfa-9ebf-ffc6ad05f24c"
      },
      "execution_count": null,
      "outputs": [
        {
          "output_type": "execute_result",
          "data": {
            "text/plain": [
              "'aafwadf'"
            ],
            "application/vnd.google.colaboratory.intrinsic+json": {
              "type": "string"
            }
          },
          "metadata": {},
          "execution_count": 30
        }
      ]
    },
    {
      "cell_type": "code",
      "source": [],
      "metadata": {
        "id": "bqpNKEEwRgZ3"
      },
      "execution_count": null,
      "outputs": []
    },
    {
      "cell_type": "markdown",
      "source": [
        "\n",
        "- **Read and Write (‘r+’)** : \n",
        "```\n",
        "    - Open the file for reading and writing. \n",
        "    - The handle is positioned at the beginning of the file.\n",
        "    - Raises FileNotFound error if the file does not exists.\n",
        "```"
      ],
      "metadata": {
        "id": "G2oGLqLAQ7z4"
      }
    },
    {
      "cell_type": "code",
      "source": [
        "file = open(\"DemoRead2.txt\", 'r+')"
      ],
      "metadata": {
        "colab": {
          "base_uri": "https://localhost:8080/",
          "height": 204
        },
        "id": "m63isNjHSuWB",
        "outputId": "5b22771d-a4b0-4f85-d061-203245cd2fad"
      },
      "execution_count": null,
      "outputs": [
        {
          "output_type": "error",
          "ename": "FileNotFoundError",
          "evalue": "ignored",
          "traceback": [
            "\u001b[0;31m---------------------------------------------------------------------------\u001b[0m",
            "\u001b[0;31mFileNotFoundError\u001b[0m                         Traceback (most recent call last)",
            "\u001b[0;32m<ipython-input-31-da91892a0e1f>\u001b[0m in \u001b[0;36m<cell line: 1>\u001b[0;34m()\u001b[0m\n\u001b[0;32m----> 1\u001b[0;31m \u001b[0mfile\u001b[0m \u001b[0;34m=\u001b[0m \u001b[0mopen\u001b[0m\u001b[0;34m(\u001b[0m\u001b[0;34m\"DemoRead2.txt\"\u001b[0m\u001b[0;34m,\u001b[0m \u001b[0;34m'r+'\u001b[0m\u001b[0;34m)\u001b[0m\u001b[0;34m\u001b[0m\u001b[0;34m\u001b[0m\u001b[0m\n\u001b[0m",
            "\u001b[0;31mFileNotFoundError\u001b[0m: [Errno 2] No such file or directory: 'DemoRead2.txt'"
          ]
        }
      ]
    },
    {
      "cell_type": "code",
      "source": [
        "file = open(\"DemoRead.txt\", 'r+')"
      ],
      "metadata": {
        "id": "pgXMJWVAS2UN"
      },
      "execution_count": null,
      "outputs": []
    },
    {
      "cell_type": "code",
      "source": [
        "file.read()"
      ],
      "metadata": {
        "colab": {
          "base_uri": "https://localhost:8080/",
          "height": 36
        },
        "id": "9qNU6TdbS8p8",
        "outputId": "9da65664-6a84-425a-dbb1-3aa4f5c5615b"
      },
      "execution_count": null,
      "outputs": [
        {
          "output_type": "execute_result",
          "data": {
            "text/plain": [
              "'Hi How are you'"
            ],
            "application/vnd.google.colaboratory.intrinsic+json": {
              "type": "string"
            }
          },
          "metadata": {},
          "execution_count": 33
        }
      ]
    },
    {
      "cell_type": "code",
      "source": [
        "file.write(\"First writing demo with r+.\")"
      ],
      "metadata": {
        "colab": {
          "base_uri": "https://localhost:8080/"
        },
        "id": "cd0JMLqAS-zL",
        "outputId": "cf81fde9-67f5-492c-dece-06b7db364cb3"
      },
      "execution_count": null,
      "outputs": [
        {
          "output_type": "execute_result",
          "data": {
            "text/plain": [
              "27"
            ]
          },
          "metadata": {},
          "execution_count": 34
        }
      ]
    },
    {
      "cell_type": "markdown",
      "source": [
        "- To save all the content, close the files"
      ],
      "metadata": {
        "id": "LTvmDj-dTWlQ"
      }
    },
    {
      "cell_type": "code",
      "source": [
        "file.close()"
      ],
      "metadata": {
        "id": "lVD8Uk3aTVLJ"
      },
      "execution_count": null,
      "outputs": []
    },
    {
      "cell_type": "markdown",
      "source": [
        "### It is very very important to close the files irrespective of what ops we do."
      ],
      "metadata": {
        "id": "IdWedwFrTflH"
      }
    },
    {
      "cell_type": "markdown",
      "source": [
        "Overwrite or Append"
      ],
      "metadata": {
        "id": "rHhZbC3qTFzP"
      }
    },
    {
      "cell_type": "code",
      "source": [
        "file = open(\"DemoRead.txt\", 'r+')"
      ],
      "metadata": {
        "id": "KxJtA8lTURvC"
      },
      "execution_count": null,
      "outputs": []
    },
    {
      "cell_type": "code",
      "source": [
        "file.closed"
      ],
      "metadata": {
        "colab": {
          "base_uri": "https://localhost:8080/"
        },
        "id": "28ceuw_TUUP0",
        "outputId": "93562ef1-566e-43e5-b207-a9a2ec0503b2"
      },
      "execution_count": null,
      "outputs": [
        {
          "output_type": "execute_result",
          "data": {
            "text/plain": [
              "False"
            ]
          },
          "metadata": {},
          "execution_count": 37
        }
      ]
    },
    {
      "cell_type": "code",
      "source": [
        "file.read(2)"
      ],
      "metadata": {
        "colab": {
          "base_uri": "https://localhost:8080/",
          "height": 36
        },
        "id": "nc07q6oKUYxP",
        "outputId": "e4f1c8e8-2c1d-4ca6-af13-6a2feeba111f"
      },
      "execution_count": null,
      "outputs": [
        {
          "output_type": "execute_result",
          "data": {
            "text/plain": [
              "'Hi'"
            ],
            "application/vnd.google.colaboratory.intrinsic+json": {
              "type": "string"
            }
          },
          "metadata": {},
          "execution_count": 38
        }
      ]
    },
    {
      "cell_type": "code",
      "source": [
        "file.close()"
      ],
      "metadata": {
        "id": "DeyTJbp1Ua3m"
      },
      "execution_count": null,
      "outputs": []
    },
    {
      "cell_type": "code",
      "source": [
        "file.closed"
      ],
      "metadata": {
        "colab": {
          "base_uri": "https://localhost:8080/"
        },
        "id": "4Z-PDsf2Uc35",
        "outputId": "57abca26-2893-4334-85bd-66b3d7c7d4c9"
      },
      "execution_count": null,
      "outputs": [
        {
          "output_type": "execute_result",
          "data": {
            "text/plain": [
              "True"
            ]
          },
          "metadata": {},
          "execution_count": 40
        }
      ]
    },
    {
      "cell_type": "code",
      "source": [
        "file.read()"
      ],
      "metadata": {
        "colab": {
          "base_uri": "https://localhost:8080/",
          "height": 204
        },
        "id": "HtmFaA3oUgez",
        "outputId": "b7eeff36-1a76-4573-e24f-a55c5fe0301e"
      },
      "execution_count": null,
      "outputs": [
        {
          "output_type": "error",
          "ename": "ValueError",
          "evalue": "ignored",
          "traceback": [
            "\u001b[0;31m---------------------------------------------------------------------------\u001b[0m",
            "\u001b[0;31mValueError\u001b[0m                                Traceback (most recent call last)",
            "\u001b[0;32m<ipython-input-41-f3fc120c03c1>\u001b[0m in \u001b[0;36m<cell line: 1>\u001b[0;34m()\u001b[0m\n\u001b[0;32m----> 1\u001b[0;31m \u001b[0mfile\u001b[0m\u001b[0;34m.\u001b[0m\u001b[0mread\u001b[0m\u001b[0;34m(\u001b[0m\u001b[0;34m)\u001b[0m\u001b[0;34m\u001b[0m\u001b[0;34m\u001b[0m\u001b[0m\n\u001b[0m",
            "\u001b[0;31mValueError\u001b[0m: I/O operation on closed file."
          ]
        }
      ]
    },
    {
      "cell_type": "markdown",
      "source": [
        "Context Manager: "
      ],
      "metadata": {
        "id": "wDJ9bJLSUOaW"
      }
    },
    {
      "cell_type": "code",
      "source": [
        "with open(\"DemoRead.txt\", 'r+') as file: # file = open(\"DemoRead.txt\", 'r+')\n",
        "    file.read()\n",
        "    file.write(\"Writing with context Manager\")"
      ],
      "metadata": {
        "id": "D9M4lDpdUQhZ"
      },
      "execution_count": null,
      "outputs": []
    },
    {
      "cell_type": "code",
      "source": [
        "with open(\"DemoRead.txt\", 'r+') as file:\n",
        "    print(file.read(2))\n",
        "    print(file.closed)\n",
        "    print(file.read(2))\n",
        "\n",
        "\n",
        "\n",
        "    "
      ],
      "metadata": {
        "colab": {
          "base_uri": "https://localhost:8080/"
        },
        "id": "fFwhOqDhU8l1",
        "outputId": "c6831016-b177-4ad9-833e-3fc87daf0617"
      },
      "execution_count": null,
      "outputs": [
        {
          "output_type": "stream",
          "name": "stdout",
          "text": [
            "Hi\n",
            "False\n",
            " H\n"
          ]
        }
      ]
    },
    {
      "cell_type": "code",
      "source": [
        "with open(\"DemoRead.txt\", 'r+') as file:\n",
        "    print(file.read(2))\n",
        "print(file.closed)\n",
        "file.read(2)"
      ],
      "metadata": {
        "colab": {
          "base_uri": "https://localhost:8080/",
          "height": 274
        },
        "id": "bTB6wq3JWLfb",
        "outputId": "a3928ea5-1036-419f-c5a4-665e38e453b7"
      },
      "execution_count": null,
      "outputs": [
        {
          "output_type": "stream",
          "name": "stdout",
          "text": [
            "Hi\n",
            "True\n"
          ]
        },
        {
          "output_type": "error",
          "ename": "ValueError",
          "evalue": "ignored",
          "traceback": [
            "\u001b[0;31m---------------------------------------------------------------------------\u001b[0m",
            "\u001b[0;31mValueError\u001b[0m                                Traceback (most recent call last)",
            "\u001b[0;32m<ipython-input-46-7c4d5d0de0a1>\u001b[0m in \u001b[0;36m<cell line: 4>\u001b[0;34m()\u001b[0m\n\u001b[1;32m      2\u001b[0m     \u001b[0mprint\u001b[0m\u001b[0;34m(\u001b[0m\u001b[0mfile\u001b[0m\u001b[0;34m.\u001b[0m\u001b[0mread\u001b[0m\u001b[0;34m(\u001b[0m\u001b[0;36m2\u001b[0m\u001b[0;34m)\u001b[0m\u001b[0;34m)\u001b[0m\u001b[0;34m\u001b[0m\u001b[0;34m\u001b[0m\u001b[0m\n\u001b[1;32m      3\u001b[0m \u001b[0mprint\u001b[0m\u001b[0;34m(\u001b[0m\u001b[0mfile\u001b[0m\u001b[0;34m.\u001b[0m\u001b[0mclosed\u001b[0m\u001b[0;34m)\u001b[0m\u001b[0;34m\u001b[0m\u001b[0;34m\u001b[0m\u001b[0m\n\u001b[0;32m----> 4\u001b[0;31m \u001b[0mfile\u001b[0m\u001b[0;34m.\u001b[0m\u001b[0mread\u001b[0m\u001b[0;34m(\u001b[0m\u001b[0;36m2\u001b[0m\u001b[0;34m)\u001b[0m\u001b[0;34m\u001b[0m\u001b[0;34m\u001b[0m\u001b[0m\n\u001b[0m",
            "\u001b[0;31mValueError\u001b[0m: I/O operation on closed file."
          ]
        }
      ]
    },
    {
      "cell_type": "code",
      "source": [
        "with open(\"DemoRead.txt\", 'r+') as file: # file = open(\"DemoRead.txt\", 'r+')\n",
        "    file.read()\n",
        "    file.write(\"Writing with context Manager\")"
      ],
      "metadata": {
        "id": "4H8N-ELSV85O"
      },
      "execution_count": null,
      "outputs": []
    },
    {
      "cell_type": "code",
      "source": [],
      "metadata": {
        "id": "q2_u6k8IXjsz"
      },
      "execution_count": null,
      "outputs": []
    },
    {
      "cell_type": "code",
      "source": [],
      "metadata": {
        "id": "-rAfyjptXjqH"
      },
      "execution_count": null,
      "outputs": []
    },
    {
      "cell_type": "code",
      "source": [
        "with open(\"DemoRead.txt\", 'r+') as file:\n",
        "    file.write(\"Writing with context Manager\")"
      ],
      "metadata": {
        "id": "TCdsHzj-Wtuv"
      },
      "execution_count": null,
      "outputs": []
    },
    {
      "cell_type": "code",
      "source": [
        "with open(\"DemoRead.txt\", 'r+') as file:\n",
        "    file.read()\n",
        "    file.write(\"Writing with context Manager\")"
      ],
      "metadata": {
        "id": "iZAL_agtW9Rw"
      },
      "execution_count": null,
      "outputs": []
    },
    {
      "cell_type": "code",
      "source": [
        "with open(\"DemoRead.txt\", 'r+') as file:\n",
        "    file.seek(2)\n",
        "    file.write(\"Writing with context Manager\")"
      ],
      "metadata": {
        "id": "lxhsKcRvXKzJ"
      },
      "execution_count": null,
      "outputs": []
    },
    {
      "cell_type": "markdown",
      "source": [
        "- Seeks only shifts the cursor while read shifts cursor and gives string as output"
      ],
      "metadata": {
        "id": "kCStwWoTYdCX"
      }
    },
    {
      "cell_type": "code",
      "source": [
        "with open(\"DemoRead.txt\", 'r') as file:\n",
        "    file.write(\"hello\")\n",
        "print(file.closed)"
      ],
      "metadata": {
        "colab": {
          "base_uri": "https://localhost:8080/",
          "height": 239
        },
        "id": "VWcTvdNXYAER",
        "outputId": "afe82adb-316c-4945-bc27-92fab94a17b8"
      },
      "execution_count": null,
      "outputs": [
        {
          "output_type": "error",
          "ename": "UnsupportedOperation",
          "evalue": "ignored",
          "traceback": [
            "\u001b[0;31m---------------------------------------------------------------------------\u001b[0m",
            "\u001b[0;31mUnsupportedOperation\u001b[0m                      Traceback (most recent call last)",
            "\u001b[0;32m<ipython-input-52-238319bbf1ef>\u001b[0m in \u001b[0;36m<cell line: 1>\u001b[0;34m()\u001b[0m\n\u001b[1;32m      1\u001b[0m \u001b[0;32mwith\u001b[0m \u001b[0mopen\u001b[0m\u001b[0;34m(\u001b[0m\u001b[0;34m\"DemoRead.txt\"\u001b[0m\u001b[0;34m,\u001b[0m \u001b[0;34m'r'\u001b[0m\u001b[0;34m)\u001b[0m \u001b[0;32mas\u001b[0m \u001b[0mfile\u001b[0m\u001b[0;34m:\u001b[0m\u001b[0;34m\u001b[0m\u001b[0;34m\u001b[0m\u001b[0m\n\u001b[0;32m----> 2\u001b[0;31m     \u001b[0mfile\u001b[0m\u001b[0;34m.\u001b[0m\u001b[0mwrite\u001b[0m\u001b[0;34m(\u001b[0m\u001b[0;34m\"hello\"\u001b[0m\u001b[0;34m)\u001b[0m\u001b[0;34m\u001b[0m\u001b[0;34m\u001b[0m\u001b[0m\n\u001b[0m\u001b[1;32m      3\u001b[0m \u001b[0mprint\u001b[0m\u001b[0;34m(\u001b[0m\u001b[0mfile\u001b[0m\u001b[0;34m.\u001b[0m\u001b[0mclosed\u001b[0m\u001b[0;34m)\u001b[0m\u001b[0;34m\u001b[0m\u001b[0;34m\u001b[0m\u001b[0m\n",
            "\u001b[0;31mUnsupportedOperation\u001b[0m: not writable"
          ]
        }
      ]
    },
    {
      "cell_type": "markdown",
      "source": [
        "- **Write Only (‘w’)** : \n",
        "    - Open the file for writing. \n",
        "    - For existing file, the data is truncated and over-written.\n",
        "    - The handle is positioned at the beginning of the file.\n",
        "\n",
        "    - Creates the file if the file does not exists.\n",
        "\n"
      ],
      "metadata": {
        "id": "AiikE1fdaQJg"
      }
    },
    {
      "cell_type": "code",
      "source": [
        "file = open(\"filenotexist.txt\", 'w')"
      ],
      "metadata": {
        "id": "C807t83hZ_N7"
      },
      "execution_count": null,
      "outputs": []
    },
    {
      "cell_type": "code",
      "source": [
        "file.write(\"Trying write with w Mode\")"
      ],
      "metadata": {
        "colab": {
          "base_uri": "https://localhost:8080/"
        },
        "id": "ih0Vs3Mea_UD",
        "outputId": "7a8203e7-5268-4995-bd99-2fff9db33c4f"
      },
      "execution_count": null,
      "outputs": [
        {
          "output_type": "execute_result",
          "data": {
            "text/plain": [
              "24"
            ]
          },
          "metadata": {},
          "execution_count": 54
        }
      ]
    },
    {
      "cell_type": "code",
      "source": [
        "file.read()"
      ],
      "metadata": {
        "colab": {
          "base_uri": "https://localhost:8080/",
          "height": 204
        },
        "id": "nIaedqJxbMvG",
        "outputId": "b643ffb5-b1e9-4596-e7dd-2e00f560e0f9"
      },
      "execution_count": null,
      "outputs": [
        {
          "output_type": "error",
          "ename": "UnsupportedOperation",
          "evalue": "ignored",
          "traceback": [
            "\u001b[0;31m---------------------------------------------------------------------------\u001b[0m",
            "\u001b[0;31mUnsupportedOperation\u001b[0m                      Traceback (most recent call last)",
            "\u001b[0;32m<ipython-input-55-f3fc120c03c1>\u001b[0m in \u001b[0;36m<cell line: 1>\u001b[0;34m()\u001b[0m\n\u001b[0;32m----> 1\u001b[0;31m \u001b[0mfile\u001b[0m\u001b[0;34m.\u001b[0m\u001b[0mread\u001b[0m\u001b[0;34m(\u001b[0m\u001b[0;34m)\u001b[0m\u001b[0;34m\u001b[0m\u001b[0;34m\u001b[0m\u001b[0m\n\u001b[0m",
            "\u001b[0;31mUnsupportedOperation\u001b[0m: not readable"
          ]
        }
      ]
    },
    {
      "cell_type": "code",
      "source": [
        "with open(\"filenotexist.txt\", 'r') as f :\n",
        "    print(f.read())"
      ],
      "metadata": {
        "colab": {
          "base_uri": "https://localhost:8080/"
        },
        "id": "H3KI0eTEbRrQ",
        "outputId": "c9c43f8d-7143-4e1d-8536-aa043499ab8f"
      },
      "execution_count": null,
      "outputs": [
        {
          "output_type": "stream",
          "name": "stdout",
          "text": [
            "\n"
          ]
        }
      ]
    },
    {
      "cell_type": "code",
      "source": [
        "file.close()"
      ],
      "metadata": {
        "id": "UiGtmehibids"
      },
      "execution_count": null,
      "outputs": []
    },
    {
      "cell_type": "code",
      "source": [
        "with open(\"filenotexist.txt\", 'r') as f :\n",
        "    print(f.read())"
      ],
      "metadata": {
        "colab": {
          "base_uri": "https://localhost:8080/"
        },
        "id": "tz5km1yCboiQ",
        "outputId": "09a40f05-990e-4964-f579-1486a0c224bb"
      },
      "execution_count": null,
      "outputs": [
        {
          "output_type": "stream",
          "name": "stdout",
          "text": [
            "Trying write with w Mode\n"
          ]
        }
      ]
    },
    {
      "cell_type": "code",
      "source": [
        "with open(\"DemoRead.txt\", 'w') as f :\n",
        "    (f.write(\"tryin to overwrite with w mode\"))"
      ],
      "metadata": {
        "id": "AsRP6_2sbr-o"
      },
      "execution_count": null,
      "outputs": []
    },
    {
      "cell_type": "code",
      "source": [
        "with open(\"DemoRead.txt\", 'w') as f :\n",
        "    pass"
      ],
      "metadata": {
        "id": "z8K4HPracBZ2"
      },
      "execution_count": null,
      "outputs": []
    },
    {
      "cell_type": "markdown",
      "source": [
        "\n",
        "- **Write and Read (‘w+’)** : \n",
        "    - Open the file for reading and writing. \n",
        "    - For existing file, data is truncated and over-written. \n",
        "    - The handle is positioned at the beginning of the file.\n",
        "    - Creates the file if the file does not exists.\n"
      ],
      "metadata": {
        "id": "w5x4k9EccrTJ"
      }
    },
    {
      "cell_type": "code",
      "source": [
        "# read and write to a new file\n",
        "\n",
        "with open(\"fileDemoWPlus.txt\", 'w+') as f :\n",
        "    print(f.read())\n",
        "    f.write(\"Writing with w+\")"
      ],
      "metadata": {
        "colab": {
          "base_uri": "https://localhost:8080/"
        },
        "id": "OpmtEFtocN1w",
        "outputId": "7f103780-7347-4192-e979-ac3b72f9d69c"
      },
      "execution_count": null,
      "outputs": [
        {
          "output_type": "stream",
          "name": "stdout",
          "text": [
            "\n"
          ]
        }
      ]
    },
    {
      "cell_type": "code",
      "source": [
        "# read and write to an existing file\n",
        "with open(\"fileDemoWPlus.txt\", 'w+') as f :\n",
        "    print(f.read()) # line 1: Blank\n",
        "    f.write(\"Writing one more line with w+\") # line 2 : Append or overwrite? Overwritten\n",
        "    print(f.read()) # line 3: Blank \n"
      ],
      "metadata": {
        "colab": {
          "base_uri": "https://localhost:8080/"
        },
        "id": "C9XtX2-YdMf7",
        "outputId": "96fae6e3-1b30-4aa4-ddd2-57719b71c12b"
      },
      "execution_count": null,
      "outputs": [
        {
          "output_type": "stream",
          "name": "stdout",
          "text": [
            "\n",
            "\n"
          ]
        }
      ]
    },
    {
      "cell_type": "code",
      "source": [
        "with open(\"fileDemoWPlus.txt\", 'r+') as f :\n",
        "    print(f.read()) # line 1: Blank\n",
        "    f.write(\"Writing one more line with w+\") # line 2 : Append or overwrite? Overwritten\n",
        "    print(f.read()) # line 3: Blank"
      ],
      "metadata": {
        "colab": {
          "base_uri": "https://localhost:8080/"
        },
        "id": "kfkq1ka4d2l7",
        "outputId": "0c74ce4d-3d05-449e-8682-f753f581e474"
      },
      "execution_count": null,
      "outputs": [
        {
          "output_type": "stream",
          "name": "stdout",
          "text": [
            "Writing one more line with w+\n",
            "\n"
          ]
        }
      ]
    },
    {
      "cell_type": "markdown",
      "source": [
        "- **Append Only (‘a’)** : \n",
        "    - Open the file for writing. \n",
        "    - The file is created if it does not exist. \n",
        "    - The handle is positioned at the end of the file. \n",
        "    - The data being written will be inserted at the end, after the existing data.\n"
      ],
      "metadata": {
        "id": "uCa0-YB7eunD"
      }
    },
    {
      "cell_type": "code",
      "source": [
        "with open(\"DemoRead.txt\", 'a') as f:\n",
        "    f.write(\"GHI\") # line1 : append \n",
        "    f.read() # will this work? No"
      ],
      "metadata": {
        "colab": {
          "base_uri": "https://localhost:8080/",
          "height": 239
        },
        "id": "8peLWHVEekvx",
        "outputId": "accb3a38-fed5-40c2-c0e5-6e88032a7277"
      },
      "execution_count": null,
      "outputs": [
        {
          "output_type": "error",
          "ename": "UnsupportedOperation",
          "evalue": "ignored",
          "traceback": [
            "\u001b[0;31m---------------------------------------------------------------------------\u001b[0m",
            "\u001b[0;31mUnsupportedOperation\u001b[0m                      Traceback (most recent call last)",
            "\u001b[0;32m<ipython-input-67-6cba9445d6b8>\u001b[0m in \u001b[0;36m<cell line: 1>\u001b[0;34m()\u001b[0m\n\u001b[1;32m      1\u001b[0m \u001b[0;32mwith\u001b[0m \u001b[0mopen\u001b[0m\u001b[0;34m(\u001b[0m\u001b[0;34m\"DemoRead.txt\"\u001b[0m\u001b[0;34m,\u001b[0m \u001b[0;34m'a'\u001b[0m\u001b[0;34m)\u001b[0m \u001b[0;32mas\u001b[0m \u001b[0mf\u001b[0m\u001b[0;34m:\u001b[0m\u001b[0;34m\u001b[0m\u001b[0;34m\u001b[0m\u001b[0m\n\u001b[1;32m      2\u001b[0m     \u001b[0mf\u001b[0m\u001b[0;34m.\u001b[0m\u001b[0mwrite\u001b[0m\u001b[0;34m(\u001b[0m\u001b[0;34m\"GHI\"\u001b[0m\u001b[0;34m)\u001b[0m \u001b[0;31m# line1 : append\u001b[0m\u001b[0;34m\u001b[0m\u001b[0;34m\u001b[0m\u001b[0m\n\u001b[0;32m----> 3\u001b[0;31m     \u001b[0mf\u001b[0m\u001b[0;34m.\u001b[0m\u001b[0mread\u001b[0m\u001b[0;34m(\u001b[0m\u001b[0;34m)\u001b[0m \u001b[0;31m# will this work? No\u001b[0m\u001b[0;34m\u001b[0m\u001b[0;34m\u001b[0m\u001b[0m\n\u001b[0m",
            "\u001b[0;31mUnsupportedOperation\u001b[0m: not readable"
          ]
        }
      ]
    },
    {
      "cell_type": "code",
      "source": [
        "with open(\"DemoReadAMode.txt\", 'a') as f:\n",
        "    f.write(\"GHI\") # line1 : append "
      ],
      "metadata": {
        "id": "obQ3ooXPfpvk"
      },
      "execution_count": null,
      "outputs": []
    },
    {
      "cell_type": "code",
      "source": [
        "with open(\"DemoReadAMode.txt\", 'a') as f:\n",
        "    f.seek(0)\n",
        "    f.write(\"Overwriting\") "
      ],
      "metadata": {
        "id": "mnjtLZl_f1b0"
      },
      "execution_count": null,
      "outputs": []
    },
    {
      "cell_type": "markdown",
      "source": [
        "\n",
        "- **Append and Read (‘a+’)** : \n",
        "    - Open the file for reading and writing. \n",
        "    - The file is created if it does not exist. \n",
        "    - The handle is positioned at the end of the file. \n",
        "    - The data being written will be inserted at the end, after the existing data."
      ],
      "metadata": {
        "id": "7-b4fwfkgS4n"
      }
    },
    {
      "cell_type": "code",
      "source": [
        "with open(\"DemoReadAMode.txt\", 'a+') as f:\n",
        "    f.seek(0)\n",
        "    print(f.read(3))\n",
        "    f.write(\"APPENDPLUS\") "
      ],
      "metadata": {
        "colab": {
          "base_uri": "https://localhost:8080/"
        },
        "id": "hNCRXDAjgBt2",
        "outputId": "0f4dbb85-0c35-44aa-d36d-cb6ee51901a0"
      },
      "execution_count": null,
      "outputs": [
        {
          "output_type": "stream",
          "name": "stdout",
          "text": [
            "GHI\n"
          ]
        }
      ]
    },
    {
      "cell_type": "markdown",
      "source": [
        "-- Writelines and Readlines"
      ],
      "metadata": {
        "id": "RI6Oa5RjhXVr"
      }
    },
    {
      "cell_type": "code",
      "source": [
        "with open(\"DemoWritelines.txt\", \"w\") as f:\n",
        "    f.writelines([\"A\\n\", \"B\\n\", \"C\\n\"])"
      ],
      "metadata": {
        "id": "RFa4L2LlhU8a"
      },
      "execution_count": null,
      "outputs": []
    },
    {
      "cell_type": "code",
      "source": [
        "with open(\"DemoWritelines.txt\", \"r\") as f:\n",
        "    print(f.read()) # gives you only single string "
      ],
      "metadata": {
        "colab": {
          "base_uri": "https://localhost:8080/"
        },
        "id": "1d_WzHKVh7f3",
        "outputId": "05682cb3-f14a-42da-fc42-077aaee785c3"
      },
      "execution_count": null,
      "outputs": [
        {
          "output_type": "stream",
          "name": "stdout",
          "text": [
            "A\n",
            "B\n",
            "C\n",
            "\n"
          ]
        }
      ]
    },
    {
      "cell_type": "code",
      "source": [
        "with open(\"DemoWritelines.txt\", \"r\") as f:\n",
        "    a = (f.read())\n",
        "\n",
        "print(a)"
      ],
      "metadata": {
        "colab": {
          "base_uri": "https://localhost:8080/"
        },
        "id": "jjDRBvo3ifPv",
        "outputId": "5a1ac3e0-cf58-477c-babe-7c2349928287"
      },
      "execution_count": null,
      "outputs": [
        {
          "output_type": "stream",
          "name": "stdout",
          "text": [
            "A\n",
            "B\n",
            "C\n",
            "\n"
          ]
        }
      ]
    },
    {
      "cell_type": "code",
      "source": [
        "with open(\"DemoWritelines.txt\", \"r\") as f:\n",
        "    print(f.readlines()) # gives you a list of string"
      ],
      "metadata": {
        "colab": {
          "base_uri": "https://localhost:8080/"
        },
        "id": "--Iw7W1CiD7Y",
        "outputId": "6e461926-878a-420a-9b48-a48a9df497d8"
      },
      "execution_count": null,
      "outputs": [
        {
          "output_type": "stream",
          "name": "stdout",
          "text": [
            "['A\\n', 'B\\n', 'C\\n']\n"
          ]
        }
      ]
    },
    {
      "cell_type": "code",
      "source": [
        "with open(\"DemoWritelines.txt\", \"r\") as f:\n",
        "    a = (f.readlines())\n",
        "print(a)"
      ],
      "metadata": {
        "colab": {
          "base_uri": "https://localhost:8080/"
        },
        "id": "4AwfmciSil9x",
        "outputId": "4c5cb4e3-ae8a-40cf-be1b-730c418aa5d0"
      },
      "execution_count": null,
      "outputs": [
        {
          "output_type": "stream",
          "name": "stdout",
          "text": [
            "['A\\n', 'B\\n', 'C\\n']\n"
          ]
        }
      ]
    },
    {
      "cell_type": "code",
      "source": [
        "with open(\"DemoWritelines.txt\", \"r\") as f:\n",
        "    a = (f.readline()) # reads first line\n",
        "print(a)"
      ],
      "metadata": {
        "colab": {
          "base_uri": "https://localhost:8080/"
        },
        "id": "u3frrSpkis4W",
        "outputId": "256a6322-bc4f-4f64-da1d-e1cb9e547d3f"
      },
      "execution_count": null,
      "outputs": [
        {
          "output_type": "stream",
          "name": "stdout",
          "text": [
            "A\n",
            "\n"
          ]
        }
      ]
    },
    {
      "cell_type": "code",
      "source": [
        "with open(\"DemoWritelines.txt\", \"r\") as f:\n",
        "    print(f.readline()) # reads first line  into string (reads chars till it encounters /n) \n",
        "    print(f.readline())# reads second line into string\n"
      ],
      "metadata": {
        "colab": {
          "base_uri": "https://localhost:8080/"
        },
        "id": "OkQedeD4iy1E",
        "outputId": "3eaafb87-eb19-4428-ba9a-ec98c490297c"
      },
      "execution_count": null,
      "outputs": [
        {
          "output_type": "stream",
          "name": "stdout",
          "text": [
            "A\n",
            "\n",
            "B\n",
            "\n"
          ]
        }
      ]
    },
    {
      "cell_type": "code",
      "source": [
        "with open(\"DemoWritewithoutN.txt\", \"w\") as f:\n",
        "    f.writelines([\"A\", \"B\", \"C\"])"
      ],
      "metadata": {
        "id": "kIxBmuyWjYlE"
      },
      "execution_count": null,
      "outputs": []
    },
    {
      "cell_type": "code",
      "source": [
        "with open(\"DemoWritewithoutN.txt\", \"w\") as f:\n",
        "    f.write(\"A\\nB\\nC\\n\")"
      ],
      "metadata": {
        "id": "Y_dyav1-jkuS"
      },
      "execution_count": null,
      "outputs": []
    },
    {
      "cell_type": "markdown",
      "source": [
        "#### How can we read this image in python"
      ],
      "metadata": {
        "id": "JzZ1jJwlhUwL"
      }
    },
    {
      "cell_type": "code",
      "source": [
        "with open('Unknown.jpg', 'r') as f:\n",
        "    print(f.read())"
      ],
      "metadata": {
        "colab": {
          "base_uri": "https://localhost:8080/",
          "height": 381
        },
        "id": "0QJjaMcDhUfw",
        "outputId": "34c01eec-1724-42d7-e758-7242a2d1949d"
      },
      "execution_count": null,
      "outputs": [
        {
          "output_type": "error",
          "ename": "UnicodeDecodeError",
          "evalue": "ignored",
          "traceback": [
            "\u001b[0;31m---------------------------------------------------------------------------\u001b[0m",
            "\u001b[0;31mUnicodeDecodeError\u001b[0m                        Traceback (most recent call last)",
            "\u001b[0;32m<ipython-input-85-1ba518bd75f4>\u001b[0m in \u001b[0;36m<cell line: 1>\u001b[0;34m()\u001b[0m\n\u001b[1;32m      1\u001b[0m \u001b[0;32mwith\u001b[0m \u001b[0mopen\u001b[0m\u001b[0;34m(\u001b[0m\u001b[0;34m'Unknown.jpg'\u001b[0m\u001b[0;34m,\u001b[0m \u001b[0;34m'r'\u001b[0m\u001b[0;34m)\u001b[0m \u001b[0;32mas\u001b[0m \u001b[0mf\u001b[0m\u001b[0;34m:\u001b[0m\u001b[0;34m\u001b[0m\u001b[0;34m\u001b[0m\u001b[0m\n\u001b[0;32m----> 2\u001b[0;31m     \u001b[0mprint\u001b[0m\u001b[0;34m(\u001b[0m\u001b[0mf\u001b[0m\u001b[0;34m.\u001b[0m\u001b[0mread\u001b[0m\u001b[0;34m(\u001b[0m\u001b[0;34m)\u001b[0m\u001b[0;34m)\u001b[0m\u001b[0;34m\u001b[0m\u001b[0;34m\u001b[0m\u001b[0m\n\u001b[0m",
            "\u001b[0;32m/usr/lib/python3.9/codecs.py\u001b[0m in \u001b[0;36mdecode\u001b[0;34m(self, input, final)\u001b[0m\n\u001b[1;32m    320\u001b[0m         \u001b[0;31m# decode input (taking the buffer into account)\u001b[0m\u001b[0;34m\u001b[0m\u001b[0;34m\u001b[0m\u001b[0m\n\u001b[1;32m    321\u001b[0m         \u001b[0mdata\u001b[0m \u001b[0;34m=\u001b[0m \u001b[0mself\u001b[0m\u001b[0;34m.\u001b[0m\u001b[0mbuffer\u001b[0m \u001b[0;34m+\u001b[0m \u001b[0minput\u001b[0m\u001b[0;34m\u001b[0m\u001b[0;34m\u001b[0m\u001b[0m\n\u001b[0;32m--> 322\u001b[0;31m         \u001b[0;34m(\u001b[0m\u001b[0mresult\u001b[0m\u001b[0;34m,\u001b[0m \u001b[0mconsumed\u001b[0m\u001b[0;34m)\u001b[0m \u001b[0;34m=\u001b[0m \u001b[0mself\u001b[0m\u001b[0;34m.\u001b[0m\u001b[0m_buffer_decode\u001b[0m\u001b[0;34m(\u001b[0m\u001b[0mdata\u001b[0m\u001b[0;34m,\u001b[0m \u001b[0mself\u001b[0m\u001b[0;34m.\u001b[0m\u001b[0merrors\u001b[0m\u001b[0;34m,\u001b[0m \u001b[0mfinal\u001b[0m\u001b[0;34m)\u001b[0m\u001b[0;34m\u001b[0m\u001b[0;34m\u001b[0m\u001b[0m\n\u001b[0m\u001b[1;32m    323\u001b[0m         \u001b[0;31m# keep undecoded input until the next call\u001b[0m\u001b[0;34m\u001b[0m\u001b[0;34m\u001b[0m\u001b[0m\n\u001b[1;32m    324\u001b[0m         \u001b[0mself\u001b[0m\u001b[0;34m.\u001b[0m\u001b[0mbuffer\u001b[0m \u001b[0;34m=\u001b[0m \u001b[0mdata\u001b[0m\u001b[0;34m[\u001b[0m\u001b[0mconsumed\u001b[0m\u001b[0;34m:\u001b[0m\u001b[0;34m]\u001b[0m\u001b[0;34m\u001b[0m\u001b[0;34m\u001b[0m\u001b[0m\n",
            "\u001b[0;31mUnicodeDecodeError\u001b[0m: 'utf-8' codec can't decode byte 0xff in position 0: invalid start byte"
          ]
        }
      ]
    },
    {
      "cell_type": "code",
      "source": [
        "# 'rb' to handle multimedia"
      ],
      "metadata": {
        "id": "wJKcAqcXgjHf"
      },
      "execution_count": null,
      "outputs": []
    },
    {
      "cell_type": "code",
      "source": [
        "with open('Unknown.jpg', 'rb') as f:\n",
        "    print(f.read())"
      ],
      "metadata": {
        "colab": {
          "base_uri": "https://localhost:8080/"
        },
        "id": "bseWybPqkDCM",
        "outputId": "d73e4ab2-5e4b-4b2c-925b-cc3fb3253e31"
      },
      "execution_count": null,
      "outputs": [
        {
          "output_type": "stream",
          "name": "stdout",
          "text": [
            "b'\\xff\\xd8\\xff\\xe0\\x00\\x10JFIF\\x00\\x01\\x01\\x00\\x00\\x01\\x00\\x01\\x00\\x00\\xff\\xdb\\x00\\x84\\x00\\n\\x07\\x08\\x16\\x15\\x15\\x18\\x15\\x15\\x16\\x19\\x19\\x18\\x18\\x18\\x1a\\x18\\x18\\x18\\x1a\\x1a\\x1a\\x1a\\x1c\\x18\\x1c\\x19\\x19\\x19\\x1a\\x18\\x1c\\x18\\x1a\\x1c!.%\\x1c\\x1e+!\\x18\\x18&8&+/1555\\x1a$;@;4?.451\\x01\\x0c\\x0c\\x0c\\x10\\x0f\\x10\\x1e\\x12\\x12\\x1e4,$+41444444441444444444444444444444444444444444444444\\xff\\xc0\\x00\\x11\\x08\\x00\\xb1\\x01\\x1d\\x03\\x01\"\\x00\\x02\\x11\\x01\\x03\\x11\\x01\\xff\\xc4\\x00\\x1b\\x00\\x00\\x02\\x03\\x01\\x01\\x01\\x00\\x00\\x00\\x00\\x00\\x00\\x00\\x00\\x00\\x00\\x00\\x04\\x01\\x02\\x03\\x05\\x06\\x07\\xff\\xc4\\x008\\x10\\x00\\x01\\x03\\x02\\x03\\x03\\t\\x08\\x02\\x02\\x03\\x01\\x00\\x00\\x00\\x00\\x01\\x00\\x02\\x11\\x03!\\x04\\x121AQa\\x05\"Rq\\x81\\x91\\xa1\\xd1\\xf0\\x06\\x13\\x142\\x92\\xb1\\xc1\\xe1BSb\\xf1\\x15\\xb2\\xd2r\\xff\\xc4\\x00\\x19\\x01\\x00\\x03\\x01\\x01\\x01\\x00\\x00\\x00\\x00\\x00\\x00\\x00\\x00\\x00\\x00\\x00\\x00\\x01\\x02\\x03\\x04\\x05\\xff\\xc4\\x00,\\x11\\x00\\x02\\x02\\x01\\x03\\x04\\x01\\x02\\x06\\x03\\x01\\x00\\x00\\x00\\x00\\x00\\x00\\x01\\x02\\x11\\x03\\x12!1\\x04\\x13AQa\\x14\"\\x052Rq\\x91\\xa1#B\\xb1\\x15\\xff\\xda\\x00\\x0c\\x03\\x01\\x00\\x02\\x11\\x03\\x11\\x00?\\x00\\xf9;\\x1eB\\x93u\\xd0\\xc4a\\x1c5g\\x1blI\\x11\\x97P\\xb4\\x8bL\\xd6X\\xe5\\x17L\\xbd\\x18\\x82\\xd3\\xb7E\\x0c\\xa5&\\x14\\xb4\\xce\\x8a\\xcd$\\xe9c\\xb7\\x8acT\\xe8\\xd5\\x94\\x8bnLO\\x11\\xf6R\\xe6v\\xf8*\\x83?6\\xbcu\\xefP\\xf6\\x90lT\\xd35\\xd9-\\x91\\x0e\\xc3\\x83\\xb0\\xf6lK>\\x91\\t\\xdau\\xa3\\xe6)\\x87\\x80\\xe1g\\x0e\\xa3\\x1f}\\xa8\\xb6\\xb9\\x17n2V\\x8eS\\\\v\\xa9kv\\xa6+Q3\\xb3\\xacB\\xcd\\xa4\\x8b\\x15f\\x0e-=\\xcd\\x1f\\x0e\\x83\\x1c\\n\\xd2\\x9e\\x1eo \\r\\xe5e=JX\\x0c\\xc8\\x945\\xe8\\xd15{\\xa3G\\x89\\x04\\r\\x9e)\\'\\x85\\xd1c\\x01\\xd0\\xdf\\xa9.\\xfa\\x1b\\xf7\\xa4\\x82qmX\\xb53pS\\x8f\\xa2`;aX\\x06AO\\xd2\\xae\\xdc\\xa5\\x8e\\xd0\\xdd\\xa7q\\xb4\\x8e\\xa2\\x02oac\\x8av\\xa4(j\\xc0\\x8d\\xaa\\x87z\\x9a\\x8d\\x97w\\xadYO\\x9b\\xdb\\t\\x8a\\x9bto\\x87\\x12\\x08\\xe1\\xfbK\\xd4\\xa5\\x13\\xbd3A\\x86@\\x1a\\x82\\xafQ\\xb725\\x16=\\x8axf\\xee\\x1a\\xa2&\\xf0\\x0bE\\xef\\x0b\\x16\\xad^\\xdd\\xcb!\\xaa\\xa4`\\xf96-\\x90\\xb0~\\x89\\x8a;\\x95\\x1c\\xc4\\x04\\x95\\xab\\x16\\x85-*\\\\\\xd5j\"\\xe9\\xa3\\x1a\\xdc\\xb3\\xd8\\xb3Z\\xd4+8L\\xa7\\xc9W\\x85R,\\xae\\xf0\\xaaB\\teX\\xd9[\\x1b\\x054\\xd8v\\x0fE\\x0fdj\\x80\\xa7\\xc9\\x8eY],+rA\\xd2\\x1a|e$\\xc3$l\\xba\\xdd\\xf5\\xe5\\xa7\\xae\\x07\\x1e>\\xb7\\xa9h\\xd3\\x1bQve\\x89\\xa9#\\xac\\xcc%\\xc3ej\\xe6\\xd9P\\xbe\\x10&\\xed\\xdb7\\xa5\\x8a\\xeb\\xefV\\xac\\xf0~R8\\x84\\xa1i\\nJTWrUL\\x98#N\\xe5f;|\\xf6\\x1fWP\\xc7\\x91\\xbd0\\xd1\\xba|\\x10(\\xab\\xe0\\xcc\\x19:\\x9e\\xd5\\xa9a\\xdb2\\xab\\xee\\xd6\\x8d|\\xea\\x83D\\xbd\\x85&l(}\\x08\\xd2\\xebp\\xc5z\\x8c\\xb2Vk\\xa3aP\\xf8\\xb1\\x05g\\x13\\xb520\\xf2$k\\xb9U\\xb4\\x88)\\xda!\\xc2F%\\x857\\x84\\xc3N\\xabK).\\x90\\x00\\xd4\"\\xec\\xb8\\xc1\\'l_\\x13N&6[\\xadd\\xc7E\\xcd\\xf7\\xcf\\xdcq]&a\\xf3\\t\\xf0V\\xab\\x86hl\\xec\\xda\\x95\\x97\\xdao\\xeeG5\\xed\\x98\\x80{VNaM1\\xa5\\xb2\\xdb\\xc4\\xa6)\\xe1\\xc1\\xbavg\\xa1\\xc8\\xc3\\x0b\\x85\\x9b\\x9f\\x1f\\xc2*\\x8c\\x8e An\\xa28\\xa6\\xf1/\\xc9f\\xed\\x128,p\\xcc\\xcf\\r\\xd3`\\xfd\\xf8\\xa1{-\\xc5/\\xb5r[\\x00\\xeexti\\xb2H\\x0blQ\\x04\\xf3f&gk\\x8e\\xee\\xa58\\xca9\\x0bX>a\\xcewu\\x82\\xb5*@\\xb7U\\x0e\\xb97\\x8cZO\\x19\\xcd};\\xc8\\xd1eV\\x9d\\xe7bo\\x12\\xc80\\x15\\xe90\\x16:w\\xcf\\x80U{\\x1c\\xef\\x1d\\xc9\\xc4A\\x96\\xba\\xd1\\x82e\\\\\\xd1#e\\x95\\xa8\\xc2\\xa6B\\x8bN\\x98\\x95V\\xaa\\xd1\\x0b\\\\HY\\xb6\\xc14a5R(\\xf2\\xae\\xd6\\xdaVq+g\\xe9\\t\\x92\\xb7\\xb6dU@V!D&I\\xbb+e\\xd3Y\\xff\\x00K\\x17:U\\x15\\xd2\\x1d\\xb7\\xb1p\\xd8\\x04\\x9e\\x1ej\\xb4\\x9aO\\xad\\x15\\xdf\\xa1\\xec\\x8e\\xe5,f\\xa3K\\x0f\\x14\\x14\\xa3l\\x1c\\xd9\\xd3\\xf4\\xaa\\xeaM\\xde\\xac\\xd6\\xc8\\x81\\xb1/P]C-\\xaaWE\\x81\\x07T1\\xb1\\xae\\x8a\\x8dr\\xd5\\xa52S\\xb2\\xd5\\x19\\x07Px\\x85\\xad\\x07\\x81\\xda\\xb3{\\xc9\\xd4\\xcfZ\\xa0$\\x14\\x17j.\\xd0\\xcd\\x8a\\x9fv\\xb2k\\x93\\x93-\\x1aL^\\'\\xc4$\\xf65\\x8dK\\x90/\\xb0\\x1e\\xbfj\\x86\\xea\\xaf*(\\xbb\\x9c?)P\\xdc\\xb7\\xa6kI\\x97\\x89M\\xb2\\x9c\\xdb\\xb0%\\xdcoo]\\xa8mC\\xad\\xca\\x96m\\x06\\x93\\xa2\\xf5\\xe9\\xc1ZPm\\xb7+\\x13\\x9b]U\\xdbL\\x88J\\xcd\\x14>\\xeb\\\\\\x19\\xb2\\xa1i\\x1e\\x8a\\xab\\x9eI\\x8d\\x87E\\xa9\\x00\\xda\\x14\\xd5al[\\xb0z\\xb2\\xab\\x07\\x17_\\x05\\xb0\\xd8\\\\\\xce\\x01\\xdd\\xe5eX\\xf3\\xcd\\xa0\\x08\\x00p\\xd1n\\xca\\xd22\\xcc\\x1d\\x8a\\xf5Y\\x9b\\x9d\\xbc\\x00T\\xdb\\xbd\\xcd4FQ\\xfbD*S\\xdb\\x13\\xc5W\\x0c\\xfc\\xbd~I\\xe6\\xd1\\xe6\\x91u\\x830\\xc2f\\x7f*\\x94\\x8c\\xa5\\x89\\xa6\\x9a\\x19\\xccj4<\\x8b\\x8b\\x15Z\\x14\\x88$\\x02\\xaf\\x85xa;\\xb7\\x19\\xbe\\xf8M\\xb9\\xa0\\xe5-\\xd0\\xeav\\xa9n\\xb6:#\\x14\\xd5\\xbe|\\x9c\\xda\\x98bd\\x9dw,\\x98\\xdc\\xae\\x87\\xd8\\x14\\xc5!\\x99\\xd0u\\x1a\\xfe\\x96\\xf8\\x9c3I\\x07\\x86\\x9bJw[3-\\x1a\\xb7\\x89\\xcd\\xc4\\x82,.\\x06\\x9cB\\xc9\\xcc\\xd2\\x16\\xd8\\x96\\x16\\xdbv\\x9dH\\x9elw~\\x95.\\x0c%\\x1b\\x93\\xb1z\\xb4e)U\\x89\\xf7LA\\xd1,\\xe6^7\\x95Q9\\xf2E\\x11K\\x0cr\\x17\\xee0\\xb2!w\\xf1\\x18l\\x94\\xb2\\xf4\\xa0\\xf8.!j#-V^l=\\xaaO\\x9a2\\r\\x9d\\x15\\x0bS\\x98f\\\\\\xc8\\xb0\\x17\\xfc%\\xaa\\x19*\\xafs\\x99\\xc7k0!X5]\\xac\\x95\\xa3\\xa12\\x12*\\xd12z\\x96\\xd4\\x99\\x9ax\\x9b\\xf5\\x05\\x19\\'\\x9a\\xdd~\\xdd\\xabzR\\xd6F\\xb0vAQ.\\r\\xf1\\xad\\xf7\\xe0\\xc1\\xaf\\xcbm\\xe0\\xc8\\xec\\xb2J\\xae\\xabZ\\x8f+\\x02T\\xa4NI\\xf8D\\xc2\\xbbP\\xd7\\xf0V\\x10t\\xb2\\xa2\\x10 +{\\xb3\\xaa\\x1bm\\x8a\\x87E\\x834\\xe2\\x98\\xa7H\\xc7\\xe7\\xc9V\\x83\\xc0\\xb3\\x84\\x83\\xe1\\xb8\\xad\\x1c\\xc8\\x81\\xae\\xe3\\xf9\\xe0\\x936\\x82IYZ\\xad \\\\,:\\x97a\\xa1\\xa0\\x00\\xf0\\\\\\xd2\\x00\\x17m\\x8c_\\xb3T\\x8d\\\\5\\xb33N\\xb0~\\xddJS.x\\xfc\\xa2\\x8cv\\x89\\xbb\\x1d\\x12\\x01\\xfb!kL\\xde\\xdeI\\xb8\\x84\\'[\\x0e\\x1a\\x9f\\xb9\\xf2]\\x0c+\\xf34H\\xb8\\xd0\\xef\\xed\\x0b\\x97E\\xdc\\xeb\\xdc\\'\\x98@\\xd0\\t\\xd8F\\xed\\xbe\\x8a\\xceQ;p\\xcf{\\xb3\\'<\\xb1\\xf7\\x16\\x9b\\x8d\\xc9\\xe6\\x06\\xb9\\xc0f\\x00D_^\\xed\\xa9\\x1cS\\xee\\x0e\\xdf\\xba\\x9c1i2\\xe2A\\x1a\\x045hq\\x9dI\\xaf\\x164\\xec,\\\\N\\xfb\\x1d\\xde\\n\\x19\\x88\\r\\x81\\xf5\\r\\x91\\xdc\\xac\\xfcP\\x16\\x1b~\\xfb\\x8a\\xa8\\xc3\\xe7\\x12\\x08\\x96\\xea-\\xbe\\xe66\\xa9\\xf1\\xb9\\xb3j\\xff\\x00\\xc7\\xc9\\xbe!\\x82\\x0b\\xa7P#\\xaf\\x82[\\x01\\x0e&>a\\xb3\\xee\\x9b\\xa2\\xcc\\xa3-\\x88 \\xee\\x11\\xd7\\x066\\xa4h\\x0c\\xaf#C\\xbfDE\\xdah2Zi\\xd7\\xeeo[\\n\\\\\\\\@\\xb8\\xdb\\xb9\\x18v\\x16\\xd9\\xdf) j\\x08\\xf1\\x017\\x86\\xa7P\\x93?)\\x06>\\xebw\\xb1\\xa5\\xb9\\x8d\\xbe\\xd3\\xc24P\\xe5\\xe0\\xd5aMj\\xe1\\x9c*\\xed\\xca\\xf0f=~\\xd3t\\xb1D\\xba2\\xe6\\x91\\x04\\xc6\\x9f\\xa5\\x1c\\xa3\\x87&\\xe0i\\xebT\\xce\\x02\\x93\\xc3\\x08\\xcc\\xd3\\xa6\\x85\\xa7\\xecJ\\xd5\\xb4\\xe3g,#%\\x95\\xc5~\\xe73\\x18\\xcd\\x83\\xd0K>\\xa5\\xa3r\\xe9c)G\\x03\\xb7\\xa8\\xaen^\\xb4E\\xece\\x9a\\rI\\xd1\\x10H\\x17\\xfc,tsx\\x10\\xbaXv\\xff\\x00\\x88\\xedKTg8\\x98\\xdc\\xad;2\\x966\\xa9\\x9d\\x9eY\\xf9\\x04n\\x1fe\\xe7r\\xae\\xf65\\xe5\\xf4\\xdax\\x0f\\xca\\xe7\\x86@\\xd1e\\x8bdt\\xf5\\xab\\\\\\xd3^\\x90\\xae-\\xe1\\xbc\\xc6\\x9d\\xb2z\\xd2$-\\xeb0\\xca\\xad6.\\x88\\xec\\x8f.v\\xe5@\\xcavUs\\x16\\xee\\x10\\x15K\\xa1K\\x91]\\xb5FT\\x98A\\x04\\xe8Ly\\xa9\\xc4\\xd5\\x9d:\\x95\\x1e\\xf9T!\\t_\"r\\xd2\\xb4\\xa3\\x17*\\x96\\xad\\\\\\xd5D\\xd9\\x83A\\x95H\\x0bHD&^\\x92\\xa0\\x95\\xaf\\xbc\\x95\\\\\\xaar\\xa6\\n\\xd1x\\x07E\\xb3]\\x16\\xd3\\xf3\\xd8\\x97\\rZ\\tE\\x16\\x99\\xa3\\x81\\x8b\\x1b\\r\\x88\\xa5\\x8a\"\\xc7I\\x9e\\xa5U\\\\\\x88\\xa4\\xc7\\xa9\\xa7hj\\xbcj6\\xed\\xd3\\xb5,\\xf6m\\xd5X)j\\x14h\\x1c\\xac\\x8a.!6\\xdcP\\xedK8*\\x86\\x148\\xa68\\xcaQ\\xe0}\\xa70\\x91\\xdc\\xa8\\xe7o\\xff\\x00]If\\x92\\x16\\xf4\\xdef\\xf7KM\\x1aw,\\xc6\\xa3\\x881)\\xfc\\x060\\xb4\\xdbX:z\\xd5-]\\x92Vm\\xe6\\x9b\\x10G\\t\\xfc\\x80\\x87\\x14\\xd0\\xa3\\x92P\\x95\\xa6zL>%\\x8f9d\\x07\\x1d\"c\\xaa\\x0e\\x92\\xb2\\xc5`!\\xc1\\xc4\\xf3N\\xeb\\x9e\\xc0\\x90\\xc1\\xb8\\x11\\x11}\\x87\\xc9u\\xdf\\x8a\\rfCy\\x99$\\xde8\\x11\\xdc\\xb0\\x94\\\\e\\xb1\\xeaG<rC\\xee\\x15\\xa9\\x88kZ2\\x92c\\xf8\\x92{\\xe5M\\x17\\xb2\\xa0\\xbb\\x88&l\\'q\\xb8\\x85\\xcc\\xc4\\x90M\\x96\\ryi\\x90HZv\\xd3G3\\xea\\xe4\\xa5\\xba\\xd8\\xeaV\\xc4\\x11\\xccy>[/\\xc2\\x13\\xb8\\x1c3\\\\\\xc9c\\xf9\\xdc-\\xb9pkTs\\xb9\\xce$\\x93\\xa9:\\xa69?\\x10\\xf0a\\xb2=mJP\\xfbv\\x14:\\x84\\xe7mZ\\xfe\\xce\\xedL,\\xb6]\\xad\\xc4\\xda\\xe4$\\x7f\\xe3NY`\\xcd}\\xfeJ\\xef\\xc7di\\x13$\\xef\\xb0\\xf3>\\x0b\\x1c?,d6\\xea\\xd2\\xdd\\xd2\\'o\\x9a\\xc5B\\\\\\xa3\\xb2Y\\xf16\\x93\\x12|\\x8b\\x10A\\x08i\\x9bn\\xda\\xbd\\x05ZM\\xaa\\'$8\\xed\\x13\\x04.c\\xf0\\x85\\xbdCn\\xcb\\xf1\\n\\x94\\x93U\\xe4\\x97\\x85\\xa7\\xa9;D5\\xf9\\x98\\x1b\\x1b|\\x14=\\x8d2\\xd9\\xd0[qL>\\x8eF\\x12LE\\x81\\xfe&x\\xcaF\\x9b\\x0c\\xf0\\x031<=\\x10\\x94j\\x9d\\x0f\"v\\x93\\\\\\xd0\\x85q)g\\x18)\\xaa\\x86L\\xec\\x9d6\\xa5*\\x95\\xa6\\xad\\x8f:p\\xa7d9\\xea\\r\\xd4\\xd3\\xa6\\\\V\\x8f\\xa5\\x1a\\xa9\\xd5\\xb8\\xf4I\\xab\\x17\\xca\\xa1\\xcbg1FHWfN\\x02\\xe4*\\xe5[\\x12\\xaa\\x93\\x93#B6\\xf7H\\xf7k\\xa2\\xda*\\xdf\\x0e\\x9e\\xa3^\\xd1\\xcc\\x14\\x95\\xbd\\xd2\\xe9\\x0c2>\\x19=h;L\\xe7\\nj\\xc2\\x9a\\x7f\\xe1\\xd4\\xfc:z\\xc3\\xb2\\xc4\\x855\"\\x9axPZ6\\x825\\x82\\xc4\\xcep\\xa4\\xa4Q]!\\x86S\\xf0\\xc8\\xee\\x0f\\xb2\\xceo\\xb9A\\xa4\\xba\\x83\\x0c\\xa9^\\x98h.:\\x04k\\x07\\x89\\xa4s\\xbd\\xd2\\xcd\\xcfkL\\x17\\x00wJG\\x15\\xca\\xaeu\\x9a o\\xd4\\xf6\\x1e\\xe5\\xce\\xeb\\xf5\\xe4\\x93\\x99\\xcf)+\\xd8\\xee;\\x94\\x18&L\\x9e\\x03^\\xd4\\x8dNR\\'\\xe5h\\x03\\x8d\\xcaD\\xa0\\tY\\xb9\\xb1[\\x90\\xd39N\\xa3n\\xd2\\x07\\x18\\x1f\\x95f\\xf2\\x9dY\\'4\\xc8\\x8b\\x80Gq\\xdb\\xc5,\\xcas\\xc1XSP\\xe6\\xcaJ^\\xcb\\x0cuN\\x97x\\x1eJ\\xe3\\x94_3n\\xa8Y{\\xa5L\\x97\\x89\\xedMM\\x92\\xe2\\xc7\\xa8\\xf2\\x9e\\xc7\\x8e\\xd1\\xe4\\x9f\\xc3\\xe3\\xdal\\x0cu\\xd9p\\x0c)\\x9fZ\\xf8*SbR\\x94Y\\xe9\\x98\\xe0\\xfb\\x83\\x9b\\xc5_\\xdc\\x1d\\xcb\\xcda\\xf1\\x0fa\\x0ei\\x83\\xbe5\\xe0f\\xdbW\\xa0\\xe4\\xaeT\\xf7\\xae\\xca\\xf0\\x03\\xb7\\xccN\\xeb\\x15Z\\xd9\\xbe9\\xc6N\\xa5\\xc9\\xd2\\xc1b\\xdc\\xcbj7\\x1d\\xdd{\\xd7j\\x93\\xd8\\xf3\\x98F`.t6\\xdf<.\\xb9n\\xc3!\\x80\\x8d\\xfe=\\x9a,\\xa4\\x93\\xdd\\x1e\\x9e,\\xd2\\xc7\\xb3\\xdd\\x1b\\xf2\\xc7\\xc8\"$k\\xa8\\x9d\\xd6\\xde\\xb9\\xd5\\x06Zc\\xfc\\x84\\x92A\\xfc\\x05\\xdc\\xa2\\xe0Fg\\x192LZ}h\\xb1\\xc7\\xb1\\x84H\\x83\\x17\\x1df\\xf1\\xde\\xb1NQ\\xda\\xbc\\x9d\\x8fD\\xed\\xda\\xba<\\xbb\\xf2\\xcd\\x88\\xed\\xd7\\xb5`ZINc\\xa0Z/\\xe6\\xb0e\\x17\\xeb\\x107\\xfa\\xd5j\\xa4y\\xd3\\xc7\\xf7W\\xfc7\\xa42\\t\\xda\\xb2\\x14\\x9c\\xe3*\\xf4\\xc1\\x99\\'\\xd7\\xdf\\xc1ld\\xef\\x8e\\x03\\xf2ROr\\xdcn)>\\x05\\xdfH7jV\\xa3\\xc2i\\xf4\\xcf\\xab\\xac\\xfd\\xcd\\xefn\\xdb\\xad\\x139\\xe7\\x16\\xf6HT\\x03\\xb9\\x19Jl\\xc0\\xd0,\\\\\\xfe\\t\\xd9\\x8b\\x85y;\\xe2\\x92\\xbbi&2\\xa3*\\xcbQ\\xdc\\xa0\\x8cE%>\\xe9l\\x1a\\xae\\x1a\\x8dE\\xf6\\xd0\\xb8\\xa4\\xae(\\xf0[\\x86\\xab\\x00\\x96\\xa1\\xa8!\\x7fr\\xae\\xda)\\x96\\xb5h\\xc6)r)A\\x0b\\xb6\\x8a\\xd0a\\xd3-b\\xdd\\xadR\\xe6^\\x94\"0\\xcb\\x89\\xedS\\xb2Q\\x8eo8\\xc5\\xcc\\x1d$\\xe5\\x1bO\\x9a\\xf5D\\xc2\\xf2\\xbc\\xbd\\xc8\\x0f\\xaf\\\\=\\xa6Z[\\x0e\\x92\\x00n]\\x00\\xb4\\xc1\\xd7C\\xaaq\\x96\\xfb\\x9c\\xddLZ\\x83QV\\xd9\\xe3\\xf0\\xf8b\\xeb\\xc8\\x8e& \\xf5\\xef\\xb2\\xbd\\x163ipt\\xf5i&\\t\\x9b\\x1d;\\x8ak\\x94\\xf0>\\xe5\\xe2\\x9b\\x8bM\\x9aHi. \\x19\\xb0\\xb0\\xbe\\xd5J\\xcfk\\x80`cZs\\tqy\\xb0\\x8b\\x07h\\x06\\x9bn2\\x9e\\xcd\\xec\\xf1\\xb4\\xb4\\xe9\\xf2\\x07\\n\\xd7\\x06\\x86\\x1eq\\x17m\\xc9\\xb4\\x93\\xb2\\xc0\\r\\xfc:\\xd4;\\x04f\\x00\\x92$\\x96\\x8etF\\xb7\\x1b\\x15\\xa9\\x12\\xdf\\x92A\\xfe@\\x16\\x96\\x90\\xdb\\x82\\xd7I\\xbe\\xb6\\x93c\\xaa\\xe8a\\xf1@\\xfc\\xc1\\xc1\\xc22\\x00\\x04\\x1b:\\xf7\\x07\\x85\\xba\\xd4I\\x9bc\\x85\\x89a\\xb0\\x85\\xd1\\x04_f\\xe2t\\xf0Oa\\xf9?{I0l-\\xb0^\\xfb\\']\\xdfn\\x87\\'\\xe1K\\xe2\\xc2\\x1a\\xd6\\xeag\\xf8\\x98\\x1a\\x8du\\x8dg\\xc7\\xba\\xceO\\x7f\\xce\\xc1\\x935\\x80l\\x88\\x10#\\xaf\\xe5\\x9e\\xb2\\xb9\\xa5\\x96\\x8fO\\x1fL\\x9a\\xdc\\xf1\\x8f\\xe4\\xf3r\\x01\\x81rcf\\xd8\\x1b@\\xdf\\xd6\\x93~\\x14\\x92F\\xa6\\t<\\x08\\xd9:l^\\xdb\\x15\\xc9d\\x0c\\x844\\x13$8\\xda2\\x88\\x80t\\xd8\\x0c\\xf0#m\\xb8U\\xc8c\\xb9\\xe2\\xd2\\xf6\\xbb!#kdjcb\\xb8d\\xb3,\\xd8)Z8\\xed\\xc0sf\\xd1\\x12H7\\xd2H\\x83\\xf8\\x9d\\x8b*\\xade\\xa3q\\x923l6\\x91\\xa91xObqNt\\xb5\\x8d-\\x12r\\x13g\\x10\\t<\\xf8\\xb1\\xd9m\\xfb\\xd7=\\xeclf\\x04Z\\xe71\\x01\\xce?\\xca\\x06\\xe5\\xbag\\x9f(\\xd1V\\xd3k\\x89\\x8eh\\x82y\\xc6\\xc0\\xde\\xd25:E\\x94a\\x9ci\\xd4i\\x90\\x0bN\\xdd#C16\\xd5kZ\\xa3\\\\\\xd2C\\x1a\\xdd#,\\xdb~`O\\x8clX1\\x8ey\\rkIq08\\x93\\xa0\\x1b\\x95\\x19\\xf9\\xd8\\xfa.\\x1e\\x9ep\\x0e\\xcdg\\xf6\\xb6\\x14\\xe2\\xc0,y\\x07\\x00h\\xd1k\\\\I?1\\x16\\xb17 F\\xc5\\xd44\\xc5\\x8a\\xc1\\xcbs\\xdbI\\xb8\\xa6\\xd51Z\\\\\\x9e\\xf7\\\\X-\\xbf\\xe3\\xda5t\\x9e\\xb0\\xba\\x82\\xabK`F\\x9bw\\xaeUj\\x0fvnp\\xec2;V3\\xcd#\\xab\\x06\\x1cov\\xce~\\'\\x07Nf.4\\x0b\\x9f\\x89\\x12b\\x05\\xb6n\\xeb?\\x85\\xd68 \\xdd]<`\\xf9B]\\xd8V\\r\\x1c\\xde\\xe3\\xf8Q\\x19\\xbb\\xdc\\xee\\x92\\x83T\\xa8\\xe2\\xb9\\x84\\x98\\x1d\\xfb{7-\\x19E\\xfa\\x01\\xda\\xba\\x81\\x8c\\x16\\xd7\\xa8\\x1f\\xf6\\xb5c\\xa3\\xe5a\\xee\\x85\\xae\\xb3\\x91\\xe3\\xdfd\\xceH\\xe4\\xe7\\xbb\\x7f\\xae+A\\xc8\\xc7h\\xef]\\x86\\xd7#g\\x8a\\xcd\\xf8\\x97\\x9d\\x07p?\\x94w}\\x12\\xfak\\xdd\\xa3\\x93S\\x92\\x80\\xd6;\\xbc\\xfc\\x92\\xae\\xc24n\\xf0]*\\xe2\\xa1\\xfe\\'\\xc1s\\xea\\xd0y;\\xbbB\\xd23\\xf99r\\xe0i\\xec\\x8e\\xb8r\\x99^\\x0f\\xe2\\xaa\\x7fc\\xfe\\xa7y\\xa9\\xf8\\xba\\x9f\\xd8\\xff\\x00\\xa9\\xdek~\\xd7\\xc9\\xc2\\xba\\xdf\\x83\\xde\\x08V\\x95\\xe0\\xc6.\\xa7\\xf6?\\xeaw\\x9a\\xb7\\xc4\\xbf\\xa6\\xff\\x00\\xad\\xdeiv\\xfeJ\\xfa\\xdf\\x83\\xdd\\x82\\xac\\x1e\\x17\\x83\\x18\\xa7\\xf4\\xdf\\xf5\\xbb\\xcdH\\xc4\\xbf\\xa6\\xff\\x00\\xa9\\xdeh\\xedX\\xfe\\xb7\\xe0\\xf7\\xec+v/\\x9e\\x0cC\\xfao\\xfa\\x9d\\xe6\\xac1\\x0f\\xe9\\xbf\\xeaw\\x9a]\\x87\\xec\\xa5\\xd6\\xfc\\x1fHcV\\xc1\\x81|\\xd1\\xb5\\xdf\\xd3\\x7f\\xd4|\\xd6\\x8d\\xaa\\xfe\\x9b\\xbe\\xa3\\xe6\\x93\\xe9\\x9f\\xb2\\x97V\\x9f\\x8f\\xec\\xfa\\rMP\\xc6\\xaf\\x06\\xc7\\xbf\\xa4\\xee\\xf3\\xe6\\x9aa\\x7fH\\xf7\\x94\\xbb\\x0f\\xd9\\xacs\\xa9x=F3\\x91)T$\\xb9\\x8d\\xccD\\x17\\x01\\x0e\\xd25\\x1a\\xdbzH{7H\\x06\\xb7+\\xb9\\xa2\\xc712b$\\x8d\\t\\xf5\\xa5\\x971\\x8c\\x7fH\\xf7\\xad[M\\xfd/\\x14(Iy\\x1e\\x88I\\xdb\\x88\\xf3\\xbd\\x9a`\\xa6\\xf6\\xb0\\xb9\\xb9\\x84\\x90\\x00t\\x96\\xdcX\\xeb\\xa0\\x1a\\x89\\xbf\\x08\\xe4\\xd4\\xf6r\\xb3\\x18^r\\x96\\tq\\x1f)\\x02\\x05\\xf2\\xe8:\\xa7\\xf8\\xa7\\xe9\\xb5\\xdb\\xcfzf\\x99;J\\x99F^\\xca\\x8fM\\x1b\\xb5\\xb0r\\'%\\xd6\\x06@ \\x81:\\x10`\\x8d4\\xb4\\xdc^\\xd6+\\xe9>\\xcb:\\x90d8\\x00\\xe0\\xd8\\xe7\\x01a\\xb7b\\xf1xZ\\x87yJ\\xfbM\\xca\\x8f\\xa6\\xday\\\\A%\\xc2o1o5\\xc9(\\xb5$\\xd1y\\xf1j\\xc7W\\xb1\\xdc\\xe5\\xfc#\\xaa\\xd4\"\\x88-\\x10\\xe1\\x9a\\x0eX\\x9b\\x89\\x02\\xfb,\\xbcU~@\\xac\\xf7\\xf3ZM\\xe0\\x97\\x02\\xc0\\xd8\\x81\\xab\\xa0\\x18\\xbf\\xcb?-\\xa6\\xcb\\xd8U\\xaeH\\x80l,;\\x176\\xb3\\xdd\\xac\\x9f\\x1f4cR\\xe4\\xd1`\\xfb\\x14[9\\x14=\\x8a$\\xcdZ\\xba\\xc4\\x864\\x13ans\\x85\\x80\\xdd\\x1b\\x07gD{\\x1f\\x87\\x822\\x98\">k\\xc4\\xccf\\xd7\\xc7\\xc2\\xcb7\\xd5\\x7fM\\xdd\\xe7\\xcd+S\\x13[\\xa6\\xff\\x00\\xa9\\xdf\\xfa]:f\\xfc\\x98\\xbe\\x96\\x11\\xf1gR\\x9f\\xb28yi\\xc89\\xa0\\xb4\\\\\\x91}\\xf7\\xb9\\xe3\\xfaO3\\x92)\\xd3\\xf9\\x18\\xc6\\xed\\xb0\\x03]t^U\\xd8\\x9a\\xdf\\xd8\\xff\\x00\\xad\\xdf\\xfaX?\\x17_\\xfb\\x1f\\xf5\\xbb\\xcd\\x1d\\x99\\xbf\"Z\"\\xedG\\xfa=\\x9f\\xb9\\n\\r0\\xbc%Lmo\\xec\\x7f\\xd6\\xef4\\xb3\\xf1\\xb5\\xbf\\xb1\\xff\\x00[\\xfc\\xd3]<\\xbd\\x93.\\xa2\\x0b\\xc3>\\x80\\xf7\\x06\\xedJ?\\x167\\xc7`^\\x11\\xf8\\xca\\xa7Z\\x95>\\xb7y\\xac\\x9d\\x89\\xa9\\xd3\\x7f\\xd4\\xef4K\\xa4\\x94\\xb9h!\\xd7\\xe3\\x87\\xfa\\xb3\\xdc\\xbf\\x11?\\xc8\\xf6\\x8f \\xb08\\x8f\\xf2\\xf0\\xfd\\xaf\\x12q5:o\\xfa\\x9d\\xe6\\xa8q\\x0f\\xe9\\xbf\\xea>j~\\x8eK\\xc9O\\xf1H~\\x97\\xfc\\x9e\\xe0b\\x87H\\x9e\\xd1\\xf8\\n\\xce\\xc5\\x01\\xea\\xfe+\\xc2\\x1cS\\xfao\\xfa\\x9d\\xe6\\xaaqO\\xe9\\xbf\\xeaw\\x9a>\\x95\\xfb\\x0f\\xfdX\\xd7\\xe5\\x7f\\xc9\\xee\\xce9Q\\xf8\\xfe>+\\xc2\\x9cC\\xfan\\xfa\\x8f\\x9a\\xa1\\xc4?\\xa6\\xef\\xa8\\xf9\\xa6\\xbaW\\xec\\x89~+\\x1f\\xd2\\xff\\x00\\x93\\xd9U\\xc6q\\x1d\\xe9Gb\\x87K\\xc1yo|\\xfe\\x9b\\xbb\\xca\\x8fx\\xee\\x93\\xbb\\xca\\xb5\\xd3\\xd7\\x93\\x19~%\\x17\\xe0\\xa8S\\n\\x14\\x82\\xba\\xcf%\\x12\\x02\\xb2\\xa8*AJ\\x87e\\xc2\\xb0\\x0b0\\xe5`S)3V\\x95f\\xac\\x83\\x95\\xc3\\xf8\\xa6Rf\\xed+FO\\xa0R\\xc1\\xdd^\\x0bV\\xbb\\x82\\nR\\x1bc\\xff\\x00\\xd4\\xa6\\xe8\\xbf\\xd4\\xcf\\xe5s\\xd9P\\xf1\\xf0[1\\xfd}\\xcdI\\xa3hd\\xa3\\xa6\\xc7\\xfa\\x80\\xb7k\\xfa\\xfb\\x8a\\xe6\\xb2\\xb0\\x03P\\x07\\xff\\x00\\x0e\\xee\\x96\\x90\\x16\\xac\\xad;\\xa7\\x83\\x8c\\xf6\\x02Vn\\'L2\\xbb:\"\\xa2\\xb3*\\xc1\\xd5s\\xaab\\x98\\xd1w\\x0bZ\\xf3\\xdd\\xa2\\xe6V\\xe5\\xb6\\x83\\r\\x13\\xc7b\\xcaK\\xd1\\xbf\\xd4F<\\xb3\\xdaP\\xae\\xb8^\\xd9W\\x96S\\xde\\x1c\\xef\\xfa\\xfe\\x82\\xe0\\xbf\\x97\\xea\\x7f\\x18\\x1e)<V=\\xef\\x80\\xe7f\\x83+%\\x07v\\xc8\\xcb\\xd6BPj7g\\xd3\\x99\\x89\\xcc&Gz\\xab\\xdd\\xea\\xcb\\xe7\\xb4yv\\xb3D\\x07\\x03\\xd67v\\xad\\xe9\\xfbKT\\x1et\\x11\\xb8H\\xf1B\\x83F\\xcb\\xae\\xc4\\xd6\\xf6{\\x1a\\xa5%R\\xa2\\xe4\\xd2\\xf6\\x91\\x8e\\xb3\\x86^&O\\xd9o\\xf1\\xacp\\xe6\\xb8w\\xc0\\xef\\xcc\\x16\\xb1^\\xc9\\x97Q\\t~V2\\xe7\\xfa\\xba\\xc6\\xa5N\\xbe\\xd0\\x97}h\\xff\\x00^ed\\xfa\\x9c\\x07\\x0b4~\\x16\\xca\\'4\\xb30\\xaa\\xfe#\\xd7j]\\xee>\\xa4\\xfe\\x14\\xbd\\xe7\\xd4B\\xc1\\xef\\xdf\\xf7Z$r\\xcavC\\x8f\\xad\\x16o*\\x0b\\xfa\\x96n\\x7f\\x1e\\xe4\\x19\\xb9\\x12U\\n\\x0b\\x95\\tA\\x16IP\\xa0\\xb9Fd\\x89\\xb2!A\\x08%A@\\x10\\xa1L\\xa1\\x04\\x11(P\\x14\\x84\\x01*\\xc0\\xaaJ\\xa9\\xac\\x02\\x1b\\xa1\\x9b\\x050\\x95us\\xb9Q\\xcf\\'j\\x8dH,s8\\x1a\\x94|Cw\\xa4P\\x8dL,{\\xe2\\x9a7\\xa3\\xe3\\x1b\\xd1)\\x14#S\\rL|r\\x84\\x7f\\x13\\xde\\xb5g*\\x7f\\x89\\xfa\\xbfK\\x96\\x80\\x96\\xa65&\\x8e\\xa9\\xe5c\\xd1\\xef>Aa_\\x94^\\xe1\\x1a\\r\\xc3\\x8aM\\t6\\xd9z\\xa4\\xfc\\x92\\xe7\\x93\\xa9%\\x12\\xa1\\t\\x13e\\x83\\x94\\xe7TP\\x95\\x0e\\xcd3\\xaa\\xe6P\\x84\\x05\\xb0R\\xd7\\x11paB\\x13\\x10\\xd39A\\xed\\x10\\x08\\x8e\\xa0\\xaf\\xff\\x00(\\xfd\\xc3\\xc7\\xcd$\\xaaS\\xb6\\x0eR\\xf6>yD\\x9f\\xe2;\\xca\\xa7\\xc7\\x7f\\x8aM\\t\\xdb\\x16\\xa69\\xf1\\x9f\\xe2\\xa3\\xe2\\xc6\\xe3\\xe0\\x94B51[\\x1b\\xf8\\x90w\\xab\\n\\x8d;RHOS\\x0b\\x1e\\x90\\xa0\\xa4\\xda\\xf24+F\\xd6;P\\xa4\\x82\\xcd\\x94\\x15V\\xd4\\x05ZU\\xa7b\\tQ(*\\x10\\x05\\rE\\x06\\xaa\\xcd\\x0b=L\\ts\\x89P\\x84)\\x00B\\x10\\x80\\x04!\\x08\\x00B\\x10\\x80\\x04!\\x08\\x02eJ\\xaa\\x10;,\\x85\\nPP\"P\\xa1*\\x02P\\xa1D\\xa6+%\\n\\x10\\x81Y$\\xa8B\\x10 B\\x10\\x80\\x04!\\x08\\x00B\\x10\\x80\\x04!\\x08\\x00R\\x1cw\\xa8B\\x00\\xb8\\xa8\\xa7\\xde,\\xd0\\x9e\\xa6\\x00\\x84! \\x04!\\x08\\x00B\\x10\\x80\\x04!\\x08\\x00B\\x10\\x80\\x04!\\x08\\x00B\\x10\\x80$)B\\x10R\\x05\\x08B\\x06AB\\x10\\x82X!\\x08@\\x81\\x08B\\x00\\x10\\x84 \\x01\\x08B\\x00\\x10\\x84 \\x01\\x08B\\x00\\x10\\x84 \\x01\\x08B\\x00\\xff\\xd9'\n"
          ]
        }
      ]
    },
    {
      "cell_type": "code",
      "source": [
        "source = 'Unknown.jpg'\n",
        "destination = 'Unknown_COPY.jpg'\n",
        "with open(source, 'rb') as f:\n",
        "    a = (f.read())\n",
        "    with open(destination, 'wb') as f2:\n",
        "        f2.write(a)\n"
      ],
      "metadata": {
        "id": "zT51swGXkPAd"
      },
      "execution_count": null,
      "outputs": []
    },
    {
      "cell_type": "markdown",
      "source": [
        "Homewrok: Implement cut paste\n",
        "\n",
        "Homework2: Merge string content of two files in a single file\n",
        "```\n",
        "file1 - > \"ABC\"\n",
        "file2 - > \"DEFG\"\n",
        "\n",
        "OutputFile --> \"ABCDEFG\"\n",
        "\n",
        "```"
      ],
      "metadata": {
        "id": "hcR9uMfCl0JI"
      }
    },
    {
      "cell_type": "code",
      "source": [
        "with open(\"DemoWritelines.txt\", \"w\") as f:\n",
        "    f.write(str([ str([\"A\\n\", \"B\\n\", \"C\\n\"])]))"
      ],
      "metadata": {
        "id": "xzYi8vZvlhfk"
      },
      "execution_count": null,
      "outputs": []
    },
    {
      "cell_type": "code",
      "source": [
        "import os\n",
        "os.listdir()"
      ],
      "metadata": {
        "colab": {
          "base_uri": "https://localhost:8080/"
        },
        "id": "7IBJ0UVHmU38",
        "outputId": "ab03a598-1a62-467d-a000-247bbb30ded8"
      },
      "execution_count": null,
      "outputs": [
        {
          "output_type": "execute_result",
          "data": {
            "text/plain": [
              "['.config',\n",
              " 'DemoWritewithoutN.txt',\n",
              " 'Unknown_COPY.jpg',\n",
              " '.ipynb_checkpoints',\n",
              " 'filenotexist.txt',\n",
              " 'demofolder',\n",
              " 'fileDemoWPlus.txt',\n",
              " 'Unknown.jpg',\n",
              " 'DemoWritelines.txt',\n",
              " 'DemoReadAMode.txt',\n",
              " 'DemoRead.txt',\n",
              " 'sample_data']"
            ]
          },
          "metadata": {},
          "execution_count": 93
        }
      ]
    },
    {
      "cell_type": "code",
      "source": [
        "with open()"
      ],
      "metadata": {
        "id": "aUQbQGlJmuOs"
      },
      "execution_count": null,
      "outputs": []
    }
  ]
}