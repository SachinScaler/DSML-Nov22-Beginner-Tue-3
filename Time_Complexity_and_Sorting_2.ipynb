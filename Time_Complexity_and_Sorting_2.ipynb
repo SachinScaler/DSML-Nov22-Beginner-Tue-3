{
  "nbformat": 4,
  "nbformat_minor": 0,
  "metadata": {
    "colab": {
      "provenance": [],
      "authorship_tag": "ABX9TyPWsUGGvvo0SULacatB1Dt4",
      "include_colab_link": true
    },
    "kernelspec": {
      "name": "python3",
      "display_name": "Python 3"
    },
    "language_info": {
      "name": "python"
    },
    "gpuClass": "standard"
  },
  "cells": [
    {
      "cell_type": "markdown",
      "metadata": {
        "id": "view-in-github",
        "colab_type": "text"
      },
      "source": [
        "<a href=\"https://colab.research.google.com/github/SachinScaler/DSML-Nov22-Beginner-Tue-3/blob/main/Time_Complexity_and_Sorting_2.ipynb\" target=\"_parent\"><img src=\"https://colab.research.google.com/assets/colab-badge.svg\" alt=\"Open In Colab\"/></a>"
      ]
    },
    {
      "cell_type": "markdown",
      "source": [
        "```\n",
        "Time Comlexity for bubble sort? \n",
        "Worst:  O(n^2)\n",
        "best: omega(n) --> O(n)\n",
        "When it is already sorted! \n",
        "or\n",
        "When there is no swap\n",
        "```"
      ],
      "metadata": {
        "id": "OdQSdGIgqAfk"
      }
    },
    {
      "cell_type": "markdown",
      "source": [
        "### Selection Sort:"
      ],
      "metadata": {
        "id": "XQ_bPJRBs8kP"
      }
    },
    {
      "cell_type": "code",
      "execution_count": 3,
      "metadata": {
        "colab": {
          "base_uri": "https://localhost:8080/"
        },
        "id": "7g8UlwLGn70S",
        "outputId": "9b83e189-70d0-434a-914a-23a29245aff6"
      },
      "outputs": [
        {
          "output_type": "stream",
          "name": "stdout",
          "text": [
            "Start Min 2\n",
            "Ending Min 1\n"
          ]
        }
      ],
      "source": [
        "a = [2,3,5,8,1,10]\n",
        "\n",
        "min_index = 0 \n",
        "current_index = 0\n",
        "\n",
        "print(\"Start Min\",a[min_index])\n",
        "\n",
        "for i in range(1,len(a)):\n",
        "  if a[i]<a[min_index]:\n",
        "    #print(a[i],a[min_index])\n",
        "    min_index =i \n",
        "\n",
        "\n",
        "print(\"Ending Min\",a[min_index])\n",
        "\n"
      ]
    },
    {
      "cell_type": "code",
      "source": [
        "a[current_index],a[min_index] = a[min_index],a[current_index]\n",
        "print(a)"
      ],
      "metadata": {
        "colab": {
          "base_uri": "https://localhost:8080/"
        },
        "id": "HvMiqR5Xwnsr",
        "outputId": "e2e3f6d7-c8e4-4050-da84-c69e3fd25c97"
      },
      "execution_count": 4,
      "outputs": [
        {
          "output_type": "stream",
          "name": "stdout",
          "text": [
            "[1, 3, 5, 8, 2, 10]\n"
          ]
        }
      ]
    },
    {
      "cell_type": "code",
      "source": [
        "def selection_sort(a):\n",
        "  for i in range(len(a)):\n",
        "    min_index = i \n",
        "    for j in range(i+1, len(a)):\n",
        "      if a[min_index]>a[j]: # a[j]<a[min_index]\n",
        "        min_index = j \n",
        "\n",
        "    a[i], a[min_index]= a[min_index], a[i] \n",
        "  \n",
        "  return a\n",
        "    \n",
        "a = [ 2,8,5,3,9,4,1]\n",
        "selection_sort(a)"
      ],
      "metadata": {
        "colab": {
          "base_uri": "https://localhost:8080/"
        },
        "id": "RdykD3oXxtLO",
        "outputId": "fbac83db-0cf9-40bc-c354-f4da8a52fd60"
      },
      "execution_count": 5,
      "outputs": [
        {
          "output_type": "execute_result",
          "data": {
            "text/plain": [
              "[1, 2, 3, 4, 5, 8, 9]"
            ]
          },
          "metadata": {},
          "execution_count": 5
        }
      ]
    },
    {
      "cell_type": "code",
      "source": [
        "def selection_sort(a):\n",
        "  for i in range(len(a)):\n",
        "    min_index = i \n",
        "    print(a)\n",
        "    print(\"-\"*50)\n",
        "    for j in range(i+1, len(a)):\n",
        "      if a[min_index]>a[j]: # a[j]<a[min_index]\n",
        "        min_index = j \n",
        "\n",
        "    a[i], a[min_index]= a[min_index], a[i] \n",
        "  \n",
        "  return a\n",
        "    \n",
        "a = [ 2, 8, 5, 3, 9, 4, 1]\n",
        "selection_sort(a)"
      ],
      "metadata": {
        "colab": {
          "base_uri": "https://localhost:8080/"
        },
        "id": "pJG_90kuzcFW",
        "outputId": "45f012a9-fd19-4695-8743-9d20a1955302"
      },
      "execution_count": 6,
      "outputs": [
        {
          "output_type": "stream",
          "name": "stdout",
          "text": [
            "[2, 8, 5, 3, 9, 4, 1]\n",
            "--------------------------------------------------\n",
            "[1, 8, 5, 3, 9, 4, 2]\n",
            "--------------------------------------------------\n",
            "[1, 2, 5, 3, 9, 4, 8]\n",
            "--------------------------------------------------\n",
            "[1, 2, 3, 5, 9, 4, 8]\n",
            "--------------------------------------------------\n",
            "[1, 2, 3, 4, 9, 5, 8]\n",
            "--------------------------------------------------\n",
            "[1, 2, 3, 4, 5, 9, 8]\n",
            "--------------------------------------------------\n",
            "[1, 2, 3, 4, 5, 8, 9]\n",
            "--------------------------------------------------\n"
          ]
        },
        {
          "output_type": "execute_result",
          "data": {
            "text/plain": [
              "[1, 2, 3, 4, 5, 8, 9]"
            ]
          },
          "metadata": {},
          "execution_count": 6
        }
      ]
    },
    {
      "cell_type": "code",
      "source": [
        "a = [ 1, 2,3,4,6,7]\n",
        "selection_sort(a)"
      ],
      "metadata": {
        "colab": {
          "base_uri": "https://localhost:8080/"
        },
        "id": "NdJFWwpr1CJ8",
        "outputId": "7d026186-b5a3-41d8-a092-ad8837f38439"
      },
      "execution_count": 7,
      "outputs": [
        {
          "output_type": "stream",
          "name": "stdout",
          "text": [
            "[1, 2, 3, 4, 6, 7]\n",
            "--------------------------------------------------\n",
            "[1, 2, 3, 4, 6, 7]\n",
            "--------------------------------------------------\n",
            "[1, 2, 3, 4, 6, 7]\n",
            "--------------------------------------------------\n",
            "[1, 2, 3, 4, 6, 7]\n",
            "--------------------------------------------------\n",
            "[1, 2, 3, 4, 6, 7]\n",
            "--------------------------------------------------\n",
            "[1, 2, 3, 4, 6, 7]\n",
            "--------------------------------------------------\n"
          ]
        },
        {
          "output_type": "execute_result",
          "data": {
            "text/plain": [
              "[1, 2, 3, 4, 6, 7]"
            ]
          },
          "metadata": {},
          "execution_count": 7
        }
      ]
    },
    {
      "cell_type": "markdown",
      "source": [
        "```\n",
        "Worst Case: O(n^2)\n",
        "Best Case: O(n^2)\n",
        "```"
      ],
      "metadata": {
        "id": "b2EA3U8b06Fa"
      }
    },
    {
      "cell_type": "markdown",
      "source": [
        "Insertion sort:"
      ],
      "metadata": {
        "id": "d7mBZNUE5anl"
      }
    },
    {
      "cell_type": "code",
      "source": [
        "a =[2,4,5,7, 3, 0, 1 ]\n",
        "\n",
        "index_to_insert = 4\n",
        "\n",
        "j = index_to_insert-1\n",
        "\n",
        "while j>=0:\n",
        "  if a[j] < a[index_to_insert]:\n",
        "    break\n",
        "  a[j], a[index_to_insert] =   a[index_to_insert],a[j]\n",
        "  index_to_insert=j \n",
        "  j-=1\n",
        "\n",
        "print(a)"
      ],
      "metadata": {
        "colab": {
          "base_uri": "https://localhost:8080/"
        },
        "id": "E9YmYm8G05J2",
        "outputId": "5ae9f1d1-ac4d-4eef-c2a7-9be3f4c46bd0"
      },
      "execution_count": 9,
      "outputs": [
        {
          "output_type": "stream",
          "name": "stdout",
          "text": [
            "[2, 3, 4, 5, 7, 0, 1]\n"
          ]
        }
      ]
    },
    {
      "cell_type": "code",
      "source": [
        "def insertion_sort(a):\n",
        "  for i in range(1,len(a)):\n",
        "    index_to_insert = i \n",
        "    j = i-1 \n",
        "\n",
        "    while j>=0:\n",
        "      if a[j]<a[index_to_insert]:\n",
        "        break \n",
        "      a[j], a[index_to_insert]= a[index_to_insert], a[j] \n",
        "      index_to_insert = j \n",
        "      j-=1\n",
        "\n",
        "  return a\n",
        "\n",
        "a = [4,5,1,3,2]\n",
        "insertion_sort(a)"
      ],
      "metadata": {
        "colab": {
          "base_uri": "https://localhost:8080/"
        },
        "id": "jByiCBlEzq3m",
        "outputId": "273f07bd-b91a-46e9-fa06-b1dc058ff876"
      },
      "execution_count": 11,
      "outputs": [
        {
          "output_type": "execute_result",
          "data": {
            "text/plain": [
              "[1, 2, 3, 4, 5]"
            ]
          },
          "metadata": {},
          "execution_count": 11
        }
      ]
    },
    {
      "cell_type": "code",
      "source": [
        "def insertion_sort(a):\n",
        "  for i in range(1,len(a)):\n",
        "    index_to_insert = i \n",
        "    j = i-1 \n",
        "\n",
        "    print(a[:index_to_insert], \"|\", a[index_to_insert:])\n",
        "    print(\"-\"*50)\n",
        "    while j>=0:\n",
        "      if a[j]<a[index_to_insert]:\n",
        "        break \n",
        "      a[j], a[index_to_insert]= a[index_to_insert], a[j] \n",
        "      index_to_insert = j \n",
        "      j-=1\n",
        "\n",
        "  return a\n",
        "\n",
        "a = [5,4,3,2,1, 0]\n",
        "insertion_sort(a)"
      ],
      "metadata": {
        "colab": {
          "base_uri": "https://localhost:8080/"
        },
        "id": "DeIbI1Id9aZ2",
        "outputId": "abb31040-76ae-4114-a08f-743eda1e9305"
      },
      "execution_count": 13,
      "outputs": [
        {
          "output_type": "stream",
          "name": "stdout",
          "text": [
            "[4] | [5, 1, 3, 2]\n",
            "--------------------------------------------------\n",
            "[4, 5] | [1, 3, 2]\n",
            "--------------------------------------------------\n",
            "[1, 4, 5] | [3, 2]\n",
            "--------------------------------------------------\n",
            "[1, 3, 4, 5] | [2]\n",
            "--------------------------------------------------\n"
          ]
        },
        {
          "output_type": "execute_result",
          "data": {
            "text/plain": [
              "[1, 2, 3, 4, 5]"
            ]
          },
          "metadata": {},
          "execution_count": 13
        }
      ]
    },
    {
      "cell_type": "markdown",
      "source": [
        "- Step 1: Start with initial index to insert = 1 and keep moving forward\n",
        "- Step 2: Left part of index to insert is Sorted and right part is Unsorted\n",
        "- Step3: Pick the first element from unsorted(right side) part and put it into correct place in sorted part(left hand side)"
      ],
      "metadata": {
        "id": "O7LL4CFe-Q2d"
      }
    },
    {
      "cell_type": "markdown",
      "source": [
        "time- Complexity:\n",
        "Best_case: O(n) or Omega(n)\n",
        "\n",
        "Worst Case: O(n^2)"
      ],
      "metadata": {
        "id": "O8D7l1Z7-9mH"
      }
    },
    {
      "cell_type": "code",
      "source": [
        "a = [5,4,3,2,1, 0]\n",
        "a = sorted(a)\n",
        "print(a)"
      ],
      "metadata": {
        "colab": {
          "base_uri": "https://localhost:8080/"
        },
        "id": "3pB4U9CkAFBO",
        "outputId": "47e7e9f8-2297-467f-9a3d-069f77f941bd"
      },
      "execution_count": 15,
      "outputs": [
        {
          "output_type": "stream",
          "name": "stdout",
          "text": [
            "[0, 1, 2, 3, 4, 5]\n"
          ]
        }
      ]
    },
    {
      "cell_type": "code",
      "source": [
        "a = [5,4,3,2,1, 0]\n",
        "a.sort()\n",
        "print(a)"
      ],
      "metadata": {
        "colab": {
          "base_uri": "https://localhost:8080/"
        },
        "id": "MOKPa3OPAMuI",
        "outputId": "ae0d3a70-14d7-468b-a9c1-30043d4b4977"
      },
      "execution_count": 18,
      "outputs": [
        {
          "output_type": "stream",
          "name": "stdout",
          "text": [
            "[0, 1, 2, 3, 4, 5]\n"
          ]
        }
      ]
    },
    {
      "cell_type": "markdown",
      "source": [
        "- Timsort: insertion sort + mergesort"
      ],
      "metadata": {
        "id": "qFSzHLP6AiWO"
      }
    },
    {
      "cell_type": "code",
      "source": [],
      "metadata": {
        "id": "WjeuiLWwAhyR"
      },
      "execution_count": null,
      "outputs": []
    },
    {
      "cell_type": "markdown",
      "source": [
        "### MERGESORT:\n",
        "\n",
        "- Divide and Conquer: Similar to Binary Search\n",
        "- Keep Dividing the list into halves until each list contains only 1 element\n",
        "- Start merging them in sorted order"
      ],
      "metadata": {
        "id": "P3Ou_wRf__OZ"
      }
    },
    {
      "cell_type": "markdown",
      "source": [
        "Homework:\n",
        "```\n",
        "List1 = [ 3,5,7,8]\n",
        "list2 = [ 2,4,10]\n",
        "\n",
        "\n",
        "Merge them to create final sorted list:\n",
        "\n",
        "output =  [2, 3,4,5,7,8, 10]\n",
        "\n",
        "```\n"
      ],
      "metadata": {
        "id": "oxfo3o_HEEqD"
      }
    },
    {
      "cell_type": "code",
      "source": [],
      "metadata": {
        "id": "ognDPiTT9tGp"
      },
      "execution_count": null,
      "outputs": []
    }
  ]
}