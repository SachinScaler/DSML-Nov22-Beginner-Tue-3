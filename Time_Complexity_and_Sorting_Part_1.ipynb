{
  "nbformat": 4,
  "nbformat_minor": 0,
  "metadata": {
    "colab": {
      "provenance": [],
      "authorship_tag": "ABX9TyM4TTGdIR6gD0rj+nI+w3nk",
      "include_colab_link": true
    },
    "kernelspec": {
      "name": "python3",
      "display_name": "Python 3"
    },
    "language_info": {
      "name": "python"
    },
    "gpuClass": "standard"
  },
  "cells": [
    {
      "cell_type": "markdown",
      "metadata": {
        "id": "view-in-github",
        "colab_type": "text"
      },
      "source": [
        "<a href=\"https://colab.research.google.com/github/SachinScaler/DSML-Nov22-Beginner-Tue-3/blob/main/Time_Complexity_and_Sorting_Part_1.ipynb\" target=\"_parent\"><img src=\"https://colab.research.google.com/assets/colab-badge.svg\" alt=\"Open In Colab\"/></a>"
      ]
    },
    {
      "cell_type": "markdown",
      "source": [
        "Quiz Time:"
      ],
      "metadata": {
        "id": "xWER5BP5LprU"
      }
    },
    {
      "cell_type": "code",
      "source": [],
      "metadata": {
        "id": "zl7zIq4bLr7l"
      },
      "execution_count": null,
      "outputs": []
    },
    {
      "cell_type": "markdown",
      "source": [
        "Time Complexity:"
      ],
      "metadata": {
        "id": "h6JHqxh9LUM4"
      }
    },
    {
      "cell_type": "code",
      "execution_count": null,
      "metadata": {
        "id": "aEkU86ohIJAi"
      },
      "outputs": [],
      "source": [
        "# ----\n",
        "def foo(n): # 1\n",
        "  x = 1     # 1\n",
        "  y = 1     # 1\n",
        "  z = 3     # 1\n",
        "\n",
        "  print(n) # 1\n",
        "# ----\n",
        "\n",
        "foo(1000)  \n",
        "\n",
        "# 5 ops "
      ]
    },
    {
      "cell_type": "code",
      "source": [
        "# ----\n",
        "def foo(n): # 1\n",
        "  x = 1     # 1\n",
        "  y = 1     # 1\n",
        "  z = 3     # 1\n",
        "\n",
        "  print(n) # 1\n",
        "# ----\n",
        "\n",
        "foo(2000)  \n",
        "\n",
        "# 5 ops "
      ],
      "metadata": {
        "id": "2ti0jhsRVPx-"
      },
      "execution_count": null,
      "outputs": []
    },
    {
      "cell_type": "markdown",
      "source": [
        "- Input size doesn't matter \n",
        "- Only 5 ops\n",
        "\n",
        "These kinds of algrotithms are also called constant time Algorithms.\n",
        "Because number of ops are independent of input."
      ],
      "metadata": {
        "id": "sCqoFG8ZVbjm"
      }
    },
    {
      "cell_type": "code",
      "source": [
        "def linear(n): # 1\n",
        "  x = 1         # 1\n",
        "  for i in range(n): # 1\n",
        "    print(i)      # n\n",
        "\n",
        "linear(10)  \n",
        "\n",
        "# n+3"
      ],
      "metadata": {
        "colab": {
          "base_uri": "https://localhost:8080/"
        },
        "id": "ZVCO4nv1VzMH",
        "outputId": "b2989d56-7b74-4aef-d487-f36f3cdda48c"
      },
      "execution_count": null,
      "outputs": [
        {
          "output_type": "stream",
          "name": "stdout",
          "text": [
            "0\n",
            "1\n",
            "2\n",
            "3\n",
            "4\n"
          ]
        }
      ]
    },
    {
      "cell_type": "markdown",
      "source": [
        "- the number of OPS are linearly dependent on input N."
      ],
      "metadata": {
        "id": "AJA0PrvnWkU_"
      }
    },
    {
      "cell_type": "code",
      "source": [
        "def func(n): # 1\n",
        "  x = 1         # 1\n",
        "  for i in range(n): # 1\n",
        "    for j in range(n):  # n\n",
        "      print(\"Hello World\") # n*n\n",
        "\n",
        "func(2) "
      ],
      "metadata": {
        "colab": {
          "base_uri": "https://localhost:8080/"
        },
        "id": "ta_LiP0uWj4L",
        "outputId": "b98d8fb5-3e9f-4b47-8565-be2c70919388"
      },
      "execution_count": null,
      "outputs": [
        {
          "output_type": "stream",
          "name": "stdout",
          "text": [
            "Hello World\n",
            "Hello World\n",
            "Hello World\n",
            "Hello World\n"
          ]
        }
      ]
    },
    {
      "cell_type": "markdown",
      "source": [
        "- n^2 + n + 3\n",
        "- Quadratic Equations\n",
        "- Quadratic time complexity algorithm."
      ],
      "metadata": {
        "id": "NpzVONVHXnsZ"
      }
    },
    {
      "cell_type": "code",
      "source": [
        "def linear(n): # 1\n",
        "  x = 1         # 1\n",
        "  for i in range(n): # 1\n",
        "    print(i)      # n\n",
        "\n",
        "  for i in range(n): # 1\n",
        "    print(i)        # n\n",
        "\n",
        "linear(10) "
      ],
      "metadata": {
        "id": "g0vEaATyXltq"
      },
      "execution_count": null,
      "outputs": []
    },
    {
      "cell_type": "markdown",
      "source": [
        "- n + 3 + n +1 = 2n+4--> n: Linear."
      ],
      "metadata": {
        "id": "xIQPUdyuayiG"
      }
    },
    {
      "cell_type": "code",
      "source": [
        "def func(n): # 1\n",
        "  x = 1         # 1\n",
        "  for i in range(n): # 1\n",
        "    for j in range(n):  # n\n",
        "      print(\"Hello World\") # n*n\n",
        "\n",
        "  for i in range(n): # 1\n",
        "    print(i)        #n\n",
        "\n",
        "func(2) "
      ],
      "metadata": {
        "colab": {
          "base_uri": "https://localhost:8080/"
        },
        "id": "V_ekXP4XWNwu",
        "outputId": "b476780b-3a2d-4a77-e725-79799c5a305c"
      },
      "execution_count": null,
      "outputs": [
        {
          "output_type": "execute_result",
          "data": {
            "text/plain": [
              "range(0, 5)"
            ]
          },
          "metadata": {},
          "execution_count": 1
        }
      ]
    },
    {
      "cell_type": "markdown",
      "source": [
        "n^2+n+3 +1+n --> n^2 +2n +4-> n^2--> Quadratic"
      ],
      "metadata": {
        "id": "gbntFqPidZEp"
      }
    },
    {
      "cell_type": "code",
      "source": [
        "def func(n): # 1\n",
        "  x = 1         # 1\n",
        "  for i in range(n): # 1\n",
        "    for j in range(n):  # n\n",
        "      for k in range(n) # n*n    \n",
        "      print(\"Hello World\") # n*n*n\n",
        "\n",
        "  for i in range(n): # 1\n",
        "    for j in range(n):  # n\n",
        "      print(\"Hello World\") # n*n\n"
      ],
      "metadata": {
        "id": "UmLGy5VGWOmG"
      },
      "execution_count": null,
      "outputs": []
    },
    {
      "cell_type": "markdown",
      "source": [
        "N^3: Cubic"
      ],
      "metadata": {
        "id": "2WGpCJhIdoQV"
      }
    },
    {
      "cell_type": "code",
      "source": [
        "def func(n): # 1\n",
        "  x = 1         # 1\n",
        "  for i in range(n): # 1\n",
        "    for k in range(0,n, n//2): #n\n",
        "      print(\"Hello World\") # 2 times\n",
        "\n",
        "\n",
        "func(n=1) "
      ],
      "metadata": {
        "id": "20t4N_ZodnrB"
      },
      "execution_count": null,
      "outputs": []
    },
    {
      "cell_type": "markdown",
      "source": [
        "- Linear"
      ],
      "metadata": {
        "id": "CwA-n2tme4Tq"
      }
    },
    {
      "cell_type": "code",
      "source": [
        "n = 100\n",
        "for k in range(0,n, n//3): #n\n",
        "      print(\"Hello World\") # 3"
      ],
      "metadata": {
        "colab": {
          "base_uri": "https://localhost:8080/"
        },
        "id": "csWWsEbreaf2",
        "outputId": "44f523c2-2587-46bd-8c02-bcb10673ae3d"
      },
      "execution_count": null,
      "outputs": [
        {
          "output_type": "stream",
          "name": "stdout",
          "text": [
            "Hello World\n",
            "Hello World\n"
          ]
        }
      ]
    },
    {
      "cell_type": "markdown",
      "source": [
        "### Sorting:"
      ],
      "metadata": {
        "id": "Bbk53lWikCfk"
      }
    },
    {
      "cell_type": "code",
      "source": [
        "list1 = ['a', 'b', 'z', 'x']\n",
        "sorted(list1)"
      ],
      "metadata": {
        "colab": {
          "base_uri": "https://localhost:8080/"
        },
        "id": "5mu2E_6ueevc",
        "outputId": "e6309aa9-e637-447d-bfa8-bd7a0af4b6ba"
      },
      "execution_count": null,
      "outputs": [
        {
          "output_type": "execute_result",
          "data": {
            "text/plain": [
              "['a', 'b', 'x', 'z']"
            ]
          },
          "metadata": {},
          "execution_count": 7
        }
      ]
    },
    {
      "cell_type": "code",
      "source": [
        "list1.sort()"
      ],
      "metadata": {
        "id": "zpWiznzwkFpF"
      },
      "execution_count": null,
      "outputs": []
    },
    {
      "cell_type": "code",
      "source": [
        "list1 = ['a', 'b', 'z', 'x']\n",
        "sorted(list1, reverse = True)"
      ],
      "metadata": {
        "colab": {
          "base_uri": "https://localhost:8080/"
        },
        "id": "Use-0hnhj65z",
        "outputId": "4b89c020-09ae-42ea-bb25-4fbfb9d4dbdb"
      },
      "execution_count": null,
      "outputs": [
        {
          "output_type": "execute_result",
          "data": {
            "text/plain": [
              "['z', 'x', 'b', 'a']"
            ]
          },
          "metadata": {},
          "execution_count": 8
        }
      ]
    },
    {
      "cell_type": "code",
      "source": [
        "def bubble_sort(a):\n",
        "\n",
        "  for i in range(len(a)): # 1\n",
        "    print(\"I: \", i) \n",
        "    for j in range(len(a)-1): # n\n",
        "\n",
        "      if a[j]>a[j+1]: # (n-1) *n\n",
        "        a[j+1],a[j]= a[j],a[j+1] \n",
        "\n",
        "    print(\"List\" ,a)\n",
        "  return a\n",
        "\n",
        "a = [5,1,2,4,7,3]\n",
        "#a = [5]\n",
        "bubble_sort(a)"
      ],
      "metadata": {
        "colab": {
          "base_uri": "https://localhost:8080/"
        },
        "id": "5c5NDPoZkBHc",
        "outputId": "0a8e717d-c29c-4caf-813f-713654b15144"
      },
      "execution_count": null,
      "outputs": [
        {
          "output_type": "stream",
          "name": "stdout",
          "text": [
            "I:  0\n",
            "List [1, 2, 4, 5, 3, 7]\n",
            "I:  1\n",
            "List [1, 2, 4, 3, 5, 7]\n",
            "I:  2\n",
            "List [1, 2, 3, 4, 5, 7]\n",
            "I:  3\n",
            "List [1, 2, 3, 4, 5, 7]\n",
            "I:  4\n",
            "List [1, 2, 3, 4, 5, 7]\n",
            "I:  5\n",
            "List [1, 2, 3, 4, 5, 7]\n"
          ]
        },
        {
          "output_type": "execute_result",
          "data": {
            "text/plain": [
              "[1, 2, 3, 4, 5, 7]"
            ]
          },
          "metadata": {},
          "execution_count": 18
        }
      ]
    },
    {
      "cell_type": "code",
      "source": [
        "def bubble_sort(a):\n",
        "  iteration = 0\n",
        "\n",
        "  for i in range(len(a)): # 1\n",
        "    print(\"I: \", i) \n",
        "    for j in range(len(a)-1): # n\n",
        "      iteration+=1 \n",
        "\n",
        "      if a[j]>a[j+1]: # (n-1) *n\n",
        "        a[j+1],a[j]= a[j],a[j+1] \n",
        "\n",
        "    print(\"List\" ,a)\n",
        "\n",
        "  print(\"iteration: \", iteration)\n",
        "  return a\n",
        "\n",
        "a = [5,1,2,4,7,3]\n",
        "#a = [5]\n",
        "bubble_sort(a)"
      ],
      "metadata": {
        "colab": {
          "base_uri": "https://localhost:8080/"
        },
        "id": "lWneMka_rzVH",
        "outputId": "0d41d9bc-c204-4b7e-ffc5-490821fbbec2"
      },
      "execution_count": null,
      "outputs": [
        {
          "output_type": "stream",
          "name": "stdout",
          "text": [
            "I:  0\n",
            "List [1, 2, 4, 5, 3, 7]\n",
            "I:  1\n",
            "List [1, 2, 4, 3, 5, 7]\n",
            "I:  2\n",
            "List [1, 2, 3, 4, 5, 7]\n",
            "I:  3\n",
            "List [1, 2, 3, 4, 5, 7]\n",
            "I:  4\n",
            "List [1, 2, 3, 4, 5, 7]\n",
            "I:  5\n",
            "List [1, 2, 3, 4, 5, 7]\n",
            "iteration:  30\n"
          ]
        },
        {
          "output_type": "execute_result",
          "data": {
            "text/plain": [
              "[1, 2, 3, 4, 5, 7]"
            ]
          },
          "metadata": {},
          "execution_count": 20
        }
      ]
    },
    {
      "cell_type": "markdown",
      "source": [
        "- n*n-1 + n +c\n",
        "- n^2 + 2n+c\n",
        "\n",
        "- n^2\n"
      ],
      "metadata": {
        "id": "R_xceoxboUKj"
      }
    },
    {
      "cell_type": "markdown",
      "source": [],
      "metadata": {
        "id": "ezQbnengsC85"
      }
    },
    {
      "cell_type": "code",
      "source": [
        "def bubble_sort(a):\n",
        "\n",
        "\n",
        "  for i in range(len(a)): # 1\n",
        "    print(\"I: \", i) \n",
        "    for j in range(len(a)-1-i): # n\n",
        "      if a[j]>a[j+1]: #(n-1-0)+(n-1-1)+ (n-1-2)...... 1\n",
        "        a[j+1],a[j]= a[j],a[j+1] \n",
        "\n",
        "    print(\"List\" ,a)\n",
        "  return a\n",
        "\n",
        "a = [5,1,2,4,7,3]\n",
        "#a = [5]\n",
        "bubble_sort(a)"
      ],
      "metadata": {
        "id": "hnIUP0twoSJH"
      },
      "execution_count": null,
      "outputs": []
    },
    {
      "cell_type": "markdown",
      "source": [
        "(n-1-0)+(n-1-1)+ (n-1-2)...... 1--- > (n-1 + n-2 + n-3 +.....1)-> 1....n = n*(n+1)*2 - n \n",
        "---> n^2"
      ],
      "metadata": {
        "id": "du27lQQHqRnN"
      }
    },
    {
      "cell_type": "code",
      "source": [
        "def bubble_sort(a):\n",
        "  for i in range(len(a)): # 1\n",
        "    print(\"I: \", i) \n",
        "    swap = False\n",
        "    for j in range(len(a)-1-i): # n\n",
        "      if a[j]>a[j+1]: #(n-1-0)+(n-1-1)+ (n-1-2)...... 1\n",
        "        a[j+1],a[j]= a[j],a[j+1] \n",
        "        swap = True\n",
        "    if swap==False:\n",
        "      return a\n",
        "\n",
        "    print(\"List\" ,a)\n",
        "  return a\n",
        "\n",
        "a = [5,1,2,4,7,3]\n",
        "#a = [5]\n",
        "\n",
        "a = [1,2,4,3,5,7]\n",
        "\n",
        "bubble_sort(a)"
      ],
      "metadata": {
        "colab": {
          "base_uri": "https://localhost:8080/"
        },
        "id": "x2O7K4LoqRHw",
        "outputId": "1b8e10ab-680b-4be6-f937-927f0098c745"
      },
      "execution_count": null,
      "outputs": [
        {
          "output_type": "stream",
          "name": "stdout",
          "text": [
            "I:  0\n",
            "List [1, 2, 3, 4, 5, 7]\n",
            "I:  1\n"
          ]
        },
        {
          "output_type": "execute_result",
          "data": {
            "text/plain": [
              "[1, 2, 3, 4, 5, 7]"
            ]
          },
          "metadata": {},
          "execution_count": 21
        }
      ]
    },
    {
      "cell_type": "markdown",
      "source": [
        "- Best Case: omega(n), o(n)\n",
        "_ worst case: o(n^2)\n"
      ],
      "metadata": {
        "id": "NsobvglNsfQZ"
      }
    },
    {
      "cell_type": "markdown",
      "source": [
        "Calculate number of iterations in Second Optimization and Second + third optimization\n",
        "\n",
        "Try writing bubble-sort"
      ],
      "metadata": {
        "id": "MNrrUZAcsEIq"
      }
    },
    {
      "cell_type": "code",
      "source": [],
      "metadata": {
        "id": "hkxaVENUn3iG"
      },
      "execution_count": null,
      "outputs": []
    }
  ]
}