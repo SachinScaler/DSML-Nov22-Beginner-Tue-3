{
  "nbformat": 4,
  "nbformat_minor": 0,
  "metadata": {
    "colab": {
      "provenance": [],
      "authorship_tag": "ABX9TyM2AylbvWDVFcKRxTAmcMZ8",
      "include_colab_link": true
    },
    "kernelspec": {
      "name": "python3",
      "display_name": "Python 3"
    },
    "language_info": {
      "name": "python"
    }
  },
  "cells": [
    {
      "cell_type": "markdown",
      "metadata": {
        "id": "view-in-github",
        "colab_type": "text"
      },
      "source": [
        "<a href=\"https://colab.research.google.com/github/SachinScaler/DSML-Nov22-Beginner-Tue-3/blob/main/Doubt_Solving_Session_2.ipynb\" target=\"_parent\"><img src=\"https://colab.research.google.com/assets/colab-badge.svg\" alt=\"Open In Colab\"/></a>"
      ]
    },
    {
      "cell_type": "code",
      "execution_count": 3,
      "metadata": {
        "colab": {
          "base_uri": "https://localhost:8080/"
        },
        "id": "h__QfgNP7sXR",
        "outputId": "efe5cdc5-7e1c-4d1b-dca6-f6a74d05c2e7"
      },
      "outputs": [
        {
          "output_type": "stream",
          "name": "stdout",
          "text": [
            "100\n"
          ]
        }
      ],
      "source": [
        "class Car:\n",
        "    __registration_num = 100\n",
        "\n",
        "    def method1(self):\n",
        "        print(self.__registration_num) \n",
        "\n",
        "\n",
        "class Child(Car):\n",
        "    def method2(self):\n",
        "        #print(self.__registration_num) # accessing in child class\n",
        "        super().method1() # calling the parent class\n",
        "\n",
        "c1 = Child()\n",
        "c1.method2()\n",
        "\n"
      ]
    },
    {
      "cell_type": "code",
      "source": [
        "import math\n",
        "\n",
        "def get_derivative(x):\n",
        "    h = 0.00001\n",
        "    def some_func(x):\n",
        "        return (math.e**x + math.e**(-x))/ (math.e**x - math.e**(-x))\n",
        "    return (some_func(x+h)-some_func(x))/h\n"
      ],
      "metadata": {
        "id": "5kj2bxfq9ijm"
      },
      "execution_count": 15,
      "outputs": []
    },
    {
      "cell_type": "code",
      "source": [],
      "metadata": {
        "id": "-4kvcz_NAON_"
      },
      "execution_count": null,
      "outputs": []
    },
    {
      "cell_type": "code",
      "source": [
        "a = 10\n",
        "get_derivative(a)"
      ],
      "metadata": {
        "colab": {
          "base_uri": "https://localhost:8080/"
        },
        "id": "pPh3RGd4-fFD",
        "outputId": "11323845-86f0-40d7-97d2-a41f206dbaa0"
      },
      "execution_count": 16,
      "outputs": [
        {
          "output_type": "execute_result",
          "data": {
            "text/plain": [
              "-8.260059303211165e-09"
            ]
          },
          "metadata": {},
          "execution_count": 16
        }
      ]
    },
    {
      "cell_type": "code",
      "source": [
        "\n",
        "def get_derivative(x):\n",
        "    h = 0.00001\n",
        "    def some_func(x):\n",
        "        return (math.e**x + math.e**(-x))/ (math.e**x - math.e**(-x))\n",
        "    return (some_func(x+h)-some_func(x))/h"
      ],
      "metadata": {
        "id": "gqGnSU_E-qri"
      },
      "execution_count": null,
      "outputs": []
    },
    {
      "cell_type": "code",
      "source": [
        "def get_derivative(x):\n",
        "    h = 0.00001\n",
        "    def some_func(x):\n",
        "        return x**2\n",
        "    return (some_func(x+h)-some_func(x))/h # ((x+h)**2 - x**2)/h\n",
        "\n",
        "get_derivative(2)"
      ],
      "metadata": {
        "colab": {
          "base_uri": "https://localhost:8080/"
        },
        "id": "xjgl17f0A6fB",
        "outputId": "9b1ac1db-9875-4091-f094-7bf30acc3788"
      },
      "execution_count": 20,
      "outputs": [
        {
          "output_type": "execute_result",
          "data": {
            "text/plain": [
              "4.000010000027032"
            ]
          },
          "metadata": {},
          "execution_count": 20
        }
      ]
    },
    {
      "cell_type": "markdown",
      "source": [],
      "metadata": {
        "id": "Rim7IoV2A6Qr"
      }
    },
    {
      "cell_type": "code",
      "source": [
        "def check_func:\n",
        "    \n",
        "\n",
        "    # logic of factorial\n",
        "    # finally prime "
      ],
      "metadata": {
        "id": "L0XxISaQAupD"
      },
      "execution_count": null,
      "outputs": []
    },
    {
      "cell_type": "code",
      "source": [
        "class Car:\n",
        "    static_var = 100\n",
        "    def __init__(self, name, color):\n",
        "        self.name= name\n",
        "        self.color = color\n",
        "\n",
        "    def method1(self, name):\n",
        "        self.name = name\n",
        "\n",
        "class Child():\n",
        "    def __init__(self, name, value):\n",
        "        self.value = value\n",
        "    \n",
        "\n",
        "c1 = Child(\"A\", 10)"
      ],
      "metadata": {
        "id": "NAnOk1i2Dd22"
      },
      "execution_count": 32,
      "outputs": []
    },
    {
      "cell_type": "markdown",
      "source": [
        "## Do not inherit and try to create instance varible by calling a function of some experiment"
      ],
      "metadata": {
        "id": "MM4bG_zYFLli"
      }
    },
    {
      "cell_type": "code",
      "source": [
        "c1.value"
      ],
      "metadata": {
        "colab": {
          "base_uri": "https://localhost:8080/"
        },
        "id": "eyIjGmnYDzuQ",
        "outputId": "da3892b2-a4db-4e72-f225-4515406f4254"
      },
      "execution_count": 29,
      "outputs": [
        {
          "output_type": "execute_result",
          "data": {
            "text/plain": [
              "10"
            ]
          },
          "metadata": {},
          "execution_count": 29
        }
      ]
    },
    {
      "cell_type": "code",
      "source": [
        "c1.name"
      ],
      "metadata": {
        "colab": {
          "base_uri": "https://localhost:8080/",
          "height": 56
        },
        "id": "XxY79bo-D1oq",
        "outputId": "dcc88573-ba59-468e-a0b1-7f8ce47aba1b"
      },
      "execution_count": 30,
      "outputs": [
        {
          "output_type": "execute_result",
          "data": {
            "text/plain": [
              "'A'"
            ],
            "application/vnd.google.colaboratory.intrinsic+json": {
              "type": "string"
            }
          },
          "metadata": {},
          "execution_count": 30
        }
      ]
    },
    {
      "cell_type": "code",
      "source": [
        "c1.name2 = \"B\""
      ],
      "metadata": {
        "id": "bSqgqrVUD3Wi"
      },
      "execution_count": 31,
      "outputs": []
    },
    {
      "cell_type": "code",
      "source": [
        "c1.static_var"
      ],
      "metadata": {
        "colab": {
          "base_uri": "https://localhost:8080/"
        },
        "id": "aaiuQRh8E2iW",
        "outputId": "4408a25b-e79a-4863-8a54-8645075da190"
      },
      "execution_count": 33,
      "outputs": [
        {
          "output_type": "execute_result",
          "data": {
            "text/plain": [
              "100"
            ]
          },
          "metadata": {},
          "execution_count": 33
        }
      ]
    },
    {
      "cell_type": "code",
      "source": [
        "class Car:\n",
        "    static_var = 100\n",
        "    def __init__(self, name, color):\n",
        "        self.name= name\n",
        "        self.color = color\n",
        "\n",
        "    # new function Allocates the memory\n",
        "\n",
        "c1 = Car(\"ABC\", \"Red\")"
      ],
      "metadata": {
        "id": "fsOR_ek6E_yq"
      },
      "execution_count": 36,
      "outputs": []
    },
    {
      "cell_type": "markdown",
      "source": [
        "- inherit from some class\n",
        "\n",
        "-  while creating object of parent class both new and init will get called automatically\n",
        "\n",
        "-  while creating object of child class only new automatically and it will handle init for you"
      ],
      "metadata": {
        "id": "K9qPR_LIF6yb"
      }
    },
    {
      "cell_type": "code",
      "source": [
        "# \n",
        "def func1(func):\n",
        "    def inner():\n",
        "        print(\"*\"*50)\n",
        "        func()\n",
        "        print(\"*\"*50)\n",
        "    return inner\n",
        "\n",
        "def print_hello():\n",
        "    print(\"Hello\")"
      ],
      "metadata": {
        "id": "iNdfGDbsFhbc"
      },
      "execution_count": 40,
      "outputs": []
    },
    {
      "cell_type": "code",
      "source": [
        "func1(print_hello)()"
      ],
      "metadata": {
        "colab": {
          "base_uri": "https://localhost:8080/"
        },
        "id": "wql9HZegHQwt",
        "outputId": "6d79ebd3-3880-4636-85cb-232de3250557"
      },
      "execution_count": 41,
      "outputs": [
        {
          "output_type": "stream",
          "name": "stdout",
          "text": [
            "**************************************************\n",
            "Hello\n",
            "**************************************************\n"
          ]
        }
      ]
    },
    {
      "cell_type": "code",
      "source": [
        "def print_world():\n",
        "    print(\"World\")\n",
        "\n",
        "func1(print_world)()"
      ],
      "metadata": {
        "colab": {
          "base_uri": "https://localhost:8080/"
        },
        "id": "y7hHJYAQHTYq",
        "outputId": "ee929e27-a82c-4392-f2e0-300679d57f4d"
      },
      "execution_count": 43,
      "outputs": [
        {
          "output_type": "stream",
          "name": "stdout",
          "text": [
            "**************************************************\n",
            "World\n",
            "**************************************************\n"
          ]
        }
      ]
    },
    {
      "cell_type": "code",
      "source": [
        "print_world()"
      ],
      "metadata": {
        "colab": {
          "base_uri": "https://localhost:8080/"
        },
        "id": "PEuqtOqZHeNA",
        "outputId": "ba9e24a8-3ff6-452b-fb3d-628267559f81"
      },
      "execution_count": 44,
      "outputs": [
        {
          "output_type": "stream",
          "name": "stdout",
          "text": [
            "World\n"
          ]
        }
      ]
    },
    {
      "cell_type": "code",
      "source": [
        "@func1\n",
        "@func1\n",
        "def print_bye():\n",
        "    print(\"Bye\")\n",
        "\n",
        "print_bye()"
      ],
      "metadata": {
        "colab": {
          "base_uri": "https://localhost:8080/"
        },
        "id": "qCbzENvUHhow",
        "outputId": "674c3b8b-2174-4c7d-aaaf-672927b29d66"
      },
      "execution_count": 48,
      "outputs": [
        {
          "output_type": "stream",
          "name": "stdout",
          "text": [
            "**************************************************\n",
            "**************************************************\n",
            "Bye\n",
            "**************************************************\n",
            "**************************************************\n"
          ]
        }
      ]
    },
    {
      "cell_type": "code",
      "source": [
        "func1(func1(print_world))()"
      ],
      "metadata": {
        "colab": {
          "base_uri": "https://localhost:8080/"
        },
        "id": "c3Zu2QFHHwB7",
        "outputId": "83903747-8bc7-4cd1-efd7-aad4ca25fb79"
      },
      "execution_count": 50,
      "outputs": [
        {
          "output_type": "stream",
          "name": "stdout",
          "text": [
            "**************************************************\n",
            "**************************************************\n",
            "World\n",
            "**************************************************\n",
            "**************************************************\n"
          ]
        }
      ]
    },
    {
      "cell_type": "code",
      "source": [
        "ids = [\"Sam@gmail.com\", \"Ram@gmail.com\", \"Sam@gmail.com\", \"samJohnson@iit.com\", \"SAM@harvard.com\"]\n",
        "name=\"sam\"\n",
        "result = list(filter(lambda x : (name.lower()  in x or name.upper() in x) , ids))\n",
        "print(result)"
      ],
      "metadata": {
        "colab": {
          "base_uri": "https://localhost:8080/"
        },
        "id": "metVmJW-ITXO",
        "outputId": "2801af1c-6ad6-41f6-8237-43910f0e6a9f"
      },
      "execution_count": 53,
      "outputs": [
        {
          "output_type": "stream",
          "name": "stdout",
          "text": [
            "['samJohnson@iit.com', 'SAM@harvard.com']\n"
          ]
        }
      ]
    },
    {
      "cell_type": "code",
      "source": [
        "x  = \"SAM\"\n",
        "\n",
        "name=\"sam\"\n",
        "\n",
        "print(name.lower() or name.upper()) in x"
      ],
      "metadata": {
        "colab": {
          "base_uri": "https://localhost:8080/"
        },
        "id": "Z4GfbwBYJRKL",
        "outputId": "01133c3c-af7c-4dd0-f11d-0eba826e77b1"
      },
      "execution_count": 54,
      "outputs": [
        {
          "output_type": "stream",
          "name": "stdout",
          "text": [
            "sam\n"
          ]
        }
      ]
    },
    {
      "cell_type": "code",
      "source": [
        "False or name.lower() "
      ],
      "metadata": {
        "colab": {
          "base_uri": "https://localhost:8080/",
          "height": 56
        },
        "id": "N833B1L2Js25",
        "outputId": "40d884c7-35fd-4852-aaf1-36277bddd90f"
      },
      "execution_count": 57,
      "outputs": [
        {
          "output_type": "execute_result",
          "data": {
            "text/plain": [
              "'sam'"
            ],
            "application/vnd.google.colaboratory.intrinsic+json": {
              "type": "string"
            }
          },
          "metadata": {},
          "execution_count": 57
        }
      ]
    },
    {
      "cell_type": "code",
      "source": [
        "class solution:\n",
        "    def initial(self,sets):\n",
        "        return self.final(sets) \n",
        "    \n",
        "    def final(self, sets):\n",
        "        return list(map(lambda x: ((x*3)%2==0,x*3),sets)) \n",
        "    \n",
        "print(solution().initial([4,5,6]))"
      ],
      "metadata": {
        "colab": {
          "base_uri": "https://localhost:8080/"
        },
        "id": "EfAzARWFJ2oM",
        "outputId": "9342a803-a07a-4206-fcc9-b48f8f97a7ac"
      },
      "execution_count": 62,
      "outputs": [
        {
          "output_type": "stream",
          "name": "stdout",
          "text": [
            "[(True, 12), (False, 15), (True, 18)]\n"
          ]
        }
      ]
    },
    {
      "cell_type": "code",
      "source": [
        "list(map(lambda x: ((x*3)%2==0,x*3),[4,5,6]))"
      ],
      "metadata": {
        "colab": {
          "base_uri": "https://localhost:8080/"
        },
        "id": "qMAslFdaOdEe",
        "outputId": "92d74c09-be98-4338-872d-6e23920313c8"
      },
      "execution_count": 59,
      "outputs": [
        {
          "output_type": "execute_result",
          "data": {
            "text/plain": [
              "[(True, 12), (False, 15), (True, 18)]"
            ]
          },
          "metadata": {},
          "execution_count": 59
        }
      ]
    },
    {
      "cell_type": "code",
      "source": [
        "(lambda x: [(x*3)%2==0,x*3])(4)"
      ],
      "metadata": {
        "colab": {
          "base_uri": "https://localhost:8080/"
        },
        "id": "OIdmcuD8OjiU",
        "outputId": "056f8d9e-5617-4d69-96b2-67f5ee40e340"
      },
      "execution_count": 61,
      "outputs": [
        {
          "output_type": "execute_result",
          "data": {
            "text/plain": [
              "[True, 12]"
            ]
          },
          "metadata": {},
          "execution_count": 61
        }
      ]
    },
    {
      "cell_type": "code",
      "source": [
        "class Model:\n",
        "    def get_inference_from_model():\n",
        "        pass"
      ],
      "metadata": {
        "id": "DoGMEiy7OyFM"
      },
      "execution_count": null,
      "outputs": []
    },
    {
      "cell_type": "code",
      "source": [
        "string = '''\n",
        "We spent years several years  building our own database engine, Amazon Aurora, a fully-managed MySQL \n",
        "and PostgreSQL-compatible service with the same or better durability and availability as\n",
        "the commercial engines, but at one-tenth of the cost. We were not surprised when this worked.\n",
        "'''\n",
        "result = lambda key, val: key[ key.find(val) -18 : key.find(val) +18 ] if val in key else -1 \n",
        "print(result(string, 'SQLOP'))\n",
        "# explain this"
      ],
      "metadata": {
        "colab": {
          "base_uri": "https://localhost:8080/"
        },
        "id": "WteSwUiCPskX",
        "outputId": "00ff1c8c-61b4-4e6f-d589-e3a11fa69364"
      },
      "execution_count": 80,
      "outputs": [
        {
          "output_type": "stream",
          "name": "stdout",
          "text": [
            "-1\n"
          ]
        }
      ]
    },
    {
      "cell_type": "markdown",
      "source": [
        "key --> String\n",
        "val --> \"SQL\""
      ],
      "metadata": {
        "id": "84U6grdaQFUl"
      }
    },
    {
      "cell_type": "code",
      "source": [
        "key = string\n",
        "key[20 -18 : 10 +18] # 2 and 28"
      ],
      "metadata": {
        "colab": {
          "base_uri": "https://localhost:8080/",
          "height": 56
        },
        "id": "4swWju4pP0-D",
        "outputId": "a10fa91e-bc84-421e-8b30-6d6c0eb0cfa9"
      },
      "execution_count": 74,
      "outputs": [
        {
          "output_type": "execute_result",
          "data": {
            "text/plain": [
              "'e spent years several year'"
            ],
            "application/vnd.google.colaboratory.intrinsic+json": {
              "type": "string"
            }
          },
          "metadata": {},
          "execution_count": 74
        }
      ]
    },
    {
      "cell_type": "code",
      "source": [
        "key.find(\"years\") # starting point of first occurence"
      ],
      "metadata": {
        "colab": {
          "base_uri": "https://localhost:8080/"
        },
        "id": "YeHhvHwqQghO",
        "outputId": "7f3b4284-64d0-42f8-8162-8096dba0fa51"
      },
      "execution_count": 75,
      "outputs": [
        {
          "output_type": "execute_result",
          "data": {
            "text/plain": [
              "10"
            ]
          },
          "metadata": {},
          "execution_count": 75
        }
      ]
    },
    {
      "cell_type": "code",
      "source": [
        "string[key.find(\"years\")]"
      ],
      "metadata": {
        "colab": {
          "base_uri": "https://localhost:8080/",
          "height": 56
        },
        "id": "WANrSp8wQo33",
        "outputId": "001f2d1b-357d-4fe9-b26d-611837b8e8fc"
      },
      "execution_count": 76,
      "outputs": [
        {
          "output_type": "execute_result",
          "data": {
            "text/plain": [
              "'y'"
            ],
            "application/vnd.google.colaboratory.intrinsic+json": {
              "type": "string"
            }
          },
          "metadata": {},
          "execution_count": 76
        }
      ]
    },
    {
      "cell_type": "markdown",
      "source": [
        "Day 37 - DSML Intermediate: OOPS - 2\n",
        "Q8. class and constructor"
      ],
      "metadata": {
        "id": "27vXpPFPRsgz"
      }
    },
    {
      "cell_type": "code",
      "source": [
        "class Student:\n",
        "  # Class variable\n",
        "  subject_name = 'Math for Machine Learning'\n",
        "\n",
        "  # constructor\n",
        "  def __init__(self, name, roll_no):\n",
        "    self.name = name\n",
        "    self.roll_no = roll_no\n",
        "\n",
        "# outside the class\n",
        "# create Objects\n",
        "# s1 = Student(\"Emma\", 10)#blank1\n",
        "# _____________________#blank2\n",
        "\n",
        "# print(s1.name, s1.roll_no, s1.subject_name)\n",
        "# Emma 10 Machine Learning"
      ],
      "metadata": {
        "id": "rQ4tIB32RPLH"
      },
      "execution_count": 82,
      "outputs": []
    },
    {
      "cell_type": "code",
      "source": [
        "s1 = Student(\"Emma\", 10)"
      ],
      "metadata": {
        "id": "wTgj1iQhSaTi"
      },
      "execution_count": 83,
      "outputs": []
    },
    {
      "cell_type": "code",
      "source": [
        "print(s1.name, s1.roll_no, s1.subject_name)"
      ],
      "metadata": {
        "colab": {
          "base_uri": "https://localhost:8080/"
        },
        "id": "0NipiH92SfoA",
        "outputId": "30075eac-18e7-448d-8262-2991b3c579a4"
      },
      "execution_count": 84,
      "outputs": [
        {
          "output_type": "stream",
          "name": "stdout",
          "text": [
            "Emma 10 Math for Machine Learning\n"
          ]
        }
      ]
    },
    {
      "cell_type": "code",
      "source": [
        "s1.subject_name = \"Machine Learning\" # instance var which will overwrite class var"
      ],
      "metadata": {
        "id": "Q0MxDmwcSpE2"
      },
      "execution_count": 87,
      "outputs": []
    },
    {
      "cell_type": "code",
      "source": [
        "print(s1.name, s1.roll_no, s1.subject_name)"
      ],
      "metadata": {
        "colab": {
          "base_uri": "https://localhost:8080/"
        },
        "id": "bvrcoYuWSv8q",
        "outputId": "8ae28ea5-19cb-4933-c626-fa3ef7bfd1c4"
      },
      "execution_count": 88,
      "outputs": [
        {
          "output_type": "stream",
          "name": "stdout",
          "text": [
            "Emma 10 Machine Learning\n"
          ]
        }
      ]
    },
    {
      "cell_type": "code",
      "source": [
        "Student.subject_name = \"Machine Learning\" "
      ],
      "metadata": {
        "id": "Oc8IrnqoSyEa"
      },
      "execution_count": 89,
      "outputs": []
    },
    {
      "cell_type": "code",
      "source": [
        "print(s1.name, s1.roll_no, s1.subject_name)"
      ],
      "metadata": {
        "colab": {
          "base_uri": "https://localhost:8080/"
        },
        "id": "eXuwbJ55S--B",
        "outputId": "689fd24f-2b85-44ef-bc0c-fab5987f7767"
      },
      "execution_count": 90,
      "outputs": [
        {
          "output_type": "stream",
          "name": "stdout",
          "text": [
            "Emma 10 Machine Learning\n"
          ]
        }
      ]
    },
    {
      "cell_type": "code",
      "source": [
        "s1 = Student('Emma', 10)\n",
        "s1.subject_name = 'Machine Learning'"
      ],
      "metadata": {
        "colab": {
          "base_uri": "https://localhost:8080/",
          "height": 152
        },
        "id": "9njkqpjvTAHs",
        "outputId": "ad337f2d-a4fb-448b-d302-678214784a88"
      },
      "execution_count": 91,
      "outputs": [
        {
          "output_type": "error",
          "ename": "SyntaxError",
          "evalue": "ignored",
          "traceback": [
            "\u001b[0;36m  File \u001b[0;32m\"<ipython-input-91-9ba24ff34d35>\"\u001b[0;36m, line \u001b[0;32m1\u001b[0m\n\u001b[0;31m    s1 = Student('Emma', 10), s1.subject_name = 'Machine Learning'\u001b[0m\n\u001b[0m         ^\u001b[0m\n\u001b[0;31mSyntaxError\u001b[0m\u001b[0;31m:\u001b[0m cannot assign to function call\n"
          ]
        }
      ]
    },
    {
      "cell_type": "code",
      "source": [
        "a =10 , b =20"
      ],
      "metadata": {
        "colab": {
          "base_uri": "https://localhost:8080/",
          "height": 152
        },
        "id": "GWbBcA5zTUmA",
        "outputId": "4fff9135-0f61-4e93-db27-c10ebc005a90"
      },
      "execution_count": 92,
      "outputs": [
        {
          "output_type": "error",
          "ename": "SyntaxError",
          "evalue": "ignored",
          "traceback": [
            "\u001b[0;36m  File \u001b[0;32m\"<ipython-input-92-cd3a4887870b>\"\u001b[0;36m, line \u001b[0;32m1\u001b[0m\n\u001b[0;31m    a =10 , b =20\u001b[0m\n\u001b[0m       ^\u001b[0m\n\u001b[0;31mSyntaxError\u001b[0m\u001b[0;31m:\u001b[0m cannot assign to literal\n"
          ]
        }
      ]
    },
    {
      "cell_type": "code",
      "source": [
        "a,b = 10, 20"
      ],
      "metadata": {
        "id": "dmI_jWtjTdJP"
      },
      "execution_count": 93,
      "outputs": []
    },
    {
      "cell_type": "code",
      "source": [
        "s1, s1.subject_name = Student('Emma', 10) , 'Machine Learning'"
      ],
      "metadata": {
        "id": "piycvvGSTfd8"
      },
      "execution_count": null,
      "outputs": []
    },
    {
      "cell_type": "code",
      "source": [
        "#whats the issue with this code? \n",
        "class vehicle:\n",
        "    _country=\"India\"\n",
        "    _state=\"Karnataka\"\n",
        "    __registration=\"KA 02\" \n",
        "    def method1(self):\n",
        "        print(\"ABCD\") \n",
        "    def method2(self):\n",
        "        self.method1() \n",
        "    def __new__(self):# used to allocate memory and create blank object\n",
        "        return (\"object created\") \n",
        "\n",
        "x=vehicle()\n",
        "\n",
        "print(x)"
      ],
      "metadata": {
        "colab": {
          "base_uri": "https://localhost:8080/"
        },
        "id": "qiC-NXJ3T9cL",
        "outputId": "2f7f29e1-c784-44d8-cce1-6dc6887e7383"
      },
      "execution_count": 98,
      "outputs": [
        {
          "output_type": "stream",
          "name": "stdout",
          "text": [
            "object created\n"
          ]
        }
      ]
    },
    {
      "cell_type": "code",
      "source": [
        "x.method1()"
      ],
      "metadata": {
        "colab": {
          "base_uri": "https://localhost:8080/",
          "height": 188
        },
        "id": "ZUVEKiLqVWwz",
        "outputId": "8f45f88d-895e-4d7a-87cd-29d4dceeddec"
      },
      "execution_count": 99,
      "outputs": [
        {
          "output_type": "error",
          "ename": "AttributeError",
          "evalue": "ignored",
          "traceback": [
            "\u001b[0;31m---------------------------------------------------------------------------\u001b[0m",
            "\u001b[0;31mAttributeError\u001b[0m                            Traceback (most recent call last)",
            "\u001b[0;32m<ipython-input-99-a214f9a48133>\u001b[0m in \u001b[0;36m<cell line: 1>\u001b[0;34m()\u001b[0m\n\u001b[0;32m----> 1\u001b[0;31m \u001b[0mx\u001b[0m\u001b[0;34m.\u001b[0m\u001b[0mmethod1\u001b[0m\u001b[0;34m(\u001b[0m\u001b[0;34m)\u001b[0m\u001b[0;34m\u001b[0m\u001b[0;34m\u001b[0m\u001b[0m\n\u001b[0m",
            "\u001b[0;31mAttributeError\u001b[0m: 'str' object has no attribute 'method1'"
          ]
        }
      ]
    },
    {
      "cell_type": "code",
      "source": [
        "x1=vehicle()\n",
        "\n",
        "print(x1)"
      ],
      "metadata": {
        "colab": {
          "base_uri": "https://localhost:8080/"
        },
        "id": "HNCbmbA0UPg4",
        "outputId": "c9ace467-243a-4b89-a41b-254530128469"
      },
      "execution_count": 97,
      "outputs": [
        {
          "output_type": "stream",
          "name": "stdout",
          "text": [
            "object created\n",
            "None\n"
          ]
        }
      ]
    },
    {
      "cell_type": "code",
      "source": [
        "class Vehicle:\n",
        "     def __init__(self, name, brandname ):\n",
        "        self.name = name\n",
        "        self.brandname= brandname\n",
        "\n",
        "     def drive(self):\n",
        "        print(\"Driving Vehicle\")\n",
        "\n",
        "class Car(Vehicle):\n",
        "    wheel = 4\n",
        "    def __init__(self, name, brandname, pno ):\n",
        "        super().__init__(name, brandname)\n",
        "        self.__plate_no = pno # encapsulation\n",
        "\n",
        "    def drive(self):\n",
        "        print(\"Driving Car\")\n",
        "        super().drive() \n",
        "\n",
        "class Bike(Vehicle):\n",
        "    wheel = 2\n",
        "    def __init__(self, name, brandname ):\n",
        "      super().__init__(name, brandname)\n",
        "\n",
        "    def drive(self):\n",
        "        print(\"Driving Bike\")\n",
        "\n"
      ],
      "metadata": {
        "id": "88pG8KoDUqRq"
      },
      "execution_count": 130,
      "outputs": []
    },
    {
      "cell_type": "code",
      "source": [
        "c1= Car(\"i10\",\"Hyundai\", \"KL210\")"
      ],
      "metadata": {
        "id": "6Wu6NkLpXtNK"
      },
      "execution_count": 131,
      "outputs": []
    },
    {
      "cell_type": "code",
      "source": [
        "b1= Bike(\"Harley\",\"Davidson\")"
      ],
      "metadata": {
        "id": "YNEk3By5XVOF"
      },
      "execution_count": 128,
      "outputs": []
    },
    {
      "cell_type": "code",
      "source": [
        "# # polymorphism drive behave differenty based on object\n",
        "# c1.drive()\n",
        "# b1.drive() "
      ],
      "metadata": {
        "id": "1NVGXO4yYQ8x"
      },
      "execution_count": 132,
      "outputs": []
    },
    {
      "cell_type": "code",
      "source": [
        "c1.drive()"
      ],
      "metadata": {
        "colab": {
          "base_uri": "https://localhost:8080/"
        },
        "id": "tnYb_StAYysq",
        "outputId": "a9f2bb2e-77b0-4eed-e1ee-93ac2b679162"
      },
      "execution_count": 133,
      "outputs": [
        {
          "output_type": "stream",
          "name": "stdout",
          "text": [
            "Driving Car\n",
            "Driving Vehicle\n"
          ]
        }
      ]
    },
    {
      "cell_type": "code",
      "source": [],
      "metadata": {
        "id": "-6si1ORgaEHc"
      },
      "execution_count": null,
      "outputs": []
    }
  ]
}