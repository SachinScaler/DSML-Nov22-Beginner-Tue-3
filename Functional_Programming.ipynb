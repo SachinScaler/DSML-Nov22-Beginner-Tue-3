{
  "nbformat": 4,
  "nbformat_minor": 0,
  "metadata": {
    "colab": {
      "provenance": [],
      "authorship_tag": "ABX9TyNSCSTGdY0SmLtiP/Jh3CFv",
      "include_colab_link": true
    },
    "kernelspec": {
      "name": "python3",
      "display_name": "Python 3"
    },
    "language_info": {
      "name": "python"
    },
    "gpuClass": "standard"
  },
  "cells": [
    {
      "cell_type": "markdown",
      "metadata": {
        "id": "view-in-github",
        "colab_type": "text"
      },
      "source": [
        "<a href=\"https://colab.research.google.com/github/SachinScaler/DSML-Nov22-Beginner-Tue-3/blob/main/Functional_Programming.ipynb\" target=\"_parent\"><img src=\"https://colab.research.google.com/assets/colab-badge.svg\" alt=\"Open In Colab\"/></a>"
      ]
    },
    {
      "cell_type": "code",
      "execution_count": 1,
      "metadata": {
        "colab": {
          "base_uri": "https://localhost:8080/"
        },
        "id": "UwDNR6tCF1-V",
        "outputId": "6431d687-8f6e-4e7a-cca5-8f127aa28383"
      },
      "outputs": [
        {
          "output_type": "execute_result",
          "data": {
            "text/plain": [
              "9"
            ]
          },
          "metadata": {},
          "execution_count": 1
        }
      ],
      "source": [
        "(lambda x: x**2)(3)"
      ]
    },
    {
      "cell_type": "markdown",
      "source": [
        "- Anonymous Function"
      ],
      "metadata": {
        "id": "uUIqhn9YKbfS"
      }
    },
    {
      "cell_type": "code",
      "source": [
        "(lambda x: x**2)(4)"
      ],
      "metadata": {
        "colab": {
          "base_uri": "https://localhost:8080/"
        },
        "id": "Y7mD8blcKTmI",
        "outputId": "9163361c-38e5-48a6-c515-959065e378a3"
      },
      "execution_count": 2,
      "outputs": [
        {
          "output_type": "execute_result",
          "data": {
            "text/plain": [
              "16"
            ]
          },
          "metadata": {},
          "execution_count": 2
        }
      ]
    },
    {
      "cell_type": "code",
      "source": [
        "(lambda x: x**2)(5)"
      ],
      "metadata": {
        "colab": {
          "base_uri": "https://localhost:8080/"
        },
        "id": "c3IczdjOKn54",
        "outputId": "dbdfa283-1a2a-49b9-f1bd-6f9907bc2262"
      },
      "execution_count": 3,
      "outputs": [
        {
          "output_type": "execute_result",
          "data": {
            "text/plain": [
              "25"
            ]
          },
          "metadata": {},
          "execution_count": 3
        }
      ]
    },
    {
      "cell_type": "code",
      "source": [
        "func = lambda x: x**2"
      ],
      "metadata": {
        "id": "vqbCJqV2KqKi"
      },
      "execution_count": 4,
      "outputs": []
    },
    {
      "cell_type": "code",
      "source": [
        "func(5)"
      ],
      "metadata": {
        "colab": {
          "base_uri": "https://localhost:8080/"
        },
        "id": "tYw2_l6gKtM4",
        "outputId": "df66b1fd-2790-4779-8ae5-402b035eb1c4"
      },
      "execution_count": 5,
      "outputs": [
        {
          "output_type": "execute_result",
          "data": {
            "text/plain": [
              "25"
            ]
          },
          "metadata": {},
          "execution_count": 5
        }
      ]
    },
    {
      "cell_type": "code",
      "source": [
        "print(func(10))\n",
        "print(func(11))"
      ],
      "metadata": {
        "colab": {
          "base_uri": "https://localhost:8080/"
        },
        "id": "93tNx-v5Kueh",
        "outputId": "697b455e-5459-468d-9de7-0793699a1276"
      },
      "execution_count": 6,
      "outputs": [
        {
          "output_type": "stream",
          "name": "stdout",
          "text": [
            "100\n",
            "121\n"
          ]
        }
      ]
    },
    {
      "cell_type": "code",
      "source": [
        "# adding condition\n",
        "\"\"\"\n",
        "def func(x):\n",
        "  if x>5:\n",
        "    return \"number is Greater than 5\"\n",
        "  else:\n",
        "    return \"Number Smaller than 5\"\n",
        "\n",
        "\"\"\"\n",
        "a = lambda x : \"number is Greater than 5\" if x>5 else \"Number Smaller than 5\""
      ],
      "metadata": {
        "id": "Q2n7NPgWKvh1"
      },
      "execution_count": 7,
      "outputs": []
    },
    {
      "cell_type": "code",
      "source": [
        "a(5)"
      ],
      "metadata": {
        "colab": {
          "base_uri": "https://localhost:8080/",
          "height": 36
        },
        "id": "ZuAQRO0AMLnG",
        "outputId": "7653eb81-69b8-4ec0-c843-29ccfe24e7ba"
      },
      "execution_count": 8,
      "outputs": [
        {
          "output_type": "execute_result",
          "data": {
            "text/plain": [
              "'Number Smaller than 5'"
            ],
            "application/vnd.google.colaboratory.intrinsic+json": {
              "type": "string"
            }
          },
          "metadata": {},
          "execution_count": 8
        }
      ]
    },
    {
      "cell_type": "code",
      "source": [
        "a(11)"
      ],
      "metadata": {
        "colab": {
          "base_uri": "https://localhost:8080/",
          "height": 36
        },
        "id": "GVHknwSdMMzb",
        "outputId": "275f405f-aa19-4121-bb0b-861df1b22f4c"
      },
      "execution_count": 9,
      "outputs": [
        {
          "output_type": "execute_result",
          "data": {
            "text/plain": [
              "'number is Greater than 5'"
            ],
            "application/vnd.google.colaboratory.intrinsic+json": {
              "type": "string"
            }
          },
          "metadata": {},
          "execution_count": 9
        }
      ]
    },
    {
      "cell_type": "markdown",
      "source": [
        "Homework: Write lambda function to check if number is odd or even"
      ],
      "metadata": {
        "id": "zq31PUWaMX3K"
      }
    },
    {
      "cell_type": "code",
      "source": [
        "\"\"\"\n",
        "def func(x):\n",
        "  if x>5:\n",
        "    return \"number is Greater than 5\"\n",
        "  elif x<3:\n",
        "    return \"number is less thab 3\"\n",
        "  else:\n",
        "    return \"Number between 3 and  5\"\n",
        "\"\"\"\n",
        "a = lambda x : \"number is Greater than 5\" if x>5 else \"Number is less than 3\" if x<3 else \"Number between 3 and 5\""
      ],
      "metadata": {
        "id": "7jbNwlcsMQpq"
      },
      "execution_count": 10,
      "outputs": []
    },
    {
      "cell_type": "code",
      "source": [
        "a(2)"
      ],
      "metadata": {
        "colab": {
          "base_uri": "https://localhost:8080/",
          "height": 36
        },
        "id": "mHkVSwbHM5Ec",
        "outputId": "9add30af-80ce-4dd3-c78e-6e3bfeb6193e"
      },
      "execution_count": 11,
      "outputs": [
        {
          "output_type": "execute_result",
          "data": {
            "text/plain": [
              "'Number is less than 3'"
            ],
            "application/vnd.google.colaboratory.intrinsic+json": {
              "type": "string"
            }
          },
          "metadata": {},
          "execution_count": 11
        }
      ]
    },
    {
      "cell_type": "code",
      "source": [
        "# sum of two numbers:\n",
        "\n",
        "(lambda x,y: x+y)(5,6)"
      ],
      "metadata": {
        "colab": {
          "base_uri": "https://localhost:8080/"
        },
        "id": "jU1sQ9-WM6ZC",
        "outputId": "1b8f302f-eacf-4456-c8c9-d89929248bcb"
      },
      "execution_count": 12,
      "outputs": [
        {
          "output_type": "execute_result",
          "data": {
            "text/plain": [
              "11"
            ]
          },
          "metadata": {},
          "execution_count": 12
        }
      ]
    },
    {
      "cell_type": "code",
      "source": [
        "sum_two = lambda x,y: x+y\n",
        "sum_two(5,6)"
      ],
      "metadata": {
        "colab": {
          "base_uri": "https://localhost:8080/"
        },
        "id": "WwYI3F6kN0BB",
        "outputId": "8f9526ec-78d1-4e40-fd37-8f2461d45391"
      },
      "execution_count": 13,
      "outputs": [
        {
          "output_type": "execute_result",
          "data": {
            "text/plain": [
              "11"
            ]
          },
          "metadata": {},
          "execution_count": 13
        }
      ]
    },
    {
      "cell_type": "code",
      "source": [
        "list1 = [ [2,3],\n",
        "         [4,2],\n",
        "         [1,9]]\n",
        "\n",
        "sorted(list1) #list1.sort()"
      ],
      "metadata": {
        "colab": {
          "base_uri": "https://localhost:8080/"
        },
        "id": "sJIxQbdBN9MM",
        "outputId": "f2d433f0-8199-46f6-9f02-d1dc0f0f8981"
      },
      "execution_count": 14,
      "outputs": [
        {
          "output_type": "execute_result",
          "data": {
            "text/plain": [
              "[[1, 9], [2, 3], [4, 2]]"
            ]
          },
          "metadata": {},
          "execution_count": 14
        }
      ]
    },
    {
      "cell_type": "code",
      "source": [
        "list1 = [1,2,3,0]\n",
        "list1.sort()\n",
        "print(list1)"
      ],
      "metadata": {
        "colab": {
          "base_uri": "https://localhost:8080/"
        },
        "id": "1zS-ZzK2OWhi",
        "outputId": "978ff1bc-1284-4cdc-a2e8-5b2bf0c81000"
      },
      "execution_count": 15,
      "outputs": [
        {
          "output_type": "stream",
          "name": "stdout",
          "text": [
            "[0, 1, 2, 3]\n"
          ]
        }
      ]
    },
    {
      "cell_type": "code",
      "source": [
        "list1 = sorted(list1)\n",
        "print(list1)"
      ],
      "metadata": {
        "colab": {
          "base_uri": "https://localhost:8080/"
        },
        "id": "OtI1pJICOdTp",
        "outputId": "190b1985-66a3-41d9-dcd7-2f3b8b58bfd0"
      },
      "execution_count": 16,
      "outputs": [
        {
          "output_type": "stream",
          "name": "stdout",
          "text": [
            "[0, 1, 2, 3]\n"
          ]
        }
      ]
    },
    {
      "cell_type": "code",
      "source": [
        "help(sorted)"
      ],
      "metadata": {
        "colab": {
          "base_uri": "https://localhost:8080/"
        },
        "id": "Q6b2uXAtOrW_",
        "outputId": "0ead1d74-6ddf-4503-88d2-ee1318ffb7d7"
      },
      "execution_count": 17,
      "outputs": [
        {
          "output_type": "stream",
          "name": "stdout",
          "text": [
            "Help on built-in function sorted in module builtins:\n",
            "\n",
            "sorted(iterable, /, *, key=None, reverse=False)\n",
            "    Return a new list containing all items from the iterable in ascending order.\n",
            "    \n",
            "    A custom key function can be supplied to customize the sort order, and the\n",
            "    reverse flag can be set to request the result in descending order.\n",
            "\n"
          ]
        }
      ]
    },
    {
      "cell_type": "code",
      "source": [
        "# sorting on the second number(1st index)\n",
        "list1 = [ [2,3],\n",
        "         [4,2],\n",
        "         [1,9]]\n",
        "\n",
        "sorted(list1, key = lambda x : x[1]) "
      ],
      "metadata": {
        "colab": {
          "base_uri": "https://localhost:8080/"
        },
        "id": "tfcVfm1iPMIK",
        "outputId": "8156c61b-563f-461b-97ab-0e843b112dc9"
      },
      "execution_count": 18,
      "outputs": [
        {
          "output_type": "execute_result",
          "data": {
            "text/plain": [
              "[[4, 2], [2, 3], [1, 9]]"
            ]
          },
          "metadata": {},
          "execution_count": 18
        }
      ]
    },
    {
      "cell_type": "code",
      "source": [
        "list1 = [ [2,3, 11],\n",
        "         [4,2, 9],\n",
        "         [1,9, -1]]\n",
        "\n",
        "sorted(list1, key = lambda a : a[2])"
      ],
      "metadata": {
        "colab": {
          "base_uri": "https://localhost:8080/"
        },
        "id": "OHacuJdCPpII",
        "outputId": "4753e704-e357-402a-d2cd-f7802ecb4124"
      },
      "execution_count": 19,
      "outputs": [
        {
          "output_type": "execute_result",
          "data": {
            "text/plain": [
              "[[1, 9, -1], [4, 2, 9], [2, 3, 11]]"
            ]
          },
          "metadata": {},
          "execution_count": 19
        }
      ]
    },
    {
      "cell_type": "code",
      "source": [
        "### sorting a dictionary\n",
        "dict1 = {\"A\": 50, \"D\":90, \"C\":30, \"B\":80, \"E\":80 }\n",
        "dict1\n"
      ],
      "metadata": {
        "colab": {
          "base_uri": "https://localhost:8080/"
        },
        "id": "yZdXNu5IP_jI",
        "outputId": "8068382b-311e-4429-a18b-cd1d9f12401c"
      },
      "execution_count": 20,
      "outputs": [
        {
          "output_type": "execute_result",
          "data": {
            "text/plain": [
              "{'A': 50, 'D': 90, 'C': 30, 'B': 80, 'E': 80}"
            ]
          },
          "metadata": {},
          "execution_count": 20
        }
      ]
    },
    {
      "cell_type": "code",
      "source": [
        "sorted(dict1)"
      ],
      "metadata": {
        "colab": {
          "base_uri": "https://localhost:8080/"
        },
        "id": "WDZIakfzQulN",
        "outputId": "caccc18c-8207-46a3-ca90-cd0842dd50c5"
      },
      "execution_count": 21,
      "outputs": [
        {
          "output_type": "execute_result",
          "data": {
            "text/plain": [
              "['A', 'B', 'C', 'D', 'E']"
            ]
          },
          "metadata": {},
          "execution_count": 21
        }
      ]
    },
    {
      "cell_type": "code",
      "source": [
        "a = list(dict1.items()) # list of tuples where. 1st number is key and second number is value\n",
        "print(a)"
      ],
      "metadata": {
        "colab": {
          "base_uri": "https://localhost:8080/"
        },
        "id": "oY9XNtYSQ0o0",
        "outputId": "def1364d-a495-4c3a-d780-2b4ce25495ed"
      },
      "execution_count": 22,
      "outputs": [
        {
          "output_type": "stream",
          "name": "stdout",
          "text": [
            "[('A', 50), ('D', 90), ('C', 30), ('B', 80), ('E', 80)]\n"
          ]
        }
      ]
    },
    {
      "cell_type": "code",
      "source": [],
      "metadata": {
        "id": "kreYp5Xzlonu"
      },
      "execution_count": 22,
      "outputs": []
    },
    {
      "cell_type": "code",
      "source": [
        "dict(sorted(a))"
      ],
      "metadata": {
        "colab": {
          "base_uri": "https://localhost:8080/"
        },
        "id": "B0h61V5EQ0mO",
        "outputId": "6e0efc49-e1f9-4f0d-9b5a-8359d1b5ac94"
      },
      "execution_count": 23,
      "outputs": [
        {
          "output_type": "execute_result",
          "data": {
            "text/plain": [
              "{'A': 50, 'B': 80, 'C': 30, 'D': 90, 'E': 80}"
            ]
          },
          "metadata": {},
          "execution_count": 23
        }
      ]
    },
    {
      "cell_type": "code",
      "source": [
        "sorted(a, key = lambda x: x[1])"
      ],
      "metadata": {
        "colab": {
          "base_uri": "https://localhost:8080/"
        },
        "id": "_adVEKKLQ0jy",
        "outputId": "37b42042-af45-4ba8-86b7-777f23ec06b9"
      },
      "execution_count": 24,
      "outputs": [
        {
          "output_type": "execute_result",
          "data": {
            "text/plain": [
              "[('C', 30), ('A', 50), ('B', 80), ('E', 80), ('D', 90)]"
            ]
          },
          "metadata": {},
          "execution_count": 24
        }
      ]
    },
    {
      "cell_type": "code",
      "source": [
        "dict(sorted(a, key = lambda x: x[1], reverse = True))"
      ],
      "metadata": {
        "colab": {
          "base_uri": "https://localhost:8080/"
        },
        "id": "i0ocX1zkQ0g9",
        "outputId": "c4d2f37e-7eb0-4d0c-bf7f-49c1f11b6b68"
      },
      "execution_count": 25,
      "outputs": [
        {
          "output_type": "execute_result",
          "data": {
            "text/plain": [
              "{'D': 90, 'B': 80, 'E': 80, 'A': 50, 'C': 30}"
            ]
          },
          "metadata": {},
          "execution_count": 25
        }
      ]
    },
    {
      "cell_type": "code",
      "source": [
        "(lambda num: (num - 10) * 2 / 4)(20)\n"
      ],
      "metadata": {
        "colab": {
          "base_uri": "https://localhost:8080/"
        },
        "id": "PkX4rHkoR2RA",
        "outputId": "3663bb5b-e9c6-4111-9d44-842a1aa8a2e4"
      },
      "execution_count": 26,
      "outputs": [
        {
          "output_type": "execute_result",
          "data": {
            "text/plain": [
              "5.0"
            ]
          },
          "metadata": {},
          "execution_count": 26
        }
      ]
    },
    {
      "cell_type": "code",
      "source": [
        "func = lambda x: return x *2\n",
        "print(func(2))"
      ],
      "metadata": {
        "colab": {
          "base_uri": "https://localhost:8080/",
          "height": 132
        },
        "id": "qSO9wXyJR2OO",
        "outputId": "49662454-3dbc-4629-e4df-ce29191403b5"
      },
      "execution_count": 27,
      "outputs": [
        {
          "output_type": "error",
          "ename": "SyntaxError",
          "evalue": "ignored",
          "traceback": [
            "\u001b[0;36m  File \u001b[0;32m\"<ipython-input-27-79458d0f3a44>\"\u001b[0;36m, line \u001b[0;32m1\u001b[0m\n\u001b[0;31m    func = lambda x: return x *2\u001b[0m\n\u001b[0m                     ^\u001b[0m\n\u001b[0;31mSyntaxError\u001b[0m\u001b[0;31m:\u001b[0m invalid syntax\n"
          ]
        }
      ]
    },
    {
      "cell_type": "code",
      "source": [
        "func = lambda x,y: [x*y, x+y]\n",
        "print(func(2, 5))\n",
        "print(func(3, 5))"
      ],
      "metadata": {
        "colab": {
          "base_uri": "https://localhost:8080/"
        },
        "id": "Up5ckiXaTH1E",
        "outputId": "3ab0413c-92e6-4cda-c206-4b70b505b345"
      },
      "execution_count": 28,
      "outputs": [
        {
          "output_type": "stream",
          "name": "stdout",
          "text": [
            "[10, 7]\n",
            "[15, 8]\n"
          ]
        }
      ]
    },
    {
      "cell_type": "code",
      "source": [
        "func = lambda x,y: [x*y, x+y]\n",
        "func(2, 5)\n",
        "func(3, 5)"
      ],
      "metadata": {
        "colab": {
          "base_uri": "https://localhost:8080/"
        },
        "id": "YiJ2XEyuTHyT",
        "outputId": "74ebe808-446a-4e67-f3f8-c0e1eece71ec"
      },
      "execution_count": 29,
      "outputs": [
        {
          "output_type": "execute_result",
          "data": {
            "text/plain": [
              "[15, 8]"
            ]
          },
          "metadata": {},
          "execution_count": 29
        }
      ]
    },
    {
      "cell_type": "code",
      "source": [],
      "metadata": {
        "id": "GLtDwrt3THvn"
      },
      "execution_count": 29,
      "outputs": []
    },
    {
      "cell_type": "code",
      "source": [],
      "metadata": {
        "id": "GrX-taSoTHtH"
      },
      "execution_count": 29,
      "outputs": []
    },
    {
      "cell_type": "code",
      "source": [
        "students = [{\"name\": \"A\", \"marks\": 50},\n",
        "            {\"name\": \"B\", \"marks\": 100},\n",
        "            {\"name\": \"C\", \"marks\": 40},\n",
        "            {\"name\": \"D\", \"marks\": 70},\n",
        "            {\"name\": \"E\", \"marks\": 60},\n",
        "            ]"
      ],
      "metadata": {
        "id": "HhrK9RGFQcj2"
      },
      "execution_count": 30,
      "outputs": []
    },
    {
      "cell_type": "code",
      "source": [
        "new = []\n",
        "\n",
        "for i in students:\n",
        "  new.append(list(i.items()))\n",
        "\n",
        "new"
      ],
      "metadata": {
        "colab": {
          "base_uri": "https://localhost:8080/"
        },
        "id": "2ybtJ-N0Ui_7",
        "outputId": "aaa9b743-1b95-421f-eee6-f7f857c2a275"
      },
      "execution_count": 31,
      "outputs": [
        {
          "output_type": "execute_result",
          "data": {
            "text/plain": [
              "[[('name', 'A'), ('marks', 50)],\n",
              " [('name', 'B'), ('marks', 100)],\n",
              " [('name', 'C'), ('marks', 40)],\n",
              " [('name', 'D'), ('marks', 70)],\n",
              " [('name', 'E'), ('marks', 60)]]"
            ]
          },
          "metadata": {},
          "execution_count": 31
        }
      ]
    },
    {
      "cell_type": "markdown",
      "source": [
        "#### Hw: Sort new on Marks"
      ],
      "metadata": {
        "id": "rsaw4-tiU4kg"
      }
    },
    {
      "cell_type": "code",
      "source": [
        "students = [{\"name\": \"A\", \"marks\": 50},\n",
        "            {\"name\": \"B\", \"marks\": 100},\n",
        "            {\"name\": \"C\", \"marks\": 40},\n",
        "            {\"name\": \"D\", \"marks\": 70},\n",
        "            {\"name\": \"E\", \"marks\": 60},\n",
        "            ]\n",
        "\n",
        "\n",
        "sorted(students, key = lambda x:x['marks'] )"
      ],
      "metadata": {
        "colab": {
          "base_uri": "https://localhost:8080/"
        },
        "id": "eYTbKyGRU0Ps",
        "outputId": "a8d42a99-9ed7-4634-b942-2cd5aaad51ae"
      },
      "execution_count": 32,
      "outputs": [
        {
          "output_type": "execute_result",
          "data": {
            "text/plain": [
              "[{'name': 'C', 'marks': 40},\n",
              " {'name': 'A', 'marks': 50},\n",
              " {'name': 'E', 'marks': 60},\n",
              " {'name': 'D', 'marks': 70},\n",
              " {'name': 'B', 'marks': 100}]"
            ]
          },
          "metadata": {},
          "execution_count": 32
        }
      ]
    },
    {
      "cell_type": "code",
      "source": [
        "sorted(students, key = lambda x:x['marks'] , reverse = True)"
      ],
      "metadata": {
        "colab": {
          "base_uri": "https://localhost:8080/"
        },
        "id": "dATNZCtvVWfb",
        "outputId": "aedb8289-64ae-49ce-9c6f-48c58f92eae5"
      },
      "execution_count": 33,
      "outputs": [
        {
          "output_type": "execute_result",
          "data": {
            "text/plain": [
              "[{'name': 'B', 'marks': 100},\n",
              " {'name': 'D', 'marks': 70},\n",
              " {'name': 'E', 'marks': 60},\n",
              " {'name': 'A', 'marks': 50},\n",
              " {'name': 'C', 'marks': 40}]"
            ]
          },
          "metadata": {},
          "execution_count": 33
        }
      ]
    },
    {
      "cell_type": "code",
      "source": [],
      "metadata": {
        "id": "-gnSm5MzVb2L"
      },
      "execution_count": 33,
      "outputs": []
    },
    {
      "cell_type": "markdown",
      "source": [],
      "metadata": {
        "id": "ug1oNIJlX7YT"
      }
    },
    {
      "cell_type": "code",
      "source": [
        "list1 = [ 1,2,3,4,5]\n",
        "# [ 1,4,9,16,25]\n",
        "def funct(x):\n",
        "  return x**2\n",
        "\n",
        "list_output = []\n",
        "for i in list1:\n",
        "  list_output.append(funct(i))\n",
        "list_output"
      ],
      "metadata": {
        "colab": {
          "base_uri": "https://localhost:8080/"
        },
        "id": "CyQgPNI0X7-u",
        "outputId": "d07bb54d-49dc-4306-f158-258bed76aa13"
      },
      "execution_count": 34,
      "outputs": [
        {
          "output_type": "execute_result",
          "data": {
            "text/plain": [
              "[1, 4, 9, 16, 25]"
            ]
          },
          "metadata": {},
          "execution_count": 34
        }
      ]
    },
    {
      "cell_type": "code",
      "source": [
        "list1 = [ 1,2,3,4,5]\n",
        "\n",
        "list_output = []\n",
        "for i in list1:\n",
        "  list_output.append((lambda x: x**2)(i))\n",
        "list_output"
      ],
      "metadata": {
        "colab": {
          "base_uri": "https://localhost:8080/"
        },
        "id": "EkK5hXccYPzO",
        "outputId": "6e8552be-4083-4efc-9a1a-73055a77d666"
      },
      "execution_count": 35,
      "outputs": [
        {
          "output_type": "execute_result",
          "data": {
            "text/plain": [
              "[1, 4, 9, 16, 25]"
            ]
          },
          "metadata": {},
          "execution_count": 35
        }
      ]
    },
    {
      "cell_type": "code",
      "source": [
        "list1 = [ 1,2,3,4,5]\n",
        "\n",
        "lambda_func = (lambda x: x**2)\n",
        "list_output = []\n",
        "for i in list1:\n",
        "  list_output.append(lambda_func(i))\n",
        "list_output"
      ],
      "metadata": {
        "colab": {
          "base_uri": "https://localhost:8080/"
        },
        "id": "mQILVdm8Y1n8",
        "outputId": "521bfe33-6f3d-4071-87aa-91081f6f3b60"
      },
      "execution_count": 36,
      "outputs": [
        {
          "output_type": "execute_result",
          "data": {
            "text/plain": [
              "[1, 4, 9, 16, 25]"
            ]
          },
          "metadata": {},
          "execution_count": 36
        }
      ]
    },
    {
      "cell_type": "markdown",
      "source": [
        "#### map"
      ],
      "metadata": {
        "id": "2v3PHoGlaDik"
      }
    },
    {
      "cell_type": "code",
      "source": [
        "list1 = [ 1,2,3,4,5]\n",
        "\n",
        "list(map(lambda x: x**2, list1))"
      ],
      "metadata": {
        "colab": {
          "base_uri": "https://localhost:8080/"
        },
        "id": "RTxzYCt_ZF6P",
        "outputId": "abe508c5-3311-472c-8c71-e6685ef2862f"
      },
      "execution_count": 37,
      "outputs": [
        {
          "output_type": "execute_result",
          "data": {
            "text/plain": [
              "[1, 4, 9, 16, 25]"
            ]
          },
          "metadata": {},
          "execution_count": 37
        }
      ]
    },
    {
      "cell_type": "code",
      "source": [
        "list1 = [ 1,2,3,4,5]\n",
        "\n",
        "list(map(lambda x: x+10, list1))"
      ],
      "metadata": {
        "colab": {
          "base_uri": "https://localhost:8080/"
        },
        "id": "CRXy9gQmmI9M",
        "outputId": "fc4a2632-0a7a-4a57-a349-a8f72985e691"
      },
      "execution_count": 39,
      "outputs": [
        {
          "output_type": "execute_result",
          "data": {
            "text/plain": [
              "[11, 12, 13, 14, 15]"
            ]
          },
          "metadata": {},
          "execution_count": 39
        }
      ]
    },
    {
      "cell_type": "code",
      "source": [
        "input_line = input()\n",
        "list(map(int, input_line.split()))"
      ],
      "metadata": {
        "colab": {
          "base_uri": "https://localhost:8080/",
          "height": 330
        },
        "id": "tme9dkmNaMAD",
        "outputId": "c7edde89-828f-4dab-951c-cc6cfefac64f"
      },
      "execution_count": 38,
      "outputs": [
        {
          "output_type": "error",
          "ename": "KeyboardInterrupt",
          "evalue": "ignored",
          "traceback": [
            "\u001b[0;31m---------------------------------------------------------------------------\u001b[0m",
            "\u001b[0;31mKeyboardInterrupt\u001b[0m                         Traceback (most recent call last)",
            "\u001b[0;32m<ipython-input-38-9a44b919f578>\u001b[0m in \u001b[0;36m<module>\u001b[0;34m\u001b[0m\n\u001b[0;32m----> 1\u001b[0;31m \u001b[0minput_line\u001b[0m \u001b[0;34m=\u001b[0m \u001b[0minput\u001b[0m\u001b[0;34m(\u001b[0m\u001b[0;34m)\u001b[0m\u001b[0;34m\u001b[0m\u001b[0;34m\u001b[0m\u001b[0m\n\u001b[0m\u001b[1;32m      2\u001b[0m \u001b[0mlist\u001b[0m\u001b[0;34m(\u001b[0m\u001b[0mmap\u001b[0m\u001b[0;34m(\u001b[0m\u001b[0mint\u001b[0m\u001b[0;34m,\u001b[0m \u001b[0minput_line\u001b[0m\u001b[0;34m.\u001b[0m\u001b[0msplit\u001b[0m\u001b[0;34m(\u001b[0m\u001b[0;34m)\u001b[0m\u001b[0;34m)\u001b[0m\u001b[0;34m)\u001b[0m\u001b[0;34m\u001b[0m\u001b[0;34m\u001b[0m\u001b[0m\n",
            "\u001b[0;32m/usr/local/lib/python3.9/dist-packages/ipykernel/kernelbase.py\u001b[0m in \u001b[0;36mraw_input\u001b[0;34m(self, prompt)\u001b[0m\n\u001b[1;32m    858\u001b[0m                 \u001b[0;34m\"raw_input was called, but this frontend does not support input requests.\"\u001b[0m\u001b[0;34m\u001b[0m\u001b[0;34m\u001b[0m\u001b[0m\n\u001b[1;32m    859\u001b[0m             )\n\u001b[0;32m--> 860\u001b[0;31m         return self._input_request(str(prompt),\n\u001b[0m\u001b[1;32m    861\u001b[0m             \u001b[0mself\u001b[0m\u001b[0;34m.\u001b[0m\u001b[0m_parent_ident\u001b[0m\u001b[0;34m,\u001b[0m\u001b[0;34m\u001b[0m\u001b[0;34m\u001b[0m\u001b[0m\n\u001b[1;32m    862\u001b[0m             \u001b[0mself\u001b[0m\u001b[0;34m.\u001b[0m\u001b[0m_parent_header\u001b[0m\u001b[0;34m,\u001b[0m\u001b[0;34m\u001b[0m\u001b[0;34m\u001b[0m\u001b[0m\n",
            "\u001b[0;32m/usr/local/lib/python3.9/dist-packages/ipykernel/kernelbase.py\u001b[0m in \u001b[0;36m_input_request\u001b[0;34m(self, prompt, ident, parent, password)\u001b[0m\n\u001b[1;32m    902\u001b[0m             \u001b[0;32mexcept\u001b[0m \u001b[0mKeyboardInterrupt\u001b[0m\u001b[0;34m:\u001b[0m\u001b[0;34m\u001b[0m\u001b[0;34m\u001b[0m\u001b[0m\n\u001b[1;32m    903\u001b[0m                 \u001b[0;31m# re-raise KeyboardInterrupt, to truncate traceback\u001b[0m\u001b[0;34m\u001b[0m\u001b[0;34m\u001b[0m\u001b[0m\n\u001b[0;32m--> 904\u001b[0;31m                 \u001b[0;32mraise\u001b[0m \u001b[0mKeyboardInterrupt\u001b[0m\u001b[0;34m(\u001b[0m\u001b[0;34m\"Interrupted by user\"\u001b[0m\u001b[0;34m)\u001b[0m \u001b[0;32mfrom\u001b[0m \u001b[0;32mNone\u001b[0m\u001b[0;34m\u001b[0m\u001b[0;34m\u001b[0m\u001b[0m\n\u001b[0m\u001b[1;32m    905\u001b[0m             \u001b[0;32mexcept\u001b[0m \u001b[0mException\u001b[0m \u001b[0;32mas\u001b[0m \u001b[0me\u001b[0m\u001b[0;34m:\u001b[0m\u001b[0;34m\u001b[0m\u001b[0;34m\u001b[0m\u001b[0m\n\u001b[1;32m    906\u001b[0m                 \u001b[0mself\u001b[0m\u001b[0;34m.\u001b[0m\u001b[0mlog\u001b[0m\u001b[0;34m.\u001b[0m\u001b[0mwarning\u001b[0m\u001b[0;34m(\u001b[0m\u001b[0;34m\"Invalid Message:\"\u001b[0m\u001b[0;34m,\u001b[0m \u001b[0mexc_info\u001b[0m\u001b[0;34m=\u001b[0m\u001b[0;32mTrue\u001b[0m\u001b[0;34m)\u001b[0m\u001b[0;34m\u001b[0m\u001b[0;34m\u001b[0m\u001b[0m\n",
            "\u001b[0;31mKeyboardInterrupt\u001b[0m: Interrupted by user"
          ]
        }
      ]
    },
    {
      "cell_type": "code",
      "source": [
        "input_line"
      ],
      "metadata": {
        "id": "SGYaeP7fao4_"
      },
      "execution_count": null,
      "outputs": []
    },
    {
      "cell_type": "code",
      "source": [
        "input_line.split(\" \")"
      ],
      "metadata": {
        "id": "HruiS_UIaw2k"
      },
      "execution_count": null,
      "outputs": []
    },
    {
      "cell_type": "code",
      "source": [
        "\"1, 2,3\".split(\",\")"
      ],
      "metadata": {
        "id": "tXsXHmU6a0ki"
      },
      "execution_count": null,
      "outputs": []
    },
    {
      "cell_type": "code",
      "source": [],
      "metadata": {
        "id": "cPnBvWt1bZEI"
      },
      "execution_count": null,
      "outputs": []
    },
    {
      "cell_type": "markdown",
      "source": [
        "HW: Given a list of numbers return a list of \"Odd\"  or \"even\" depending on each number in list\n",
        "```\n",
        "input_list = 1 2 3 4 5\n",
        "output_list=[\"Odd\",\"Even\", \"Odd\", \"Even\" , \"Odd\"]\n",
        "\n",
        "```"
      ],
      "metadata": {
        "id": "Sn_1O8MAbl0Z"
      }
    },
    {
      "cell_type": "code",
      "source": [
        "input_list = [1 ,2, 3, 4, 5]\n",
        "Output = [2,4]"
      ],
      "metadata": {
        "id": "wbrZMA7Fb-kB"
      },
      "execution_count": null,
      "outputs": []
    },
    {
      "cell_type": "code",
      "source": [
        "list(filter(lambda x: x%2==0, list1))\n"
      ],
      "metadata": {
        "id": "eo4vY_yScLno"
      },
      "execution_count": null,
      "outputs": []
    },
    {
      "cell_type": "code",
      "source": [
        "list1 = [1,2,3,4,5]\n",
        "def func1(x):\n",
        "  if x%2==0:\n",
        "    return True\n",
        "  else:\n",
        "    return False\n",
        "\n",
        "list(filter(func1, list1))"
      ],
      "metadata": {
        "colab": {
          "base_uri": "https://localhost:8080/"
        },
        "id": "t5boXe3ad1Na",
        "outputId": "600b5ee3-4f48-48a3-e2de-ad04ac4d098a"
      },
      "execution_count": 40,
      "outputs": [
        {
          "output_type": "execute_result",
          "data": {
            "text/plain": [
              "[2, 4]"
            ]
          },
          "metadata": {},
          "execution_count": 40
        }
      ]
    },
    {
      "cell_type": "code",
      "source": [
        "list(map(func1, list1))"
      ],
      "metadata": {
        "colab": {
          "base_uri": "https://localhost:8080/"
        },
        "id": "82ww-ObLeRU6",
        "outputId": "cc8e5e62-b23a-47ba-e3eb-5d8d3068f652"
      },
      "execution_count": 41,
      "outputs": [
        {
          "output_type": "execute_result",
          "data": {
            "text/plain": [
              "[False, True, False, True, False]"
            ]
          },
          "metadata": {},
          "execution_count": 41
        }
      ]
    },
    {
      "cell_type": "markdown",
      "source": [
        "Homework:\n",
        "- heights = [144, 167, 189, 170, 190, 150, 165, 178, 200, 130]\n",
        "- height < 150: Size \"S\"\n",
        "- height >= 150 and height < 180: \"M\"\n",
        "- height > 180: \"L\""
      ],
      "metadata": {
        "id": "i48dn849eqoD"
      }
    },
    {
      "cell_type": "markdown",
      "source": [
        "1. Output: ['S', 'M', 'L', 'M', 'L', 'M', 'M', 'M', 'L', 'S']\n",
        "\n",
        "2. Output: [144, 130]\n"
      ],
      "metadata": {
        "id": "b-FF0iq7ezNL"
      }
    },
    {
      "cell_type": "code",
      "source": [
        "def func2(c, d):\n",
        "    return c, d\n",
        "\n",
        "def func1(a, b):\n",
        "    c = a**1\n",
        "    d = b**2\n",
        "    return lambda: func2(c,d)\n",
        "\n",
        "result = func1(1, 2)\n",
        "print(result)\n",
        "print(result())"
      ],
      "metadata": {
        "id": "Lx91Ca2_etT6"
      },
      "execution_count": null,
      "outputs": []
    },
    {
      "cell_type": "code",
      "source": [
        "def func2(c, d):\n",
        "    return c, d\n",
        "\n",
        "def func1(a, b):\n",
        "    c = a**1\n",
        "    d = b**2\n",
        "    return func2(c,d)\n",
        "\n",
        "result = func1(1, 2)\n",
        "\n",
        "print(result)"
      ],
      "metadata": {
        "id": "RALmXHs3kvSv"
      },
      "execution_count": null,
      "outputs": []
    },
    {
      "cell_type": "code",
      "source": [
        "from functools import reduce\n",
        "\n",
        "reduce(lambda x,y:x+y, list1)"
      ],
      "metadata": {
        "id": "Np61J3-ogL0X"
      },
      "execution_count": null,
      "outputs": []
    },
    {
      "cell_type": "code",
      "source": [
        "list1 = ['s', 'a','c', 'h', 'i', 'n']\n",
        "reduce(lambda x,y:x+y, list1)"
      ],
      "metadata": {
        "id": "HLkaWy37h8a1"
      },
      "execution_count": null,
      "outputs": []
    },
    {
      "cell_type": "code",
      "source": [
        "from functools import reduce\n",
        "list1 = ['s', 'a','c', 'h', 'i', 'n']\n",
        "\n",
        "reduce(lambda x,y:x+y, list1[:-1])"
      ],
      "metadata": {
        "colab": {
          "base_uri": "https://localhost:8080/",
          "height": 36
        },
        "id": "FOgXCPSWmqYX",
        "outputId": "c1f3f9ba-7a04-4907-ff31-3ff5d68bddee"
      },
      "execution_count": 43,
      "outputs": [
        {
          "output_type": "execute_result",
          "data": {
            "text/plain": [
              "'sachi'"
            ],
            "application/vnd.google.colaboratory.intrinsic+json": {
              "type": "string"
            }
          },
          "metadata": {},
          "execution_count": 43
        }
      ]
    },
    {
      "cell_type": "markdown",
      "source": [
        "### Homework:\n",
        "list1 = ['s', 'a','c', 'h', 'i', 'n']\n",
        "You have to remove vowels and add remaining elements\n",
        "\n",
        "- 'schn'"
      ],
      "metadata": {
        "id": "2o7w6CYHm22L"
      }
    },
    {
      "cell_type": "code",
      "source": [
        "# reduce(fun,filter(func))"
      ],
      "metadata": {
        "id": "f2IaEzQVnHjC"
      },
      "execution_count": null,
      "outputs": []
    },
    {
      "cell_type": "code",
      "source": [
        "# factorial \n",
        "\n",
        "\n",
        "reduce(lambda x,y:x*y, range(1,100))"
      ],
      "metadata": {
        "id": "qe21fa3IiFIF"
      },
      "execution_count": null,
      "outputs": []
    },
    {
      "cell_type": "code",
      "source": [],
      "metadata": {
        "id": "LMdWKBG7iOXQ"
      },
      "execution_count": null,
      "outputs": []
    },
    {
      "cell_type": "markdown",
      "source": [
        "### HW:\n",
        "Batsman: Score\n",
        "\n",
        "{\"Sachin\": 97, \"Ganguly\": 53, \"Sehwag\": 33}\n",
        "output: 183"
      ],
      "metadata": {
        "id": "7WVI5kBbit4v"
      }
    },
    {
      "cell_type": "code",
      "source": [],
      "metadata": {
        "id": "GkdBfl75i_hv"
      },
      "execution_count": null,
      "outputs": []
    },
    {
      "cell_type": "code",
      "source": [
        "dict = {\"A\": 50,\"B\":30, \"C\": 40}\n",
        "a = list(dict1.items())\n",
        "print(a)\n",
        "sorted(a,key = lambda x: x[1]) \n",
        "# here how x get list value"
      ],
      "metadata": {
        "id": "twOx9SH4i_yy"
      },
      "execution_count": null,
      "outputs": []
    },
    {
      "cell_type": "code",
      "source": [
        "def func(x):\n",
        "  return x[1] # lambda x:x[1]\n",
        "dict1 = {\"A\": 50,\"B\":30, \"C\": 40}\n",
        "a = list(dict1.items())\n",
        "print(a)\n",
        "sorted(a,key =func) "
      ],
      "metadata": {
        "id": "E3atkq4xjkQR"
      },
      "execution_count": null,
      "outputs": []
    },
    {
      "cell_type": "markdown",
      "source": [
        "### Higher Order Function"
      ],
      "metadata": {
        "id": "1F1uonf9lLIS"
      }
    },
    {
      "cell_type": "code",
      "source": [],
      "metadata": {
        "id": "xZlJk7Tyj6G3"
      },
      "execution_count": null,
      "outputs": []
    }
  ]
}