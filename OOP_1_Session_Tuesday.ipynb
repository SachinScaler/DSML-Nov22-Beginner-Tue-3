{
  "nbformat": 4,
  "nbformat_minor": 0,
  "metadata": {
    "colab": {
      "provenance": [],
      "authorship_tag": "ABX9TyNdvTSZw/7kZNVRSCYFElAc",
      "include_colab_link": true
    },
    "kernelspec": {
      "name": "python3",
      "display_name": "Python 3"
    },
    "language_info": {
      "name": "python"
    },
    "gpuClass": "standard"
  },
  "cells": [
    {
      "cell_type": "markdown",
      "metadata": {
        "id": "view-in-github",
        "colab_type": "text"
      },
      "source": [
        "<a href=\"https://colab.research.google.com/github/SachinScaler/DSML-Nov22-Beginner-Tue-3/blob/main/OOP_1_Session_Tuesday.ipynb\" target=\"_parent\"><img src=\"https://colab.research.google.com/assets/colab-badge.svg\" alt=\"Open In Colab\"/></a>"
      ]
    },
    {
      "cell_type": "markdown",
      "source": [
        "Why OOP:\n",
        "Let's try to model this Banking Application scenario with Procedural Programming"
      ],
      "metadata": {
        "id": "juXJGB3mSxMF"
      }
    },
    {
      "cell_type": "code",
      "execution_count": null,
      "metadata": {
        "id": "dtIOwgzNJjJM"
      },
      "outputs": [],
      "source": [
        "#banking application\n",
        "account_no = 100\n",
        "customer_name = \"Sachin\"\n",
        "acc_balance = 1000\n",
        "\n",
        "\n",
        "def deposit(curr_balance, amount):\n",
        "  return curr_balance+amount\n",
        "\n",
        "def diplay_balance(cust_name, curr_balance):\n",
        "  print(\"Balance for \",cust_name, \"is\", curr_balance)\n",
        "\n",
        "acc_balance = deposit(acc_balance, 500)"
      ]
    },
    {
      "cell_type": "code",
      "source": [
        "diplay_balance(customer_name, acc_balance)"
      ],
      "metadata": {
        "colab": {
          "base_uri": "https://localhost:8080/"
        },
        "id": "k0j1yzHqLAsX",
        "outputId": "386e9f8b-6fe3-41d5-b879-b228ed08c978"
      },
      "execution_count": null,
      "outputs": [
        {
          "output_type": "stream",
          "name": "stdout",
          "text": [
            "Balance for  Sachin is 1500\n"
          ]
        }
      ]
    },
    {
      "cell_type": "code",
      "source": [
        "account_no1 = 101\n",
        "customer_name1 = \"Ankit\"\n",
        "acc_balance1 = 500\n",
        "\n",
        "acc_balance = deposit(acc_balance1, 500)\n",
        "diplay_balance(customer_name1, acc_balance1)"
      ],
      "metadata": {
        "colab": {
          "base_uri": "https://localhost:8080/"
        },
        "id": "BmBDYfbiLEIT",
        "outputId": "0415d7a2-a694-4020-d43d-2d4d8f1e5e65"
      },
      "execution_count": null,
      "outputs": [
        {
          "output_type": "stream",
          "name": "stdout",
          "text": [
            "Balance for  Ankit is 500\n"
          ]
        }
      ]
    },
    {
      "cell_type": "code",
      "source": [
        "diplay_balance(customer_name, acc_balance)"
      ],
      "metadata": {
        "colab": {
          "base_uri": "https://localhost:8080/"
        },
        "id": "Ubn1h5UQL0ZC",
        "outputId": "fe3fb8b9-2882-4e0a-adb9-1bd197921628"
      },
      "execution_count": null,
      "outputs": [
        {
          "output_type": "stream",
          "name": "stdout",
          "text": [
            "Balance for  Sachin is 1000\n"
          ]
        }
      ]
    },
    {
      "cell_type": "code",
      "source": [
        "account_no2 = 102\n",
        "customer_name2 = \"Sharath\"\n",
        "acc_balance2 = 5000\n",
        "\n",
        "acc_balance = deposit(acc_balance2, 500)\n",
        "diplay_balance(customer_name2, acc_balance2)"
      ],
      "metadata": {
        "colab": {
          "base_uri": "https://localhost:8080/"
        },
        "id": "UJCoyJy1MHdC",
        "outputId": "cac6564c-cc02-43f4-97df-a2abeb0c9ed2"
      },
      "execution_count": null,
      "outputs": [
        {
          "output_type": "stream",
          "name": "stdout",
          "text": [
            "Balance for  Sharath is 5000\n"
          ]
        }
      ]
    },
    {
      "cell_type": "code",
      "source": [
        "# empty class: \n",
        "class BankAccount:\n",
        "  pass\n",
        "\n",
        "\n",
        "# object of class\n",
        "c1 = BankAccount()"
      ],
      "metadata": {
        "id": "bbrMDt1mMQTX"
      },
      "execution_count": null,
      "outputs": []
    },
    {
      "cell_type": "code",
      "source": [
        "c2 = BankAccount()"
      ],
      "metadata": {
        "id": "q1OgX8DfM9Wa"
      },
      "execution_count": null,
      "outputs": []
    },
    {
      "cell_type": "code",
      "source": [],
      "metadata": {
        "id": "u-R3Mt37NRvO"
      },
      "execution_count": null,
      "outputs": []
    },
    {
      "cell_type": "markdown",
      "source": [
        "### isinstance: Tells us whether a variable is an instance/object of some Class\n"
      ],
      "metadata": {
        "id": "O--PieX4OPr4"
      }
    },
    {
      "cell_type": "code",
      "source": [
        "a = 10\n",
        "isinstance(a, str)"
      ],
      "metadata": {
        "colab": {
          "base_uri": "https://localhost:8080/"
        },
        "id": "KgS0MTShNa3y",
        "outputId": "61beb264-981a-4483-cc21-d798fdc498d7"
      },
      "execution_count": null,
      "outputs": [
        {
          "output_type": "execute_result",
          "data": {
            "text/plain": [
              "False"
            ]
          },
          "metadata": {},
          "execution_count": 18
        }
      ]
    },
    {
      "cell_type": "code",
      "source": [
        "a = 10\n",
        "isinstance(a, int)"
      ],
      "metadata": {
        "colab": {
          "base_uri": "https://localhost:8080/"
        },
        "id": "E4rbfYOVOEah",
        "outputId": "4f39db0c-11fc-4f13-9335-019c0b886b6e"
      },
      "execution_count": null,
      "outputs": [
        {
          "output_type": "execute_result",
          "data": {
            "text/plain": [
              "True"
            ]
          },
          "metadata": {},
          "execution_count": 19
        }
      ]
    },
    {
      "cell_type": "code",
      "source": [
        "print(type(a))"
      ],
      "metadata": {
        "colab": {
          "base_uri": "https://localhost:8080/"
        },
        "id": "nDzNznCfOJDz",
        "outputId": "f1983d5a-0e76-4ab9-a382-339289971082"
      },
      "execution_count": null,
      "outputs": [
        {
          "output_type": "stream",
          "name": "stdout",
          "text": [
            "<class 'int'>\n"
          ]
        }
      ]
    },
    {
      "cell_type": "code",
      "source": [
        "c1 = BankAccount()\n",
        "isinstance(c1, int)"
      ],
      "metadata": {
        "colab": {
          "base_uri": "https://localhost:8080/"
        },
        "id": "xEGRRMkLOhp3",
        "outputId": "db081c7d-c203-45e0-f444-bdc8c1945551"
      },
      "execution_count": null,
      "outputs": [
        {
          "output_type": "execute_result",
          "data": {
            "text/plain": [
              "False"
            ]
          },
          "metadata": {},
          "execution_count": 21
        }
      ]
    },
    {
      "cell_type": "code",
      "source": [
        "isinstance(c1, BankAccount)"
      ],
      "metadata": {
        "colab": {
          "base_uri": "https://localhost:8080/"
        },
        "id": "ox8Dtw1JOtJS",
        "outputId": "c404d289-b6ce-4257-cd6e-083c0af72976"
      },
      "execution_count": null,
      "outputs": [
        {
          "output_type": "execute_result",
          "data": {
            "text/plain": [
              "True"
            ]
          },
          "metadata": {},
          "execution_count": 22
        }
      ]
    },
    {
      "cell_type": "code",
      "source": [
        "print(type(c1))"
      ],
      "metadata": {
        "colab": {
          "base_uri": "https://localhost:8080/"
        },
        "id": "E-I7to0SOxev",
        "outputId": "9fb93402-c035-48aa-a21e-7aea9452b2cd"
      },
      "execution_count": null,
      "outputs": [
        {
          "output_type": "stream",
          "name": "stdout",
          "text": [
            "<class '__main__.BankAccount'>\n"
          ]
        }
      ]
    },
    {
      "cell_type": "markdown",
      "source": [
        "#### Instantation: Process of creating Object/instance of class is called Instantation"
      ],
      "metadata": {
        "id": "8WPKJDAyO_TL"
      }
    },
    {
      "cell_type": "code",
      "source": [
        "c1 = BankAccount() # object1\n",
        "c2 = BankAccount() # object2\n",
        "BankAccount()      # Object3"
      ],
      "metadata": {
        "colab": {
          "base_uri": "https://localhost:8080/"
        },
        "id": "D13AJAmJO0m6",
        "outputId": "c414b463-ca82-4b2f-9356-e47a1370c73a"
      },
      "execution_count": null,
      "outputs": [
        {
          "output_type": "execute_result",
          "data": {
            "text/plain": [
              "<__main__.BankAccount at 0x7fb6d61746a0>"
            ]
          },
          "metadata": {},
          "execution_count": 24
        }
      ]
    },
    {
      "cell_type": "code",
      "source": [
        "class BankAccount:\n",
        "  pass\n",
        "\n",
        "c1 = BankAccount()\n",
        "c2 = BankAccount()"
      ],
      "metadata": {
        "id": "GFhZBC5lPjhm"
      },
      "execution_count": null,
      "outputs": []
    },
    {
      "cell_type": "code",
      "source": [
        "# acc_id, name, balance\n",
        "c1.acc_id = 100\n",
        "c1.cust_name = \"Sachin\"\n",
        "c1.balance = 1000"
      ],
      "metadata": {
        "id": "9PsIgSUZP7B4"
      },
      "execution_count": null,
      "outputs": []
    },
    {
      "cell_type": "code",
      "source": [
        "# acc_id, name, balance\n",
        "c2.acc_id = 101\n",
        "c2.cust_name = \"Ankit\"\n",
        "c2.balance = 500"
      ],
      "metadata": {
        "id": "vI5KE803QPYW"
      },
      "execution_count": null,
      "outputs": []
    },
    {
      "cell_type": "markdown",
      "source": [
        "Properties are also called attributes or Instance Variables"
      ],
      "metadata": {
        "id": "5vuqjXgrQhvS"
      }
    },
    {
      "cell_type": "code",
      "source": [
        "c3 = BankAccount()\n",
        "\n",
        "c3.acc_id = 102\n",
        "c3.cust_name = \"Sharath\"\n",
        "c3.balance = 100"
      ],
      "metadata": {
        "id": "Yh_AGX9TQV76"
      },
      "execution_count": null,
      "outputs": []
    },
    {
      "cell_type": "code",
      "source": [
        "print(c1.balance)\n",
        "print(c1.cust_name)"
      ],
      "metadata": {
        "colab": {
          "base_uri": "https://localhost:8080/"
        },
        "id": "5UUnciUdRVlh",
        "outputId": "87407ba1-ec8b-47d0-a604-91988adb322f"
      },
      "execution_count": null,
      "outputs": [
        {
          "output_type": "stream",
          "name": "stdout",
          "text": [
            "1000\n",
            "Sachin\n"
          ]
        }
      ]
    },
    {
      "cell_type": "code",
      "source": [
        "class BankAccount:\n",
        "  def display_balance(obj):\n",
        "    print(\"Account Balance for\", obj.cust_name, \"is\", obj.balance, \"and accid is \", obj.acc_id)\n",
        "\n",
        "c1 = BankAccount()\n",
        "c1.acc_id = 100\n",
        "c1.cust_name = \"Sachin\"\n",
        "c1.balance = 1000\n",
        "\n",
        "# calling the functionality show balance\n",
        "BankAccount.display_balance(c1)"
      ],
      "metadata": {
        "colab": {
          "base_uri": "https://localhost:8080/"
        },
        "id": "tyhCxc4PQy8r",
        "outputId": "1ebd3a3b-7d84-4e10-e2f2-a66b5ffde2fa"
      },
      "execution_count": null,
      "outputs": [
        {
          "output_type": "stream",
          "name": "stdout",
          "text": [
            "Account Balance for Sachin is 1000 and accid is  100\n"
          ]
        }
      ]
    },
    {
      "cell_type": "code",
      "source": [
        "c3 = BankAccount()\n",
        "\n",
        "c3.acc_id = 102\n",
        "c3.cust_name = \"Sharath\"\n",
        "c3.balance = 100\n",
        "\n",
        "# calling the functionality show balance\n",
        "BankAccount.display_balance(c3)"
      ],
      "metadata": {
        "colab": {
          "base_uri": "https://localhost:8080/"
        },
        "id": "h8-L2-mOSGq2",
        "outputId": "23f27b1b-fa35-42c5-ee31-0b3e0b9c7595"
      },
      "execution_count": null,
      "outputs": [
        {
          "output_type": "stream",
          "name": "stdout",
          "text": [
            "Account Balance for Sharath is 100\n"
          ]
        }
      ]
    },
    {
      "cell_type": "code",
      "source": [
        "def func(a):\n",
        "  print(a)\n",
        "b=20\n",
        "func(b)"
      ],
      "metadata": {
        "id": "IdoQ7hk2SX3h"
      },
      "execution_count": null,
      "outputs": []
    },
    {
      "cell_type": "code",
      "source": [
        "class BankAccount:\n",
        "  def display_balance(self):\n",
        "    print(\"Account Balance for\", self.cust_name, \"is\", self.balance, \"and accid is \", self.acc_id)\n",
        "\n",
        "c1 = BankAccount()\n",
        "c1.acc_id = 100\n",
        "c1.cust_name = \"Sachin\"\n",
        "c1.balance = 1000\n",
        "\n",
        "BankAccount.display_balance(c1)"
      ],
      "metadata": {
        "colab": {
          "base_uri": "https://localhost:8080/"
        },
        "id": "dHQxBuJAU1JQ",
        "outputId": "63b59a5e-887f-4092-cc76-0223b0568431"
      },
      "execution_count": null,
      "outputs": [
        {
          "output_type": "stream",
          "name": "stdout",
          "text": [
            "Account Balance for Sachin is 1000 and accid is  100\n"
          ]
        }
      ]
    },
    {
      "cell_type": "code",
      "source": [
        "c3 = BankAccount()\n",
        "\n",
        "c3.acc_id = 102\n",
        "c3.cust_name = \"Sharath\"\n",
        "c3.balance = 100\n",
        "\n",
        "# calling the functionality show balance\n",
        "BankAccount.display_balance(c3)"
      ],
      "metadata": {
        "colab": {
          "base_uri": "https://localhost:8080/"
        },
        "id": "RWjZCUkiVARx",
        "outputId": "0189946e-017b-448f-91cc-4c9bfa4da738"
      },
      "execution_count": null,
      "outputs": [
        {
          "output_type": "stream",
          "name": "stdout",
          "text": [
            "Account Balance for Sharath is 100 and accid is  102\n"
          ]
        }
      ]
    },
    {
      "cell_type": "code",
      "source": [
        "print(c3.balance)"
      ],
      "metadata": {
        "colab": {
          "base_uri": "https://localhost:8080/"
        },
        "id": "2s338IO7WX5g",
        "outputId": "74fcf868-f13c-498d-befe-c4049dc8cd6c"
      },
      "execution_count": null,
      "outputs": [
        {
          "output_type": "stream",
          "name": "stdout",
          "text": [
            "100\n"
          ]
        }
      ]
    },
    {
      "cell_type": "code",
      "source": [
        "amount = 500\n",
        "c3.balance = c3.balance + amount\n",
        "print(c3.balance)"
      ],
      "metadata": {
        "colab": {
          "base_uri": "https://localhost:8080/"
        },
        "id": "wDTufbVsWbPx",
        "outputId": "9c5e4a94-d62b-46d8-c764-9f09b93a3741"
      },
      "execution_count": null,
      "outputs": [
        {
          "output_type": "stream",
          "name": "stdout",
          "text": [
            "600\n"
          ]
        }
      ]
    },
    {
      "cell_type": "markdown",
      "source": [
        "Method: Functions inside a class"
      ],
      "metadata": {
        "id": "CTC_b2hqVyFr"
      }
    },
    {
      "cell_type": "code",
      "source": [
        "class BankAccount:\n",
        "  def display_balance(self):\n",
        "    print(\"Account Balance for\", self.cust_name, \"is\", self.balance, \"and accid is \", self.acc_id)\n",
        "\n",
        "  def deposit(self, amount): # credit\n",
        "    self.balance = self.balance+amount\n",
        "\n",
        "c1 = BankAccount()\n",
        "\n",
        "c1.acc_id = 100\n",
        "c1.cust_name = \"Sachin\"\n",
        "c1.balance = 1000"
      ],
      "metadata": {
        "id": "qa7OrQNKVKZI"
      },
      "execution_count": null,
      "outputs": []
    },
    {
      "cell_type": "code",
      "source": [
        "BankAccount.deposit(c1, 500)\n",
        "BankAccount.display_balance(c1)"
      ],
      "metadata": {
        "colab": {
          "base_uri": "https://localhost:8080/"
        },
        "id": "V6b3_BhJW4qL",
        "outputId": "3da3c570-cd93-442c-a376-0f934086bd44"
      },
      "execution_count": null,
      "outputs": [
        {
          "output_type": "stream",
          "name": "stdout",
          "text": [
            "Account Balance for Sachin is 1500 and accid is  100\n"
          ]
        }
      ]
    },
    {
      "cell_type": "code",
      "source": [
        "print(c1.balance)"
      ],
      "metadata": {
        "colab": {
          "base_uri": "https://localhost:8080/"
        },
        "id": "dqAh-4WMXOvU",
        "outputId": "2effb327-1946-4e83-8355-65d41604fe81"
      },
      "execution_count": null,
      "outputs": [
        {
          "output_type": "stream",
          "name": "stdout",
          "text": [
            "1500\n"
          ]
        }
      ]
    },
    {
      "cell_type": "code",
      "source": [
        "#BankAccount.display_balance(c1)\n",
        "c1.display_balance()"
      ],
      "metadata": {
        "colab": {
          "base_uri": "https://localhost:8080/"
        },
        "id": "WaRB7vNAXg7x",
        "outputId": "f85889ca-dda3-4fe9-9592-0625364a5045"
      },
      "execution_count": null,
      "outputs": [
        {
          "output_type": "stream",
          "name": "stdout",
          "text": [
            "Account Balance for Sachin is 1500 and accid is  100\n"
          ]
        }
      ]
    },
    {
      "cell_type": "code",
      "source": [
        "## add 500\n",
        "c1.deposit(500)"
      ],
      "metadata": {
        "id": "-FYXKCH4XyZY"
      },
      "execution_count": null,
      "outputs": []
    },
    {
      "cell_type": "code",
      "source": [
        "c1.display_balance()"
      ],
      "metadata": {
        "colab": {
          "base_uri": "https://localhost:8080/"
        },
        "id": "rXlIS9c7YGAv",
        "outputId": "8c92a37f-ee8d-4c59-940f-69f42f4c5b49"
      },
      "execution_count": null,
      "outputs": [
        {
          "output_type": "stream",
          "name": "stdout",
          "text": [
            "Account Balance for Sachin is 2000 and accid is  100\n"
          ]
        }
      ]
    },
    {
      "cell_type": "code",
      "source": [
        "c2 = BankAccount()\n",
        "\n",
        "c2.acc_id = 101\n",
        "c2.cust_name = \"Parveen\"\n",
        "c2.balance = 10000\n",
        "\n",
        "# object.method()\n",
        "c2.display_balance()"
      ],
      "metadata": {
        "colab": {
          "base_uri": "https://localhost:8080/"
        },
        "id": "PclVKVEuYHn3",
        "outputId": "2c733d6c-e946-4ad7-a639-47202778f088"
      },
      "execution_count": null,
      "outputs": [
        {
          "output_type": "stream",
          "name": "stdout",
          "text": [
            "Account Balance for Parveen is 10000 and accid is  101\n"
          ]
        }
      ]
    },
    {
      "cell_type": "markdown",
      "source": [
        "### Initializer: intializes common instance variables for every object that is created"
      ],
      "metadata": {
        "id": "XbftSriwZVde"
      }
    },
    {
      "cell_type": "code",
      "source": [
        "class BankAccount:\n",
        "  # initializer function\n",
        "  def __init__(self, acc_id, name, balance):\n",
        "    self.acc_id = acc_id\n",
        "    self.cust_name = name\n",
        "    self.balance = balance\n",
        "\n",
        "  def display_balance(self):\n",
        "    print(\"Account Balance for\", self.cust_name, \"is\", self.balance, \"and accid is \", self.acc_id)\n",
        "\n",
        "  def deposit(self, amount): # credit\n",
        "    self.balance = self.balance+amount\n",
        "\n",
        "c1 = BankAccount(100,\"Sachin\", 1000)"
      ],
      "metadata": {
        "id": "k96dacNeYnCW"
      },
      "execution_count": null,
      "outputs": []
    },
    {
      "cell_type": "code",
      "source": [
        "print(c1.balance)"
      ],
      "metadata": {
        "colab": {
          "base_uri": "https://localhost:8080/"
        },
        "id": "dN7GExP0Z4R-",
        "outputId": "322992f6-af64-4cd2-b781-7359be529d4a"
      },
      "execution_count": null,
      "outputs": [
        {
          "output_type": "stream",
          "name": "stdout",
          "text": [
            "Jatin\n"
          ]
        }
      ]
    },
    {
      "cell_type": "code",
      "source": [
        "c1.display_balance()"
      ],
      "metadata": {
        "colab": {
          "base_uri": "https://localhost:8080/"
        },
        "id": "v2qrm1V-Z8B6",
        "outputId": "3ac74632-34c9-4076-9c24-9ce3edfd1174"
      },
      "execution_count": null,
      "outputs": [
        {
          "output_type": "stream",
          "name": "stdout",
          "text": [
            "Account Balance for Sachin is 100 and accid is  100\n"
          ]
        }
      ]
    },
    {
      "cell_type": "code",
      "source": [
        "c2 = BankAccount(101,\"Ankit\", 1000)"
      ],
      "metadata": {
        "id": "AhJLBJVDaHMs"
      },
      "execution_count": null,
      "outputs": []
    },
    {
      "cell_type": "code",
      "source": [
        "c2.display_balance()"
      ],
      "metadata": {
        "colab": {
          "base_uri": "https://localhost:8080/"
        },
        "id": "mUzo2sy6aQ05",
        "outputId": "dba55557-bf88-4ea9-817f-785bfbc6c14f"
      },
      "execution_count": null,
      "outputs": [
        {
          "output_type": "stream",
          "name": "stdout",
          "text": [
            "Account Balance for Ankit is 1000 and accid is  101\n"
          ]
        }
      ]
    },
    {
      "cell_type": "code",
      "source": [
        "c3 = BankAccount(100,\"Sharath\", 400)\n",
        "c3.display_balance()"
      ],
      "metadata": {
        "colab": {
          "base_uri": "https://localhost:8080/"
        },
        "id": "QM7ftSwDaSrE",
        "outputId": "5316d740-058c-47d2-ec4c-bf2492eef262"
      },
      "execution_count": null,
      "outputs": [
        {
          "output_type": "stream",
          "name": "stdout",
          "text": [
            "Account Balance for Sharath is 400 and accid is  100\n"
          ]
        }
      ]
    },
    {
      "cell_type": "code",
      "source": [
        "c1.display_balance()"
      ],
      "metadata": {
        "colab": {
          "base_uri": "https://localhost:8080/"
        },
        "id": "5iQ-iF5sad69",
        "outputId": "27dac9bc-3533-41d3-e412-1921224f4fa8"
      },
      "execution_count": null,
      "outputs": [
        {
          "output_type": "stream",
          "name": "stdout",
          "text": [
            "Account Balance for Sachin is 100 and accid is  100\n"
          ]
        }
      ]
    },
    {
      "cell_type": "code",
      "source": [
        "c5 = BankAccount(110,\"Lokesh\")"
      ],
      "metadata": {
        "colab": {
          "base_uri": "https://localhost:8080/",
          "height": 164
        },
        "id": "Ptl78nLVainU",
        "outputId": "d00b6c3f-b287-46ec-b41b-6387567b886d"
      },
      "execution_count": null,
      "outputs": [
        {
          "output_type": "error",
          "ename": "TypeError",
          "evalue": "ignored",
          "traceback": [
            "\u001b[0;31m---------------------------------------------------------------------------\u001b[0m",
            "\u001b[0;31mTypeError\u001b[0m                                 Traceback (most recent call last)",
            "\u001b[0;32m<ipython-input-67-8cd8ce0fca22>\u001b[0m in \u001b[0;36m<module>\u001b[0;34m\u001b[0m\n\u001b[0;32m----> 1\u001b[0;31m \u001b[0mc5\u001b[0m \u001b[0;34m=\u001b[0m \u001b[0mBankAccount\u001b[0m\u001b[0;34m(\u001b[0m\u001b[0;36m110\u001b[0m\u001b[0;34m,\u001b[0m\u001b[0;34m\"Lokesh\"\u001b[0m\u001b[0;34m)\u001b[0m\u001b[0;34m\u001b[0m\u001b[0;34m\u001b[0m\u001b[0m\n\u001b[0m",
            "\u001b[0;31mTypeError\u001b[0m: __init__() missing 1 required positional argument: 'balance'"
          ]
        }
      ]
    },
    {
      "cell_type": "markdown",
      "source": [
        "Every instance of class Bankaccount must have 3 instance variables"
      ],
      "metadata": {
        "id": "TZHAGz4Mbaxn"
      }
    },
    {
      "cell_type": "code",
      "source": [
        "c5 = BankAccount(110,\"Lokesh\", 1000)"
      ],
      "metadata": {
        "id": "2QnQzSU-bSgH"
      },
      "execution_count": null,
      "outputs": []
    },
    {
      "cell_type": "code",
      "source": [
        "c5.pan_card = \"Fklafe13\""
      ],
      "metadata": {
        "id": "lQgPx298bkW8"
      },
      "execution_count": null,
      "outputs": []
    },
    {
      "cell_type": "code",
      "source": [
        "c1.pan_card"
      ],
      "metadata": {
        "colab": {
          "base_uri": "https://localhost:8080/",
          "height": 164
        },
        "id": "z_Ja0ddpbo7l",
        "outputId": "f2d28b45-a351-4fea-fe63-a46c346c514e"
      },
      "execution_count": null,
      "outputs": [
        {
          "output_type": "error",
          "ename": "AttributeError",
          "evalue": "ignored",
          "traceback": [
            "\u001b[0;31m---------------------------------------------------------------------------\u001b[0m",
            "\u001b[0;31mAttributeError\u001b[0m                            Traceback (most recent call last)",
            "\u001b[0;32m<ipython-input-70-256b73d725a5>\u001b[0m in \u001b[0;36m<module>\u001b[0;34m\u001b[0m\n\u001b[0;32m----> 1\u001b[0;31m \u001b[0mc1\u001b[0m\u001b[0;34m.\u001b[0m\u001b[0mpan_card\u001b[0m\u001b[0;34m\u001b[0m\u001b[0;34m\u001b[0m\u001b[0m\n\u001b[0m",
            "\u001b[0;31mAttributeError\u001b[0m: 'BankAccount' object has no attribute 'pan_card'"
          ]
        }
      ]
    },
    {
      "cell_type": "code",
      "source": [
        "c5.pan_card"
      ],
      "metadata": {
        "colab": {
          "base_uri": "https://localhost:8080/",
          "height": 35
        },
        "id": "jaizVlwvbswy",
        "outputId": "04bb513f-9d61-4899-88aa-4786e317b696"
      },
      "execution_count": null,
      "outputs": [
        {
          "output_type": "execute_result",
          "data": {
            "text/plain": [
              "'Fklafe13'"
            ],
            "application/vnd.google.colaboratory.intrinsic+json": {
              "type": "string"
            }
          },
          "metadata": {},
          "execution_count": 71
        }
      ]
    },
    {
      "cell_type": "code",
      "source": [
        "# constructor"
      ],
      "metadata": {
        "id": "4Vj3CvWgb44Q"
      },
      "execution_count": null,
      "outputs": []
    },
    {
      "cell_type": "markdown",
      "source": [
        "### Pillars of OOP\n",
        "- Encapsulation, Abstraction, Polymorphism, Inhertiance\n",
        "- Instance Variable vs ClassVariable"
      ],
      "metadata": {
        "id": "TxCD8QxcdwNf"
      }
    },
    {
      "cell_type": "code",
      "source": [
        "a = [c1,c2]"
      ],
      "metadata": {
        "id": "XbF8PP-JeEla"
      },
      "execution_count": null,
      "outputs": []
    },
    {
      "cell_type": "code",
      "source": [
        "print(a)"
      ],
      "metadata": {
        "colab": {
          "base_uri": "https://localhost:8080/"
        },
        "id": "sgU4iYiUeqRb",
        "outputId": "80bc78dc-d21b-4ead-ffe7-4163115e0e01"
      },
      "execution_count": null,
      "outputs": [
        {
          "output_type": "stream",
          "name": "stdout",
          "text": [
            "[<__main__.BankAccount object at 0x7fb6a9a6e670>, <__main__.BankAccount object at 0x7fb6a9a6efa0>]\n"
          ]
        }
      ]
    },
    {
      "cell_type": "code",
      "source": [
        "class Student:\n",
        "  def __init__(self, name, rollno):\n",
        "    self.name = name\n",
        "    self.rollno =rollno\n",
        "\n",
        "  def print_roll(obj):\n",
        "    print(\"Printing roll no\", obj.rollno)\n",
        "\n",
        "\n",
        "s1= Student(\"A\",1)\n",
        "s2= Student(\"B\",2)"
      ],
      "metadata": {
        "id": "dRrD39hieuoF"
      },
      "execution_count": null,
      "outputs": []
    },
    {
      "cell_type": "code",
      "source": [
        "Student.print_roll(s1)"
      ],
      "metadata": {
        "colab": {
          "base_uri": "https://localhost:8080/"
        },
        "id": "9CKnIoJifLl_",
        "outputId": "d20caaa9-0579-4d68-d42d-1b072a46b8c9"
      },
      "execution_count": null,
      "outputs": [
        {
          "output_type": "stream",
          "name": "stdout",
          "text": [
            "Printing roll no 1\n"
          ]
        }
      ]
    },
    {
      "cell_type": "code",
      "source": [
        "Student.print_roll(s2)"
      ],
      "metadata": {
        "colab": {
          "base_uri": "https://localhost:8080/"
        },
        "id": "jSg-rpxcfUNz",
        "outputId": "15f10fd6-2cf6-47f2-a269-5edf1f46aae0"
      },
      "execution_count": null,
      "outputs": [
        {
          "output_type": "stream",
          "name": "stdout",
          "text": [
            "Printing roll no 2\n"
          ]
        }
      ]
    },
    {
      "cell_type": "code",
      "source": [
        "def print_hello():\n",
        "  print(\"hello world\")"
      ],
      "metadata": {
        "id": "oD66O1TRfioA"
      },
      "execution_count": null,
      "outputs": []
    },
    {
      "cell_type": "code",
      "source": [
        "class Print:\n",
        "  def print_hello(self, arg):\n",
        "    print(self,\"hello world\", arg)\n",
        "\n",
        "p1 = Print()\n",
        "p1.print_hello(5)"
      ],
      "metadata": {
        "colab": {
          "base_uri": "https://localhost:8080/"
        },
        "id": "6c-nY0HwgHUC",
        "outputId": "77a7f587-4272-4b71-a555-b64adfebb34d"
      },
      "execution_count": null,
      "outputs": [
        {
          "output_type": "stream",
          "name": "stdout",
          "text": [
            "<__main__.Print object at 0x7fb6a9a6e370> hello world 5\n"
          ]
        }
      ]
    },
    {
      "cell_type": "code",
      "source": [
        "print(p1)"
      ],
      "metadata": {
        "colab": {
          "base_uri": "https://localhost:8080/"
        },
        "id": "kyn_M4-1gZS6",
        "outputId": "c288feac-51e2-41e9-f988-447fc21fb2b3"
      },
      "execution_count": null,
      "outputs": [
        {
          "output_type": "stream",
          "name": "stdout",
          "text": [
            "<__main__.Print object at 0x7fb6a9af3fa0>\n"
          ]
        }
      ]
    },
    {
      "cell_type": "code",
      "source": [
        "class Phone:\n",
        "  def __init__(self, phone):\n",
        "    self.phone = phone\n",
        "\n",
        "class ApplePhone:\n",
        "  def __init__(self, model_name):\n",
        "    self.model_name = model_name\n",
        "\n",
        "ap1 = ApplePhone(\"Iphone 14 pro\")"
      ],
      "metadata": {
        "id": "nQhKeXwsghxu"
      },
      "execution_count": null,
      "outputs": []
    },
    {
      "cell_type": "code",
      "source": [
        "phone_obj = Phone(ap1)"
      ],
      "metadata": {
        "id": "ST4kCQughSqO"
      },
      "execution_count": null,
      "outputs": []
    },
    {
      "cell_type": "code",
      "source": [
        "type(ap1)"
      ],
      "metadata": {
        "colab": {
          "base_uri": "https://localhost:8080/"
        },
        "id": "P-lDb2ZCha63",
        "outputId": "a0d6189d-b494-4687-f8bd-dcfceef4ebdb"
      },
      "execution_count": null,
      "outputs": [
        {
          "output_type": "execute_result",
          "data": {
            "text/plain": [
              "__main__.ApplePhone"
            ]
          },
          "metadata": {},
          "execution_count": 93
        }
      ]
    },
    {
      "cell_type": "code",
      "source": [
        "type(phone_obj)"
      ],
      "metadata": {
        "colab": {
          "base_uri": "https://localhost:8080/"
        },
        "id": "mJf1C-A9hccx",
        "outputId": "0df6cd48-bfad-46db-9b95-7a337b1635be"
      },
      "execution_count": null,
      "outputs": [
        {
          "output_type": "execute_result",
          "data": {
            "text/plain": [
              "__main__.Phone"
            ]
          },
          "metadata": {},
          "execution_count": 94
        }
      ]
    },
    {
      "cell_type": "code",
      "source": [
        "type(phone_obj.phone)"
      ],
      "metadata": {
        "colab": {
          "base_uri": "https://localhost:8080/"
        },
        "id": "1nFmWxDQhfVx",
        "outputId": "42c6e3a1-7a19-42fc-81ab-5e4c6a3583a1"
      },
      "execution_count": null,
      "outputs": [
        {
          "output_type": "execute_result",
          "data": {
            "text/plain": [
              "__main__.ApplePhone"
            ]
          },
          "metadata": {},
          "execution_count": 95
        }
      ]
    },
    {
      "cell_type": "code",
      "source": [
        "class Student:\n",
        "  def __init__(self, name, rollno):\n",
        "    self.name = name\n",
        "\n",
        "    if type(rollno)==int:\n",
        "      self.rollno =rollno\n",
        "    else:\n",
        "      print(\"Invalid Roll No\")\n",
        "\n",
        "  def print_roll(obj):\n",
        "    print(\"Printing roll no\", obj.rollno)\n",
        "\n",
        "\n",
        "s1= Student(\"A\",1)"
      ],
      "metadata": {
        "id": "rHI4KI43hjR3"
      },
      "execution_count": null,
      "outputs": []
    },
    {
      "cell_type": "code",
      "source": [
        "s1.rollno"
      ],
      "metadata": {
        "colab": {
          "base_uri": "https://localhost:8080/"
        },
        "id": "11y7-cFFiO8l",
        "outputId": "f8c322a3-a07a-461b-8f27-9062d5cb70c4"
      },
      "execution_count": null,
      "outputs": [
        {
          "output_type": "execute_result",
          "data": {
            "text/plain": [
              "1"
            ]
          },
          "metadata": {},
          "execution_count": 100
        }
      ]
    },
    {
      "cell_type": "code",
      "source": [
        "s2= Student(\"A\",\"hfajsfhas\")"
      ],
      "metadata": {
        "colab": {
          "base_uri": "https://localhost:8080/"
        },
        "id": "37xKBIMhiR24",
        "outputId": "8d062677-df8d-4fe7-c4f4-b99e8030128a"
      },
      "execution_count": null,
      "outputs": [
        {
          "output_type": "stream",
          "name": "stdout",
          "text": [
            "Invalid Roll No\n"
          ]
        }
      ]
    },
    {
      "cell_type": "code",
      "source": [
        "class BankAccount: #Init function for object Initialisation\n",
        "  def init(self, acc_id, name, balance):\n",
        "    self.acc_id = acc_id\n",
        "    self.name = name\n",
        "    self.balance = balance\n",
        "#Add functionalities\n",
        "def display_balance(self):\n",
        "  print(\"Account balance for\",self.name,\"is\", self.balance) #self is a positional keyboard def deposit(self,amount):\n",
        "  self.balance = self.balance + amount \n",
        "  c1 = BankAccount(100,\"Madhu\", 1000)\n",
        "  c1.display_balance()"
      ],
      "metadata": {
        "id": "-zo5lY7wiZLb"
      },
      "execution_count": null,
      "outputs": []
    },
    {
      "cell_type": "code",
      "source": [
        "c1 = BankAccount()"
      ],
      "metadata": {
        "id": "Lcnl6P_Uiv5n"
      },
      "execution_count": null,
      "outputs": []
    },
    {
      "cell_type": "code",
      "source": [
        "c1.init(101, \"Sachin\", 1000)"
      ],
      "metadata": {
        "id": "FKoAnq2Ri4Mj"
      },
      "execution_count": null,
      "outputs": []
    },
    {
      "cell_type": "code",
      "source": [
        "c2 = BankAccount(102, \"Arun\", 10000)"
      ],
      "metadata": {
        "colab": {
          "base_uri": "https://localhost:8080/",
          "height": 164
        },
        "id": "C9FgRoGKjAzw",
        "outputId": "0cec84ce-ad37-4d4a-c6eb-1f0ee0e2d8eb"
      },
      "execution_count": null,
      "outputs": [
        {
          "output_type": "error",
          "ename": "TypeError",
          "evalue": "ignored",
          "traceback": [
            "\u001b[0;31m---------------------------------------------------------------------------\u001b[0m",
            "\u001b[0;31mTypeError\u001b[0m                                 Traceback (most recent call last)",
            "\u001b[0;32m<ipython-input-105-821fc6d35404>\u001b[0m in \u001b[0;36m<module>\u001b[0;34m\u001b[0m\n\u001b[0;32m----> 1\u001b[0;31m \u001b[0mc2\u001b[0m \u001b[0;34m=\u001b[0m \u001b[0mBankAccount\u001b[0m\u001b[0;34m(\u001b[0m\u001b[0;36m102\u001b[0m\u001b[0;34m,\u001b[0m \u001b[0;34m\"Arun\"\u001b[0m\u001b[0;34m,\u001b[0m \u001b[0;36m10000\u001b[0m\u001b[0;34m)\u001b[0m\u001b[0;34m\u001b[0m\u001b[0;34m\u001b[0m\u001b[0m\n\u001b[0m",
            "\u001b[0;31mTypeError\u001b[0m: BankAccount() takes no arguments"
          ]
        }
      ]
    },
    {
      "cell_type": "code",
      "source": [
        "class BankAccount:\n",
        "  # initializer function\n",
        "  def __init__(self, acc_id, name, balance):\n",
        "    self.acc_id = acc_id\n",
        "    self.cust_name = name\n",
        "    self.balance = balance\n",
        "\n",
        "  def display_balance(self):\n",
        "    print(\"Account Balance for\", self.cust_name, \"is\", self.balance, \"and accid is \", self.acc_id)\n",
        "\n",
        "  def deposit(self, amount): # credit\n",
        "    self.balance = self.balance+amount\n",
        "\n",
        "\n",
        "  def withdraw(self, amount):\n",
        "    self.balance = self.balance - amount\n",
        "    print(amount, \"Withdrawn Successfully\")\n",
        "\n",
        "c1 = BankAccount(100,\"Sachin\", 1000)\n",
        "c1.withdraw(100)"
      ],
      "metadata": {
        "colab": {
          "base_uri": "https://localhost:8080/"
        },
        "id": "2PbT4vmijKYo",
        "outputId": "7691cd33-7489-4949-955b-11f43dcf8388"
      },
      "execution_count": null,
      "outputs": [
        {
          "output_type": "stream",
          "name": "stdout",
          "text": [
            "100 Withdrawn Successfully\n"
          ]
        }
      ]
    },
    {
      "cell_type": "code",
      "source": [
        "c1.balance"
      ],
      "metadata": {
        "id": "6LIe-_W0j7Yk",
        "outputId": "fd21c90e-8c0d-4c3a-e8c8-b268f90f9c95",
        "colab": {
          "base_uri": "https://localhost:8080/"
        }
      },
      "execution_count": null,
      "outputs": [
        {
          "output_type": "execute_result",
          "data": {
            "text/plain": [
              "900"
            ]
          },
          "metadata": {},
          "execution_count": 108
        }
      ]
    },
    {
      "cell_type": "code",
      "source": [],
      "metadata": {
        "id": "9RXonyXij-Sk"
      },
      "execution_count": null,
      "outputs": []
    }
  ]
}