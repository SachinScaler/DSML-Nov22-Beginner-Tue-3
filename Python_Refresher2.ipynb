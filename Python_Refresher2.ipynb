{
  "nbformat": 4,
  "nbformat_minor": 0,
  "metadata": {
    "colab": {
      "private_outputs": true,
      "provenance": []
    },
    "kernelspec": {
      "name": "python3",
      "display_name": "Python 3"
    },
    "language_info": {
      "name": "python"
    }
  },
  "cells": [
    {
      "cell_type": "code",
      "execution_count": null,
      "metadata": {
        "id": "qWq8QlX_1dQJ"
      },
      "outputs": [],
      "source": [
        "a, b = 12, 5 \n",
        "if a+b: \n",
        "  print('True') \n",
        "else: \n",
        "  print('False')"
      ]
    },
    {
      "cell_type": "code",
      "source": [
        "\n",
        "if 0:\n",
        "  print(True)\n",
        "\n",
        "else:\n",
        "  print(False)"
      ],
      "metadata": {
        "id": "PfmaPPjf1hP2"
      },
      "execution_count": null,
      "outputs": []
    },
    {
      "cell_type": "code",
      "source": [
        "if True:\n",
        "  print(True)\n",
        "\n",
        "else:\n",
        "  print(False)\n"
      ],
      "metadata": {
        "id": "WybkKPng1hSS"
      },
      "execution_count": null,
      "outputs": []
    },
    {
      "cell_type": "code",
      "source": [
        "isinstance(1, object)"
      ],
      "metadata": {
        "id": "8E8nR8U31hU1"
      },
      "execution_count": null,
      "outputs": []
    },
    {
      "cell_type": "code",
      "source": [
        "isinstance('a', object)"
      ],
      "metadata": {
        "id": "cXGEwFHT1hXR"
      },
      "execution_count": null,
      "outputs": []
    },
    {
      "cell_type": "code",
      "source": [
        "isinstance(print, object)"
      ],
      "metadata": {
        "id": "mBGCfPdw1hZj"
      },
      "execution_count": null,
      "outputs": []
    },
    {
      "cell_type": "code",
      "source": [],
      "metadata": {
        "id": "uWa0sup21hb-"
      },
      "execution_count": null,
      "outputs": []
    },
    {
      "cell_type": "code",
      "source": [
        "20 + 22"
      ],
      "metadata": {
        "id": "JCg4JSLY1hea"
      },
      "execution_count": null,
      "outputs": []
    },
    {
      "cell_type": "code",
      "source": [
        "_"
      ],
      "metadata": {
        "id": "_-321YuQ1hgq"
      },
      "execution_count": null,
      "outputs": []
    },
    {
      "cell_type": "code",
      "source": [
        "67+10\n"
      ],
      "metadata": {
        "id": "vkIvV-Aa1hjR"
      },
      "execution_count": null,
      "outputs": []
    },
    {
      "cell_type": "code",
      "source": [
        "print(_)"
      ],
      "metadata": {
        "id": "udL14WKb1hlh"
      },
      "execution_count": null,
      "outputs": []
    },
    {
      "cell_type": "code",
      "source": [
        "a = [1,2,3]"
      ],
      "metadata": {
        "id": "4BxE0-DZ1hoA"
      },
      "execution_count": null,
      "outputs": []
    },
    {
      "cell_type": "code",
      "source": [
        "print(_)"
      ],
      "metadata": {
        "id": "Z0Zg29y51hqc"
      },
      "execution_count": null,
      "outputs": []
    },
    {
      "cell_type": "code",
      "source": [
        "8//3"
      ],
      "metadata": {
        "id": "hIKfPLr81htK"
      },
      "execution_count": null,
      "outputs": []
    },
    {
      "cell_type": "code",
      "source": [],
      "metadata": {
        "id": "kHHGzQ351hvm"
      },
      "execution_count": null,
      "outputs": []
    },
    {
      "cell_type": "code",
      "source": [
        "a = 60\n",
        "if a>40:\n",
        "  print(\"First\")\n",
        "\n",
        "if a>50:\n",
        "  print(\"Second\")"
      ],
      "metadata": {
        "id": "imLAFkoG1hyG"
      },
      "execution_count": null,
      "outputs": []
    },
    {
      "cell_type": "code",
      "source": [
        "a = 45 \n",
        "if a > 50: \n",
        "  print(\"FIRST\") \n",
        "if a > 40: \n",
        "  print(\"SECOND\")"
      ],
      "metadata": {
        "id": "Qnfe5v1Q1h0d"
      },
      "execution_count": null,
      "outputs": []
    },
    {
      "cell_type": "code",
      "source": [
        "a = 60 \n",
        "if a > 50: \n",
        "  print(\"FIRST\") \n",
        "elif a > 40: \n",
        "  print(\"SECOND\")"
      ],
      "metadata": {
        "id": "kZhBazsA1h24"
      },
      "execution_count": null,
      "outputs": []
    },
    {
      "cell_type": "code",
      "source": [
        "a = 45 \n",
        "if a > 50: \n",
        "  print(\"FIRST\") \n",
        "  if a > 40: \n",
        "    print(\"SECOND\")"
      ],
      "metadata": {
        "id": "P_K8xMkZ1h5f"
      },
      "execution_count": null,
      "outputs": []
    },
    {
      "cell_type": "code",
      "source": [
        "a = 45 \n",
        "if a > 40: \n",
        "  print(\"FIRST\")\n",
        "  if a > 50: # executed\n",
        "    print(\"SECOND\") # not executed"
      ],
      "metadata": {
        "id": "qgrcLFmp1h8A"
      },
      "execution_count": null,
      "outputs": []
    },
    {
      "cell_type": "code",
      "source": [
        "a = 1000\n",
        "print(id(a))"
      ],
      "metadata": {
        "id": "oQ0goZuP1h-j"
      },
      "execution_count": null,
      "outputs": []
    },
    {
      "cell_type": "code",
      "source": [
        "a = a+1\n",
        "print(id(a))"
      ],
      "metadata": {
        "id": "2-gbL_291iBI"
      },
      "execution_count": null,
      "outputs": []
    },
    {
      "cell_type": "code",
      "source": [
        "a = 1000\n",
        "print(id(a))"
      ],
      "metadata": {
        "id": "K0DcETje1iDo"
      },
      "execution_count": null,
      "outputs": []
    },
    {
      "cell_type": "code",
      "source": [
        "b = 1000\n",
        "print(id(b))"
      ],
      "metadata": {
        "id": "e_uxLK6o1iGC"
      },
      "execution_count": null,
      "outputs": []
    },
    {
      "cell_type": "code",
      "source": [
        "# small integer Caching [-5, 256]\n",
        "a = 999\n",
        "b = 999\n",
        "\n",
        "print(id(a))\n",
        "print(id(b))"
      ],
      "metadata": {
        "id": "HzCvAM691iIU"
      },
      "execution_count": null,
      "outputs": []
    },
    {
      "cell_type": "markdown",
      "source": [
        "### Iteration Protocol"
      ],
      "metadata": {
        "id": "eokMkzVRBsYG"
      }
    },
    {
      "cell_type": "code",
      "source": [
        "str1 = \"Python\"\n",
        "\n",
        "\n",
        "for i in str1:\n",
        "  print(i)"
      ],
      "metadata": {
        "id": "XProIBju1iK3"
      },
      "execution_count": null,
      "outputs": []
    },
    {
      "cell_type": "code",
      "source": [
        "for i in range(0, len(str1)):\n",
        "  print(str1[i])"
      ],
      "metadata": {
        "id": "Vu5jRrIh1iNS"
      },
      "execution_count": null,
      "outputs": []
    },
    {
      "cell_type": "markdown",
      "source": [
        "#### Iter: which converts input to iterable"
      ],
      "metadata": {
        "id": "4qHKpvudCZss"
      }
    },
    {
      "cell_type": "code",
      "source": [
        "it = iter(str1)\n",
        "print(it)"
      ],
      "metadata": {
        "id": "3M4x4G011iPj"
      },
      "execution_count": null,
      "outputs": []
    },
    {
      "cell_type": "code",
      "source": [
        "next(it)"
      ],
      "metadata": {
        "id": "kHRCdzbk1iSJ"
      },
      "execution_count": null,
      "outputs": []
    },
    {
      "cell_type": "code",
      "source": [
        "next(it)"
      ],
      "metadata": {
        "id": "6X62rF-m1iUl"
      },
      "execution_count": null,
      "outputs": []
    },
    {
      "cell_type": "code",
      "source": [
        "next(it)"
      ],
      "metadata": {
        "id": "1JfllGbZ1iXC"
      },
      "execution_count": null,
      "outputs": []
    },
    {
      "cell_type": "code",
      "source": [
        "next(it)"
      ],
      "metadata": {
        "id": "rkP9RBX51iZV"
      },
      "execution_count": null,
      "outputs": []
    },
    {
      "cell_type": "code",
      "source": [
        "next(it)"
      ],
      "metadata": {
        "id": "i7Uyvcs3C37Z"
      },
      "execution_count": null,
      "outputs": []
    },
    {
      "cell_type": "code",
      "source": [
        "next(it)"
      ],
      "metadata": {
        "id": "gNFQQS9LC4i9"
      },
      "execution_count": null,
      "outputs": []
    },
    {
      "cell_type": "code",
      "source": [
        "next(it)"
      ],
      "metadata": {
        "id": "3S71FQG1C5nQ"
      },
      "execution_count": null,
      "outputs": []
    },
    {
      "cell_type": "code",
      "source": [
        "it = iter([11,2, 4])\n",
        "print(it)"
      ],
      "metadata": {
        "id": "eJZRJZRRDEVR"
      },
      "execution_count": null,
      "outputs": []
    },
    {
      "cell_type": "code",
      "source": [
        "next(it)"
      ],
      "metadata": {
        "id": "O-ogT4iXDHYP"
      },
      "execution_count": null,
      "outputs": []
    },
    {
      "cell_type": "code",
      "source": [
        "next(it)"
      ],
      "metadata": {
        "id": "aj0M4ElzDMFS"
      },
      "execution_count": null,
      "outputs": []
    },
    {
      "cell_type": "code",
      "source": [
        "next(it)"
      ],
      "metadata": {
        "id": "jRu1GuaxDOKL"
      },
      "execution_count": null,
      "outputs": []
    },
    {
      "cell_type": "code",
      "source": [
        "next(it)"
      ],
      "metadata": {
        "id": "94CIBG6aDvbn"
      },
      "execution_count": null,
      "outputs": []
    },
    {
      "cell_type": "code",
      "source": [
        "a = range(0, 5)"
      ],
      "metadata": {
        "id": "_i7Ie0xcDwl6"
      },
      "execution_count": null,
      "outputs": []
    },
    {
      "cell_type": "code",
      "source": [
        "b = iter(a)"
      ],
      "metadata": {
        "id": "8oQkzdT-D8X_"
      },
      "execution_count": null,
      "outputs": []
    },
    {
      "cell_type": "code",
      "source": [
        "next(b)"
      ],
      "metadata": {
        "id": "qLbwbEN-D9ya"
      },
      "execution_count": null,
      "outputs": []
    },
    {
      "cell_type": "code",
      "source": [
        "for i in 234:\n",
        "  print(i)\n"
      ],
      "metadata": {
        "id": "VYT_P8z6EJnb"
      },
      "execution_count": null,
      "outputs": []
    },
    {
      "cell_type": "code",
      "source": [
        "tup = (1,2,3)\n",
        "iter(234)"
      ],
      "metadata": {
        "id": "5VQg6rp4EZRz"
      },
      "execution_count": null,
      "outputs": []
    },
    {
      "cell_type": "code",
      "source": [
        "tup = (1,2,3)\n",
        "iter(tup)"
      ],
      "metadata": {
        "id": "KrwbHk3BEdPG"
      },
      "execution_count": null,
      "outputs": []
    },
    {
      "cell_type": "code",
      "source": [
        "set1 = {2,4,6}\n",
        "iter(set1)"
      ],
      "metadata": {
        "id": "Ukj-Y1tXEm9r"
      },
      "execution_count": null,
      "outputs": []
    },
    {
      "cell_type": "code",
      "source": [
        "dict1 = {2:'a',4:'b',6:'c'}\n",
        "iter(dict1)"
      ],
      "metadata": {
        "id": "vG_xdvP0FRRf"
      },
      "execution_count": null,
      "outputs": []
    },
    {
      "cell_type": "code",
      "source": [
        "next(iter(dict1))"
      ],
      "metadata": {
        "id": "-Q1Wn65KFez6"
      },
      "execution_count": null,
      "outputs": []
    },
    {
      "cell_type": "code",
      "source": [],
      "metadata": {
        "id": "G_RgQLf_Fkbh"
      },
      "execution_count": null,
      "outputs": []
    },
    {
      "cell_type": "code",
      "source": [
        "a = [1,2 , [2,4], 'a']"
      ],
      "metadata": {
        "id": "eROqj9aAId_H"
      },
      "execution_count": null,
      "outputs": []
    },
    {
      "cell_type": "code",
      "source": [
        "a = [1,2 , [2,4], 'a', (1,2)]"
      ],
      "metadata": {
        "id": "EDm8ZMKGJfQA"
      },
      "execution_count": null,
      "outputs": []
    },
    {
      "cell_type": "code",
      "source": [
        "a = [1,2 , [2,4], 'a', (1,2), print]"
      ],
      "metadata": {
        "id": "n8tff1z2JhFL"
      },
      "execution_count": null,
      "outputs": []
    },
    {
      "cell_type": "code",
      "source": [
        "a[-1](\"Hello World\")"
      ],
      "metadata": {
        "id": "x9DXjdDkJloU"
      },
      "execution_count": null,
      "outputs": []
    },
    {
      "cell_type": "code",
      "source": [
        "a = [1,2 , [2,4], 'a', (1,2), print(\"Hello World\")]"
      ],
      "metadata": {
        "id": "AndB1np7JtnN"
      },
      "execution_count": null,
      "outputs": []
    },
    {
      "cell_type": "code",
      "source": [
        "a"
      ],
      "metadata": {
        "id": "6obkSYUvJ42b"
      },
      "execution_count": null,
      "outputs": []
    },
    {
      "cell_type": "code",
      "source": [
        "x = print(\"Hello World\")\n",
        "print(x)"
      ],
      "metadata": {
        "id": "Tsb5dAqOJ_h4"
      },
      "execution_count": null,
      "outputs": []
    },
    {
      "cell_type": "code",
      "source": [
        "import numpy as np\n",
        "\n",
        "np.zeros(8)"
      ],
      "metadata": {
        "id": "r9oWcFrRKHZH"
      },
      "execution_count": null,
      "outputs": []
    },
    {
      "cell_type": "code",
      "source": [],
      "metadata": {
        "id": "POSj7nKlKc9Y"
      },
      "execution_count": null,
      "outputs": []
    },
    {
      "cell_type": "markdown",
      "source": [
        "#### List Mutable?\n"
      ],
      "metadata": {
        "id": "Cz5nXcyyK31x"
      }
    },
    {
      "cell_type": "code",
      "source": [
        "list1 = [1,2,3]\n",
        "print(id(list1))"
      ],
      "metadata": {
        "id": "5OFazjxcK2hC"
      },
      "execution_count": null,
      "outputs": []
    },
    {
      "cell_type": "code",
      "source": [
        "list1.append(4)\n",
        "print(id(list1))"
      ],
      "metadata": {
        "id": "6uA8WTxIK8MS"
      },
      "execution_count": null,
      "outputs": []
    },
    {
      "cell_type": "code",
      "source": [
        "a = 10 # integers are immutable\n",
        "print(id(a))\n",
        "a = a+1\n",
        "print(id(a))"
      ],
      "metadata": {
        "id": "vxsapG8QLHHz"
      },
      "execution_count": null,
      "outputs": []
    },
    {
      "cell_type": "code",
      "source": [
        "list1 = [1,2,3,'a']\n",
        "print(id(list1[0]))\n",
        "print(id(list1))"
      ],
      "metadata": {
        "id": "jWTNosgALOfe"
      },
      "execution_count": null,
      "outputs": []
    },
    {
      "cell_type": "code",
      "source": [
        "list1[0] = 'lokesh'\n",
        "print(list1)\n",
        "print(id(list1))"
      ],
      "metadata": {
        "id": "vjZKdTmMM4cX"
      },
      "execution_count": null,
      "outputs": []
    },
    {
      "cell_type": "code",
      "source": [
        "print(id(list1[0]))"
      ],
      "metadata": {
        "id": "gCbySsuuNFe6"
      },
      "execution_count": null,
      "outputs": []
    },
    {
      "cell_type": "code",
      "source": [],
      "metadata": {
        "id": "eW5RYHngNWCF"
      },
      "execution_count": null,
      "outputs": []
    },
    {
      "cell_type": "markdown",
      "source": [
        "list slicing"
      ],
      "metadata": {
        "id": "KfP90ymTNsxo"
      }
    },
    {
      "cell_type": "code",
      "source": [
        "list1 = [1,2,3,'a', 7,8,9]\n",
        "\n",
        "list1[2:5]"
      ],
      "metadata": {
        "id": "Ir92y9ExNt8M"
      },
      "execution_count": null,
      "outputs": []
    },
    {
      "cell_type": "code",
      "source": [
        "list1[2:5:2]"
      ],
      "metadata": {
        "id": "1_l_cztnN8T_"
      },
      "execution_count": null,
      "outputs": []
    },
    {
      "cell_type": "code",
      "source": [
        "len(list1)"
      ],
      "metadata": {
        "id": "XIZged6AOrxM"
      },
      "execution_count": null,
      "outputs": []
    },
    {
      "cell_type": "code",
      "source": [
        "list1[2:10000]"
      ],
      "metadata": {
        "id": "dnJ1XlXpPXHi"
      },
      "execution_count": null,
      "outputs": []
    },
    {
      "cell_type": "code",
      "source": [
        "list1 = [1,2,3,4,5,6,7,8,9]\n",
        "list1[5:8:-1]"
      ],
      "metadata": {
        "id": "QXaFss61PaBb"
      },
      "execution_count": null,
      "outputs": []
    },
    {
      "cell_type": "code",
      "source": [],
      "metadata": {
        "id": "u8ZxMquPQc8s"
      },
      "execution_count": null,
      "outputs": []
    },
    {
      "cell_type": "markdown",
      "source": [
        "Homework:\n",
        "\n",
        "- Q1: Difference between append and extend\n",
        "- Q2: What happens when we multiply list with a number"
      ],
      "metadata": {
        "id": "FYgzie0aSKHS"
      }
    },
    {
      "cell_type": "code",
      "source": [
        "list1 = [1,2,3]\n",
        "list1.append([4,5])\n",
        "print(list1)"
      ],
      "metadata": {
        "id": "rgjcCJS7SMMa"
      },
      "execution_count": null,
      "outputs": []
    },
    {
      "cell_type": "code",
      "source": [
        "list1 = [1,2,3]\n",
        "list1.extend([4, 4])\n",
        "print(list1)"
      ],
      "metadata": {
        "id": "xWdxVVIYSXc-"
      },
      "execution_count": null,
      "outputs": []
    },
    {
      "cell_type": "code",
      "source": [],
      "metadata": {
        "id": "XXVFmDr3SbyF"
      },
      "execution_count": null,
      "outputs": []
    }
  ]
}