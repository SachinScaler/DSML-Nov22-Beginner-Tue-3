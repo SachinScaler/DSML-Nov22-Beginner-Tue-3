{
  "nbformat": 4,
  "nbformat_minor": 0,
  "metadata": {
    "colab": {
      "provenance": [],
      "authorship_tag": "ABX9TyPpREwCXOHFmxkdIfuU9V/a",
      "include_colab_link": true
    },
    "kernelspec": {
      "name": "python3",
      "display_name": "Python 3"
    },
    "language_info": {
      "name": "python"
    }
  },
  "cells": [
    {
      "cell_type": "markdown",
      "metadata": {
        "id": "view-in-github",
        "colab_type": "text"
      },
      "source": [
        "<a href=\"https://colab.research.google.com/github/SachinScaler/DSML-Nov22-Beginner-Tue-3/blob/main/Basic_Calc_Part_2.ipynb\" target=\"_parent\"><img src=\"https://colab.research.google.com/assets/colab-badge.svg\" alt=\"Open In Colab\"/></a>"
      ]
    },
    {
      "cell_type": "code",
      "execution_count": 8,
      "metadata": {
        "id": "CiFw7LAVkrX6"
      },
      "outputs": [],
      "source": [
        "def get_derivate(f, a): # f is the input function for which i have to calculate derivate and a is the point on which i have calc\n",
        "    h = 0.00000001 # even more precise result make h smaller\n",
        "    d = (f(a+h)- f(a))/h\n",
        "    return d\n",
        "\n",
        "def func1(x):\n",
        "    return x**2\n",
        "\n",
        "# x = 3 --> 6"
      ]
    },
    {
      "cell_type": "code",
      "source": [],
      "metadata": {
        "id": "eqcO6TTWmHCv"
      },
      "execution_count": null,
      "outputs": []
    },
    {
      "cell_type": "code",
      "source": [
        "get_derivate(func1, 3)"
      ],
      "metadata": {
        "colab": {
          "base_uri": "https://localhost:8080/"
        },
        "id": "CCUhmEF9k6GJ",
        "outputId": "aff89f08-d1c9-4101-8420-e71662db40e9"
      },
      "execution_count": 9,
      "outputs": [
        {
          "output_type": "execute_result",
          "data": {
            "text/plain": [
              "5.999999963535174"
            ]
          },
          "metadata": {},
          "execution_count": 9
        }
      ]
    },
    {
      "cell_type": "code",
      "source": [
        "import math\n",
        "def func2(x):\n",
        "    return x**3 + x**2 + math.log(x)\n",
        "\n",
        "get_derivate(func2, 3)"
      ],
      "metadata": {
        "colab": {
          "base_uri": "https://localhost:8080/"
        },
        "id": "P6DHcaCPmIeD",
        "outputId": "d93b3605-8cf8-4c26-b2cb-b680fab1792a"
      },
      "execution_count": 11,
      "outputs": [
        {
          "output_type": "execute_result",
          "data": {
            "text/plain": [
              "33.33333324917476"
            ]
          },
          "metadata": {},
          "execution_count": 11
        }
      ]
    },
    {
      "cell_type": "code",
      "source": [
        "def sum(a):\n",
        "    print(a)\n",
        "\n",
        "c = 10\n",
        "\n",
        "sum(c)"
      ],
      "metadata": {
        "colab": {
          "base_uri": "https://localhost:8080/"
        },
        "id": "YXsPkjgElkz_",
        "outputId": "b1af28cb-f579-4681-c2a7-b222a0636cd0"
      },
      "execution_count": 10,
      "outputs": [
        {
          "output_type": "stream",
          "name": "stdout",
          "text": [
            "10\n"
          ]
        }
      ]
    },
    {
      "cell_type": "code",
      "source": [],
      "metadata": {
        "id": "aAz7VS1UmCFQ"
      },
      "execution_count": null,
      "outputs": []
    }
  ]
}